{
 "cells": [
  {
   "cell_type": "markdown",
   "metadata": {},
   "source": [
    "# Rwanda Trade Data Analysis - Comprehensive Excel Analysis (CORRECTED VERSION)\n",
    "\n",
    "## Overview\n",
    "\n",
    "This notebook provides a comprehensive analysis of Rwanda's external trade data from the 2024Q4 Trade Report Annex Tables. The analysis covers all 12 sheets in the Excel file, providing detailed insights into trade patterns, trends, and relationships.\n",
    "\n",
    "**CORRECTIONS MADE:**\n",
    "- ✅ Fixed horizontal data structure handling (titles and data on same row)\n",
    "- ✅ Fixed plotly subplot type errors (pie charts in xy subplots, bar charts in domain subplots)\n",
    "- ✅ Changed output format from CSV to JSON files\n",
    "- ✅ Fixed seaborn style issue (replaced with matplotlib style)\n",
    "\n",
    "## Dataset Information\n",
    "\n",
    "- **Source**: National Institute of Statistics of Rwanda (NISR)\n",
    "- **Period**: Q1 2022 - Q4 2024 (12 quarters)\n",
    "- **Currency**: US Dollars (millions)\n",
    "- **Classification**: Standard International Trade Classification (SITC)\n",
    "- **Geographic Coverage**: 20+ countries + regional aggregations\n",
    "\n",
    "## Analysis Structure\n",
    "\n",
    "1. Data Loading and Preprocessing (Fixed for horizontal structure)\n",
    "2. Overall Trade Analysis (Graph Overall)\n",
    "3. Regional Trade Analysis (EAC, Regional Blocks, Continents)\n",
    "4. Country-specific Analysis (Top Export/Import/Re-export Countries)\n",
    "5. Commodity Analysis (SITC-based breakdown)\n",
    "6. Trend Analysis and Forecasting\n",
    "7. Key Insights and Recommendations"
   ]
  },
  {
   "cell_type": "code",
   "execution_count": 1,
   "metadata": {},
   "outputs": [
    {
     "name": "stdout",
     "output_type": "stream",
     "text": [
      "✅ All libraries imported successfully\n",
      "📊 Plotting backend: module://matplotlib_inline.backend_inline\n"
     ]
    }
   ],
   "source": [
    "# Import required libraries\n",
    "import pandas as pd\n",
    "import numpy as np\n",
    "import matplotlib.pyplot as plt\n",
    "import seaborn as sns\n",
    "import plotly.express as px\n",
    "import plotly.graph_objects as go\n",
    "from plotly.subplots import make_subplots\n",
    "import warnings\n",
    "import json\n",
    "import os\n",
    "from datetime import datetime\n",
    "from pathlib import Path\n",
    "\n",
    "warnings.filterwarnings('ignore')\n",
    "\n",
    "# Set plotting style and palette - FIXED seaborn issue\n",
    "plt.style.use('default')\n",
    "sns.set_palette(\"husl\")\n",
    "plt.rcParams['figure.figsize'] = (12, 8)\n",
    "plt.rcParams['font.size'] = 10\n",
    "\n",
    "# Display settings\n",
    "pd.set_option('display.max_columns', None)\n",
    "pd.set_option('display.width', None)\n",
    "pd.set_option('display.max_colwidth', 50)\n",
    "\n",
    "print(\"✅ All libraries imported successfully\")\n",
    "print(f\"📊 Plotting backend: {plt.get_backend()}\")"
   ]
  },
  {
   "cell_type": "code",
   "execution_count": 2,
   "metadata": {},
   "outputs": [
    {
     "name": "stdout",
     "output_type": "stream",
     "text": [
      "📁 Excel file: data/raw/2024Q4_Trade_report_annexTables.xlsx\n",
      "📊 Number of sheets to analyze: 12\n",
      "🏭 SITC sections defined: 10\n"
     ]
    }
   ],
   "source": [
    "# Define file paths and constants\n",
    "EXCEL_FILE = \"data/raw/2024Q4_Trade_report_annexTables.xlsx\"\n",
    "OUTPUT_DIR = \"data/processed/\"\n",
    "\n",
    "SHEET_NAMES = [\n",
    "    'Graph Overall', 'Graph EAC', 'EAC', 'Total trade with the World',\n",
    "    'Regional blocks', 'Trade by continents', 'ExportCountry', \n",
    "    'ImportCountry', 'ReexportsCountry', 'ExportsCommodity',\n",
    "    'ImportsCommodity', 'ReexportsCommodity'\n",
    "]\n",
    "\n",
    "# SITC Section mappings for commodity analysis\n",
    "SITC_SECTIONS = {\n",
    "    '0': 'Food and live animals',\n",
    "    '1': 'Beverages and tobacco',\n",
    "    '2': 'Crude materials, inedible, except fuels',\n",
    "    '3': 'Mineral fuels, lubricants and related materials',\n",
    "    '4': 'Animal and vegetable oils, fats and waxes',\n",
    "    '5': 'Chemicals and related products',\n",
    "    '6': 'Manufactured goods classified by material',\n",
    "    '7': 'Machinery and transport equipment',\n",
    "    '8': 'Miscellaneous manufactured articles',\n",
    "    '9': 'Commodities and transactions not classified elsewhere'\n",
    "}\n",
    "\n",
    "print(f\"📁 Excel file: {EXCEL_FILE}\")\n",
    "print(f\"📊 Number of sheets to analyze: {len(SHEET_NAMES)}\")\n",
    "print(f\"🏭 SITC sections defined: {len(SITC_SECTIONS)}\")"
   ]
  },
  {
   "cell_type": "code",
   "execution_count": 3,
   "metadata": {},
   "outputs": [
    {
     "name": "stdout",
     "output_type": "stream",
     "text": [
      "🔄 Loading Excel data from: data/raw/2024Q4_Trade_report_annexTables.xlsx\n",
      "✅ Successfully loaded 12 sheets\n",
      "   📋 Graph Overall: 12 rows × 14 columns\n",
      "   📋 Graph EAC: 12 rows × 14 columns\n",
      "   📋 EAC: 25 rows × 27 columns\n",
      "   📋 Total trade with the World: 17 rows × 15 columns\n",
      "   📋 Regional blocks: 31 rows × 14 columns\n",
      "   📋 Trade by continents: 22 rows × 26 columns\n",
      "   📋 ExportCountry: 31 rows × 16 columns\n",
      "   📋 ImportCountry: 26 rows × 16 columns\n",
      "   📋 ReexportsCountry: 27 rows × 16 columns\n",
      "   📋 ExportsCommodity: 15 rows × 17 columns\n",
      "   📋 ImportsCommodity: 15 rows × 17 columns\n",
      "   📋 ReexportsCommodity: 16 rows × 17 columns\n"
     ]
    }
   ],
   "source": [
    "def load_excel_data(excel_file, sheet_names):\n",
    "    \"\"\"\n",
    "    Load all sheets from the Excel file into a dictionary\n",
    "    \n",
    "    Parameters:\n",
    "    - excel_file: Path to the Excel file\n",
    "    - sheet_names: List of sheet names to load\n",
    "    \n",
    "    Returns:\n",
    "    - Dictionary with sheet names as keys and DataFrames as values\n",
    "    \"\"\"\n",
    "    print(f\"🔄 Loading Excel data from: {excel_file}\")\n",
    "    \n",
    "    try:\n",
    "        # Load all sheets at once for efficiency\n",
    "        all_sheets = pd.read_excel(excel_file, sheet_name=None)\n",
    "        \n",
    "        # Filter to only the sheets we want to analyze\n",
    "        data_dict = {sheet: all_sheets[sheet] for sheet in sheet_names if sheet in all_sheets}\n",
    "        \n",
    "        print(f\"✅ Successfully loaded {len(data_dict)} sheets\")\n",
    "        \n",
    "        # Display basic information about each sheet\n",
    "        for sheet_name, df in data_dict.items():\n",
    "            print(f\"   📋 {sheet_name}: {df.shape[0]} rows × {df.shape[1]} columns\")\n",
    "        \n",
    "        return data_dict\n",
    "        \n",
    "    except FileNotFoundError:\n",
    "        print(f\"❌ Error: Excel file not found at {excel_file}\")\n",
    "        return None\n",
    "    except Exception as e:\n",
    "        print(f\"❌ Error loading Excel file: {str(e)}\")\n",
    "        return None\n",
    "\n",
    "# Load the data\n",
    "raw_data = load_excel_data(EXCEL_FILE, SHEET_NAMES)"
   ]
  },
  {
   "cell_type": "code",
   "execution_count": 4,
   "metadata": {},
   "outputs": [
    {
     "name": "stdout",
     "output_type": "stream",
     "text": [
      "🧹 Cleaning sheet: Graph Overall\n",
      "🧹 Cleaning sheet: Graph EAC\n",
      "🧹 Cleaning sheet: EAC\n",
      "🧹 Cleaning sheet: Total trade with the World\n",
      "🧹 Cleaning sheet: Regional blocks\n",
      "🧹 Cleaning sheet: Trade by continents\n",
      "🧹 Cleaning sheet: ExportCountry\n",
      "🧹 Cleaning sheet: ImportCountry\n",
      "🧹 Cleaning sheet: ReexportsCountry\n",
      "🧹 Cleaning sheet: ExportsCommodity\n",
      "🧹 Cleaning sheet: ImportsCommodity\n",
      "🧹 Cleaning sheet: ReexportsCommodity\n",
      "✅ Successfully cleaned 12 sheets\n"
     ]
    }
   ],
   "source": [
    "def clean_sheet_data(df, sheet_name):\n",
    "    \"\"\"\n",
    "    Clean and preprocess individual sheet data - FIXED for horizontal structure\n",
    "    \n",
    "    Parameters:\n",
    "    - df: Raw DataFrame from Excel sheet\n",
    "    - sheet_name: Name of the sheet for context-specific cleaning\n",
    "    \n",
    "    Returns:\n",
    "    - Cleaned DataFrame\n",
    "    \"\"\"\n",
    "    print(f\"🧹 Cleaning sheet: {sheet_name}\")\n",
    "    \n",
    "    # Remove empty rows and columns\n",
    "    df_clean = df.dropna(how='all').dropna(axis=1, how='all')\n",
    "    \n",
    "    # Clean column names\n",
    "    df_clean.columns = [str(col).strip() for col in df_clean.columns]\n",
    "    \n",
    "    # Handle specific sheet types - FIXED for horizontal data structure\n",
    "    if 'Graph Overall' in sheet_name:\n",
    "        return process_graph_overall_fixed(df_clean)\n",
    "    elif 'EAC' in sheet_name:\n",
    "        return process_eac_data_fixed(df_clean, sheet_name)\n",
    "    elif 'Country' in sheet_name:\n",
    "        return process_country_data_fixed(df_clean, sheet_name)\n",
    "    elif 'Commodity' in sheet_name:\n",
    "        return process_commodity_data_fixed(df_clean, sheet_name)\n",
    "    else:\n",
    "        return df_clean\n",
    "\n",
    "def process_graph_overall_fixed(df):\n",
    "    \"\"\"\n",
    "    Process the main trade overview data (Graph Overall sheet) - FIXED\n",
    "    \"\"\"\n",
    "    # Find the data rows (skip headers) - handle horizontal structure\n",
    "    data_start = 0\n",
    "    for i, row in df.iterrows():\n",
    "        if 'Flow/Period' in str(row.iloc[0]):\n",
    "            data_start = i\n",
    "            break\n",
    "\n",
    "    # Extract quarterly data - handle horizontal structure\n",
    "    quarters = []\n",
    "    for _, row in df.iloc[data_start:].iterrows():\n",
    "        if pd.isna(row.iloc[0]) or 'Source' in str(row.iloc[0]):\n",
    "            continue\n",
    "\n",
    "        try:\n",
    "            quarter_data = {\n",
    "                'period': str(row.iloc[0]),\n",
    "                'exports': float(row.iloc[1]) if pd.notna(row.iloc[1]) else 0,\n",
    "                'imports': float(row.iloc[2]) if pd.notna(row.iloc[2]) else 0,\n",
    "                'reexports': float(row.iloc[3]) if pd.notna(row.iloc[3]) else 0,\n",
    "                'total_trade': float(row.iloc[4]) if pd.notna(row.iloc[4]) else 0,\n",
    "                'trade_balance': float(row.iloc[5]) if pd.notna(row.iloc[5]) else 0\n",
    "            }\n",
    "            quarters.append(quarter_data)\n",
    "        except (ValueError, IndexError):\n",
    "            continue\n",
    "\n",
    "    return pd.DataFrame(quarters)\n",
    "\n",
    "def process_eac_data_fixed(df, sheet_name):\n",
    "    \"\"\"\n",
    "    Process EAC trade data - FIXED for horizontal structure\n",
    "    \"\"\"\n",
    "    eac_data = []\n",
    "    data_start = 0\n",
    "\n",
    "    for i, row in df.iterrows():\n",
    "        if 'EAC' in str(row.iloc[0]) and pd.notna(row.iloc[1]):\n",
    "            data_start = i\n",
    "            break\n",
    "\n",
    "    for _, row in df.iloc[data_start:].iterrows():\n",
    "        if pd.isna(row.iloc[0]) or 'Source' in str(row.iloc[0]):\n",
    "            continue\n",
    "\n",
    "        try:\n",
    "            eac_entry = {\n",
    "                'country': str(row.iloc[0]),\n",
    "                'q1_2022': float(row.iloc[1]) if pd.notna(row.iloc[1]) else 0,\n",
    "                'q2_2022': float(row.iloc[2]) if pd.notna(row.iloc[2]) else 0,\n",
    "                'q3_2022': float(row.iloc[3]) if pd.notna(row.iloc[3]) else 0,\n",
    "                'q4_2022': float(row.iloc[4]) if pd.notna(row.iloc[4]) else 0,\n",
    "                'q1_2023': float(row.iloc[5]) if pd.notna(row.iloc[5]) else 0,\n",
    "                'q2_2023': float(row.iloc[6]) if pd.notna(row.iloc[6]) else 0,\n",
    "                'q3_2023': float(row.iloc[7]) if pd.notna(row.iloc[7]) else 0,\n",
    "                'q4_2023': float(row.iloc[8]) if pd.notna(row.iloc[8]) else 0,\n",
    "                'q1_2024': float(row.iloc[9]) if pd.notna(row.iloc[9]) else 0,\n",
    "                'q2_2024': float(row.iloc[10]) if pd.notna(row.iloc[10]) else 0,\n",
    "                'q3_2024': float(row.iloc[11]) if pd.notna(row.iloc[11]) else 0,\n",
    "                'q4_2024': float(row.iloc[12]) if pd.notna(row.iloc[12]) else 0,\n",
    "                'share_q4': float(row.iloc[13]) if pd.notna(row.iloc[13]) else 0,\n",
    "                'growth_qoq': float(row.iloc[14]) if pd.notna(row.iloc[14]) else 0,\n",
    "                'growth_yoy': float(row.iloc[15]) if pd.notna(row.iloc[15]) else 0\n",
    "            }\n",
    "            eac_data.append(eac_entry)\n",
    "        except (ValueError, IndexError):\n",
    "            continue\n",
    "\n",
    "    return pd.DataFrame(eac_data)\n",
    "\n",
    "def process_country_data_fixed(df, sheet_name):\n",
    "    \"\"\"\n",
    "    Process country-specific trade data - FIXED for horizontal structure\n",
    "    \"\"\"\n",
    "    countries = []\n",
    "    data_start = 0\n",
    "\n",
    "    for i, row in df.iterrows():\n",
    "        if 'Total Estimates' in str(row.iloc[0]):\n",
    "            data_start = i + 1\n",
    "            break\n",
    "\n",
    "    for _, row in df.iloc[data_start:].iterrows():\n",
    "        if pd.isna(row.iloc[0]) or 'Source' in str(row.iloc[0]):\n",
    "            continue\n",
    "\n",
    "        try:\n",
    "            country_data = {\n",
    "                'country': str(row.iloc[0]),\n",
    "                'q1_2022': float(row.iloc[1]) if pd.notna(row.iloc[1]) else 0,\n",
    "                'q2_2022': float(row.iloc[2]) if pd.notna(row.iloc[2]) else 0,\n",
    "                'q3_2022': float(row.iloc[3]) if pd.notna(row.iloc[3]) else 0,\n",
    "                'q4_2022': float(row.iloc[4]) if pd.notna(row.iloc[4]) else 0,\n",
    "                'q1_2023': float(row.iloc[5]) if pd.notna(row.iloc[5]) else 0,\n",
    "                'q2_2023': float(row.iloc[6]) if pd.notna(row.iloc[6]) else 0,\n",
    "                'q3_2023': float(row.iloc[7]) if pd.notna(row.iloc[7]) else 0,\n",
    "                'q4_2023': float(row.iloc[8]) if pd.notna(row.iloc[8]) else 0,\n",
    "                'q1_2024': float(row.iloc[9]) if pd.notna(row.iloc[9]) else 0,\n",
    "                'q2_2024': float(row.iloc[10]) if pd.notna(row.iloc[10]) else 0,\n",
    "                'q3_2024': float(row.iloc[11]) if pd.notna(row.iloc[11]) else 0,\n",
    "                'q4_2024': float(row.iloc[12]) if pd.notna(row.iloc[12]) else 0,\n",
    "                'share_q4': float(row.iloc[13]) if pd.notna(row.iloc[13]) else 0,\n",
    "                'growth_qoq': float(row.iloc[14]) if pd.notna(row.iloc[14]) else 0,\n",
    "                'growth_yoy': float(row.iloc[15]) if pd.notna(row.iloc[15]) else 0\n",
    "            }\n",
    "            countries.append(country_data)\n",
    "        except (ValueError, IndexError):\n",
    "            continue\n",
    "\n",
    "    return pd.DataFrame(countries)\n",
    "\n",
    "def process_commodity_data_fixed(df, sheet_name):\n",
    "    \"\"\"\n",
    "    Process commodity trade data - FIXED for horizontal structure\n",
    "    \"\"\"\n",
    "    commodities = []\n",
    "    data_start = 0\n",
    "\n",
    "    for i, row in df.iterrows():\n",
    "        if 'SITC SECTION' in str(row.iloc[0]):\n",
    "            data_start = i\n",
    "            break\n",
    "\n",
    "    for _, row in df.iloc[data_start:].iterrows():\n",
    "        if pd.isna(row.iloc[0]) or 'Source' in str(row.iloc[0]):\n",
    "            continue\n",
    "\n",
    "        try:\n",
    "            commodity_data = {\n",
    "                'sitc_section': str(row.iloc[0]),\n",
    "                'description': str(row.iloc[1]),\n",
    "                'q1_2022': float(row.iloc[2]) if pd.notna(row.iloc[2]) else 0,\n",
    "                'q2_2022': float(row.iloc[3]) if pd.notna(row.iloc[3]) else 0,\n",
    "                'q3_2022': float(row.iloc[4]) if pd.notna(row.iloc[4]) else 0,\n",
    "                'q4_2022': float(row.iloc[5]) if pd.notna(row.iloc[5]) else 0,\n",
    "                'q1_2023': float(row.iloc[6]) if pd.notna(row.iloc[6]) else 0,\n",
    "                'q2_2023': float(row.iloc[7]) if pd.notna(row.iloc[7]) else 0,\n",
    "                'q3_2023': float(row.iloc[8]) if pd.notna(row.iloc[8]) else 0,\n",
    "                'q4_2023': float(row.iloc[9]) if pd.notna(row.iloc[9]) else 0,\n",
    "                'q1_2024': float(row.iloc[10]) if pd.notna(row.iloc[10]) else 0,\n",
    "                'q2_2024': float(row.iloc[11]) if pd.notna(row.iloc[11]) else 0,\n",
    "                'q3_2024': float(row.iloc[12]) if pd.notna(row.iloc[12]) else 0,\n",
    "                'q4_2024': float(row.iloc[13]) if pd.notna(row.iloc[13]) else 0,\n",
    "                'share_q4': float(row.iloc[14]) if pd.notna(row.iloc[14]) else 0,\n",
    "                'growth_qoq': float(row.iloc[15]) if pd.notna(row.iloc[15]) else 0,\n",
    "                'growth_yoy': float(row.iloc[16]) if pd.notna(row.iloc[16]) else 0,\n",
    "                'trade_type': 'exports' if 'Export' in sheet_name else 'imports' if 'Import' in sheet_name else 'reexports'\n",
    "            }\n",
    "            commodities.append(commodity_data)\n",
    "        except (ValueError, IndexError):\n",
    "            continue\n",
    "\n",
    "    return pd.DataFrame(commodities)\n",
    "\n",
    "# Clean all sheets\n",
    "cleaned_data = {}\n",
    "for sheet_name, df in raw_data.items():\n",
    "    cleaned_data[sheet_name] = clean_sheet_data(df, sheet_name)\n",
    "\n",
    "print(f\"✅ Successfully cleaned {len(cleaned_data)} sheets\")"
   ]
  },
  {
   "cell_type": "markdown",
   "metadata": {},
   "source": [
    "# 1. Overall Trade Analysis (Graph Overall Sheet)\n",
    "\n",
    "This section analyzes the main trade overview data, providing insights into Rwanda's overall trade performance, trends, and balance of trade."
   ]
  },
  {
   "cell_type": "code",
   "execution_count": 6,
   "metadata": {},
   "outputs": [
    {
     "name": "stdout",
     "output_type": "stream",
     "text": [
      "📊 Overall Trade Analysis\n",
      "==================================================\n",
      "📅 Data spans: Exports to *All series revised from 2022Q1\n",
      "📈 Total quarters analyzed: 7\n",
      "\n",
      "💰 Q4 2024 Trade Summary:\n",
      "   Exports: $0.00M\n",
      "   Imports: $0.00M\n",
      "   Re-exports: $0.00M\n",
      "   Total Trade: $0.00M\n",
      "   Trade Balance: $0.00M\n",
      "\n",
      "📈 Growth Rates (QoQ):\n",
      "   Export Growth: 0.00%\n",
      "   Import Growth: 0.00%\n",
      "\n",
      "📋 Complete Trade Data:\n"
     ]
    },
    {
     "data": {
      "application/vnd.microsoft.datawrangler.viewer.v0+json": {
       "columns": [
        {
         "name": "index",
         "rawType": "int64",
         "type": "integer"
        },
        {
         "name": "period",
         "rawType": "object",
         "type": "string"
        },
        {
         "name": "exports",
         "rawType": "float64",
         "type": "float"
        },
        {
         "name": "imports",
         "rawType": "float64",
         "type": "float"
        },
        {
         "name": "reexports",
         "rawType": "float64",
         "type": "float"
        },
        {
         "name": "total_trade",
         "rawType": "float64",
         "type": "float"
        },
        {
         "name": "trade_balance",
         "rawType": "float64",
         "type": "float"
        }
       ],
       "ref": "041d6a88-1e83-4f58-9e9f-6f100aec9325",
       "rows": [
        [
         "0",
         "Exports",
         "293.57884831471915",
         "331.55255123967333",
         "342.5635379482146",
         "354.8386907703432",
         "402.14468784688006"
        ],
        [
         "1",
         "Imports",
         "1034.5394256801528",
         "1348.0259467278936",
         "1481.2243433417425",
         "1281.2074275500079",
         "1476.5099483773447"
        ],
        [
         "2",
         "Re-Exports",
         "150.6553971830555",
         "161.7394402630839",
         "201.15164584896144",
         "190.42395165330547",
         "156.25277435433534"
        ],
        [
         "3",
         "Total Trade",
         "1478.7736711779276",
         "1841.3179382306507",
         "2024.9395271389185",
         "1826.4700699736566",
         "2034.90741057856"
        ],
        [
         "4",
         "Trade Balance",
         "-590.3051801823782",
         "-854.7339552251364",
         "-937.5091595445665",
         "-735.9447851263592",
         "-918.1124861761293"
        ],
        [
         "5",
         "*Major revisions  include Domestic exports destination of Tea and Coffee",
         "0.0",
         "0.0",
         "0.0",
         "0.0",
         "0.0"
        ],
        [
         "6",
         "*All series revised from 2022Q1",
         "0.0",
         "0.0",
         "0.0",
         "0.0",
         "0.0"
        ]
       ],
       "shape": {
        "columns": 6,
        "rows": 7
       }
      },
      "text/html": [
       "<div>\n",
       "<style scoped>\n",
       "    .dataframe tbody tr th:only-of-type {\n",
       "        vertical-align: middle;\n",
       "    }\n",
       "\n",
       "    .dataframe tbody tr th {\n",
       "        vertical-align: top;\n",
       "    }\n",
       "\n",
       "    .dataframe thead th {\n",
       "        text-align: right;\n",
       "    }\n",
       "</style>\n",
       "<table border=\"1\" class=\"dataframe\">\n",
       "  <thead>\n",
       "    <tr style=\"text-align: right;\">\n",
       "      <th></th>\n",
       "      <th>period</th>\n",
       "      <th>exports</th>\n",
       "      <th>imports</th>\n",
       "      <th>reexports</th>\n",
       "      <th>total_trade</th>\n",
       "      <th>trade_balance</th>\n",
       "    </tr>\n",
       "  </thead>\n",
       "  <tbody>\n",
       "    <tr>\n",
       "      <th>0</th>\n",
       "      <td>Exports</td>\n",
       "      <td>293.578848</td>\n",
       "      <td>331.552551</td>\n",
       "      <td>342.563538</td>\n",
       "      <td>354.838691</td>\n",
       "      <td>402.144688</td>\n",
       "    </tr>\n",
       "    <tr>\n",
       "      <th>1</th>\n",
       "      <td>Imports</td>\n",
       "      <td>1034.539426</td>\n",
       "      <td>1348.025947</td>\n",
       "      <td>1481.224343</td>\n",
       "      <td>1281.207428</td>\n",
       "      <td>1476.509948</td>\n",
       "    </tr>\n",
       "    <tr>\n",
       "      <th>2</th>\n",
       "      <td>Re-Exports</td>\n",
       "      <td>150.655397</td>\n",
       "      <td>161.739440</td>\n",
       "      <td>201.151646</td>\n",
       "      <td>190.423952</td>\n",
       "      <td>156.252774</td>\n",
       "    </tr>\n",
       "    <tr>\n",
       "      <th>3</th>\n",
       "      <td>Total Trade</td>\n",
       "      <td>1478.773671</td>\n",
       "      <td>1841.317938</td>\n",
       "      <td>2024.939527</td>\n",
       "      <td>1826.470070</td>\n",
       "      <td>2034.907411</td>\n",
       "    </tr>\n",
       "    <tr>\n",
       "      <th>4</th>\n",
       "      <td>Trade Balance</td>\n",
       "      <td>-590.305180</td>\n",
       "      <td>-854.733955</td>\n",
       "      <td>-937.509160</td>\n",
       "      <td>-735.944785</td>\n",
       "      <td>-918.112486</td>\n",
       "    </tr>\n",
       "    <tr>\n",
       "      <th>5</th>\n",
       "      <td>*Major revisions  include Domestic exports des...</td>\n",
       "      <td>0.000000</td>\n",
       "      <td>0.000000</td>\n",
       "      <td>0.000000</td>\n",
       "      <td>0.000000</td>\n",
       "      <td>0.000000</td>\n",
       "    </tr>\n",
       "    <tr>\n",
       "      <th>6</th>\n",
       "      <td>*All series revised from 2022Q1</td>\n",
       "      <td>0.000000</td>\n",
       "      <td>0.000000</td>\n",
       "      <td>0.000000</td>\n",
       "      <td>0.000000</td>\n",
       "      <td>0.000000</td>\n",
       "    </tr>\n",
       "  </tbody>\n",
       "</table>\n",
       "</div>"
      ],
      "text/plain": [
       "                                              period      exports  \\\n",
       "0                                            Exports   293.578848   \n",
       "1                                            Imports  1034.539426   \n",
       "2                                         Re-Exports   150.655397   \n",
       "3                                        Total Trade  1478.773671   \n",
       "4                                      Trade Balance  -590.305180   \n",
       "5  *Major revisions  include Domestic exports des...     0.000000   \n",
       "6                    *All series revised from 2022Q1     0.000000   \n",
       "\n",
       "       imports    reexports  total_trade  trade_balance  \n",
       "0   331.552551   342.563538   354.838691     402.144688  \n",
       "1  1348.025947  1481.224343  1281.207428    1476.509948  \n",
       "2   161.739440   201.151646   190.423952     156.252774  \n",
       "3  1841.317938  2024.939527  1826.470070    2034.907411  \n",
       "4  -854.733955  -937.509160  -735.944785    -918.112486  \n",
       "5     0.000000     0.000000     0.000000       0.000000  \n",
       "6     0.000000     0.000000     0.000000       0.000000  "
      ]
     },
     "metadata": {},
     "output_type": "display_data"
    }
   ],
   "source": [
    "# Analyze overall trade data\n",
    "if 'Graph Overall' in cleaned_data:\n",
    "    overall_df = cleaned_data['Graph Overall']\n",
    "    \n",
    "    print(\"📊 Overall Trade Analysis\")\n",
    "    print(\"=\" * 50)\n",
    "    print(f\"📅 Data spans: {overall_df['period'].iloc[0]} to {overall_df['period'].iloc[-1]}\")\n",
    "    print(f\"📈 Total quarters analyzed: {len(overall_df)}\")\n",
    "    \n",
    "    # Calculate key metrics\n",
    "    latest_data = overall_df.iloc[-1]  # Q4 2024\n",
    "    previous_data = overall_df.iloc[-2]  # Q3 2024\n",
    "    \n",
    "    print(f\"\\n💰 Q4 2024 Trade Summary:\")\n",
    "    print(f\"   Exports: ${latest_data['exports']:.2f}M\")\n",
    "    print(f\"   Imports: ${latest_data['imports']:.2f}M\")\n",
    "    print(f\"   Re-exports: ${latest_data['reexports']:.2f}M\")\n",
    "    print(f\"   Total Trade: ${latest_data['total_trade']:.2f}M\")\n",
    "    print(f\"   Trade Balance: ${latest_data['trade_balance']:.2f}M\")\n",
    "    \n",
    "    # Calculate growth rates\n",
    "    export_growth_qoq = ((latest_data['exports'] - previous_data['exports']) / previous_data['exports']) * 100 if previous_data['exports'] != 0 else 0\n",
    "    import_growth_qoq = ((latest_data['imports'] - previous_data['imports']) / previous_data['imports']) * 100 if previous_data['imports'] != 0 else 0\n",
    "    \n",
    "    print(f\"\\n📈 Growth Rates (QoQ):\")\n",
    "    print(f\"   Export Growth: {export_growth_qoq:.2f}%\")\n",
    "    print(f\"   Import Growth: {import_growth_qoq:.2f}%\")\n",
    "    \n",
    "    # Display the data\n",
    "    print(f\"\\n📋 Complete Trade Data:\")\n",
    "    display(overall_df)\n",
    "else:\n",
    "    print(\"❌ Graph Overall sheet not found in cleaned data\")"
   ]
  },
  {
   "cell_type": "code",
   "execution_count": 7,
   "metadata": {},
   "outputs": [
    {
     "data": {
      "application/vnd.plotly.v1+json": {
       "config": {
        "plotlyServerURL": "https://plot.ly"
       },
       "data": [
        {
         "line": {
          "color": "#2E86AB",
          "width": 3
         },
         "marker": {
          "size": 6
         },
         "mode": "lines+markers",
         "name": "Exports",
         "type": "scatter",
         "x": [
          "Exports",
          "Imports",
          "Re-Exports",
          "Total Trade",
          "Trade Balance",
          "*Major revisions  include Domestic exports destination of Tea and Coffee",
          "*All series revised from 2022Q1"
         ],
         "xaxis": "x",
         "y": [
          293.57884831471915,
          1034.5394256801528,
          150.6553971830555,
          1478.7736711779276,
          -590.3051801823782,
          0,
          0
         ],
         "yaxis": "y"
        },
        {
         "line": {
          "color": "#A23B72",
          "width": 3
         },
         "marker": {
          "size": 6
         },
         "mode": "lines+markers",
         "name": "Imports",
         "type": "scatter",
         "x": [
          "Exports",
          "Imports",
          "Re-Exports",
          "Total Trade",
          "Trade Balance",
          "*Major revisions  include Domestic exports destination of Tea and Coffee",
          "*All series revised from 2022Q1"
         ],
         "xaxis": "x",
         "y": [
          331.55255123967333,
          1348.0259467278936,
          161.7394402630839,
          1841.3179382306507,
          -854.7339552251364,
          0,
          0
         ],
         "yaxis": "y"
        },
        {
         "marker": {
          "color": [
           "green",
           "green",
           "green",
           "green",
           "red",
           "green",
           "green"
          ]
         },
         "name": "Trade Balance",
         "type": "bar",
         "x": [
          "Exports",
          "Imports",
          "Re-Exports",
          "Total Trade",
          "Trade Balance",
          "*Major revisions  include Domestic exports destination of Tea and Coffee",
          "*All series revised from 2022Q1"
         ],
         "xaxis": "x2",
         "y": [
          402.14468784688006,
          1476.5099483773447,
          156.25277435433534,
          2034.90741057856,
          -918.1124861761293,
          0,
          0
         ],
         "yaxis": "y2"
        },
        {
         "line": {
          "color": "#F18F01",
          "width": 2
         },
         "mode": "lines+markers",
         "name": "Export Growth %",
         "type": "scatter",
         "x": [
          "Imports",
          "Re-Exports",
          "Total Trade",
          "Trade Balance",
          "*Major revisions  include Domestic exports destination of Tea and Coffee",
          "*All series revised from 2022Q1"
         ],
         "xaxis": "x3",
         "y": [
          252.38895159474066,
          -85.4374426490312,
          881.5603681168669,
          -139.91856168984714,
          -100,
          null
         ],
         "yaxis": "y3"
        },
        {
         "line": {
          "color": "#C73E1D",
          "width": 2
         },
         "mode": "lines+markers",
         "name": "Import Growth %",
         "type": "scatter",
         "x": [
          "Imports",
          "Re-Exports",
          "Total Trade",
          "Trade Balance",
          "*Major revisions  include Domestic exports destination of Tea and Coffee",
          "*All series revised from 2022Q1"
         ],
         "xaxis": "x3",
         "y": [
          306.5798744988181,
          -88.00175614900594,
          1038.4470820695185,
          -146.41968328655196,
          -100,
          null
         ],
         "yaxis": "y3"
        },
        {
         "domain": {
          "x": [
           0.55,
           1
          ],
          "y": [
           0.3888888888888889,
           0.6111111111111112
          ]
         },
         "labels": [
          "Exports",
          "Imports",
          "Re-exports"
         ],
         "marker": {
          "colors": [
           "#2E86AB",
           "#A23B72",
           "#F18F01"
          ]
         },
         "name": "Trade Distribution",
         "type": "pie",
         "values": [
          888.4684909955494,
          986.5839830055144,
          1087.430367594352
         ]
        },
        {
         "marker": {
          "color": [
           "#2E86AB",
           "#F18F01",
           "#A23B72"
          ]
         },
         "name": "Trade Components",
         "type": "bar",
         "x": [
          "Domestic Exports",
          "Re-exports",
          "Imports"
         ],
         "xaxis": "x4",
         "y": [
          0,
          0,
          0
         ],
         "yaxis": "y4"
        },
        {
         "line": {
          "color": "#2E86AB",
          "width": 3
         },
         "mode": "lines+markers",
         "name": "Export YoY Growth %",
         "type": "scatter",
         "x": [],
         "xaxis": "x5",
         "y": [],
         "yaxis": "y5"
        },
        {
         "line": {
          "color": "#A23B72",
          "width": 3
         },
         "mode": "lines+markers",
         "name": "Import YoY Growth %",
         "type": "scatter",
         "x": [],
         "xaxis": "x5",
         "y": [],
         "yaxis": "y5"
        }
       ],
       "layout": {
        "annotations": [
         {
          "font": {
           "size": 16
          },
          "showarrow": false,
          "text": "Trade Volume Trends (2022-2024)",
          "x": 0.225,
          "xanchor": "center",
          "xref": "paper",
          "y": 1,
          "yanchor": "bottom",
          "yref": "paper"
         },
         {
          "font": {
           "size": 16
          },
          "showarrow": false,
          "text": "Trade Balance Analysis",
          "x": 0.775,
          "xanchor": "center",
          "xref": "paper",
          "y": 1,
          "yanchor": "bottom",
          "yref": "paper"
         },
         {
          "font": {
           "size": 16
          },
          "showarrow": false,
          "text": "Export vs Import Growth",
          "x": 0.225,
          "xanchor": "center",
          "xref": "paper",
          "y": 0.6111111111111112,
          "yanchor": "bottom",
          "yref": "paper"
         },
         {
          "font": {
           "size": 16
          },
          "showarrow": false,
          "text": "Quarterly Trade Distribution",
          "x": 0.775,
          "xanchor": "center",
          "xref": "paper",
          "y": 0.6111111111111112,
          "yanchor": "bottom",
          "yref": "paper"
         },
         {
          "font": {
           "size": 16
          },
          "showarrow": false,
          "text": "Trade Components Breakdown",
          "x": 0.225,
          "xanchor": "center",
          "xref": "paper",
          "y": 0.22222222222222224,
          "yanchor": "bottom",
          "yref": "paper"
         },
         {
          "font": {
           "size": 16
          },
          "showarrow": false,
          "text": "Year-over-Year Growth",
          "x": 0.775,
          "xanchor": "center",
          "xref": "paper",
          "y": 0.22222222222222224,
          "yanchor": "bottom",
          "yref": "paper"
         }
        ],
        "height": 1200,
        "showlegend": true,
        "template": {
         "data": {
          "bar": [
           {
            "error_x": {
             "color": "#2a3f5f"
            },
            "error_y": {
             "color": "#2a3f5f"
            },
            "marker": {
             "line": {
              "color": "#E5ECF6",
              "width": 0.5
             },
             "pattern": {
              "fillmode": "overlay",
              "size": 10,
              "solidity": 0.2
             }
            },
            "type": "bar"
           }
          ],
          "barpolar": [
           {
            "marker": {
             "line": {
              "color": "#E5ECF6",
              "width": 0.5
             },
             "pattern": {
              "fillmode": "overlay",
              "size": 10,
              "solidity": 0.2
             }
            },
            "type": "barpolar"
           }
          ],
          "carpet": [
           {
            "aaxis": {
             "endlinecolor": "#2a3f5f",
             "gridcolor": "white",
             "linecolor": "white",
             "minorgridcolor": "white",
             "startlinecolor": "#2a3f5f"
            },
            "baxis": {
             "endlinecolor": "#2a3f5f",
             "gridcolor": "white",
             "linecolor": "white",
             "minorgridcolor": "white",
             "startlinecolor": "#2a3f5f"
            },
            "type": "carpet"
           }
          ],
          "choropleth": [
           {
            "colorbar": {
             "outlinewidth": 0,
             "ticks": ""
            },
            "type": "choropleth"
           }
          ],
          "contour": [
           {
            "colorbar": {
             "outlinewidth": 0,
             "ticks": ""
            },
            "colorscale": [
             [
              0,
              "#0d0887"
             ],
             [
              0.1111111111111111,
              "#46039f"
             ],
             [
              0.2222222222222222,
              "#7201a8"
             ],
             [
              0.3333333333333333,
              "#9c179e"
             ],
             [
              0.4444444444444444,
              "#bd3786"
             ],
             [
              0.5555555555555556,
              "#d8576b"
             ],
             [
              0.6666666666666666,
              "#ed7953"
             ],
             [
              0.7777777777777778,
              "#fb9f3a"
             ],
             [
              0.8888888888888888,
              "#fdca26"
             ],
             [
              1,
              "#f0f921"
             ]
            ],
            "type": "contour"
           }
          ],
          "contourcarpet": [
           {
            "colorbar": {
             "outlinewidth": 0,
             "ticks": ""
            },
            "type": "contourcarpet"
           }
          ],
          "heatmap": [
           {
            "colorbar": {
             "outlinewidth": 0,
             "ticks": ""
            },
            "colorscale": [
             [
              0,
              "#0d0887"
             ],
             [
              0.1111111111111111,
              "#46039f"
             ],
             [
              0.2222222222222222,
              "#7201a8"
             ],
             [
              0.3333333333333333,
              "#9c179e"
             ],
             [
              0.4444444444444444,
              "#bd3786"
             ],
             [
              0.5555555555555556,
              "#d8576b"
             ],
             [
              0.6666666666666666,
              "#ed7953"
             ],
             [
              0.7777777777777778,
              "#fb9f3a"
             ],
             [
              0.8888888888888888,
              "#fdca26"
             ],
             [
              1,
              "#f0f921"
             ]
            ],
            "type": "heatmap"
           }
          ],
          "heatmapgl": [
           {
            "colorbar": {
             "outlinewidth": 0,
             "ticks": ""
            },
            "colorscale": [
             [
              0,
              "#0d0887"
             ],
             [
              0.1111111111111111,
              "#46039f"
             ],
             [
              0.2222222222222222,
              "#7201a8"
             ],
             [
              0.3333333333333333,
              "#9c179e"
             ],
             [
              0.4444444444444444,
              "#bd3786"
             ],
             [
              0.5555555555555556,
              "#d8576b"
             ],
             [
              0.6666666666666666,
              "#ed7953"
             ],
             [
              0.7777777777777778,
              "#fb9f3a"
             ],
             [
              0.8888888888888888,
              "#fdca26"
             ],
             [
              1,
              "#f0f921"
             ]
            ],
            "type": "heatmapgl"
           }
          ],
          "histogram": [
           {
            "marker": {
             "pattern": {
              "fillmode": "overlay",
              "size": 10,
              "solidity": 0.2
             }
            },
            "type": "histogram"
           }
          ],
          "histogram2d": [
           {
            "colorbar": {
             "outlinewidth": 0,
             "ticks": ""
            },
            "colorscale": [
             [
              0,
              "#0d0887"
             ],
             [
              0.1111111111111111,
              "#46039f"
             ],
             [
              0.2222222222222222,
              "#7201a8"
             ],
             [
              0.3333333333333333,
              "#9c179e"
             ],
             [
              0.4444444444444444,
              "#bd3786"
             ],
             [
              0.5555555555555556,
              "#d8576b"
             ],
             [
              0.6666666666666666,
              "#ed7953"
             ],
             [
              0.7777777777777778,
              "#fb9f3a"
             ],
             [
              0.8888888888888888,
              "#fdca26"
             ],
             [
              1,
              "#f0f921"
             ]
            ],
            "type": "histogram2d"
           }
          ],
          "histogram2dcontour": [
           {
            "colorbar": {
             "outlinewidth": 0,
             "ticks": ""
            },
            "colorscale": [
             [
              0,
              "#0d0887"
             ],
             [
              0.1111111111111111,
              "#46039f"
             ],
             [
              0.2222222222222222,
              "#7201a8"
             ],
             [
              0.3333333333333333,
              "#9c179e"
             ],
             [
              0.4444444444444444,
              "#bd3786"
             ],
             [
              0.5555555555555556,
              "#d8576b"
             ],
             [
              0.6666666666666666,
              "#ed7953"
             ],
             [
              0.7777777777777778,
              "#fb9f3a"
             ],
             [
              0.8888888888888888,
              "#fdca26"
             ],
             [
              1,
              "#f0f921"
             ]
            ],
            "type": "histogram2dcontour"
           }
          ],
          "mesh3d": [
           {
            "colorbar": {
             "outlinewidth": 0,
             "ticks": ""
            },
            "type": "mesh3d"
           }
          ],
          "parcoords": [
           {
            "line": {
             "colorbar": {
              "outlinewidth": 0,
              "ticks": ""
             }
            },
            "type": "parcoords"
           }
          ],
          "pie": [
           {
            "automargin": true,
            "type": "pie"
           }
          ],
          "scatter": [
           {
            "fillpattern": {
             "fillmode": "overlay",
             "size": 10,
             "solidity": 0.2
            },
            "type": "scatter"
           }
          ],
          "scatter3d": [
           {
            "line": {
             "colorbar": {
              "outlinewidth": 0,
              "ticks": ""
             }
            },
            "marker": {
             "colorbar": {
              "outlinewidth": 0,
              "ticks": ""
             }
            },
            "type": "scatter3d"
           }
          ],
          "scattercarpet": [
           {
            "marker": {
             "colorbar": {
              "outlinewidth": 0,
              "ticks": ""
             }
            },
            "type": "scattercarpet"
           }
          ],
          "scattergeo": [
           {
            "marker": {
             "colorbar": {
              "outlinewidth": 0,
              "ticks": ""
             }
            },
            "type": "scattergeo"
           }
          ],
          "scattergl": [
           {
            "marker": {
             "colorbar": {
              "outlinewidth": 0,
              "ticks": ""
             }
            },
            "type": "scattergl"
           }
          ],
          "scattermapbox": [
           {
            "marker": {
             "colorbar": {
              "outlinewidth": 0,
              "ticks": ""
             }
            },
            "type": "scattermapbox"
           }
          ],
          "scatterpolar": [
           {
            "marker": {
             "colorbar": {
              "outlinewidth": 0,
              "ticks": ""
             }
            },
            "type": "scatterpolar"
           }
          ],
          "scatterpolargl": [
           {
            "marker": {
             "colorbar": {
              "outlinewidth": 0,
              "ticks": ""
             }
            },
            "type": "scatterpolargl"
           }
          ],
          "scatterternary": [
           {
            "marker": {
             "colorbar": {
              "outlinewidth": 0,
              "ticks": ""
             }
            },
            "type": "scatterternary"
           }
          ],
          "surface": [
           {
            "colorbar": {
             "outlinewidth": 0,
             "ticks": ""
            },
            "colorscale": [
             [
              0,
              "#0d0887"
             ],
             [
              0.1111111111111111,
              "#46039f"
             ],
             [
              0.2222222222222222,
              "#7201a8"
             ],
             [
              0.3333333333333333,
              "#9c179e"
             ],
             [
              0.4444444444444444,
              "#bd3786"
             ],
             [
              0.5555555555555556,
              "#d8576b"
             ],
             [
              0.6666666666666666,
              "#ed7953"
             ],
             [
              0.7777777777777778,
              "#fb9f3a"
             ],
             [
              0.8888888888888888,
              "#fdca26"
             ],
             [
              1,
              "#f0f921"
             ]
            ],
            "type": "surface"
           }
          ],
          "table": [
           {
            "cells": {
             "fill": {
              "color": "#EBF0F8"
             },
             "line": {
              "color": "white"
             }
            },
            "header": {
             "fill": {
              "color": "#C8D4E3"
             },
             "line": {
              "color": "white"
             }
            },
            "type": "table"
           }
          ]
         },
         "layout": {
          "annotationdefaults": {
           "arrowcolor": "#2a3f5f",
           "arrowhead": 0,
           "arrowwidth": 1
          },
          "autotypenumbers": "strict",
          "coloraxis": {
           "colorbar": {
            "outlinewidth": 0,
            "ticks": ""
           }
          },
          "colorscale": {
           "diverging": [
            [
             0,
             "#8e0152"
            ],
            [
             0.1,
             "#c51b7d"
            ],
            [
             0.2,
             "#de77ae"
            ],
            [
             0.3,
             "#f1b6da"
            ],
            [
             0.4,
             "#fde0ef"
            ],
            [
             0.5,
             "#f7f7f7"
            ],
            [
             0.6,
             "#e6f5d0"
            ],
            [
             0.7,
             "#b8e186"
            ],
            [
             0.8,
             "#7fbc41"
            ],
            [
             0.9,
             "#4d9221"
            ],
            [
             1,
             "#276419"
            ]
           ],
           "sequential": [
            [
             0,
             "#0d0887"
            ],
            [
             0.1111111111111111,
             "#46039f"
            ],
            [
             0.2222222222222222,
             "#7201a8"
            ],
            [
             0.3333333333333333,
             "#9c179e"
            ],
            [
             0.4444444444444444,
             "#bd3786"
            ],
            [
             0.5555555555555556,
             "#d8576b"
            ],
            [
             0.6666666666666666,
             "#ed7953"
            ],
            [
             0.7777777777777778,
             "#fb9f3a"
            ],
            [
             0.8888888888888888,
             "#fdca26"
            ],
            [
             1,
             "#f0f921"
            ]
           ],
           "sequentialminus": [
            [
             0,
             "#0d0887"
            ],
            [
             0.1111111111111111,
             "#46039f"
            ],
            [
             0.2222222222222222,
             "#7201a8"
            ],
            [
             0.3333333333333333,
             "#9c179e"
            ],
            [
             0.4444444444444444,
             "#bd3786"
            ],
            [
             0.5555555555555556,
             "#d8576b"
            ],
            [
             0.6666666666666666,
             "#ed7953"
            ],
            [
             0.7777777777777778,
             "#fb9f3a"
            ],
            [
             0.8888888888888888,
             "#fdca26"
            ],
            [
             1,
             "#f0f921"
            ]
           ]
          },
          "colorway": [
           "#636efa",
           "#EF553B",
           "#00cc96",
           "#ab63fa",
           "#FFA15A",
           "#19d3f3",
           "#FF6692",
           "#B6E880",
           "#FF97FF",
           "#FECB52"
          ],
          "font": {
           "color": "#2a3f5f"
          },
          "geo": {
           "bgcolor": "white",
           "lakecolor": "white",
           "landcolor": "#E5ECF6",
           "showlakes": true,
           "showland": true,
           "subunitcolor": "white"
          },
          "hoverlabel": {
           "align": "left"
          },
          "hovermode": "closest",
          "mapbox": {
           "style": "light"
          },
          "paper_bgcolor": "white",
          "plot_bgcolor": "#E5ECF6",
          "polar": {
           "angularaxis": {
            "gridcolor": "white",
            "linecolor": "white",
            "ticks": ""
           },
           "bgcolor": "#E5ECF6",
           "radialaxis": {
            "gridcolor": "white",
            "linecolor": "white",
            "ticks": ""
           }
          },
          "scene": {
           "xaxis": {
            "backgroundcolor": "#E5ECF6",
            "gridcolor": "white",
            "gridwidth": 2,
            "linecolor": "white",
            "showbackground": true,
            "ticks": "",
            "zerolinecolor": "white"
           },
           "yaxis": {
            "backgroundcolor": "#E5ECF6",
            "gridcolor": "white",
            "gridwidth": 2,
            "linecolor": "white",
            "showbackground": true,
            "ticks": "",
            "zerolinecolor": "white"
           },
           "zaxis": {
            "backgroundcolor": "#E5ECF6",
            "gridcolor": "white",
            "gridwidth": 2,
            "linecolor": "white",
            "showbackground": true,
            "ticks": "",
            "zerolinecolor": "white"
           }
          },
          "shapedefaults": {
           "line": {
            "color": "#2a3f5f"
           }
          },
          "ternary": {
           "aaxis": {
            "gridcolor": "white",
            "linecolor": "white",
            "ticks": ""
           },
           "baxis": {
            "gridcolor": "white",
            "linecolor": "white",
            "ticks": ""
           },
           "bgcolor": "#E5ECF6",
           "caxis": {
            "gridcolor": "white",
            "linecolor": "white",
            "ticks": ""
           }
          },
          "title": {
           "x": 0.05
          },
          "xaxis": {
           "automargin": true,
           "gridcolor": "white",
           "linecolor": "white",
           "ticks": "",
           "title": {
            "standoff": 15
           },
           "zerolinecolor": "white",
           "zerolinewidth": 2
          },
          "yaxis": {
           "automargin": true,
           "gridcolor": "white",
           "linecolor": "white",
           "ticks": "",
           "title": {
            "standoff": 15
           },
           "zerolinecolor": "white",
           "zerolinewidth": 2
          }
         }
        },
        "title": {
         "text": "Rwanda Overall Trade Analysis (2022-2024)",
         "x": 0.5
        },
        "xaxis": {
         "anchor": "y",
         "domain": [
          0,
          0.45
         ],
         "tickangle": 45
        },
        "xaxis2": {
         "anchor": "y2",
         "domain": [
          0.55,
          1
         ],
         "tickangle": 45
        },
        "xaxis3": {
         "anchor": "y3",
         "domain": [
          0,
          0.45
         ],
         "tickangle": 45
        },
        "xaxis4": {
         "anchor": "y4",
         "domain": [
          0,
          0.45
         ],
         "tickangle": 45
        },
        "xaxis5": {
         "anchor": "y5",
         "domain": [
          0.55,
          1
         ],
         "tickangle": 45
        },
        "yaxis": {
         "anchor": "x",
         "domain": [
          0.7777777777777778,
          1
         ]
        },
        "yaxis2": {
         "anchor": "x2",
         "domain": [
          0.7777777777777778,
          1
         ]
        },
        "yaxis3": {
         "anchor": "x3",
         "domain": [
          0.3888888888888889,
          0.6111111111111112
         ]
        },
        "yaxis4": {
         "anchor": "x4",
         "domain": [
          0,
          0.22222222222222224
         ]
        },
        "yaxis5": {
         "anchor": "x5",
         "domain": [
          0,
          0.22222222222222224
         ]
        }
       }
      }
     },
     "metadata": {},
     "output_type": "display_data"
    },
    {
     "name": "stdout",
     "output_type": "stream",
     "text": [
      "✅ Overall trade analysis visualization completed\n"
     ]
    }
   ],
   "source": [
    "# Create comprehensive visualizations for overall trade - FIXED subplot issues\n",
    "if 'Graph Overall' in cleaned_data:\n",
    "    overall_df = cleaned_data['Graph Overall']\n",
    "    \n",
    "    # Create subplots for comprehensive analysis - FIXED subplot specs\n",
    "    fig = make_subplots(\n",
    "        rows=3, cols=2,\n",
    "        subplot_titles=(\n",
    "            'Trade Volume Trends (2022-2024)',\n",
    "            'Trade Balance Analysis',\n",
    "            'Export vs Import Growth',\n",
    "            'Quarterly Trade Distribution',\n",
    "            'Trade Components Breakdown',\n",
    "            'Year-over-Year Growth'\n",
    "        ),\n",
    "        specs=[[{\"secondary_y\": False}, {\"secondary_y\": False}],\n",
    "               [{\"secondary_y\": False}, {\"type\": \"domain\"}],\n",
    "               [{\"secondary_y\": False}, {\"secondary_y\": False}]]\n",
    "    )\n",
    "    \n",
    "    # 1. Trade Volume Trends\n",
    "    fig.add_trace(\n",
    "        go.Scatter(\n",
    "            x=overall_df['period'], \n",
    "            y=overall_df['exports'], \n",
    "            mode='lines+markers', \n",
    "            name='Exports',\n",
    "            line=dict(color='#2E86AB', width=3),\n",
    "            marker=dict(size=6)\n",
    "        ),\n",
    "        row=1, col=1\n",
    "    )\n",
    "    \n",
    "    fig.add_trace(\n",
    "        go.Scatter(\n",
    "            x=overall_df['period'], \n",
    "            y=overall_df['imports'], \n",
    "            mode='lines+markers', \n",
    "            name='Imports',\n",
    "            line=dict(color='#A23B72', width=3),\n",
    "            marker=dict(size=6)\n",
    "        ),\n",
    "        row=1, col=1\n",
    "    )\n",
    "    \n",
    "    # 2. Trade Balance\n",
    "    fig.add_trace(\n",
    "        go.Bar(\n",
    "            x=overall_df['period'], \n",
    "            y=overall_df['trade_balance'], \n",
    "            name='Trade Balance',\n",
    "            marker_color=['red' if x < 0 else 'green' for x in overall_df['trade_balance']]\n",
    "        ),\n",
    "        row=1, col=2\n",
    "    )\n",
    "    \n",
    "    # 3. Export vs Import Growth\n",
    "    growth_df = overall_df.copy()\n",
    "    growth_df['export_growth'] = growth_df['exports'].pct_change() * 100\n",
    "    growth_df['import_growth'] = growth_df['imports'].pct_change() * 100\n",
    "    \n",
    "    fig.add_trace(\n",
    "        go.Scatter(\n",
    "            x=growth_df['period'][1:], \n",
    "            y=growth_df['export_growth'][1:], \n",
    "            mode='lines+markers', \n",
    "            name='Export Growth %',\n",
    "            line=dict(color='#F18F01', width=2)\n",
    "        ),\n",
    "        row=2, col=1\n",
    "    )\n",
    "    \n",
    "    fig.add_trace(\n",
    "        go.Scatter(\n",
    "            x=growth_df['period'][1:], \n",
    "            y=growth_df['import_growth'][1:], \n",
    "            mode='lines+markers', \n",
    "            name='Import Growth %',\n",
    "            line=dict(color='#C73E1D', width=2)\n",
    "        ),\n",
    "        row=2, col=1\n",
    "    )\n",
    "    \n",
    "    # 4. Quarterly Distribution - FIXED: Pie chart in domain subplot\n",
    "    latest_year = overall_df.iloc[-4:]  # Last 4 quarters (2024)\n",
    "    fig.add_trace(\n",
    "        go.Pie(\n",
    "            labels=['Exports', 'Imports', 'Re-exports'],\n",
    "            values=[latest_year['exports'].sum(), latest_year['imports'].sum(), latest_year['reexports'].sum()],\n",
    "            name='Trade Distribution',\n",
    "            marker_colors=['#2E86AB', '#A23B72', '#F18F01']\n",
    "        ),\n",
    "        row=2, col=2\n",
    "    )\n",
    "    \n",
    "    # 5. Trade Components Breakdown\n",
    "    latest_data = overall_df.iloc[-1]\n",
    "    fig.add_trace(\n",
    "        go.Bar(\n",
    "            x=['Domestic Exports', 'Re-exports', 'Imports'],\n",
    "            y=[latest_data['exports'], latest_data['reexports'], latest_data['imports']],\n",
    "            name='Trade Components',\n",
    "            marker_color=['#2E86AB', '#F18F01', '#A23B72']\n",
    "        ),\n",
    "        row=3, col=1\n",
    "    )\n",
    "    \n",
    "    # 6. Year-over-Year Growth\n",
    "    yearly_export_growth = []\n",
    "    yearly_import_growth = []\n",
    "    years = []\n",
    "    \n",
    "    for i in range(4, len(overall_df), 4):  # Every 4 quarters (yearly)\n",
    "        year_exports = overall_df.iloc[i-4:i]['exports'].sum()\n",
    "        year_imports = overall_df.iloc[i-4:i]['imports'].sum()\n",
    "        \n",
    "        if i >= 8:  # Need at least 2 years for comparison\n",
    "            prev_year_exports = overall_df.iloc[i-8:i-4]['exports'].sum()\n",
    "            prev_year_imports = overall_df.iloc[i-8:i-4]['imports'].sum()\n",
    "            \n",
    "            export_yoy = ((year_exports - prev_year_exports) / prev_year_exports) * 100 if prev_year_exports != 0 else 0\n",
    "            import_yoy = ((year_imports - prev_year_imports) / prev_year_imports) * 100 if prev_year_imports != 0 else 0\n",
    "            \n",
    "            yearly_export_growth.append(export_yoy)\n",
    "            yearly_import_growth.append(import_yoy)\n",
    "            years.append(f\"{2021 + (i//4)}\")\n",
    "    \n",
    "    fig.add_trace(\n",
    "        go.Scatter(\n",
    "            x=years, \n",
    "            y=yearly_export_growth, \n",
    "            mode='lines+markers', \n",
    "            name='Export YoY Growth %',\n",
    "            line=dict(color='#2E86AB', width=3)\n",
    "        ),\n",
    "        row=3, col=2\n",
    "    )\n",
    "    \n",
    "    fig.add_trace(\n",
    "        go.Scatter(\n",
    "            x=years, \n",
    "            y=yearly_import_growth, \n",
    "            mode='lines+markers', \n",
    "            name='Import YoY Growth %',\n",
    "            line=dict(color='#A23B72', width=3)\n",
    "        ),\n",
    "        row=3, col=2\n",
    "    )\n",
    "    \n",
    "    # Update layout\n",
    "    fig.update_layout(\n",
    "        height=1200,\n",
    "        title_text=\"Rwanda Overall Trade Analysis (2022-2024)\",\n",
    "        title_x=0.5,\n",
    "        showlegend=True\n",
    "    )\n",
    "    \n",
    "    # Update x-axis labels\n",
    "    for i in range(1, 4):\n",
    "        for j in range(1, 3):\n",
    "            fig.update_xaxes(tickangle=45, row=i, col=j)\n",
    "    \n",
    "    fig.show()\n",
    "    \n",
    "    print(\"✅ Overall trade analysis visualization completed\")\n",
    "else:\n",
    "    print(\"❌ Graph Overall data not available for visualization\")"
   ]
  },
  {
   "cell_type": "markdown",
   "metadata": {},
   "source": [
    "# 2. Regional Trade Analysis\n",
    "\n",
    "This section analyzes Rwanda's trade relationships with different regional and continental partners, including EAC, regional blocks, and continental trade patterns."
   ]
  },
  {
   "cell_type": "code",
   "execution_count": 9,
   "metadata": {},
   "outputs": [
    {
     "name": "stdout",
     "output_type": "stream",
     "text": [
      "🌍 EAC Trade Analysis\n",
      "========================================\n",
      "📊 EAC Countries analyzed: 2\n",
      "💰 Total EAC Exports (Q4 2024): $0.00M\n",
      "🏆 Top EAC Partner: *Major revisions  include Domestic exports destination of Tea and Coffee - $0.00M\n",
      "📈 Partner's share of EAC trade: 0.00%\n",
      "📈 Average EAC YoY Growth: nan%\n",
      "\n",
      "🏅 Top 5 EAC Trading Partners (Q4 2024):\n"
     ]
    },
    {
     "data": {
      "application/vnd.microsoft.datawrangler.viewer.v0+json": {
       "columns": [
        {
         "name": "index",
         "rawType": "int64",
         "type": "integer"
        },
        {
         "name": "country",
         "rawType": "object",
         "type": "string"
        },
        {
         "name": "q4_2024",
         "rawType": "int64",
         "type": "integer"
        },
        {
         "name": "share_q4",
         "rawType": "int64",
         "type": "integer"
        },
        {
         "name": "yoy_growth",
         "rawType": "float64",
         "type": "float"
        }
       ],
       "ref": "e084986a-8a53-4d6f-abe0-6d55a085b9c6",
       "rows": [
        [
         "0",
         "*Major revisions  include Domestic exports destination of Tea and Coffee",
         "0",
         "0",
         null
        ],
        [
         "1",
         "*All series revised from 2022Q1",
         "0",
         "0",
         null
        ]
       ],
       "shape": {
        "columns": 4,
        "rows": 2
       }
      },
      "text/html": [
       "<div>\n",
       "<style scoped>\n",
       "    .dataframe tbody tr th:only-of-type {\n",
       "        vertical-align: middle;\n",
       "    }\n",
       "\n",
       "    .dataframe tbody tr th {\n",
       "        vertical-align: top;\n",
       "    }\n",
       "\n",
       "    .dataframe thead th {\n",
       "        text-align: right;\n",
       "    }\n",
       "</style>\n",
       "<table border=\"1\" class=\"dataframe\">\n",
       "  <thead>\n",
       "    <tr style=\"text-align: right;\">\n",
       "      <th></th>\n",
       "      <th>country</th>\n",
       "      <th>q4_2024</th>\n",
       "      <th>share_q4</th>\n",
       "      <th>yoy_growth</th>\n",
       "    </tr>\n",
       "  </thead>\n",
       "  <tbody>\n",
       "    <tr>\n",
       "      <th>0</th>\n",
       "      <td>*Major revisions  include Domestic exports des...</td>\n",
       "      <td>0</td>\n",
       "      <td>0</td>\n",
       "      <td>NaN</td>\n",
       "    </tr>\n",
       "    <tr>\n",
       "      <th>1</th>\n",
       "      <td>*All series revised from 2022Q1</td>\n",
       "      <td>0</td>\n",
       "      <td>0</td>\n",
       "      <td>NaN</td>\n",
       "    </tr>\n",
       "  </tbody>\n",
       "</table>\n",
       "</div>"
      ],
      "text/plain": [
       "                                             country  q4_2024  share_q4  \\\n",
       "0  *Major revisions  include Domestic exports des...        0         0   \n",
       "1                    *All series revised from 2022Q1        0         0   \n",
       "\n",
       "   yoy_growth  \n",
       "0         NaN  \n",
       "1         NaN  "
      ]
     },
     "metadata": {},
     "output_type": "display_data"
    },
    {
     "name": "stdout",
     "output_type": "stream",
     "text": [
      "\n",
      "📋 Complete EAC Trade Data:\n"
     ]
    },
    {
     "data": {
      "application/vnd.microsoft.datawrangler.viewer.v0+json": {
       "columns": [
        {
         "name": "index",
         "rawType": "int64",
         "type": "integer"
        },
        {
         "name": "country",
         "rawType": "object",
         "type": "string"
        },
        {
         "name": "q1_2022",
         "rawType": "int64",
         "type": "integer"
        },
        {
         "name": "q2_2022",
         "rawType": "int64",
         "type": "integer"
        },
        {
         "name": "q3_2022",
         "rawType": "int64",
         "type": "integer"
        },
        {
         "name": "q4_2022",
         "rawType": "int64",
         "type": "integer"
        },
        {
         "name": "q1_2023",
         "rawType": "int64",
         "type": "integer"
        },
        {
         "name": "q2_2023",
         "rawType": "int64",
         "type": "integer"
        },
        {
         "name": "q3_2023",
         "rawType": "int64",
         "type": "integer"
        },
        {
         "name": "q4_2023",
         "rawType": "int64",
         "type": "integer"
        },
        {
         "name": "q1_2024",
         "rawType": "int64",
         "type": "integer"
        },
        {
         "name": "q2_2024",
         "rawType": "int64",
         "type": "integer"
        },
        {
         "name": "q3_2024",
         "rawType": "int64",
         "type": "integer"
        },
        {
         "name": "q4_2024",
         "rawType": "int64",
         "type": "integer"
        },
        {
         "name": "share_q4",
         "rawType": "int64",
         "type": "integer"
        },
        {
         "name": "growth_qoq",
         "rawType": "int64",
         "type": "integer"
        },
        {
         "name": "growth_yoy",
         "rawType": "int64",
         "type": "integer"
        },
        {
         "name": "yoy_growth",
         "rawType": "float64",
         "type": "float"
        }
       ],
       "ref": "e5e900d4-d6aa-491c-bf40-04593ccd3619",
       "rows": [
        [
         "0",
         "*Major revisions  include Domestic exports destination of Tea and Coffee",
         "0",
         "0",
         "0",
         "0",
         "0",
         "0",
         "0",
         "0",
         "0",
         "0",
         "0",
         "0",
         "0",
         "0",
         "0",
         null
        ],
        [
         "1",
         "*All series revised from 2022Q1",
         "0",
         "0",
         "0",
         "0",
         "0",
         "0",
         "0",
         "0",
         "0",
         "0",
         "0",
         "0",
         "0",
         "0",
         "0",
         null
        ]
       ],
       "shape": {
        "columns": 17,
        "rows": 2
       }
      },
      "text/html": [
       "<div>\n",
       "<style scoped>\n",
       "    .dataframe tbody tr th:only-of-type {\n",
       "        vertical-align: middle;\n",
       "    }\n",
       "\n",
       "    .dataframe tbody tr th {\n",
       "        vertical-align: top;\n",
       "    }\n",
       "\n",
       "    .dataframe thead th {\n",
       "        text-align: right;\n",
       "    }\n",
       "</style>\n",
       "<table border=\"1\" class=\"dataframe\">\n",
       "  <thead>\n",
       "    <tr style=\"text-align: right;\">\n",
       "      <th></th>\n",
       "      <th>country</th>\n",
       "      <th>q1_2022</th>\n",
       "      <th>q2_2022</th>\n",
       "      <th>q3_2022</th>\n",
       "      <th>q4_2022</th>\n",
       "      <th>q1_2023</th>\n",
       "      <th>q2_2023</th>\n",
       "      <th>q3_2023</th>\n",
       "      <th>q4_2023</th>\n",
       "      <th>q1_2024</th>\n",
       "      <th>q2_2024</th>\n",
       "      <th>q3_2024</th>\n",
       "      <th>q4_2024</th>\n",
       "      <th>share_q4</th>\n",
       "      <th>growth_qoq</th>\n",
       "      <th>growth_yoy</th>\n",
       "      <th>yoy_growth</th>\n",
       "    </tr>\n",
       "  </thead>\n",
       "  <tbody>\n",
       "    <tr>\n",
       "      <th>0</th>\n",
       "      <td>*Major revisions  include Domestic exports des...</td>\n",
       "      <td>0</td>\n",
       "      <td>0</td>\n",
       "      <td>0</td>\n",
       "      <td>0</td>\n",
       "      <td>0</td>\n",
       "      <td>0</td>\n",
       "      <td>0</td>\n",
       "      <td>0</td>\n",
       "      <td>0</td>\n",
       "      <td>0</td>\n",
       "      <td>0</td>\n",
       "      <td>0</td>\n",
       "      <td>0</td>\n",
       "      <td>0</td>\n",
       "      <td>0</td>\n",
       "      <td>NaN</td>\n",
       "    </tr>\n",
       "    <tr>\n",
       "      <th>1</th>\n",
       "      <td>*All series revised from 2022Q1</td>\n",
       "      <td>0</td>\n",
       "      <td>0</td>\n",
       "      <td>0</td>\n",
       "      <td>0</td>\n",
       "      <td>0</td>\n",
       "      <td>0</td>\n",
       "      <td>0</td>\n",
       "      <td>0</td>\n",
       "      <td>0</td>\n",
       "      <td>0</td>\n",
       "      <td>0</td>\n",
       "      <td>0</td>\n",
       "      <td>0</td>\n",
       "      <td>0</td>\n",
       "      <td>0</td>\n",
       "      <td>NaN</td>\n",
       "    </tr>\n",
       "  </tbody>\n",
       "</table>\n",
       "</div>"
      ],
      "text/plain": [
       "                                             country  q1_2022  q2_2022  \\\n",
       "0  *Major revisions  include Domestic exports des...        0        0   \n",
       "1                    *All series revised from 2022Q1        0        0   \n",
       "\n",
       "   q3_2022  q4_2022  q1_2023  q2_2023  q3_2023  q4_2023  q1_2024  q2_2024  \\\n",
       "0        0        0        0        0        0        0        0        0   \n",
       "1        0        0        0        0        0        0        0        0   \n",
       "\n",
       "   q3_2024  q4_2024  share_q4  growth_qoq  growth_yoy  yoy_growth  \n",
       "0        0        0         0           0           0         NaN  \n",
       "1        0        0         0           0           0         NaN  "
      ]
     },
     "metadata": {},
     "output_type": "display_data"
    }
   ],
   "source": [
    "# Analyze EAC trade data\n",
    "if 'EAC' in cleaned_data:\n",
    "    eac_df = cleaned_data['EAC']\n",
    "    \n",
    "    print(\"🌍 EAC Trade Analysis\")\n",
    "    print(\"=\" * 40)\n",
    "    print(f\"📊 EAC Countries analyzed: {len(eac_df)}\")\n",
    "    \n",
    "    # Calculate total EAC trade for Q4 2024\n",
    "    total_eac_exports = eac_df['q4_2024'].sum()\n",
    "    \n",
    "    # Find top EAC trading partner\n",
    "    top_eac_partner = eac_df.loc[eac_df['q4_2024'].idxmax()]\n",
    "    \n",
    "    print(f\"💰 Total EAC Exports (Q4 2024): ${total_eac_exports:.2f}M\")\n",
    "    print(f\"🏆 Top EAC Partner: {top_eac_partner['country']} - ${top_eac_partner['q4_2024']:.2f}M\")\n",
    "    print(f\"📈 Partner's share of EAC trade: {top_eac_partner['share_q4']:.2f}%\")\n",
    "    \n",
    "    # Calculate growth rates\n",
    "    eac_df['yoy_growth'] = ((eac_df['q4_2024'] - eac_df['q4_2023']) / eac_df['q4_2023']) * 100\n",
    "    avg_eac_growth = eac_df['yoy_growth'].mean()\n",
    "    \n",
    "    print(f\"📈 Average EAC YoY Growth: {avg_eac_growth:.2f}%\")\n",
    "    \n",
    "    # Display top 5 EAC partners\n",
    "    print(f\"\\n🏅 Top 5 EAC Trading Partners (Q4 2024):\")\n",
    "    top_5_eac = eac_df.nlargest(5, 'q4_2024')[['country', 'q4_2024', 'share_q4', 'yoy_growth']]\n",
    "    display(top_5_eac)\n",
    "    \n",
    "    print(f\"\\n📋 Complete EAC Trade Data:\")\n",
    "    display(eac_df)\n",
    "else:\n",
    "    print(\"❌ EAC sheet not found in cleaned data\")"
   ]
  },
  {
   "cell_type": "code",
   "execution_count": 10,
   "metadata": {},
   "outputs": [
    {
     "data": {
      "application/vnd.plotly.v1+json": {
       "config": {
        "plotlyServerURL": "https://plot.ly"
       },
       "data": [
        {
         "marker": {
          "color": "#2E86AB"
         },
         "name": "Trade Volume",
         "orientation": "h",
         "type": "bar",
         "x": [
          0,
          0
         ],
         "xaxis": "x",
         "y": [
          "*Major revisions  include Domestic exports destination of Tea and Coffee",
          "*All series revised from 2022Q1"
         ],
         "yaxis": "y"
        },
        {
         "domain": {
          "x": [
           0.55,
           1
          ],
          "y": [
           0.625,
           1
          ]
         },
         "labels": [
          "*Major revisions  include Domestic exports destination of Tea and Coffee",
          "*All series revised from 2022Q1"
         ],
         "name": "Market Share",
         "textinfo": "label+percent",
         "textposition": "inside",
         "type": "pie",
         "values": [
          0,
          0
         ]
        },
        {
         "marker": {
          "color": [
           "green",
           "green"
          ]
         },
         "name": "YoY Growth %",
         "orientation": "h",
         "type": "bar",
         "x": [
          null,
          null
         ],
         "xaxis": "x2",
         "y": [
          "*Major revisions  include Domestic exports destination of Tea and Coffee",
          "*All series revised from 2022Q1"
         ],
         "yaxis": "y2"
        },
        {
         "line": {
          "color": "#F18F01",
          "width": 3
         },
         "marker": {
          "size": 6
         },
         "mode": "lines+markers",
         "name": "Total EAC Trade",
         "type": "scatter",
         "x": [
          "q1_2022",
          "q2_2022",
          "q3_2022",
          "q4_2022",
          "q1_2023",
          "q2_2023",
          "q3_2023",
          "q4_2023",
          "q1_2024",
          "q2_2024",
          "q3_2024",
          "q4_2024"
         ],
         "xaxis": "x3",
         "y": [
          0,
          0,
          0,
          0,
          0,
          0,
          0,
          0,
          0,
          0,
          0,
          0
         ],
         "yaxis": "y3"
        }
       ],
       "layout": {
        "annotations": [
         {
          "font": {
           "size": 16
          },
          "showarrow": false,
          "text": "EAC Trade Volume by Country (Q4 2024)",
          "x": 0.225,
          "xanchor": "center",
          "xref": "paper",
          "y": 1,
          "yanchor": "bottom",
          "yref": "paper"
         },
         {
          "font": {
           "size": 16
          },
          "showarrow": false,
          "text": "EAC Market Share Distribution",
          "x": 0.775,
          "xanchor": "center",
          "xref": "paper",
          "y": 1,
          "yanchor": "bottom",
          "yref": "paper"
         },
         {
          "font": {
           "size": 16
          },
          "showarrow": false,
          "text": "EAC Year-over-Year Growth",
          "x": 0.225,
          "xanchor": "center",
          "xref": "paper",
          "y": 0.375,
          "yanchor": "bottom",
          "yref": "paper"
         },
         {
          "font": {
           "size": 16
          },
          "showarrow": false,
          "text": "EAC Trade Trends (2022-2024)",
          "x": 0.775,
          "xanchor": "center",
          "xref": "paper",
          "y": 0.375,
          "yanchor": "bottom",
          "yref": "paper"
         }
        ],
        "height": 1000,
        "showlegend": true,
        "template": {
         "data": {
          "bar": [
           {
            "error_x": {
             "color": "#2a3f5f"
            },
            "error_y": {
             "color": "#2a3f5f"
            },
            "marker": {
             "line": {
              "color": "#E5ECF6",
              "width": 0.5
             },
             "pattern": {
              "fillmode": "overlay",
              "size": 10,
              "solidity": 0.2
             }
            },
            "type": "bar"
           }
          ],
          "barpolar": [
           {
            "marker": {
             "line": {
              "color": "#E5ECF6",
              "width": 0.5
             },
             "pattern": {
              "fillmode": "overlay",
              "size": 10,
              "solidity": 0.2
             }
            },
            "type": "barpolar"
           }
          ],
          "carpet": [
           {
            "aaxis": {
             "endlinecolor": "#2a3f5f",
             "gridcolor": "white",
             "linecolor": "white",
             "minorgridcolor": "white",
             "startlinecolor": "#2a3f5f"
            },
            "baxis": {
             "endlinecolor": "#2a3f5f",
             "gridcolor": "white",
             "linecolor": "white",
             "minorgridcolor": "white",
             "startlinecolor": "#2a3f5f"
            },
            "type": "carpet"
           }
          ],
          "choropleth": [
           {
            "colorbar": {
             "outlinewidth": 0,
             "ticks": ""
            },
            "type": "choropleth"
           }
          ],
          "contour": [
           {
            "colorbar": {
             "outlinewidth": 0,
             "ticks": ""
            },
            "colorscale": [
             [
              0,
              "#0d0887"
             ],
             [
              0.1111111111111111,
              "#46039f"
             ],
             [
              0.2222222222222222,
              "#7201a8"
             ],
             [
              0.3333333333333333,
              "#9c179e"
             ],
             [
              0.4444444444444444,
              "#bd3786"
             ],
             [
              0.5555555555555556,
              "#d8576b"
             ],
             [
              0.6666666666666666,
              "#ed7953"
             ],
             [
              0.7777777777777778,
              "#fb9f3a"
             ],
             [
              0.8888888888888888,
              "#fdca26"
             ],
             [
              1,
              "#f0f921"
             ]
            ],
            "type": "contour"
           }
          ],
          "contourcarpet": [
           {
            "colorbar": {
             "outlinewidth": 0,
             "ticks": ""
            },
            "type": "contourcarpet"
           }
          ],
          "heatmap": [
           {
            "colorbar": {
             "outlinewidth": 0,
             "ticks": ""
            },
            "colorscale": [
             [
              0,
              "#0d0887"
             ],
             [
              0.1111111111111111,
              "#46039f"
             ],
             [
              0.2222222222222222,
              "#7201a8"
             ],
             [
              0.3333333333333333,
              "#9c179e"
             ],
             [
              0.4444444444444444,
              "#bd3786"
             ],
             [
              0.5555555555555556,
              "#d8576b"
             ],
             [
              0.6666666666666666,
              "#ed7953"
             ],
             [
              0.7777777777777778,
              "#fb9f3a"
             ],
             [
              0.8888888888888888,
              "#fdca26"
             ],
             [
              1,
              "#f0f921"
             ]
            ],
            "type": "heatmap"
           }
          ],
          "heatmapgl": [
           {
            "colorbar": {
             "outlinewidth": 0,
             "ticks": ""
            },
            "colorscale": [
             [
              0,
              "#0d0887"
             ],
             [
              0.1111111111111111,
              "#46039f"
             ],
             [
              0.2222222222222222,
              "#7201a8"
             ],
             [
              0.3333333333333333,
              "#9c179e"
             ],
             [
              0.4444444444444444,
              "#bd3786"
             ],
             [
              0.5555555555555556,
              "#d8576b"
             ],
             [
              0.6666666666666666,
              "#ed7953"
             ],
             [
              0.7777777777777778,
              "#fb9f3a"
             ],
             [
              0.8888888888888888,
              "#fdca26"
             ],
             [
              1,
              "#f0f921"
             ]
            ],
            "type": "heatmapgl"
           }
          ],
          "histogram": [
           {
            "marker": {
             "pattern": {
              "fillmode": "overlay",
              "size": 10,
              "solidity": 0.2
             }
            },
            "type": "histogram"
           }
          ],
          "histogram2d": [
           {
            "colorbar": {
             "outlinewidth": 0,
             "ticks": ""
            },
            "colorscale": [
             [
              0,
              "#0d0887"
             ],
             [
              0.1111111111111111,
              "#46039f"
             ],
             [
              0.2222222222222222,
              "#7201a8"
             ],
             [
              0.3333333333333333,
              "#9c179e"
             ],
             [
              0.4444444444444444,
              "#bd3786"
             ],
             [
              0.5555555555555556,
              "#d8576b"
             ],
             [
              0.6666666666666666,
              "#ed7953"
             ],
             [
              0.7777777777777778,
              "#fb9f3a"
             ],
             [
              0.8888888888888888,
              "#fdca26"
             ],
             [
              1,
              "#f0f921"
             ]
            ],
            "type": "histogram2d"
           }
          ],
          "histogram2dcontour": [
           {
            "colorbar": {
             "outlinewidth": 0,
             "ticks": ""
            },
            "colorscale": [
             [
              0,
              "#0d0887"
             ],
             [
              0.1111111111111111,
              "#46039f"
             ],
             [
              0.2222222222222222,
              "#7201a8"
             ],
             [
              0.3333333333333333,
              "#9c179e"
             ],
             [
              0.4444444444444444,
              "#bd3786"
             ],
             [
              0.5555555555555556,
              "#d8576b"
             ],
             [
              0.6666666666666666,
              "#ed7953"
             ],
             [
              0.7777777777777778,
              "#fb9f3a"
             ],
             [
              0.8888888888888888,
              "#fdca26"
             ],
             [
              1,
              "#f0f921"
             ]
            ],
            "type": "histogram2dcontour"
           }
          ],
          "mesh3d": [
           {
            "colorbar": {
             "outlinewidth": 0,
             "ticks": ""
            },
            "type": "mesh3d"
           }
          ],
          "parcoords": [
           {
            "line": {
             "colorbar": {
              "outlinewidth": 0,
              "ticks": ""
             }
            },
            "type": "parcoords"
           }
          ],
          "pie": [
           {
            "automargin": true,
            "type": "pie"
           }
          ],
          "scatter": [
           {
            "fillpattern": {
             "fillmode": "overlay",
             "size": 10,
             "solidity": 0.2
            },
            "type": "scatter"
           }
          ],
          "scatter3d": [
           {
            "line": {
             "colorbar": {
              "outlinewidth": 0,
              "ticks": ""
             }
            },
            "marker": {
             "colorbar": {
              "outlinewidth": 0,
              "ticks": ""
             }
            },
            "type": "scatter3d"
           }
          ],
          "scattercarpet": [
           {
            "marker": {
             "colorbar": {
              "outlinewidth": 0,
              "ticks": ""
             }
            },
            "type": "scattercarpet"
           }
          ],
          "scattergeo": [
           {
            "marker": {
             "colorbar": {
              "outlinewidth": 0,
              "ticks": ""
             }
            },
            "type": "scattergeo"
           }
          ],
          "scattergl": [
           {
            "marker": {
             "colorbar": {
              "outlinewidth": 0,
              "ticks": ""
             }
            },
            "type": "scattergl"
           }
          ],
          "scattermapbox": [
           {
            "marker": {
             "colorbar": {
              "outlinewidth": 0,
              "ticks": ""
             }
            },
            "type": "scattermapbox"
           }
          ],
          "scatterpolar": [
           {
            "marker": {
             "colorbar": {
              "outlinewidth": 0,
              "ticks": ""
             }
            },
            "type": "scatterpolar"
           }
          ],
          "scatterpolargl": [
           {
            "marker": {
             "colorbar": {
              "outlinewidth": 0,
              "ticks": ""
             }
            },
            "type": "scatterpolargl"
           }
          ],
          "scatterternary": [
           {
            "marker": {
             "colorbar": {
              "outlinewidth": 0,
              "ticks": ""
             }
            },
            "type": "scatterternary"
           }
          ],
          "surface": [
           {
            "colorbar": {
             "outlinewidth": 0,
             "ticks": ""
            },
            "colorscale": [
             [
              0,
              "#0d0887"
             ],
             [
              0.1111111111111111,
              "#46039f"
             ],
             [
              0.2222222222222222,
              "#7201a8"
             ],
             [
              0.3333333333333333,
              "#9c179e"
             ],
             [
              0.4444444444444444,
              "#bd3786"
             ],
             [
              0.5555555555555556,
              "#d8576b"
             ],
             [
              0.6666666666666666,
              "#ed7953"
             ],
             [
              0.7777777777777778,
              "#fb9f3a"
             ],
             [
              0.8888888888888888,
              "#fdca26"
             ],
             [
              1,
              "#f0f921"
             ]
            ],
            "type": "surface"
           }
          ],
          "table": [
           {
            "cells": {
             "fill": {
              "color": "#EBF0F8"
             },
             "line": {
              "color": "white"
             }
            },
            "header": {
             "fill": {
              "color": "#C8D4E3"
             },
             "line": {
              "color": "white"
             }
            },
            "type": "table"
           }
          ]
         },
         "layout": {
          "annotationdefaults": {
           "arrowcolor": "#2a3f5f",
           "arrowhead": 0,
           "arrowwidth": 1
          },
          "autotypenumbers": "strict",
          "coloraxis": {
           "colorbar": {
            "outlinewidth": 0,
            "ticks": ""
           }
          },
          "colorscale": {
           "diverging": [
            [
             0,
             "#8e0152"
            ],
            [
             0.1,
             "#c51b7d"
            ],
            [
             0.2,
             "#de77ae"
            ],
            [
             0.3,
             "#f1b6da"
            ],
            [
             0.4,
             "#fde0ef"
            ],
            [
             0.5,
             "#f7f7f7"
            ],
            [
             0.6,
             "#e6f5d0"
            ],
            [
             0.7,
             "#b8e186"
            ],
            [
             0.8,
             "#7fbc41"
            ],
            [
             0.9,
             "#4d9221"
            ],
            [
             1,
             "#276419"
            ]
           ],
           "sequential": [
            [
             0,
             "#0d0887"
            ],
            [
             0.1111111111111111,
             "#46039f"
            ],
            [
             0.2222222222222222,
             "#7201a8"
            ],
            [
             0.3333333333333333,
             "#9c179e"
            ],
            [
             0.4444444444444444,
             "#bd3786"
            ],
            [
             0.5555555555555556,
             "#d8576b"
            ],
            [
             0.6666666666666666,
             "#ed7953"
            ],
            [
             0.7777777777777778,
             "#fb9f3a"
            ],
            [
             0.8888888888888888,
             "#fdca26"
            ],
            [
             1,
             "#f0f921"
            ]
           ],
           "sequentialminus": [
            [
             0,
             "#0d0887"
            ],
            [
             0.1111111111111111,
             "#46039f"
            ],
            [
             0.2222222222222222,
             "#7201a8"
            ],
            [
             0.3333333333333333,
             "#9c179e"
            ],
            [
             0.4444444444444444,
             "#bd3786"
            ],
            [
             0.5555555555555556,
             "#d8576b"
            ],
            [
             0.6666666666666666,
             "#ed7953"
            ],
            [
             0.7777777777777778,
             "#fb9f3a"
            ],
            [
             0.8888888888888888,
             "#fdca26"
            ],
            [
             1,
             "#f0f921"
            ]
           ]
          },
          "colorway": [
           "#636efa",
           "#EF553B",
           "#00cc96",
           "#ab63fa",
           "#FFA15A",
           "#19d3f3",
           "#FF6692",
           "#B6E880",
           "#FF97FF",
           "#FECB52"
          ],
          "font": {
           "color": "#2a3f5f"
          },
          "geo": {
           "bgcolor": "white",
           "lakecolor": "white",
           "landcolor": "#E5ECF6",
           "showlakes": true,
           "showland": true,
           "subunitcolor": "white"
          },
          "hoverlabel": {
           "align": "left"
          },
          "hovermode": "closest",
          "mapbox": {
           "style": "light"
          },
          "paper_bgcolor": "white",
          "plot_bgcolor": "#E5ECF6",
          "polar": {
           "angularaxis": {
            "gridcolor": "white",
            "linecolor": "white",
            "ticks": ""
           },
           "bgcolor": "#E5ECF6",
           "radialaxis": {
            "gridcolor": "white",
            "linecolor": "white",
            "ticks": ""
           }
          },
          "scene": {
           "xaxis": {
            "backgroundcolor": "#E5ECF6",
            "gridcolor": "white",
            "gridwidth": 2,
            "linecolor": "white",
            "showbackground": true,
            "ticks": "",
            "zerolinecolor": "white"
           },
           "yaxis": {
            "backgroundcolor": "#E5ECF6",
            "gridcolor": "white",
            "gridwidth": 2,
            "linecolor": "white",
            "showbackground": true,
            "ticks": "",
            "zerolinecolor": "white"
           },
           "zaxis": {
            "backgroundcolor": "#E5ECF6",
            "gridcolor": "white",
            "gridwidth": 2,
            "linecolor": "white",
            "showbackground": true,
            "ticks": "",
            "zerolinecolor": "white"
           }
          },
          "shapedefaults": {
           "line": {
            "color": "#2a3f5f"
           }
          },
          "ternary": {
           "aaxis": {
            "gridcolor": "white",
            "linecolor": "white",
            "ticks": ""
           },
           "baxis": {
            "gridcolor": "white",
            "linecolor": "white",
            "ticks": ""
           },
           "bgcolor": "#E5ECF6",
           "caxis": {
            "gridcolor": "white",
            "linecolor": "white",
            "ticks": ""
           }
          },
          "title": {
           "x": 0.05
          },
          "xaxis": {
           "automargin": true,
           "gridcolor": "white",
           "linecolor": "white",
           "ticks": "",
           "title": {
            "standoff": 15
           },
           "zerolinecolor": "white",
           "zerolinewidth": 2
          },
          "yaxis": {
           "automargin": true,
           "gridcolor": "white",
           "linecolor": "white",
           "ticks": "",
           "title": {
            "standoff": 15
           },
           "zerolinecolor": "white",
           "zerolinewidth": 2
          }
         }
        },
        "title": {
         "text": "East African Community (EAC) Trade Analysis",
         "x": 0.5
        },
        "xaxis": {
         "anchor": "y",
         "domain": [
          0,
          0.45
         ]
        },
        "xaxis2": {
         "anchor": "y2",
         "domain": [
          0,
          0.45
         ]
        },
        "xaxis3": {
         "anchor": "y3",
         "domain": [
          0.55,
          1
         ],
         "tickangle": 45
        },
        "yaxis": {
         "anchor": "x",
         "domain": [
          0.625,
          1
         ]
        },
        "yaxis2": {
         "anchor": "x2",
         "domain": [
          0,
          0.375
         ]
        },
        "yaxis3": {
         "anchor": "x3",
         "domain": [
          0,
          0.375
         ]
        }
       }
      }
     },
     "metadata": {},
     "output_type": "display_data"
    },
    {
     "name": "stdout",
     "output_type": "stream",
     "text": [
      "✅ EAC trade analysis visualization completed\n"
     ]
    }
   ],
   "source": [
    "# Create EAC trade visualization - FIXED subplot issues\n",
    "if 'EAC' in cleaned_data:\n",
    "    eac_df = cleaned_data['EAC']\n",
    "    \n",
    "    # Create comprehensive EAC analysis - FIXED subplot specs\n",
    "    fig_eac = make_subplots(\n",
    "        rows=2, cols=2,\n",
    "        subplot_titles=(\n",
    "            'EAC Trade Volume by Country (Q4 2024)',\n",
    "            'EAC Market Share Distribution',\n",
    "            'EAC Year-over-Year Growth',\n",
    "            'EAC Trade Trends (2022-2024)'\n",
    "        ),\n",
    "        specs=[[{\"type\": \"bar\"}, {\"type\": \"domain\"}],\n",
    "               [{\"type\": \"bar\"}, {\"secondary_y\": False}]]\n",
    "    )\n",
    "    \n",
    "    # Sort EAC countries by trade volume\n",
    "    eac_sorted = eac_df.sort_values('q4_2024', ascending=True)\n",
    "    \n",
    "    # 1. EAC Trade Volume\n",
    "    fig_eac.add_trace(\n",
    "        go.Bar(\n",
    "            x=eac_sorted['q4_2024'],\n",
    "            y=eac_sorted['country'],\n",
    "            orientation='h',\n",
    "            name='Trade Volume',\n",
    "            marker_color='#2E86AB'\n",
    "        ),\n",
    "        row=1, col=1\n",
    "    )\n",
    "    \n",
    "    # 2. EAC Market Share - FIXED: Pie chart in domain subplot\n",
    "    fig_eac.add_trace(\n",
    "        go.Pie(\n",
    "            labels=eac_sorted['country'],\n",
    "            values=eac_sorted['share_q4'],\n",
    "            name='Market Share',\n",
    "            textinfo='label+percent',\n",
    "            textposition='inside'\n",
    "        ),\n",
    "        row=1, col=2\n",
    "    )\n",
    "    \n",
    "    # 3. EAC Growth Analysis\n",
    "    growth_sorted = eac_df.sort_values('yoy_growth', ascending=True)\n",
    "    colors = ['red' if x < 0 else 'green' for x in growth_sorted['yoy_growth']]\n",
    "    \n",
    "    fig_eac.add_trace(\n",
    "        go.Bar(\n",
    "            x=growth_sorted['yoy_growth'],\n",
    "            y=growth_sorted['country'],\n",
    "            orientation='h',\n",
    "            name='YoY Growth %',\n",
    "            marker_color=colors\n",
    "        ),\n",
    "        row=2, col=1\n",
    "    )\n",
    "    \n",
    "    # 4. EAC Trade Trends\n",
    "    # Calculate quarterly totals for trend analysis\n",
    "    quarters = ['q1_2022', 'q2_2022', 'q3_2022', 'q4_2022', \n",
    "                'q1_2023', 'q2_2023', 'q3_2023', 'q4_2023',\n",
    "                'q1_2024', 'q2_2024', 'q3_2024', 'q4_2024']\n",
    "    \n",
    "    quarterly_totals = []\n",
    "    for quarter in quarters:\n",
    "        total = eac_df[quarter].sum()\n",
    "        quarterly_totals.append(total)\n",
    "    \n",
    "    fig_eac.add_trace(\n",
    "        go.Scatter(\n",
    "            x=quarters,\n",
    "            y=quarterly_totals,\n",
    "            mode='lines+markers',\n",
    "            name='Total EAC Trade',\n",
    "            line=dict(color='#F18F01', width=3),\n",
    "            marker=dict(size=6)\n",
    "        ),\n",
    "        row=2, col=2\n",
    "    )\n",
    "    \n",
    "    # Update layout\n",
    "    fig_eac.update_layout(\n",
    "        height=1000,\n",
    "        title_text=\"East African Community (EAC) Trade Analysis\",\n",
    "        title_x=0.5,\n",
    "        showlegend=True\n",
    "    )\n",
    "    \n",
    "    # Update axes\n",
    "    fig_eac.update_xaxes(tickangle=45, row=2, col=2)\n",
    "    \n",
    "    fig_eac.show()\n",
    "    \n",
    "    print(\"✅ EAC trade analysis visualization completed\")\n",
    "else:\n",
    "    print(\"❌ EAC data not available for visualization\")"
   ]
  },
  {
   "cell_type": "code",
   "execution_count": 11,
   "metadata": {},
   "outputs": [
    {
     "name": "stdout",
     "output_type": "stream",
     "text": [
      "\n",
      "🌍 REGIONAL BLOCKS Analysis\n",
      "===================================\n",
      "📊 Data shape: 29 rows × 14 columns\n",
      "📋 Columns: ['Unnamed: 0', 'Unnamed: 1', 'Unnamed: 2', 'Unnamed: 3', 'Unnamed: 4', 'Unnamed: 5', 'Unnamed: 6', 'Unnamed: 7', 'Unnamed: 8', 'Unnamed: 9', 'Unnamed: 10', 'Unnamed: 11', 'Unnamed: 12', 'Unnamed: 13']\n",
      "\n",
      "📋 Sample Data:\n"
     ]
    },
    {
     "data": {
      "application/vnd.microsoft.datawrangler.viewer.v0+json": {
       "columns": [
        {
         "name": "index",
         "rawType": "int64",
         "type": "integer"
        },
        {
         "name": "Unnamed: 0",
         "rawType": "object",
         "type": "unknown"
        },
        {
         "name": "Unnamed: 1",
         "rawType": "object",
         "type": "unknown"
        },
        {
         "name": "Unnamed: 2",
         "rawType": "object",
         "type": "unknown"
        },
        {
         "name": "Unnamed: 3",
         "rawType": "object",
         "type": "unknown"
        },
        {
         "name": "Unnamed: 4",
         "rawType": "object",
         "type": "unknown"
        },
        {
         "name": "Unnamed: 5",
         "rawType": "object",
         "type": "unknown"
        },
        {
         "name": "Unnamed: 6",
         "rawType": "object",
         "type": "unknown"
        },
        {
         "name": "Unnamed: 7",
         "rawType": "object",
         "type": "unknown"
        },
        {
         "name": "Unnamed: 8",
         "rawType": "object",
         "type": "unknown"
        },
        {
         "name": "Unnamed: 9",
         "rawType": "object",
         "type": "unknown"
        },
        {
         "name": "Unnamed: 10",
         "rawType": "object",
         "type": "unknown"
        },
        {
         "name": "Unnamed: 11",
         "rawType": "object",
         "type": "unknown"
        },
        {
         "name": "Unnamed: 12",
         "rawType": "object",
         "type": "unknown"
        },
        {
         "name": "Unnamed: 13",
         "rawType": "object",
         "type": "unknown"
        }
       ],
       "ref": "0f1d4db1-bc49-4951-9657-04d5baded1d0",
       "rows": [
        [
         "0",
         "Trade in Goods of Rwanda with selected regional organizations (Value in US$ million)",
         null,
         null,
         null,
         null,
         null,
         null,
         null,
         null,
         null,
         null,
         null,
         null,
         null
        ],
        [
         "2",
         "Partner",
         "Flow \\ Period",
         "2022Q1",
         "2022Q2",
         "2022Q3",
         "2022Q4",
         "2023Q1",
         "2023Q2",
         "2023Q3",
         "2023Q4",
         "2024Q1",
         "2024Q2",
         "2024Q3",
         "2024Q4"
        ],
        [
         "3",
         "CEPGL",
         "Export",
         "35.45378280470507",
         "36.816684545695466",
         "41.354026967411045",
         "44.76068875508835",
         "46.58475235039783",
         "41.899510512663",
         "56.303220976683214",
         "52.47382580237515",
         "52.19023333340873",
         "49.71088903144254",
         "65.19401428990813",
         "86.55593772219183"
        ],
        [
         "4",
         null,
         "Import",
         "10.440299478672896",
         "11.889870596210136",
         "8.350645764821133",
         "8.115722437571936",
         "4.542269490398233",
         "6.279899499732549",
         "8.915258172683908",
         "12.066122053382184",
         "14.09491967651446",
         "11.220648172096626",
         "20.798656665419365",
         "27.14859183475918"
        ],
        [
         "5",
         null,
         "Re-export",
         "144.074346318546",
         "154.12410232331308",
         "186.81174948119497",
         "180.86072178133148",
         "147.7032434699931",
         "145.40496150197168",
         "162.00715113246795",
         "153.45805650147278",
         "164.25477664319706",
         "158.04976684136167",
         "176.222145211977",
         "167.5888395802465"
        ]
       ],
       "shape": {
        "columns": 14,
        "rows": 5
       }
      },
      "text/html": [
       "<div>\n",
       "<style scoped>\n",
       "    .dataframe tbody tr th:only-of-type {\n",
       "        vertical-align: middle;\n",
       "    }\n",
       "\n",
       "    .dataframe tbody tr th {\n",
       "        vertical-align: top;\n",
       "    }\n",
       "\n",
       "    .dataframe thead th {\n",
       "        text-align: right;\n",
       "    }\n",
       "</style>\n",
       "<table border=\"1\" class=\"dataframe\">\n",
       "  <thead>\n",
       "    <tr style=\"text-align: right;\">\n",
       "      <th></th>\n",
       "      <th>Unnamed: 0</th>\n",
       "      <th>Unnamed: 1</th>\n",
       "      <th>Unnamed: 2</th>\n",
       "      <th>Unnamed: 3</th>\n",
       "      <th>Unnamed: 4</th>\n",
       "      <th>Unnamed: 5</th>\n",
       "      <th>Unnamed: 6</th>\n",
       "      <th>Unnamed: 7</th>\n",
       "      <th>Unnamed: 8</th>\n",
       "      <th>Unnamed: 9</th>\n",
       "      <th>Unnamed: 10</th>\n",
       "      <th>Unnamed: 11</th>\n",
       "      <th>Unnamed: 12</th>\n",
       "      <th>Unnamed: 13</th>\n",
       "    </tr>\n",
       "  </thead>\n",
       "  <tbody>\n",
       "    <tr>\n",
       "      <th>0</th>\n",
       "      <td>Trade in Goods of Rwanda with selected regiona...</td>\n",
       "      <td>NaN</td>\n",
       "      <td>NaN</td>\n",
       "      <td>NaN</td>\n",
       "      <td>NaN</td>\n",
       "      <td>NaN</td>\n",
       "      <td>NaN</td>\n",
       "      <td>NaN</td>\n",
       "      <td>NaN</td>\n",
       "      <td>NaN</td>\n",
       "      <td>NaN</td>\n",
       "      <td>NaN</td>\n",
       "      <td>NaN</td>\n",
       "      <td>NaN</td>\n",
       "    </tr>\n",
       "    <tr>\n",
       "      <th>2</th>\n",
       "      <td>Partner</td>\n",
       "      <td>Flow \\ Period</td>\n",
       "      <td>2022Q1</td>\n",
       "      <td>2022Q2</td>\n",
       "      <td>2022Q3</td>\n",
       "      <td>2022Q4</td>\n",
       "      <td>2023Q1</td>\n",
       "      <td>2023Q2</td>\n",
       "      <td>2023Q3</td>\n",
       "      <td>2023Q4</td>\n",
       "      <td>2024Q1</td>\n",
       "      <td>2024Q2</td>\n",
       "      <td>2024Q3</td>\n",
       "      <td>2024Q4</td>\n",
       "    </tr>\n",
       "    <tr>\n",
       "      <th>3</th>\n",
       "      <td>CEPGL</td>\n",
       "      <td>Export</td>\n",
       "      <td>35.453783</td>\n",
       "      <td>36.816685</td>\n",
       "      <td>41.354027</td>\n",
       "      <td>44.760689</td>\n",
       "      <td>46.584752</td>\n",
       "      <td>41.899511</td>\n",
       "      <td>56.303221</td>\n",
       "      <td>52.473826</td>\n",
       "      <td>52.190233</td>\n",
       "      <td>49.710889</td>\n",
       "      <td>65.194014</td>\n",
       "      <td>86.555938</td>\n",
       "    </tr>\n",
       "    <tr>\n",
       "      <th>4</th>\n",
       "      <td>NaN</td>\n",
       "      <td>Import</td>\n",
       "      <td>10.440299</td>\n",
       "      <td>11.889871</td>\n",
       "      <td>8.350646</td>\n",
       "      <td>8.115722</td>\n",
       "      <td>4.542269</td>\n",
       "      <td>6.279899</td>\n",
       "      <td>8.915258</td>\n",
       "      <td>12.066122</td>\n",
       "      <td>14.09492</td>\n",
       "      <td>11.220648</td>\n",
       "      <td>20.798657</td>\n",
       "      <td>27.148592</td>\n",
       "    </tr>\n",
       "    <tr>\n",
       "      <th>5</th>\n",
       "      <td>NaN</td>\n",
       "      <td>Re-export</td>\n",
       "      <td>144.074346</td>\n",
       "      <td>154.124102</td>\n",
       "      <td>186.811749</td>\n",
       "      <td>180.860722</td>\n",
       "      <td>147.703243</td>\n",
       "      <td>145.404962</td>\n",
       "      <td>162.007151</td>\n",
       "      <td>153.458057</td>\n",
       "      <td>164.254777</td>\n",
       "      <td>158.049767</td>\n",
       "      <td>176.222145</td>\n",
       "      <td>167.58884</td>\n",
       "    </tr>\n",
       "  </tbody>\n",
       "</table>\n",
       "</div>"
      ],
      "text/plain": [
       "                                          Unnamed: 0     Unnamed: 1  \\\n",
       "0  Trade in Goods of Rwanda with selected regiona...            NaN   \n",
       "2                                            Partner  Flow \\ Period   \n",
       "3                                              CEPGL         Export   \n",
       "4                                                NaN         Import   \n",
       "5                                                NaN      Re-export   \n",
       "\n",
       "   Unnamed: 2  Unnamed: 3  Unnamed: 4  Unnamed: 5  Unnamed: 6  Unnamed: 7  \\\n",
       "0         NaN         NaN         NaN         NaN         NaN         NaN   \n",
       "2      2022Q1      2022Q2      2022Q3      2022Q4      2023Q1      2023Q2   \n",
       "3   35.453783   36.816685   41.354027   44.760689   46.584752   41.899511   \n",
       "4   10.440299   11.889871    8.350646    8.115722    4.542269    6.279899   \n",
       "5  144.074346  154.124102  186.811749  180.860722  147.703243  145.404962   \n",
       "\n",
       "   Unnamed: 8  Unnamed: 9 Unnamed: 10 Unnamed: 11 Unnamed: 12 Unnamed: 13  \n",
       "0         NaN         NaN         NaN         NaN         NaN         NaN  \n",
       "2      2023Q3      2023Q4      2024Q1      2024Q2      2024Q3      2024Q4  \n",
       "3   56.303221   52.473826   52.190233   49.710889   65.194014   86.555938  \n",
       "4    8.915258   12.066122    14.09492   11.220648   20.798657   27.148592  \n",
       "5  162.007151  153.458057  164.254777  158.049767  176.222145   167.58884  "
      ]
     },
     "metadata": {},
     "output_type": "display_data"
    },
    {
     "name": "stdout",
     "output_type": "stream",
     "text": [
      "\n",
      "📋 Complete Regional blocks Data:\n"
     ]
    },
    {
     "data": {
      "application/vnd.microsoft.datawrangler.viewer.v0+json": {
       "columns": [
        {
         "name": "index",
         "rawType": "int64",
         "type": "integer"
        },
        {
         "name": "Unnamed: 0",
         "rawType": "object",
         "type": "unknown"
        },
        {
         "name": "Unnamed: 1",
         "rawType": "object",
         "type": "unknown"
        },
        {
         "name": "Unnamed: 2",
         "rawType": "object",
         "type": "unknown"
        },
        {
         "name": "Unnamed: 3",
         "rawType": "object",
         "type": "unknown"
        },
        {
         "name": "Unnamed: 4",
         "rawType": "object",
         "type": "unknown"
        },
        {
         "name": "Unnamed: 5",
         "rawType": "object",
         "type": "unknown"
        },
        {
         "name": "Unnamed: 6",
         "rawType": "object",
         "type": "unknown"
        },
        {
         "name": "Unnamed: 7",
         "rawType": "object",
         "type": "unknown"
        },
        {
         "name": "Unnamed: 8",
         "rawType": "object",
         "type": "unknown"
        },
        {
         "name": "Unnamed: 9",
         "rawType": "object",
         "type": "unknown"
        },
        {
         "name": "Unnamed: 10",
         "rawType": "object",
         "type": "unknown"
        },
        {
         "name": "Unnamed: 11",
         "rawType": "object",
         "type": "unknown"
        },
        {
         "name": "Unnamed: 12",
         "rawType": "object",
         "type": "unknown"
        },
        {
         "name": "Unnamed: 13",
         "rawType": "object",
         "type": "unknown"
        }
       ],
       "ref": "29527129-8762-4f50-be8e-4d8caf470616",
       "rows": [
        [
         "0",
         "Trade in Goods of Rwanda with selected regional organizations (Value in US$ million)",
         null,
         null,
         null,
         null,
         null,
         null,
         null,
         null,
         null,
         null,
         null,
         null,
         null
        ],
        [
         "2",
         "Partner",
         "Flow \\ Period",
         "2022Q1",
         "2022Q2",
         "2022Q3",
         "2022Q4",
         "2023Q1",
         "2023Q2",
         "2023Q3",
         "2023Q4",
         "2024Q1",
         "2024Q2",
         "2024Q3",
         "2024Q4"
        ],
        [
         "3",
         "CEPGL",
         "Export",
         "35.45378280470507",
         "36.816684545695466",
         "41.354026967411045",
         "44.76068875508835",
         "46.58475235039783",
         "41.899510512663",
         "56.303220976683214",
         "52.47382580237515",
         "52.19023333340873",
         "49.71088903144254",
         "65.19401428990813",
         "86.55593772219183"
        ],
        [
         "4",
         null,
         "Import",
         "10.440299478672896",
         "11.889870596210136",
         "8.350645764821133",
         "8.115722437571936",
         "4.542269490398233",
         "6.279899499732549",
         "8.915258172683908",
         "12.066122053382184",
         "14.09491967651446",
         "11.220648172096626",
         "20.798656665419365",
         "27.14859183475918"
        ],
        [
         "5",
         null,
         "Re-export",
         "144.074346318546",
         "154.12410232331308",
         "186.81174948119497",
         "180.86072178133148",
         "147.7032434699931",
         "145.40496150197168",
         "162.00715113246795",
         "153.45805650147278",
         "164.25477664319706",
         "158.04976684136167",
         "176.222145211977",
         "167.5888395802465"
        ],
        [
         "6",
         null,
         "Total Trade",
         "189.96842860192396",
         "202.83065746521868",
         "236.51642221342715",
         "233.73713297399178",
         "198.83026531078917",
         "193.58437151436723",
         "227.2256302818351",
         "217.99800435723012",
         "230.53992965312025",
         "218.98130404490084",
         "262.2148161673045",
         "281.2933691371975"
        ],
        [
         "7",
         "COMESA",
         "Export",
         "50.06048787485192",
         "54.37877499479242",
         "68.10583131085716",
         "66.15348201669627",
         "67.79756275119595",
         "58.37817245533874",
         "72.09541740177163",
         "61.817258300386975",
         "60.75454741486748",
         "60.360341245883866",
         "79.38935749848665",
         "102.06254227158526"
        ],
        [
         "8",
         null,
         "Import",
         "141.1974175104772",
         "217.26836519452314",
         "217.98364173048813",
         "207.64188359742764",
         "237.09577696724003",
         "195.9120189579666",
         "227.1213214752182",
         "186.92962383486142",
         "201.5821952220971",
         "338.4221489151549",
         "331.19447207797253",
         "344.952128490286"
        ],
        [
         "9",
         null,
         "Re-export",
         "146.56179010015157",
         "157.83832589904463",
         "194.67893784390967",
         "186.29406616899968",
         "152.93163796201318",
         "148.7478932931218",
         "165.59038241085497",
         "155.6126607713801",
         "169.3405413119678",
         "160.65483587483013",
         "180.51856868019595",
         "172.71401142507145"
        ],
        [
         "10",
         null,
         "Total Trade",
         "337.8196954854807",
         "429.4854660883602",
         "480.768410885255",
         "460.0894317831236",
         "457.82497768044914",
         "403.0380847064272",
         "464.8071212878448",
         "404.35954290662846",
         "431.67728394893237",
         "559.4373260358689",
         "591.1023982566551",
         "619.7286821869427"
        ],
        [
         "11",
         "COMMON WEALTH",
         "Export",
         "45.65539664534099",
         "44.741293348762355",
         "49.2024426038563",
         "99.59867038660364",
         "45.19344873938611",
         "35.47060403214672",
         "36.83317371771053",
         "29.720269308928415",
         "29.28204437168459",
         "32.463730541831545",
         "35.44342067487271",
         "38.93946523226788"
        ],
        [
         "12",
         null,
         "Import",
         "448.6154576086907",
         "610.7256774352277",
         "560.282695213943",
         "499.5874211729052",
         "686.2158798267457",
         "730.8686287560148",
         "713.4446564372067",
         "675.9870518747588",
         "676.7942099738951",
         "804.5001191625039",
         "923.4270565849787",
         "845.5018768988823"
        ],
        [
         "13",
         null,
         "Re-export",
         "2.385382722970108",
         "3.3341223338396238",
         "5.97290909742004",
         "2.4047477127034953",
         "2.923090418855305",
         "2.519726406350837",
         "1.3923471733124761",
         "1.7343099668287674",
         "1.7798124230596912",
         "1.9274581443362078",
         "1.498094507705332",
         "3.4089453962443192"
        ],
        [
         "14",
         null,
         "Total Trade",
         "496.6562369770018",
         "658.8010931178297",
         "615.4580469152194",
         "601.5908392722123",
         "734.332418984987",
         "768.8589591945124",
         "751.6701773282298",
         "707.441631150516",
         "707.8560667686394",
         "838.8913078486717",
         "960.3685717675568",
         "887.8502875273945"
        ],
        [
         "15",
         "ECOWAS",
         "Export",
         "0.8450550604174194",
         "1.9128807537743995",
         "0.09947691887535476",
         "1.1280435682383867",
         "0.35833563728434614",
         "0.6088201084557546",
         "0.3290359014850712",
         "0.494386114309946",
         "0.22927519401426397",
         "0.08791739133061308",
         "0.2851205553536466",
         "0.3166436940498444"
        ],
        [
         "16",
         null,
         "Import",
         "1.5813833309107506",
         "18.573188295714477",
         "35.09371359620937",
         "6.4768552874255585",
         "25.901770544648347",
         "53.22965717439968",
         "8.211555723151177",
         "6.700625162736659",
         "34.53281619260909",
         "0.8798632627631474",
         "81.42837359681192",
         "53.84343007530522"
        ],
        [
         "17",
         null,
         "Re-export",
         "0",
         "0.010552713625301758",
         "0.007242591720372762",
         "0.013319680381186957",
         "0",
         "0.0030687067602743158",
         "0.025720081194544452",
         "0",
         "0",
         "0.01715942999234889",
         "0.015655649585531273",
         "0.09686837075332348"
        ],
        [
         "18",
         null,
         "Total Trade",
         "2.42643839132817",
         "20.496621763114177",
         "35.20043310680509",
         "7.618218536045132",
         "26.26010618193269",
         "53.8415459896157",
         "8.566311705830792",
         "7.195011277046605",
         "34.762091386623354",
         "0.9849400840861093",
         "81.72914980175109",
         "54.256942140108386"
        ],
        [
         "19",
         "SADC",
         "Export",
         "37.604740658959365",
         "38.26743590705814",
         "43.72071197122627",
         "45.09887514534678",
         "46.86554204641111",
         "39.92302952010472",
         "54.421221424114066",
         "48.32278803028183",
         "55.07021774384263",
         "48.964228868137994",
         "64.80277449230628",
         "86.68421922987609"
        ],
        [
         "20",
         null,
         "Import",
         "213.40861269540594",
         "242.11578247323322",
         "245.28281621208671",
         "209.84429984473505",
         "287.7258481846344",
         "235.35758655640592",
         "284.2944489677077",
         "333.60168789952496",
         "248.84472719205993",
         "192.70527753523666",
         "316.68741807856316",
         "393.8159454613189"
        ],
        [
         "21",
         null,
         "Re-export",
         "145.60932771489803",
         "155.16854652252619",
         "188.5201325126692",
         "181.1509792649338",
         "146.1598140064897",
         "143.70008614217446",
         "158.69300177610546",
         "150.0880870201957",
         "160.7559617829587",
         "156.6260504600092",
         "175.00779456116473",
         "167.2601724517427"
        ],
        [
         "22",
         null,
         "Total Trade",
         "396.6226810692633",
         "435.5517649028176",
         "477.5236606959822",
         "436.0941542550156",
         "480.75120423753526",
         "418.9807022186851",
         "497.4086721679272",
         "532.0125629500026",
         "464.67090671886126",
         "398.29555686338387",
         "556.4979871320342",
         "647.7603371429377"
        ],
        [
         "23",
         "EU",
         "Export",
         "20.41905581924619",
         "11.777948577892177",
         "20.51282478819066",
         "27.054633332463254",
         "21.13910607033323",
         "21.682679395453583",
         "19.066200109654748",
         "28.44490318819894",
         "25.669329021434116",
         "31.74253513456382",
         "42.403889373992165",
         "42.11086645491012"
        ],
        [
         "24",
         null,
         "Import",
         "77.80434915326637",
         "96.44979075365603",
         "131.54216245254415",
         "147.10487067032895",
         "127.81877660394012",
         "129.33967827621692",
         "146.34567616146765",
         "99.72468724818755",
         "95.33025022019292",
         "109.28962358352423",
         "100.4986824889788",
         "101.94149100881378"
        ],
        [
         "25",
         null,
         "Re-export",
         "0.23849724441280323",
         "0.6122587250676524",
         "0.6696818681718544",
         "0.5453970970084209",
         "0.5219621917654689",
         "0.6549348563056794",
         "0.7713103494535579",
         "0.5569236686280493",
         "0.3601960873619078",
         "0.46129069528417216",
         "0.574114801090143",
         "0.5066784892696249"
        ],
        [
         "26",
         null,
         "Total Trade",
         "98.46190221692535",
         "108.83999805661585",
         "152.72466910890668",
         "174.70490109980062",
         "149.47984486603883",
         "151.6772925279762",
         "166.18318662057595",
         "128.72651410501456",
         "121.35977532898895",
         "141.49344941337222",
         "143.4766866640611",
         "144.55903595299355"
        ],
        [
         "27",
         "Source: NISR",
         null,
         null,
         null,
         null,
         null,
         null,
         null,
         null,
         null,
         null,
         null,
         null,
         null
        ],
        [
         "29",
         "*Major revisions  include Domestic exports destination of Tea and Coffee",
         null,
         null,
         null,
         null,
         null,
         null,
         null,
         null,
         null,
         null,
         null,
         null,
         null
        ],
        [
         "30",
         "*All series revised from 2022Q1",
         null,
         null,
         null,
         null,
         null,
         null,
         null,
         null,
         null,
         null,
         null,
         null,
         null
        ]
       ],
       "shape": {
        "columns": 14,
        "rows": 29
       }
      },
      "text/html": [
       "<div>\n",
       "<style scoped>\n",
       "    .dataframe tbody tr th:only-of-type {\n",
       "        vertical-align: middle;\n",
       "    }\n",
       "\n",
       "    .dataframe tbody tr th {\n",
       "        vertical-align: top;\n",
       "    }\n",
       "\n",
       "    .dataframe thead th {\n",
       "        text-align: right;\n",
       "    }\n",
       "</style>\n",
       "<table border=\"1\" class=\"dataframe\">\n",
       "  <thead>\n",
       "    <tr style=\"text-align: right;\">\n",
       "      <th></th>\n",
       "      <th>Unnamed: 0</th>\n",
       "      <th>Unnamed: 1</th>\n",
       "      <th>Unnamed: 2</th>\n",
       "      <th>Unnamed: 3</th>\n",
       "      <th>Unnamed: 4</th>\n",
       "      <th>Unnamed: 5</th>\n",
       "      <th>Unnamed: 6</th>\n",
       "      <th>Unnamed: 7</th>\n",
       "      <th>Unnamed: 8</th>\n",
       "      <th>Unnamed: 9</th>\n",
       "      <th>Unnamed: 10</th>\n",
       "      <th>Unnamed: 11</th>\n",
       "      <th>Unnamed: 12</th>\n",
       "      <th>Unnamed: 13</th>\n",
       "    </tr>\n",
       "  </thead>\n",
       "  <tbody>\n",
       "    <tr>\n",
       "      <th>0</th>\n",
       "      <td>Trade in Goods of Rwanda with selected regiona...</td>\n",
       "      <td>NaN</td>\n",
       "      <td>NaN</td>\n",
       "      <td>NaN</td>\n",
       "      <td>NaN</td>\n",
       "      <td>NaN</td>\n",
       "      <td>NaN</td>\n",
       "      <td>NaN</td>\n",
       "      <td>NaN</td>\n",
       "      <td>NaN</td>\n",
       "      <td>NaN</td>\n",
       "      <td>NaN</td>\n",
       "      <td>NaN</td>\n",
       "      <td>NaN</td>\n",
       "    </tr>\n",
       "    <tr>\n",
       "      <th>2</th>\n",
       "      <td>Partner</td>\n",
       "      <td>Flow \\ Period</td>\n",
       "      <td>2022Q1</td>\n",
       "      <td>2022Q2</td>\n",
       "      <td>2022Q3</td>\n",
       "      <td>2022Q4</td>\n",
       "      <td>2023Q1</td>\n",
       "      <td>2023Q2</td>\n",
       "      <td>2023Q3</td>\n",
       "      <td>2023Q4</td>\n",
       "      <td>2024Q1</td>\n",
       "      <td>2024Q2</td>\n",
       "      <td>2024Q3</td>\n",
       "      <td>2024Q4</td>\n",
       "    </tr>\n",
       "    <tr>\n",
       "      <th>3</th>\n",
       "      <td>CEPGL</td>\n",
       "      <td>Export</td>\n",
       "      <td>35.453783</td>\n",
       "      <td>36.816685</td>\n",
       "      <td>41.354027</td>\n",
       "      <td>44.760689</td>\n",
       "      <td>46.584752</td>\n",
       "      <td>41.899511</td>\n",
       "      <td>56.303221</td>\n",
       "      <td>52.473826</td>\n",
       "      <td>52.190233</td>\n",
       "      <td>49.710889</td>\n",
       "      <td>65.194014</td>\n",
       "      <td>86.555938</td>\n",
       "    </tr>\n",
       "    <tr>\n",
       "      <th>4</th>\n",
       "      <td>NaN</td>\n",
       "      <td>Import</td>\n",
       "      <td>10.440299</td>\n",
       "      <td>11.889871</td>\n",
       "      <td>8.350646</td>\n",
       "      <td>8.115722</td>\n",
       "      <td>4.542269</td>\n",
       "      <td>6.279899</td>\n",
       "      <td>8.915258</td>\n",
       "      <td>12.066122</td>\n",
       "      <td>14.09492</td>\n",
       "      <td>11.220648</td>\n",
       "      <td>20.798657</td>\n",
       "      <td>27.148592</td>\n",
       "    </tr>\n",
       "    <tr>\n",
       "      <th>5</th>\n",
       "      <td>NaN</td>\n",
       "      <td>Re-export</td>\n",
       "      <td>144.074346</td>\n",
       "      <td>154.124102</td>\n",
       "      <td>186.811749</td>\n",
       "      <td>180.860722</td>\n",
       "      <td>147.703243</td>\n",
       "      <td>145.404962</td>\n",
       "      <td>162.007151</td>\n",
       "      <td>153.458057</td>\n",
       "      <td>164.254777</td>\n",
       "      <td>158.049767</td>\n",
       "      <td>176.222145</td>\n",
       "      <td>167.58884</td>\n",
       "    </tr>\n",
       "    <tr>\n",
       "      <th>6</th>\n",
       "      <td>NaN</td>\n",
       "      <td>Total Trade</td>\n",
       "      <td>189.968429</td>\n",
       "      <td>202.830657</td>\n",
       "      <td>236.516422</td>\n",
       "      <td>233.737133</td>\n",
       "      <td>198.830265</td>\n",
       "      <td>193.584372</td>\n",
       "      <td>227.22563</td>\n",
       "      <td>217.998004</td>\n",
       "      <td>230.53993</td>\n",
       "      <td>218.981304</td>\n",
       "      <td>262.214816</td>\n",
       "      <td>281.293369</td>\n",
       "    </tr>\n",
       "    <tr>\n",
       "      <th>7</th>\n",
       "      <td>COMESA</td>\n",
       "      <td>Export</td>\n",
       "      <td>50.060488</td>\n",
       "      <td>54.378775</td>\n",
       "      <td>68.105831</td>\n",
       "      <td>66.153482</td>\n",
       "      <td>67.797563</td>\n",
       "      <td>58.378172</td>\n",
       "      <td>72.095417</td>\n",
       "      <td>61.817258</td>\n",
       "      <td>60.754547</td>\n",
       "      <td>60.360341</td>\n",
       "      <td>79.389357</td>\n",
       "      <td>102.062542</td>\n",
       "    </tr>\n",
       "    <tr>\n",
       "      <th>8</th>\n",
       "      <td>NaN</td>\n",
       "      <td>Import</td>\n",
       "      <td>141.197418</td>\n",
       "      <td>217.268365</td>\n",
       "      <td>217.983642</td>\n",
       "      <td>207.641884</td>\n",
       "      <td>237.095777</td>\n",
       "      <td>195.912019</td>\n",
       "      <td>227.121321</td>\n",
       "      <td>186.929624</td>\n",
       "      <td>201.582195</td>\n",
       "      <td>338.422149</td>\n",
       "      <td>331.194472</td>\n",
       "      <td>344.952128</td>\n",
       "    </tr>\n",
       "    <tr>\n",
       "      <th>9</th>\n",
       "      <td>NaN</td>\n",
       "      <td>Re-export</td>\n",
       "      <td>146.56179</td>\n",
       "      <td>157.838326</td>\n",
       "      <td>194.678938</td>\n",
       "      <td>186.294066</td>\n",
       "      <td>152.931638</td>\n",
       "      <td>148.747893</td>\n",
       "      <td>165.590382</td>\n",
       "      <td>155.612661</td>\n",
       "      <td>169.340541</td>\n",
       "      <td>160.654836</td>\n",
       "      <td>180.518569</td>\n",
       "      <td>172.714011</td>\n",
       "    </tr>\n",
       "    <tr>\n",
       "      <th>10</th>\n",
       "      <td>NaN</td>\n",
       "      <td>Total Trade</td>\n",
       "      <td>337.819695</td>\n",
       "      <td>429.485466</td>\n",
       "      <td>480.768411</td>\n",
       "      <td>460.089432</td>\n",
       "      <td>457.824978</td>\n",
       "      <td>403.038085</td>\n",
       "      <td>464.807121</td>\n",
       "      <td>404.359543</td>\n",
       "      <td>431.677284</td>\n",
       "      <td>559.437326</td>\n",
       "      <td>591.102398</td>\n",
       "      <td>619.728682</td>\n",
       "    </tr>\n",
       "    <tr>\n",
       "      <th>11</th>\n",
       "      <td>COMMON WEALTH</td>\n",
       "      <td>Export</td>\n",
       "      <td>45.655397</td>\n",
       "      <td>44.741293</td>\n",
       "      <td>49.202443</td>\n",
       "      <td>99.59867</td>\n",
       "      <td>45.193449</td>\n",
       "      <td>35.470604</td>\n",
       "      <td>36.833174</td>\n",
       "      <td>29.720269</td>\n",
       "      <td>29.282044</td>\n",
       "      <td>32.463731</td>\n",
       "      <td>35.443421</td>\n",
       "      <td>38.939465</td>\n",
       "    </tr>\n",
       "    <tr>\n",
       "      <th>12</th>\n",
       "      <td>NaN</td>\n",
       "      <td>Import</td>\n",
       "      <td>448.615458</td>\n",
       "      <td>610.725677</td>\n",
       "      <td>560.282695</td>\n",
       "      <td>499.587421</td>\n",
       "      <td>686.21588</td>\n",
       "      <td>730.868629</td>\n",
       "      <td>713.444656</td>\n",
       "      <td>675.987052</td>\n",
       "      <td>676.79421</td>\n",
       "      <td>804.500119</td>\n",
       "      <td>923.427057</td>\n",
       "      <td>845.501877</td>\n",
       "    </tr>\n",
       "    <tr>\n",
       "      <th>13</th>\n",
       "      <td>NaN</td>\n",
       "      <td>Re-export</td>\n",
       "      <td>2.385383</td>\n",
       "      <td>3.334122</td>\n",
       "      <td>5.972909</td>\n",
       "      <td>2.404748</td>\n",
       "      <td>2.92309</td>\n",
       "      <td>2.519726</td>\n",
       "      <td>1.392347</td>\n",
       "      <td>1.73431</td>\n",
       "      <td>1.779812</td>\n",
       "      <td>1.927458</td>\n",
       "      <td>1.498095</td>\n",
       "      <td>3.408945</td>\n",
       "    </tr>\n",
       "    <tr>\n",
       "      <th>14</th>\n",
       "      <td>NaN</td>\n",
       "      <td>Total Trade</td>\n",
       "      <td>496.656237</td>\n",
       "      <td>658.801093</td>\n",
       "      <td>615.458047</td>\n",
       "      <td>601.590839</td>\n",
       "      <td>734.332419</td>\n",
       "      <td>768.858959</td>\n",
       "      <td>751.670177</td>\n",
       "      <td>707.441631</td>\n",
       "      <td>707.856067</td>\n",
       "      <td>838.891308</td>\n",
       "      <td>960.368572</td>\n",
       "      <td>887.850288</td>\n",
       "    </tr>\n",
       "    <tr>\n",
       "      <th>15</th>\n",
       "      <td>ECOWAS</td>\n",
       "      <td>Export</td>\n",
       "      <td>0.845055</td>\n",
       "      <td>1.912881</td>\n",
       "      <td>0.099477</td>\n",
       "      <td>1.128044</td>\n",
       "      <td>0.358336</td>\n",
       "      <td>0.60882</td>\n",
       "      <td>0.329036</td>\n",
       "      <td>0.494386</td>\n",
       "      <td>0.229275</td>\n",
       "      <td>0.087917</td>\n",
       "      <td>0.285121</td>\n",
       "      <td>0.316644</td>\n",
       "    </tr>\n",
       "    <tr>\n",
       "      <th>16</th>\n",
       "      <td>NaN</td>\n",
       "      <td>Import</td>\n",
       "      <td>1.581383</td>\n",
       "      <td>18.573188</td>\n",
       "      <td>35.093714</td>\n",
       "      <td>6.476855</td>\n",
       "      <td>25.901771</td>\n",
       "      <td>53.229657</td>\n",
       "      <td>8.211556</td>\n",
       "      <td>6.700625</td>\n",
       "      <td>34.532816</td>\n",
       "      <td>0.879863</td>\n",
       "      <td>81.428374</td>\n",
       "      <td>53.84343</td>\n",
       "    </tr>\n",
       "    <tr>\n",
       "      <th>17</th>\n",
       "      <td>NaN</td>\n",
       "      <td>Re-export</td>\n",
       "      <td>0</td>\n",
       "      <td>0.010553</td>\n",
       "      <td>0.007243</td>\n",
       "      <td>0.01332</td>\n",
       "      <td>0</td>\n",
       "      <td>0.003069</td>\n",
       "      <td>0.02572</td>\n",
       "      <td>0</td>\n",
       "      <td>0</td>\n",
       "      <td>0.017159</td>\n",
       "      <td>0.015656</td>\n",
       "      <td>0.096868</td>\n",
       "    </tr>\n",
       "    <tr>\n",
       "      <th>18</th>\n",
       "      <td>NaN</td>\n",
       "      <td>Total Trade</td>\n",
       "      <td>2.426438</td>\n",
       "      <td>20.496622</td>\n",
       "      <td>35.200433</td>\n",
       "      <td>7.618219</td>\n",
       "      <td>26.260106</td>\n",
       "      <td>53.841546</td>\n",
       "      <td>8.566312</td>\n",
       "      <td>7.195011</td>\n",
       "      <td>34.762091</td>\n",
       "      <td>0.98494</td>\n",
       "      <td>81.72915</td>\n",
       "      <td>54.256942</td>\n",
       "    </tr>\n",
       "    <tr>\n",
       "      <th>19</th>\n",
       "      <td>SADC</td>\n",
       "      <td>Export</td>\n",
       "      <td>37.604741</td>\n",
       "      <td>38.267436</td>\n",
       "      <td>43.720712</td>\n",
       "      <td>45.098875</td>\n",
       "      <td>46.865542</td>\n",
       "      <td>39.92303</td>\n",
       "      <td>54.421221</td>\n",
       "      <td>48.322788</td>\n",
       "      <td>55.070218</td>\n",
       "      <td>48.964229</td>\n",
       "      <td>64.802774</td>\n",
       "      <td>86.684219</td>\n",
       "    </tr>\n",
       "    <tr>\n",
       "      <th>20</th>\n",
       "      <td>NaN</td>\n",
       "      <td>Import</td>\n",
       "      <td>213.408613</td>\n",
       "      <td>242.115782</td>\n",
       "      <td>245.282816</td>\n",
       "      <td>209.8443</td>\n",
       "      <td>287.725848</td>\n",
       "      <td>235.357587</td>\n",
       "      <td>284.294449</td>\n",
       "      <td>333.601688</td>\n",
       "      <td>248.844727</td>\n",
       "      <td>192.705278</td>\n",
       "      <td>316.687418</td>\n",
       "      <td>393.815945</td>\n",
       "    </tr>\n",
       "    <tr>\n",
       "      <th>21</th>\n",
       "      <td>NaN</td>\n",
       "      <td>Re-export</td>\n",
       "      <td>145.609328</td>\n",
       "      <td>155.168547</td>\n",
       "      <td>188.520133</td>\n",
       "      <td>181.150979</td>\n",
       "      <td>146.159814</td>\n",
       "      <td>143.700086</td>\n",
       "      <td>158.693002</td>\n",
       "      <td>150.088087</td>\n",
       "      <td>160.755962</td>\n",
       "      <td>156.62605</td>\n",
       "      <td>175.007795</td>\n",
       "      <td>167.260172</td>\n",
       "    </tr>\n",
       "    <tr>\n",
       "      <th>22</th>\n",
       "      <td>NaN</td>\n",
       "      <td>Total Trade</td>\n",
       "      <td>396.622681</td>\n",
       "      <td>435.551765</td>\n",
       "      <td>477.523661</td>\n",
       "      <td>436.094154</td>\n",
       "      <td>480.751204</td>\n",
       "      <td>418.980702</td>\n",
       "      <td>497.408672</td>\n",
       "      <td>532.012563</td>\n",
       "      <td>464.670907</td>\n",
       "      <td>398.295557</td>\n",
       "      <td>556.497987</td>\n",
       "      <td>647.760337</td>\n",
       "    </tr>\n",
       "    <tr>\n",
       "      <th>23</th>\n",
       "      <td>EU</td>\n",
       "      <td>Export</td>\n",
       "      <td>20.419056</td>\n",
       "      <td>11.777949</td>\n",
       "      <td>20.512825</td>\n",
       "      <td>27.054633</td>\n",
       "      <td>21.139106</td>\n",
       "      <td>21.682679</td>\n",
       "      <td>19.0662</td>\n",
       "      <td>28.444903</td>\n",
       "      <td>25.669329</td>\n",
       "      <td>31.742535</td>\n",
       "      <td>42.403889</td>\n",
       "      <td>42.110866</td>\n",
       "    </tr>\n",
       "    <tr>\n",
       "      <th>24</th>\n",
       "      <td>NaN</td>\n",
       "      <td>Import</td>\n",
       "      <td>77.804349</td>\n",
       "      <td>96.449791</td>\n",
       "      <td>131.542162</td>\n",
       "      <td>147.104871</td>\n",
       "      <td>127.818777</td>\n",
       "      <td>129.339678</td>\n",
       "      <td>146.345676</td>\n",
       "      <td>99.724687</td>\n",
       "      <td>95.33025</td>\n",
       "      <td>109.289624</td>\n",
       "      <td>100.498682</td>\n",
       "      <td>101.941491</td>\n",
       "    </tr>\n",
       "    <tr>\n",
       "      <th>25</th>\n",
       "      <td>NaN</td>\n",
       "      <td>Re-export</td>\n",
       "      <td>0.238497</td>\n",
       "      <td>0.612259</td>\n",
       "      <td>0.669682</td>\n",
       "      <td>0.545397</td>\n",
       "      <td>0.521962</td>\n",
       "      <td>0.654935</td>\n",
       "      <td>0.77131</td>\n",
       "      <td>0.556924</td>\n",
       "      <td>0.360196</td>\n",
       "      <td>0.461291</td>\n",
       "      <td>0.574115</td>\n",
       "      <td>0.506678</td>\n",
       "    </tr>\n",
       "    <tr>\n",
       "      <th>26</th>\n",
       "      <td>NaN</td>\n",
       "      <td>Total Trade</td>\n",
       "      <td>98.461902</td>\n",
       "      <td>108.839998</td>\n",
       "      <td>152.724669</td>\n",
       "      <td>174.704901</td>\n",
       "      <td>149.479845</td>\n",
       "      <td>151.677293</td>\n",
       "      <td>166.183187</td>\n",
       "      <td>128.726514</td>\n",
       "      <td>121.359775</td>\n",
       "      <td>141.493449</td>\n",
       "      <td>143.476687</td>\n",
       "      <td>144.559036</td>\n",
       "    </tr>\n",
       "    <tr>\n",
       "      <th>27</th>\n",
       "      <td>Source: NISR</td>\n",
       "      <td>NaN</td>\n",
       "      <td>NaN</td>\n",
       "      <td>NaN</td>\n",
       "      <td>NaN</td>\n",
       "      <td>NaN</td>\n",
       "      <td>NaN</td>\n",
       "      <td>NaN</td>\n",
       "      <td>NaN</td>\n",
       "      <td>NaN</td>\n",
       "      <td>NaN</td>\n",
       "      <td>NaN</td>\n",
       "      <td>NaN</td>\n",
       "      <td>NaN</td>\n",
       "    </tr>\n",
       "    <tr>\n",
       "      <th>29</th>\n",
       "      <td>*Major revisions  include Domestic exports des...</td>\n",
       "      <td>NaN</td>\n",
       "      <td>NaN</td>\n",
       "      <td>NaN</td>\n",
       "      <td>NaN</td>\n",
       "      <td>NaN</td>\n",
       "      <td>NaN</td>\n",
       "      <td>NaN</td>\n",
       "      <td>NaN</td>\n",
       "      <td>NaN</td>\n",
       "      <td>NaN</td>\n",
       "      <td>NaN</td>\n",
       "      <td>NaN</td>\n",
       "      <td>NaN</td>\n",
       "    </tr>\n",
       "    <tr>\n",
       "      <th>30</th>\n",
       "      <td>*All series revised from 2022Q1</td>\n",
       "      <td>NaN</td>\n",
       "      <td>NaN</td>\n",
       "      <td>NaN</td>\n",
       "      <td>NaN</td>\n",
       "      <td>NaN</td>\n",
       "      <td>NaN</td>\n",
       "      <td>NaN</td>\n",
       "      <td>NaN</td>\n",
       "      <td>NaN</td>\n",
       "      <td>NaN</td>\n",
       "      <td>NaN</td>\n",
       "      <td>NaN</td>\n",
       "      <td>NaN</td>\n",
       "    </tr>\n",
       "  </tbody>\n",
       "</table>\n",
       "</div>"
      ],
      "text/plain": [
       "                                           Unnamed: 0     Unnamed: 1  \\\n",
       "0   Trade in Goods of Rwanda with selected regiona...            NaN   \n",
       "2                                             Partner  Flow \\ Period   \n",
       "3                                               CEPGL         Export   \n",
       "4                                                 NaN         Import   \n",
       "5                                                 NaN      Re-export   \n",
       "6                                                 NaN    Total Trade   \n",
       "7                                              COMESA         Export   \n",
       "8                                                 NaN         Import   \n",
       "9                                                 NaN      Re-export   \n",
       "10                                                NaN    Total Trade   \n",
       "11                                      COMMON WEALTH         Export   \n",
       "12                                                NaN         Import   \n",
       "13                                                NaN      Re-export   \n",
       "14                                                NaN    Total Trade   \n",
       "15                                             ECOWAS         Export   \n",
       "16                                                NaN         Import   \n",
       "17                                                NaN      Re-export   \n",
       "18                                                NaN    Total Trade   \n",
       "19                                               SADC         Export   \n",
       "20                                                NaN         Import   \n",
       "21                                                NaN      Re-export   \n",
       "22                                                NaN    Total Trade   \n",
       "23                                                 EU         Export   \n",
       "24                                                NaN         Import   \n",
       "25                                                NaN      Re-export   \n",
       "26                                                NaN    Total Trade   \n",
       "27                                       Source: NISR            NaN   \n",
       "29  *Major revisions  include Domestic exports des...            NaN   \n",
       "30                    *All series revised from 2022Q1            NaN   \n",
       "\n",
       "    Unnamed: 2  Unnamed: 3  Unnamed: 4  Unnamed: 5  Unnamed: 6  Unnamed: 7  \\\n",
       "0          NaN         NaN         NaN         NaN         NaN         NaN   \n",
       "2       2022Q1      2022Q2      2022Q3      2022Q4      2023Q1      2023Q2   \n",
       "3    35.453783   36.816685   41.354027   44.760689   46.584752   41.899511   \n",
       "4    10.440299   11.889871    8.350646    8.115722    4.542269    6.279899   \n",
       "5   144.074346  154.124102  186.811749  180.860722  147.703243  145.404962   \n",
       "6   189.968429  202.830657  236.516422  233.737133  198.830265  193.584372   \n",
       "7    50.060488   54.378775   68.105831   66.153482   67.797563   58.378172   \n",
       "8   141.197418  217.268365  217.983642  207.641884  237.095777  195.912019   \n",
       "9    146.56179  157.838326  194.678938  186.294066  152.931638  148.747893   \n",
       "10  337.819695  429.485466  480.768411  460.089432  457.824978  403.038085   \n",
       "11   45.655397   44.741293   49.202443    99.59867   45.193449   35.470604   \n",
       "12  448.615458  610.725677  560.282695  499.587421   686.21588  730.868629   \n",
       "13    2.385383    3.334122    5.972909    2.404748     2.92309    2.519726   \n",
       "14  496.656237  658.801093  615.458047  601.590839  734.332419  768.858959   \n",
       "15    0.845055    1.912881    0.099477    1.128044    0.358336     0.60882   \n",
       "16    1.581383   18.573188   35.093714    6.476855   25.901771   53.229657   \n",
       "17           0    0.010553    0.007243     0.01332           0    0.003069   \n",
       "18    2.426438   20.496622   35.200433    7.618219   26.260106   53.841546   \n",
       "19   37.604741   38.267436   43.720712   45.098875   46.865542    39.92303   \n",
       "20  213.408613  242.115782  245.282816    209.8443  287.725848  235.357587   \n",
       "21  145.609328  155.168547  188.520133  181.150979  146.159814  143.700086   \n",
       "22  396.622681  435.551765  477.523661  436.094154  480.751204  418.980702   \n",
       "23   20.419056   11.777949   20.512825   27.054633   21.139106   21.682679   \n",
       "24   77.804349   96.449791  131.542162  147.104871  127.818777  129.339678   \n",
       "25    0.238497    0.612259    0.669682    0.545397    0.521962    0.654935   \n",
       "26   98.461902  108.839998  152.724669  174.704901  149.479845  151.677293   \n",
       "27         NaN         NaN         NaN         NaN         NaN         NaN   \n",
       "29         NaN         NaN         NaN         NaN         NaN         NaN   \n",
       "30         NaN         NaN         NaN         NaN         NaN         NaN   \n",
       "\n",
       "    Unnamed: 8  Unnamed: 9 Unnamed: 10 Unnamed: 11 Unnamed: 12 Unnamed: 13  \n",
       "0          NaN         NaN         NaN         NaN         NaN         NaN  \n",
       "2       2023Q3      2023Q4      2024Q1      2024Q2      2024Q3      2024Q4  \n",
       "3    56.303221   52.473826   52.190233   49.710889   65.194014   86.555938  \n",
       "4     8.915258   12.066122    14.09492   11.220648   20.798657   27.148592  \n",
       "5   162.007151  153.458057  164.254777  158.049767  176.222145   167.58884  \n",
       "6    227.22563  217.998004   230.53993  218.981304  262.214816  281.293369  \n",
       "7    72.095417   61.817258   60.754547   60.360341   79.389357  102.062542  \n",
       "8   227.121321  186.929624  201.582195  338.422149  331.194472  344.952128  \n",
       "9   165.590382  155.612661  169.340541  160.654836  180.518569  172.714011  \n",
       "10  464.807121  404.359543  431.677284  559.437326  591.102398  619.728682  \n",
       "11   36.833174   29.720269   29.282044   32.463731   35.443421   38.939465  \n",
       "12  713.444656  675.987052   676.79421  804.500119  923.427057  845.501877  \n",
       "13    1.392347     1.73431    1.779812    1.927458    1.498095    3.408945  \n",
       "14  751.670177  707.441631  707.856067  838.891308  960.368572  887.850288  \n",
       "15    0.329036    0.494386    0.229275    0.087917    0.285121    0.316644  \n",
       "16    8.211556    6.700625   34.532816    0.879863   81.428374    53.84343  \n",
       "17     0.02572           0           0    0.017159    0.015656    0.096868  \n",
       "18    8.566312    7.195011   34.762091     0.98494    81.72915   54.256942  \n",
       "19   54.421221   48.322788   55.070218   48.964229   64.802774   86.684219  \n",
       "20  284.294449  333.601688  248.844727  192.705278  316.687418  393.815945  \n",
       "21  158.693002  150.088087  160.755962   156.62605  175.007795  167.260172  \n",
       "22  497.408672  532.012563  464.670907  398.295557  556.497987  647.760337  \n",
       "23     19.0662   28.444903   25.669329   31.742535   42.403889   42.110866  \n",
       "24  146.345676   99.724687    95.33025  109.289624  100.498682  101.941491  \n",
       "25     0.77131    0.556924    0.360196    0.461291    0.574115    0.506678  \n",
       "26  166.183187  128.726514  121.359775  141.493449  143.476687  144.559036  \n",
       "27         NaN         NaN         NaN         NaN         NaN         NaN  \n",
       "29         NaN         NaN         NaN         NaN         NaN         NaN  \n",
       "30         NaN         NaN         NaN         NaN         NaN         NaN  "
      ]
     },
     "metadata": {},
     "output_type": "display_data"
    },
    {
     "name": "stdout",
     "output_type": "stream",
     "text": [
      "\n",
      "🌍 TRADE BY CONTINENTS Analysis\n",
      "=======================================\n",
      "📊 Data shape: 21 rows × 26 columns\n",
      "📋 Columns: ['Unnamed: 0', 'Unnamed: 1', 'Unnamed: 2', 'Trade in Goods of Rwanda by Continents', 'Unnamed: 4', 'Unnamed: 5', 'Unnamed: 6', 'Unnamed: 7', 'Unnamed: 8', 'Unnamed: 9', 'Unnamed: 10', 'Unnamed: 11', 'Unnamed: 12', 'Unnamed: 13', 'Unnamed: 14', 'Unnamed: 15', 'Unnamed: 16', 'Unnamed: 17', 'Unnamed: 18', 'Unnamed: 19', 'Unnamed: 20', 'Unnamed: 21', 'Unnamed: 22', 'Unnamed: 23', 'Unnamed: 24', 'Unnamed: 25']\n",
      "\n",
      "📋 Sample Data:\n"
     ]
    },
    {
     "data": {
      "application/vnd.microsoft.datawrangler.viewer.v0+json": {
       "columns": [
        {
         "name": "index",
         "rawType": "int64",
         "type": "integer"
        },
        {
         "name": "Unnamed: 0",
         "rawType": "object",
         "type": "unknown"
        },
        {
         "name": "Unnamed: 1",
         "rawType": "object",
         "type": "unknown"
        },
        {
         "name": "Unnamed: 2",
         "rawType": "object",
         "type": "unknown"
        },
        {
         "name": "Trade in Goods of Rwanda by Continents",
         "rawType": "object",
         "type": "unknown"
        },
        {
         "name": "Unnamed: 4",
         "rawType": "object",
         "type": "unknown"
        },
        {
         "name": "Unnamed: 5",
         "rawType": "object",
         "type": "unknown"
        },
        {
         "name": "Unnamed: 6",
         "rawType": "object",
         "type": "unknown"
        },
        {
         "name": "Unnamed: 7",
         "rawType": "object",
         "type": "unknown"
        },
        {
         "name": "Unnamed: 8",
         "rawType": "object",
         "type": "unknown"
        },
        {
         "name": "Unnamed: 9",
         "rawType": "object",
         "type": "unknown"
        },
        {
         "name": "Unnamed: 10",
         "rawType": "object",
         "type": "unknown"
        },
        {
         "name": "Unnamed: 11",
         "rawType": "object",
         "type": "unknown"
        },
        {
         "name": "Unnamed: 12",
         "rawType": "object",
         "type": "unknown"
        },
        {
         "name": "Unnamed: 13",
         "rawType": "object",
         "type": "unknown"
        },
        {
         "name": "Unnamed: 14",
         "rawType": "object",
         "type": "unknown"
        },
        {
         "name": "Unnamed: 15",
         "rawType": "object",
         "type": "unknown"
        },
        {
         "name": "Unnamed: 16",
         "rawType": "object",
         "type": "unknown"
        },
        {
         "name": "Unnamed: 17",
         "rawType": "object",
         "type": "unknown"
        },
        {
         "name": "Unnamed: 18",
         "rawType": "object",
         "type": "unknown"
        },
        {
         "name": "Unnamed: 19",
         "rawType": "object",
         "type": "unknown"
        },
        {
         "name": "Unnamed: 20",
         "rawType": "object",
         "type": "unknown"
        },
        {
         "name": "Unnamed: 21",
         "rawType": "object",
         "type": "unknown"
        },
        {
         "name": "Unnamed: 22",
         "rawType": "object",
         "type": "unknown"
        },
        {
         "name": "Unnamed: 23",
         "rawType": "object",
         "type": "unknown"
        },
        {
         "name": "Unnamed: 24",
         "rawType": "object",
         "type": "unknown"
        },
        {
         "name": "Unnamed: 25",
         "rawType": "object",
         "type": "unknown"
        }
       ],
       "ref": "76b79e4d-295c-4f89-acf6-46b54c1dbf21",
       "rows": [
        [
         "1",
         null,
         null,
         null,
         "VALUES IN US$",
         null,
         null,
         null,
         null,
         null,
         null,
         null,
         null,
         null,
         null,
         null,
         "SHARE IN %",
         null,
         null,
         null,
         null,
         null,
         null,
         null,
         null,
         null,
         null
        ],
        [
         "2",
         "Flow",
         "Partner \\ Period",
         "2022Q1",
         "2022Q2",
         "2022Q3",
         "2022Q4",
         "2023Q1",
         "2023Q2",
         "2023Q3",
         "2023Q4",
         "2024Q1",
         "2024Q2",
         "2024Q3",
         "2024Q4",
         "2022Q1",
         "2022Q2",
         "2022Q3",
         "2022Q4",
         "2023Q1",
         "2023Q2",
         "2023Q3",
         "2023Q4",
         "2024Q1",
         "2024Q2",
         "2024Q3",
         "2024Q4"
        ],
        [
         "3",
         "Exports",
         "WORLD",
         "293.57884831471915",
         "331.55255123967333",
         "342.5635379482146",
         "354.8386907703432",
         "402.14468784688006",
         "484.73934625285204",
         "388.1129711318348",
         "399.1084006995603",
         "431.6120219963785",
         "537.6377961348556",
         "667.0045749074241",
         "677.4462049907256",
         "100",
         "100",
         "100",
         "100",
         "100",
         "100",
         "100",
         "100",
         "100",
         "100",
         "100",
         "100"
        ],
        [
         "4",
         null,
         "AFRICA",
         "75.48",
         "65.2159751260322",
         "86.26",
         "81.8059873453683",
         "91.7498640345387",
         "73.3117115371497",
         "83.86110369060788",
         "71.63517280123607",
         "72.31",
         "69.6",
         "87.32",
         "112.92",
         "25.7102991013456",
         "19.669875825774827",
         "25.180730125761354",
         "23.054415843934652",
         "22.815137637594066",
         "15.123944879627846",
         "21.607395250420993",
         "17.948801046450882",
         "16.75347217288742",
         "12.945518432737238",
         "13.091364480089126",
         "16.668482186204866"
        ],
        [
         "5",
         null,
         "AMERICA",
         "3.8207083126386263",
         "4.1",
         "5.38",
         "11.61",
         "3.12",
         "2.59",
         "7.77634521110352",
         "9.276707446379719",
         "4.76",
         "7.85",
         "9.36",
         "10.6",
         "1.301424927092429",
         "1.236606379492518",
         "1.5705115705610488",
         "3.271909265248124",
         "0.7758401625804805",
         "0.5343077717996904",
         "2.003629301135117",
         "2.324357851180139",
         "1.1028423114775843",
         "1.460090800244071",
         "1.4032887257631041",
         "1.5646998864131383"
        ]
       ],
       "shape": {
        "columns": 26,
        "rows": 5
       }
      },
      "text/html": [
       "<div>\n",
       "<style scoped>\n",
       "    .dataframe tbody tr th:only-of-type {\n",
       "        vertical-align: middle;\n",
       "    }\n",
       "\n",
       "    .dataframe tbody tr th {\n",
       "        vertical-align: top;\n",
       "    }\n",
       "\n",
       "    .dataframe thead th {\n",
       "        text-align: right;\n",
       "    }\n",
       "</style>\n",
       "<table border=\"1\" class=\"dataframe\">\n",
       "  <thead>\n",
       "    <tr style=\"text-align: right;\">\n",
       "      <th></th>\n",
       "      <th>Unnamed: 0</th>\n",
       "      <th>Unnamed: 1</th>\n",
       "      <th>Unnamed: 2</th>\n",
       "      <th>Trade in Goods of Rwanda by Continents</th>\n",
       "      <th>Unnamed: 4</th>\n",
       "      <th>Unnamed: 5</th>\n",
       "      <th>Unnamed: 6</th>\n",
       "      <th>Unnamed: 7</th>\n",
       "      <th>Unnamed: 8</th>\n",
       "      <th>Unnamed: 9</th>\n",
       "      <th>Unnamed: 10</th>\n",
       "      <th>Unnamed: 11</th>\n",
       "      <th>Unnamed: 12</th>\n",
       "      <th>Unnamed: 13</th>\n",
       "      <th>Unnamed: 14</th>\n",
       "      <th>Unnamed: 15</th>\n",
       "      <th>Unnamed: 16</th>\n",
       "      <th>Unnamed: 17</th>\n",
       "      <th>Unnamed: 18</th>\n",
       "      <th>Unnamed: 19</th>\n",
       "      <th>Unnamed: 20</th>\n",
       "      <th>Unnamed: 21</th>\n",
       "      <th>Unnamed: 22</th>\n",
       "      <th>Unnamed: 23</th>\n",
       "      <th>Unnamed: 24</th>\n",
       "      <th>Unnamed: 25</th>\n",
       "    </tr>\n",
       "  </thead>\n",
       "  <tbody>\n",
       "    <tr>\n",
       "      <th>1</th>\n",
       "      <td>NaN</td>\n",
       "      <td>NaN</td>\n",
       "      <td>NaN</td>\n",
       "      <td>VALUES IN US$</td>\n",
       "      <td>NaN</td>\n",
       "      <td>NaN</td>\n",
       "      <td>NaN</td>\n",
       "      <td>NaN</td>\n",
       "      <td>NaN</td>\n",
       "      <td>NaN</td>\n",
       "      <td>NaN</td>\n",
       "      <td>NaN</td>\n",
       "      <td>NaN</td>\n",
       "      <td>NaN</td>\n",
       "      <td>NaN</td>\n",
       "      <td>SHARE IN %</td>\n",
       "      <td>NaN</td>\n",
       "      <td>NaN</td>\n",
       "      <td>NaN</td>\n",
       "      <td>NaN</td>\n",
       "      <td>NaN</td>\n",
       "      <td>NaN</td>\n",
       "      <td>NaN</td>\n",
       "      <td>NaN</td>\n",
       "      <td>NaN</td>\n",
       "      <td>NaN</td>\n",
       "    </tr>\n",
       "    <tr>\n",
       "      <th>2</th>\n",
       "      <td>Flow</td>\n",
       "      <td>Partner \\ Period</td>\n",
       "      <td>2022Q1</td>\n",
       "      <td>2022Q2</td>\n",
       "      <td>2022Q3</td>\n",
       "      <td>2022Q4</td>\n",
       "      <td>2023Q1</td>\n",
       "      <td>2023Q2</td>\n",
       "      <td>2023Q3</td>\n",
       "      <td>2023Q4</td>\n",
       "      <td>2024Q1</td>\n",
       "      <td>2024Q2</td>\n",
       "      <td>2024Q3</td>\n",
       "      <td>2024Q4</td>\n",
       "      <td>2022Q1</td>\n",
       "      <td>2022Q2</td>\n",
       "      <td>2022Q3</td>\n",
       "      <td>2022Q4</td>\n",
       "      <td>2023Q1</td>\n",
       "      <td>2023Q2</td>\n",
       "      <td>2023Q3</td>\n",
       "      <td>2023Q4</td>\n",
       "      <td>2024Q1</td>\n",
       "      <td>2024Q2</td>\n",
       "      <td>2024Q3</td>\n",
       "      <td>2024Q4</td>\n",
       "    </tr>\n",
       "    <tr>\n",
       "      <th>3</th>\n",
       "      <td>Exports</td>\n",
       "      <td>WORLD</td>\n",
       "      <td>293.578848</td>\n",
       "      <td>331.552551</td>\n",
       "      <td>342.563538</td>\n",
       "      <td>354.838691</td>\n",
       "      <td>402.144688</td>\n",
       "      <td>484.739346</td>\n",
       "      <td>388.112971</td>\n",
       "      <td>399.108401</td>\n",
       "      <td>431.612022</td>\n",
       "      <td>537.637796</td>\n",
       "      <td>667.004575</td>\n",
       "      <td>677.446205</td>\n",
       "      <td>100</td>\n",
       "      <td>100</td>\n",
       "      <td>100</td>\n",
       "      <td>100</td>\n",
       "      <td>100</td>\n",
       "      <td>100</td>\n",
       "      <td>100</td>\n",
       "      <td>100</td>\n",
       "      <td>100</td>\n",
       "      <td>100</td>\n",
       "      <td>100</td>\n",
       "      <td>100</td>\n",
       "    </tr>\n",
       "    <tr>\n",
       "      <th>4</th>\n",
       "      <td>NaN</td>\n",
       "      <td>AFRICA</td>\n",
       "      <td>75.48</td>\n",
       "      <td>65.215975</td>\n",
       "      <td>86.26</td>\n",
       "      <td>81.805987</td>\n",
       "      <td>91.749864</td>\n",
       "      <td>73.311712</td>\n",
       "      <td>83.861104</td>\n",
       "      <td>71.635173</td>\n",
       "      <td>72.31</td>\n",
       "      <td>69.6</td>\n",
       "      <td>87.32</td>\n",
       "      <td>112.92</td>\n",
       "      <td>25.710299</td>\n",
       "      <td>19.669876</td>\n",
       "      <td>25.18073</td>\n",
       "      <td>23.054416</td>\n",
       "      <td>22.815138</td>\n",
       "      <td>15.123945</td>\n",
       "      <td>21.607395</td>\n",
       "      <td>17.948801</td>\n",
       "      <td>16.753472</td>\n",
       "      <td>12.945518</td>\n",
       "      <td>13.091364</td>\n",
       "      <td>16.668482</td>\n",
       "    </tr>\n",
       "    <tr>\n",
       "      <th>5</th>\n",
       "      <td>NaN</td>\n",
       "      <td>AMERICA</td>\n",
       "      <td>3.820708</td>\n",
       "      <td>4.1</td>\n",
       "      <td>5.38</td>\n",
       "      <td>11.61</td>\n",
       "      <td>3.12</td>\n",
       "      <td>2.59</td>\n",
       "      <td>7.776345</td>\n",
       "      <td>9.276707</td>\n",
       "      <td>4.76</td>\n",
       "      <td>7.85</td>\n",
       "      <td>9.36</td>\n",
       "      <td>10.6</td>\n",
       "      <td>1.301425</td>\n",
       "      <td>1.236606</td>\n",
       "      <td>1.570512</td>\n",
       "      <td>3.271909</td>\n",
       "      <td>0.77584</td>\n",
       "      <td>0.534308</td>\n",
       "      <td>2.003629</td>\n",
       "      <td>2.324358</td>\n",
       "      <td>1.102842</td>\n",
       "      <td>1.460091</td>\n",
       "      <td>1.403289</td>\n",
       "      <td>1.5647</td>\n",
       "    </tr>\n",
       "  </tbody>\n",
       "</table>\n",
       "</div>"
      ],
      "text/plain": [
       "  Unnamed: 0        Unnamed: 1  Unnamed: 2  \\\n",
       "1        NaN               NaN         NaN   \n",
       "2       Flow  Partner \\ Period      2022Q1   \n",
       "3    Exports             WORLD  293.578848   \n",
       "4        NaN            AFRICA       75.48   \n",
       "5        NaN           AMERICA    3.820708   \n",
       "\n",
       "  Trade in Goods of Rwanda by Continents  Unnamed: 4  Unnamed: 5  Unnamed: 6  \\\n",
       "1                          VALUES IN US$         NaN         NaN         NaN   \n",
       "2                                 2022Q2      2022Q3      2022Q4      2023Q1   \n",
       "3                             331.552551  342.563538  354.838691  402.144688   \n",
       "4                              65.215975       86.26   81.805987   91.749864   \n",
       "5                                    4.1        5.38       11.61        3.12   \n",
       "\n",
       "   Unnamed: 7  Unnamed: 8  Unnamed: 9 Unnamed: 10 Unnamed: 11 Unnamed: 12  \\\n",
       "1         NaN         NaN         NaN         NaN         NaN         NaN   \n",
       "2      2023Q2      2023Q3      2023Q4      2024Q1      2024Q2      2024Q3   \n",
       "3  484.739346  388.112971  399.108401  431.612022  537.637796  667.004575   \n",
       "4   73.311712   83.861104   71.635173       72.31        69.6       87.32   \n",
       "5        2.59    7.776345    9.276707        4.76        7.85        9.36   \n",
       "\n",
       "  Unnamed: 13 Unnamed: 14 Unnamed: 15 Unnamed: 16 Unnamed: 17 Unnamed: 18  \\\n",
       "1         NaN         NaN  SHARE IN %         NaN         NaN         NaN   \n",
       "2      2024Q4      2022Q1      2022Q2      2022Q3      2022Q4      2023Q1   \n",
       "3  677.446205         100         100         100         100         100   \n",
       "4      112.92   25.710299   19.669876    25.18073   23.054416   22.815138   \n",
       "5        10.6    1.301425    1.236606    1.570512    3.271909     0.77584   \n",
       "\n",
       "  Unnamed: 19 Unnamed: 20 Unnamed: 21 Unnamed: 22 Unnamed: 23 Unnamed: 24  \\\n",
       "1         NaN         NaN         NaN         NaN         NaN         NaN   \n",
       "2      2023Q2      2023Q3      2023Q4      2024Q1      2024Q2      2024Q3   \n",
       "3         100         100         100         100         100         100   \n",
       "4   15.123945   21.607395   17.948801   16.753472   12.945518   13.091364   \n",
       "5    0.534308    2.003629    2.324358    1.102842    1.460091    1.403289   \n",
       "\n",
       "  Unnamed: 25  \n",
       "1         NaN  \n",
       "2      2024Q4  \n",
       "3         100  \n",
       "4   16.668482  \n",
       "5      1.5647  "
      ]
     },
     "metadata": {},
     "output_type": "display_data"
    },
    {
     "name": "stdout",
     "output_type": "stream",
     "text": [
      "\n",
      "📋 Complete Trade by continents Data:\n"
     ]
    },
    {
     "data": {
      "application/vnd.microsoft.datawrangler.viewer.v0+json": {
       "columns": [
        {
         "name": "index",
         "rawType": "int64",
         "type": "integer"
        },
        {
         "name": "Unnamed: 0",
         "rawType": "object",
         "type": "unknown"
        },
        {
         "name": "Unnamed: 1",
         "rawType": "object",
         "type": "unknown"
        },
        {
         "name": "Unnamed: 2",
         "rawType": "object",
         "type": "unknown"
        },
        {
         "name": "Trade in Goods of Rwanda by Continents",
         "rawType": "object",
         "type": "unknown"
        },
        {
         "name": "Unnamed: 4",
         "rawType": "object",
         "type": "unknown"
        },
        {
         "name": "Unnamed: 5",
         "rawType": "object",
         "type": "unknown"
        },
        {
         "name": "Unnamed: 6",
         "rawType": "object",
         "type": "unknown"
        },
        {
         "name": "Unnamed: 7",
         "rawType": "object",
         "type": "unknown"
        },
        {
         "name": "Unnamed: 8",
         "rawType": "object",
         "type": "unknown"
        },
        {
         "name": "Unnamed: 9",
         "rawType": "object",
         "type": "unknown"
        },
        {
         "name": "Unnamed: 10",
         "rawType": "object",
         "type": "unknown"
        },
        {
         "name": "Unnamed: 11",
         "rawType": "object",
         "type": "unknown"
        },
        {
         "name": "Unnamed: 12",
         "rawType": "object",
         "type": "unknown"
        },
        {
         "name": "Unnamed: 13",
         "rawType": "object",
         "type": "unknown"
        },
        {
         "name": "Unnamed: 14",
         "rawType": "object",
         "type": "unknown"
        },
        {
         "name": "Unnamed: 15",
         "rawType": "object",
         "type": "unknown"
        },
        {
         "name": "Unnamed: 16",
         "rawType": "object",
         "type": "unknown"
        },
        {
         "name": "Unnamed: 17",
         "rawType": "object",
         "type": "unknown"
        },
        {
         "name": "Unnamed: 18",
         "rawType": "object",
         "type": "unknown"
        },
        {
         "name": "Unnamed: 19",
         "rawType": "object",
         "type": "unknown"
        },
        {
         "name": "Unnamed: 20",
         "rawType": "object",
         "type": "unknown"
        },
        {
         "name": "Unnamed: 21",
         "rawType": "object",
         "type": "unknown"
        },
        {
         "name": "Unnamed: 22",
         "rawType": "object",
         "type": "unknown"
        },
        {
         "name": "Unnamed: 23",
         "rawType": "object",
         "type": "unknown"
        },
        {
         "name": "Unnamed: 24",
         "rawType": "object",
         "type": "unknown"
        },
        {
         "name": "Unnamed: 25",
         "rawType": "object",
         "type": "unknown"
        }
       ],
       "ref": "a79cbdbd-c365-4453-b97b-f638c8d72750",
       "rows": [
        [
         "1",
         null,
         null,
         null,
         "VALUES IN US$",
         null,
         null,
         null,
         null,
         null,
         null,
         null,
         null,
         null,
         null,
         null,
         "SHARE IN %",
         null,
         null,
         null,
         null,
         null,
         null,
         null,
         null,
         null,
         null
        ],
        [
         "2",
         "Flow",
         "Partner \\ Period",
         "2022Q1",
         "2022Q2",
         "2022Q3",
         "2022Q4",
         "2023Q1",
         "2023Q2",
         "2023Q3",
         "2023Q4",
         "2024Q1",
         "2024Q2",
         "2024Q3",
         "2024Q4",
         "2022Q1",
         "2022Q2",
         "2022Q3",
         "2022Q4",
         "2023Q1",
         "2023Q2",
         "2023Q3",
         "2023Q4",
         "2024Q1",
         "2024Q2",
         "2024Q3",
         "2024Q4"
        ],
        [
         "3",
         "Exports",
         "WORLD",
         "293.57884831471915",
         "331.55255123967333",
         "342.5635379482146",
         "354.8386907703432",
         "402.14468784688006",
         "484.73934625285204",
         "388.1129711318348",
         "399.1084006995603",
         "431.6120219963785",
         "537.6377961348556",
         "667.0045749074241",
         "677.4462049907256",
         "100",
         "100",
         "100",
         "100",
         "100",
         "100",
         "100",
         "100",
         "100",
         "100",
         "100",
         "100"
        ],
        [
         "4",
         null,
         "AFRICA",
         "75.48",
         "65.2159751260322",
         "86.26",
         "81.8059873453683",
         "91.7498640345387",
         "73.3117115371497",
         "83.86110369060788",
         "71.63517280123607",
         "72.31",
         "69.6",
         "87.32",
         "112.92",
         "25.7102991013456",
         "19.669875825774827",
         "25.180730125761354",
         "23.054415843934652",
         "22.815137637594066",
         "15.123944879627846",
         "21.607395250420993",
         "17.948801046450882",
         "16.75347217288742",
         "12.945518432737238",
         "13.091364480089126",
         "16.668482186204866"
        ],
        [
         "5",
         null,
         "AMERICA",
         "3.8207083126386263",
         "4.1",
         "5.38",
         "11.61",
         "3.12",
         "2.59",
         "7.77634521110352",
         "9.276707446379719",
         "4.76",
         "7.85",
         "9.36",
         "10.6",
         "1.301424927092429",
         "1.236606379492518",
         "1.5705115705610488",
         "3.271909265248124",
         "0.7758401625804805",
         "0.5343077717996904",
         "2.003629301135117",
         "2.324357851180139",
         "1.1028423114775843",
         "1.460090800244071",
         "1.4032887257631041",
         "1.5646998864131383"
        ],
        [
         "6",
         null,
         "ASIA",
         "185.156273429477",
         "240.8503211528868",
         "210.12",
         "208.2083938134933",
         "269.04",
         "373.96604655556894",
         "263.52",
         "270.73",
         "319.98",
         "418.2835753367954",
         "509.6746292003707",
         "499.0345175377557",
         "63.06866945366168",
         "72.64318137572722",
         "61.337526246521854",
         "58.6769141103186",
         "66.90129401943989",
         "77.14786295901365",
         "67.89775647835464",
         "67.83370120134339",
         "74.13602580390702",
         "77.80025480795575",
         "76.41246377824474",
         "73.66408046297751"
        ],
        [
         "7",
         null,
         "EUROPE",
         "29.08744425517066",
         "21.33233306995006",
         "39.75",
         "52.37365402983451",
         "37.87486691218984",
         "34.832890895143706",
         "32.3516968217028",
         "46.75610797532941",
         "34.56246818788947",
         "41.83473850539929",
         "59.92390323692014",
         "53.96207583340994",
         "9.907881450637976",
         "6.434072966770598",
         "11.603686789925966",
         "14.759848740320008",
         "9.418218879124174",
         "7.185901281670254",
         "8.33563916386436",
         "11.715140020449315",
         "8.007763089643383",
         "7.781212334057311",
         "8.984031817958249",
         "7.9655145214295935"
        ],
        [
         "8",
         null,
         "OCEANIA",
         "0.0349492631420605",
         "0.05534059162031573",
         "1.0538810735541588",
         "0.8398301018727772",
         "0.36353877939228413",
         "0.039508183216490536",
         "0.6070618716631802",
         "0.7117485032238441",
         "0",
         "0.06677047244615385",
         "0.7257163267205677",
         "0.9248380200051611",
         "0.011904557614653005",
         "0.016691348449407954",
         "0.30764543122901605",
         "0.23667940495709008",
         "0.0903999954192369",
         "0.008150397429442851",
         "0.1564137034360989",
         "0.178334633391902",
         "0",
         "0.012419229623768083",
         "0.10880230121679338",
         "0.13651829668421014"
        ],
        [
         "9",
         "Imports",
         "WORLD",
         "1034.5394256801528",
         "1348.0259467278936",
         "1481.2243433417425",
         "1281.2074275500079",
         "1476.5099483773447",
         "1571.0946258966371",
         "1581.8144762227898",
         "1486.9343027633097",
         "1410.520446799369",
         "1568.9725638823377",
         "1751.5689343393103",
         "1629.3897840889606",
         "100",
         "100",
         "100",
         "100",
         "100",
         "100",
         "100",
         "100",
         "100",
         "100",
         "100",
         "100"
        ],
        [
         "10",
         null,
         "AFRICA",
         "327.61",
         "452.63",
         "487.84",
         "386.62",
         "511.6250992411902",
         "584.693086399509",
         "529.306603692081",
         "549.9",
         "543.75",
         "645.28",
         "861.6",
         "778.55",
         "31.66723199404551",
         "33.5772468696677",
         "32.93491645562615",
         "30.176222185919972",
         "34.65097541695917",
         "37.215650589207485",
         "33.46199011631318",
         "36.98213155605256",
         "38.54960069765954",
         "41.12755154897607",
         "49.19018504544296",
         "47.781691502092606"
        ],
        [
         "11",
         null,
         "AMERICA",
         "30.311142823588394",
         "55.066851696279",
         "25.476753569331674",
         "30.2087256615588",
         "31.283127006674942",
         "24.323541850296575",
         "36.04",
         "59.92",
         "51.24339811771385",
         "51.7",
         "46.7",
         "37.651475320425604",
         "2.9299166441782036",
         "4.08499938965897",
         "1.7199793997345731",
         "2.357832542332783",
         "2.118721044924518",
         "1.548190761356269",
         "2.2783961420090053",
         "4.02976781749167",
         "3.6329425946281697",
         "3.295150035770616",
         "2.6661811068038372",
         "2.3107715347238194"
        ],
        [
         "12",
         null,
         "ASIA",
         "539.29",
         "686.497779752426",
         "787.8565037041559",
         "664.13",
         "753.2595079185153",
         "774.895704962714",
         "780.331900969886",
         "709.88",
         "690.1483128486195",
         "715.0539080238955",
         "690.0028245048453",
         "671.95",
         "52.128511162872925",
         "50.92615475382978",
         "53.189546016148924",
         "51.83625896315511",
         "51.01621622978786",
         "49.322026324192564",
         "49.331442637523345",
         "47.741181212967064",
         "48.92862874938427",
         "45.57465977955238",
         "39.39341529627628",
         "41.23936497955319"
        ],
        [
         "13",
         null,
         "EUROPE",
         "125.86809512649971",
         "149.49348683877267",
         "176.20229028534288",
         "181.08220006307096",
         "172.1542245909354",
         "182.20956034795492",
         "233.07787921537653",
         "163.77740045387188",
         "120.56927595463573",
         "142.52714412128583",
         "136.36925209167273",
         "132.51",
         "12.166582732576707",
         "11.089807818732494",
         "11.895719313376835",
         "14.13371450783312",
         "11.659537057649324",
         "11.597618459420696",
         "14.73484297424958",
         "11.01443420529804",
         "8.547857369116564",
         "9.084106848153555",
         "7.785548682565042",
         "8.132492378064725"
        ],
        [
         "14",
         null,
         "OCEANIA",
         "11.464205244499809",
         "4.3413336906421005",
         "3.853043045734971",
         "19.170126011769486",
         "8.19",
         "4.97",
         "3.0566324674733245",
         "3.453807883135918",
         "4.808870374721636",
         "14.406613692886333",
         "16.897097791696087",
         "8.727304257837906",
         "1.1081458047829085",
         "0.3220511965055241",
         "0.260125555123017",
         "1.4962546734862134",
         "0.5546864082426703",
         "0.3163399529269969",
         "0.19323583855246088",
         "0.23227710038818677",
         "0.340928795866342",
         "0.9182196059080822",
         "0.964683573705288",
         "0.5356179560630789"
        ],
        [
         "15",
         "Re-Exports",
         "WORLD",
         "150.6553971830555",
         "161.7394402630839",
         "201.15164584896144",
         "190.42395165330547",
         "156.25277435433534",
         "154.52127101941767",
         "172.99703145780026",
         "159.55370666284614",
         "173.1654878845185",
         "164.00308225717004",
         "184.55894346212972",
         "177.28709361426786",
         "100",
         "100",
         "100",
         "100",
         "100",
         "100",
         "100",
         "100",
         "100",
         "100",
         "100",
         "100"
        ],
        [
         "16",
         null,
         "AFRICA",
         "147.8077132638422",
         "159.25777974469753",
         "196.77648008518568",
         "187.01",
         "153.38893847690292",
         "149.06130374757285",
         "165.94983240508023",
         "155.9797535981818",
         "170.0068850965832",
         "161.60256862774762",
         "181.44",
         "173.48041771984967",
         "98.10980291947112",
         "98.46564294129513",
         "97.82494160298299",
         "98.20718369529425",
         "98.16717758179571",
         "96.46652707693642",
         "95.9264046363483",
         "97.7600313152132",
         "98.17596287428721",
         "98.53629968633258",
         "98.31005563663204",
         "97.85281837678464"
        ],
        [
         "17",
         null,
         "AMERICA",
         "0.5990207456397035",
         "0.49",
         "0.2993423750528159",
         "0.53",
         "0.2955156309312252",
         "0.13",
         "0.09892691390012356",
         "0.24",
         "0.14",
         "0.13666594629097759",
         "0.14",
         "0.035661195713156596",
         "0.39760988111953055",
         "0.3029564089024733",
         "0.1488142807827597",
         "0.2783263320598147",
         "0.18912664568827597",
         "0.08413081198617876",
         "0.057184168460286636",
         "0.15041957032508518",
         "0.08084751858486024",
         "0.08333132792996803",
         "0.07585652441098152",
         "0.020114941807747377"
        ],
        [
         "18",
         null,
         "ASIA",
         "1.4269200981220096",
         "1.0021015315010107",
         "2.899200898753553",
         "1.9388149281787668",
         "1.689731864848504",
         "3.764366047564702",
         "5.969396968897612",
         "1.8386612719184214",
         "2.2543070009166",
         "1.3904638519582075",
         "2.1913520136242446",
         "2.1368776976366233",
         "0.9471417053769502",
         "0.6195777170188059",
         "1.4413011071907775",
         "1.0181570707600174",
         "1.0814091921444473",
         "2.436147478421698",
         "3.4505776882961983",
         "1.1523776603972649",
         "1.301822336804181",
         "0.8478278778796657",
         "1.1873453393895788",
         "1.2053205081504308"
        ],
        [
         "19",
         null,
         "EUROPE",
         "0.8217430754516609",
         "0.98",
         "1.1416705554486153",
         "0.9249230781453501",
         "0.8785883816527864",
         "1.5596440162620946",
         "0.978875169922412",
         "1.484929528260593",
         "0.7620060321804072",
         "0.8474820691226748",
         "0.7874066358056576",
         "1.6341370010685548",
         "0.545445494032446",
         "0.6059128178049465",
         "0.567567096272163",
         "0.48571782599560126",
         "0.5622865803716267",
         "1.0093393653655",
         "0.5658335068952858",
         "0.9306769233499577",
         "0.4400449774891505",
         "0.5167476473361364",
         "0.42664236207400497",
         "0.9217461732572738"
        ],
        [
         "20",
         null,
         "OCEANIA",
         "-1.2505552149377764e-13",
         "0.006036871700740676",
         "0.0069903869041525015",
         "0.019120374378121596",
         "9.094947017729283e-14",
         "0.0038968242510691196",
         "0",
         "0.0048013967695681005",
         "0.0031196600498333282",
         "0.02",
         "0",
         "0",
         "-8.300766108088883e-14",
         "0.003732467288696656",
         "0.0034751825542612596",
         "0.01004095031749631",
         "5.820662740428926e-14",
         "0.002521869141614446",
         "0",
         "0.0030092668293278573",
         "0.0018015483846953286",
         "0.012194892757343664",
         "0",
         "0"
        ],
        [
         "21",
         "Source: NISR",
         null,
         null,
         null,
         null,
         null,
         null,
         null,
         null,
         null,
         null,
         null,
         null,
         null,
         null,
         null,
         null,
         null,
         null,
         null,
         null,
         null,
         null,
         null,
         null,
         null
        ]
       ],
       "shape": {
        "columns": 26,
        "rows": 21
       }
      },
      "text/html": [
       "<div>\n",
       "<style scoped>\n",
       "    .dataframe tbody tr th:only-of-type {\n",
       "        vertical-align: middle;\n",
       "    }\n",
       "\n",
       "    .dataframe tbody tr th {\n",
       "        vertical-align: top;\n",
       "    }\n",
       "\n",
       "    .dataframe thead th {\n",
       "        text-align: right;\n",
       "    }\n",
       "</style>\n",
       "<table border=\"1\" class=\"dataframe\">\n",
       "  <thead>\n",
       "    <tr style=\"text-align: right;\">\n",
       "      <th></th>\n",
       "      <th>Unnamed: 0</th>\n",
       "      <th>Unnamed: 1</th>\n",
       "      <th>Unnamed: 2</th>\n",
       "      <th>Trade in Goods of Rwanda by Continents</th>\n",
       "      <th>Unnamed: 4</th>\n",
       "      <th>Unnamed: 5</th>\n",
       "      <th>Unnamed: 6</th>\n",
       "      <th>Unnamed: 7</th>\n",
       "      <th>Unnamed: 8</th>\n",
       "      <th>Unnamed: 9</th>\n",
       "      <th>Unnamed: 10</th>\n",
       "      <th>Unnamed: 11</th>\n",
       "      <th>Unnamed: 12</th>\n",
       "      <th>Unnamed: 13</th>\n",
       "      <th>Unnamed: 14</th>\n",
       "      <th>Unnamed: 15</th>\n",
       "      <th>Unnamed: 16</th>\n",
       "      <th>Unnamed: 17</th>\n",
       "      <th>Unnamed: 18</th>\n",
       "      <th>Unnamed: 19</th>\n",
       "      <th>Unnamed: 20</th>\n",
       "      <th>Unnamed: 21</th>\n",
       "      <th>Unnamed: 22</th>\n",
       "      <th>Unnamed: 23</th>\n",
       "      <th>Unnamed: 24</th>\n",
       "      <th>Unnamed: 25</th>\n",
       "    </tr>\n",
       "  </thead>\n",
       "  <tbody>\n",
       "    <tr>\n",
       "      <th>1</th>\n",
       "      <td>NaN</td>\n",
       "      <td>NaN</td>\n",
       "      <td>NaN</td>\n",
       "      <td>VALUES IN US$</td>\n",
       "      <td>NaN</td>\n",
       "      <td>NaN</td>\n",
       "      <td>NaN</td>\n",
       "      <td>NaN</td>\n",
       "      <td>NaN</td>\n",
       "      <td>NaN</td>\n",
       "      <td>NaN</td>\n",
       "      <td>NaN</td>\n",
       "      <td>NaN</td>\n",
       "      <td>NaN</td>\n",
       "      <td>NaN</td>\n",
       "      <td>SHARE IN %</td>\n",
       "      <td>NaN</td>\n",
       "      <td>NaN</td>\n",
       "      <td>NaN</td>\n",
       "      <td>NaN</td>\n",
       "      <td>NaN</td>\n",
       "      <td>NaN</td>\n",
       "      <td>NaN</td>\n",
       "      <td>NaN</td>\n",
       "      <td>NaN</td>\n",
       "      <td>NaN</td>\n",
       "    </tr>\n",
       "    <tr>\n",
       "      <th>2</th>\n",
       "      <td>Flow</td>\n",
       "      <td>Partner \\ Period</td>\n",
       "      <td>2022Q1</td>\n",
       "      <td>2022Q2</td>\n",
       "      <td>2022Q3</td>\n",
       "      <td>2022Q4</td>\n",
       "      <td>2023Q1</td>\n",
       "      <td>2023Q2</td>\n",
       "      <td>2023Q3</td>\n",
       "      <td>2023Q4</td>\n",
       "      <td>2024Q1</td>\n",
       "      <td>2024Q2</td>\n",
       "      <td>2024Q3</td>\n",
       "      <td>2024Q4</td>\n",
       "      <td>2022Q1</td>\n",
       "      <td>2022Q2</td>\n",
       "      <td>2022Q3</td>\n",
       "      <td>2022Q4</td>\n",
       "      <td>2023Q1</td>\n",
       "      <td>2023Q2</td>\n",
       "      <td>2023Q3</td>\n",
       "      <td>2023Q4</td>\n",
       "      <td>2024Q1</td>\n",
       "      <td>2024Q2</td>\n",
       "      <td>2024Q3</td>\n",
       "      <td>2024Q4</td>\n",
       "    </tr>\n",
       "    <tr>\n",
       "      <th>3</th>\n",
       "      <td>Exports</td>\n",
       "      <td>WORLD</td>\n",
       "      <td>293.578848</td>\n",
       "      <td>331.552551</td>\n",
       "      <td>342.563538</td>\n",
       "      <td>354.838691</td>\n",
       "      <td>402.144688</td>\n",
       "      <td>484.739346</td>\n",
       "      <td>388.112971</td>\n",
       "      <td>399.108401</td>\n",
       "      <td>431.612022</td>\n",
       "      <td>537.637796</td>\n",
       "      <td>667.004575</td>\n",
       "      <td>677.446205</td>\n",
       "      <td>100</td>\n",
       "      <td>100</td>\n",
       "      <td>100</td>\n",
       "      <td>100</td>\n",
       "      <td>100</td>\n",
       "      <td>100</td>\n",
       "      <td>100</td>\n",
       "      <td>100</td>\n",
       "      <td>100</td>\n",
       "      <td>100</td>\n",
       "      <td>100</td>\n",
       "      <td>100</td>\n",
       "    </tr>\n",
       "    <tr>\n",
       "      <th>4</th>\n",
       "      <td>NaN</td>\n",
       "      <td>AFRICA</td>\n",
       "      <td>75.48</td>\n",
       "      <td>65.215975</td>\n",
       "      <td>86.26</td>\n",
       "      <td>81.805987</td>\n",
       "      <td>91.749864</td>\n",
       "      <td>73.311712</td>\n",
       "      <td>83.861104</td>\n",
       "      <td>71.635173</td>\n",
       "      <td>72.31</td>\n",
       "      <td>69.6</td>\n",
       "      <td>87.32</td>\n",
       "      <td>112.92</td>\n",
       "      <td>25.710299</td>\n",
       "      <td>19.669876</td>\n",
       "      <td>25.18073</td>\n",
       "      <td>23.054416</td>\n",
       "      <td>22.815138</td>\n",
       "      <td>15.123945</td>\n",
       "      <td>21.607395</td>\n",
       "      <td>17.948801</td>\n",
       "      <td>16.753472</td>\n",
       "      <td>12.945518</td>\n",
       "      <td>13.091364</td>\n",
       "      <td>16.668482</td>\n",
       "    </tr>\n",
       "    <tr>\n",
       "      <th>5</th>\n",
       "      <td>NaN</td>\n",
       "      <td>AMERICA</td>\n",
       "      <td>3.820708</td>\n",
       "      <td>4.1</td>\n",
       "      <td>5.38</td>\n",
       "      <td>11.61</td>\n",
       "      <td>3.12</td>\n",
       "      <td>2.59</td>\n",
       "      <td>7.776345</td>\n",
       "      <td>9.276707</td>\n",
       "      <td>4.76</td>\n",
       "      <td>7.85</td>\n",
       "      <td>9.36</td>\n",
       "      <td>10.6</td>\n",
       "      <td>1.301425</td>\n",
       "      <td>1.236606</td>\n",
       "      <td>1.570512</td>\n",
       "      <td>3.271909</td>\n",
       "      <td>0.77584</td>\n",
       "      <td>0.534308</td>\n",
       "      <td>2.003629</td>\n",
       "      <td>2.324358</td>\n",
       "      <td>1.102842</td>\n",
       "      <td>1.460091</td>\n",
       "      <td>1.403289</td>\n",
       "      <td>1.5647</td>\n",
       "    </tr>\n",
       "    <tr>\n",
       "      <th>6</th>\n",
       "      <td>NaN</td>\n",
       "      <td>ASIA</td>\n",
       "      <td>185.156273</td>\n",
       "      <td>240.850321</td>\n",
       "      <td>210.12</td>\n",
       "      <td>208.208394</td>\n",
       "      <td>269.04</td>\n",
       "      <td>373.966047</td>\n",
       "      <td>263.52</td>\n",
       "      <td>270.73</td>\n",
       "      <td>319.98</td>\n",
       "      <td>418.283575</td>\n",
       "      <td>509.674629</td>\n",
       "      <td>499.034518</td>\n",
       "      <td>63.068669</td>\n",
       "      <td>72.643181</td>\n",
       "      <td>61.337526</td>\n",
       "      <td>58.676914</td>\n",
       "      <td>66.901294</td>\n",
       "      <td>77.147863</td>\n",
       "      <td>67.897756</td>\n",
       "      <td>67.833701</td>\n",
       "      <td>74.136026</td>\n",
       "      <td>77.800255</td>\n",
       "      <td>76.412464</td>\n",
       "      <td>73.66408</td>\n",
       "    </tr>\n",
       "    <tr>\n",
       "      <th>7</th>\n",
       "      <td>NaN</td>\n",
       "      <td>EUROPE</td>\n",
       "      <td>29.087444</td>\n",
       "      <td>21.332333</td>\n",
       "      <td>39.75</td>\n",
       "      <td>52.373654</td>\n",
       "      <td>37.874867</td>\n",
       "      <td>34.832891</td>\n",
       "      <td>32.351697</td>\n",
       "      <td>46.756108</td>\n",
       "      <td>34.562468</td>\n",
       "      <td>41.834739</td>\n",
       "      <td>59.923903</td>\n",
       "      <td>53.962076</td>\n",
       "      <td>9.907881</td>\n",
       "      <td>6.434073</td>\n",
       "      <td>11.603687</td>\n",
       "      <td>14.759849</td>\n",
       "      <td>9.418219</td>\n",
       "      <td>7.185901</td>\n",
       "      <td>8.335639</td>\n",
       "      <td>11.71514</td>\n",
       "      <td>8.007763</td>\n",
       "      <td>7.781212</td>\n",
       "      <td>8.984032</td>\n",
       "      <td>7.965515</td>\n",
       "    </tr>\n",
       "    <tr>\n",
       "      <th>8</th>\n",
       "      <td>NaN</td>\n",
       "      <td>OCEANIA</td>\n",
       "      <td>0.034949</td>\n",
       "      <td>0.055341</td>\n",
       "      <td>1.053881</td>\n",
       "      <td>0.83983</td>\n",
       "      <td>0.363539</td>\n",
       "      <td>0.039508</td>\n",
       "      <td>0.607062</td>\n",
       "      <td>0.711749</td>\n",
       "      <td>0</td>\n",
       "      <td>0.06677</td>\n",
       "      <td>0.725716</td>\n",
       "      <td>0.924838</td>\n",
       "      <td>0.011905</td>\n",
       "      <td>0.016691</td>\n",
       "      <td>0.307645</td>\n",
       "      <td>0.236679</td>\n",
       "      <td>0.0904</td>\n",
       "      <td>0.00815</td>\n",
       "      <td>0.156414</td>\n",
       "      <td>0.178335</td>\n",
       "      <td>0</td>\n",
       "      <td>0.012419</td>\n",
       "      <td>0.108802</td>\n",
       "      <td>0.136518</td>\n",
       "    </tr>\n",
       "    <tr>\n",
       "      <th>9</th>\n",
       "      <td>Imports</td>\n",
       "      <td>WORLD</td>\n",
       "      <td>1034.539426</td>\n",
       "      <td>1348.025947</td>\n",
       "      <td>1481.224343</td>\n",
       "      <td>1281.207428</td>\n",
       "      <td>1476.509948</td>\n",
       "      <td>1571.094626</td>\n",
       "      <td>1581.814476</td>\n",
       "      <td>1486.934303</td>\n",
       "      <td>1410.520447</td>\n",
       "      <td>1568.972564</td>\n",
       "      <td>1751.568934</td>\n",
       "      <td>1629.389784</td>\n",
       "      <td>100</td>\n",
       "      <td>100</td>\n",
       "      <td>100</td>\n",
       "      <td>100</td>\n",
       "      <td>100</td>\n",
       "      <td>100</td>\n",
       "      <td>100</td>\n",
       "      <td>100</td>\n",
       "      <td>100</td>\n",
       "      <td>100</td>\n",
       "      <td>100</td>\n",
       "      <td>100</td>\n",
       "    </tr>\n",
       "    <tr>\n",
       "      <th>10</th>\n",
       "      <td>NaN</td>\n",
       "      <td>AFRICA</td>\n",
       "      <td>327.61</td>\n",
       "      <td>452.63</td>\n",
       "      <td>487.84</td>\n",
       "      <td>386.62</td>\n",
       "      <td>511.625099</td>\n",
       "      <td>584.693086</td>\n",
       "      <td>529.306604</td>\n",
       "      <td>549.9</td>\n",
       "      <td>543.75</td>\n",
       "      <td>645.28</td>\n",
       "      <td>861.6</td>\n",
       "      <td>778.55</td>\n",
       "      <td>31.667232</td>\n",
       "      <td>33.577247</td>\n",
       "      <td>32.934916</td>\n",
       "      <td>30.176222</td>\n",
       "      <td>34.650975</td>\n",
       "      <td>37.215651</td>\n",
       "      <td>33.46199</td>\n",
       "      <td>36.982132</td>\n",
       "      <td>38.549601</td>\n",
       "      <td>41.127552</td>\n",
       "      <td>49.190185</td>\n",
       "      <td>47.781692</td>\n",
       "    </tr>\n",
       "    <tr>\n",
       "      <th>11</th>\n",
       "      <td>NaN</td>\n",
       "      <td>AMERICA</td>\n",
       "      <td>30.311143</td>\n",
       "      <td>55.066852</td>\n",
       "      <td>25.476754</td>\n",
       "      <td>30.208726</td>\n",
       "      <td>31.283127</td>\n",
       "      <td>24.323542</td>\n",
       "      <td>36.04</td>\n",
       "      <td>59.92</td>\n",
       "      <td>51.243398</td>\n",
       "      <td>51.7</td>\n",
       "      <td>46.7</td>\n",
       "      <td>37.651475</td>\n",
       "      <td>2.929917</td>\n",
       "      <td>4.084999</td>\n",
       "      <td>1.719979</td>\n",
       "      <td>2.357833</td>\n",
       "      <td>2.118721</td>\n",
       "      <td>1.548191</td>\n",
       "      <td>2.278396</td>\n",
       "      <td>4.029768</td>\n",
       "      <td>3.632943</td>\n",
       "      <td>3.29515</td>\n",
       "      <td>2.666181</td>\n",
       "      <td>2.310772</td>\n",
       "    </tr>\n",
       "    <tr>\n",
       "      <th>12</th>\n",
       "      <td>NaN</td>\n",
       "      <td>ASIA</td>\n",
       "      <td>539.29</td>\n",
       "      <td>686.49778</td>\n",
       "      <td>787.856504</td>\n",
       "      <td>664.13</td>\n",
       "      <td>753.259508</td>\n",
       "      <td>774.895705</td>\n",
       "      <td>780.331901</td>\n",
       "      <td>709.88</td>\n",
       "      <td>690.148313</td>\n",
       "      <td>715.053908</td>\n",
       "      <td>690.002825</td>\n",
       "      <td>671.95</td>\n",
       "      <td>52.128511</td>\n",
       "      <td>50.926155</td>\n",
       "      <td>53.189546</td>\n",
       "      <td>51.836259</td>\n",
       "      <td>51.016216</td>\n",
       "      <td>49.322026</td>\n",
       "      <td>49.331443</td>\n",
       "      <td>47.741181</td>\n",
       "      <td>48.928629</td>\n",
       "      <td>45.57466</td>\n",
       "      <td>39.393415</td>\n",
       "      <td>41.239365</td>\n",
       "    </tr>\n",
       "    <tr>\n",
       "      <th>13</th>\n",
       "      <td>NaN</td>\n",
       "      <td>EUROPE</td>\n",
       "      <td>125.868095</td>\n",
       "      <td>149.493487</td>\n",
       "      <td>176.20229</td>\n",
       "      <td>181.0822</td>\n",
       "      <td>172.154225</td>\n",
       "      <td>182.20956</td>\n",
       "      <td>233.077879</td>\n",
       "      <td>163.7774</td>\n",
       "      <td>120.569276</td>\n",
       "      <td>142.527144</td>\n",
       "      <td>136.369252</td>\n",
       "      <td>132.51</td>\n",
       "      <td>12.166583</td>\n",
       "      <td>11.089808</td>\n",
       "      <td>11.895719</td>\n",
       "      <td>14.133715</td>\n",
       "      <td>11.659537</td>\n",
       "      <td>11.597618</td>\n",
       "      <td>14.734843</td>\n",
       "      <td>11.014434</td>\n",
       "      <td>8.547857</td>\n",
       "      <td>9.084107</td>\n",
       "      <td>7.785549</td>\n",
       "      <td>8.132492</td>\n",
       "    </tr>\n",
       "    <tr>\n",
       "      <th>14</th>\n",
       "      <td>NaN</td>\n",
       "      <td>OCEANIA</td>\n",
       "      <td>11.464205</td>\n",
       "      <td>4.341334</td>\n",
       "      <td>3.853043</td>\n",
       "      <td>19.170126</td>\n",
       "      <td>8.19</td>\n",
       "      <td>4.97</td>\n",
       "      <td>3.056632</td>\n",
       "      <td>3.453808</td>\n",
       "      <td>4.80887</td>\n",
       "      <td>14.406614</td>\n",
       "      <td>16.897098</td>\n",
       "      <td>8.727304</td>\n",
       "      <td>1.108146</td>\n",
       "      <td>0.322051</td>\n",
       "      <td>0.260126</td>\n",
       "      <td>1.496255</td>\n",
       "      <td>0.554686</td>\n",
       "      <td>0.31634</td>\n",
       "      <td>0.193236</td>\n",
       "      <td>0.232277</td>\n",
       "      <td>0.340929</td>\n",
       "      <td>0.91822</td>\n",
       "      <td>0.964684</td>\n",
       "      <td>0.535618</td>\n",
       "    </tr>\n",
       "    <tr>\n",
       "      <th>15</th>\n",
       "      <td>Re-Exports</td>\n",
       "      <td>WORLD</td>\n",
       "      <td>150.655397</td>\n",
       "      <td>161.73944</td>\n",
       "      <td>201.151646</td>\n",
       "      <td>190.423952</td>\n",
       "      <td>156.252774</td>\n",
       "      <td>154.521271</td>\n",
       "      <td>172.997031</td>\n",
       "      <td>159.553707</td>\n",
       "      <td>173.165488</td>\n",
       "      <td>164.003082</td>\n",
       "      <td>184.558943</td>\n",
       "      <td>177.287094</td>\n",
       "      <td>100</td>\n",
       "      <td>100</td>\n",
       "      <td>100</td>\n",
       "      <td>100</td>\n",
       "      <td>100</td>\n",
       "      <td>100</td>\n",
       "      <td>100</td>\n",
       "      <td>100</td>\n",
       "      <td>100</td>\n",
       "      <td>100</td>\n",
       "      <td>100</td>\n",
       "      <td>100</td>\n",
       "    </tr>\n",
       "    <tr>\n",
       "      <th>16</th>\n",
       "      <td>NaN</td>\n",
       "      <td>AFRICA</td>\n",
       "      <td>147.807713</td>\n",
       "      <td>159.25778</td>\n",
       "      <td>196.77648</td>\n",
       "      <td>187.01</td>\n",
       "      <td>153.388938</td>\n",
       "      <td>149.061304</td>\n",
       "      <td>165.949832</td>\n",
       "      <td>155.979754</td>\n",
       "      <td>170.006885</td>\n",
       "      <td>161.602569</td>\n",
       "      <td>181.44</td>\n",
       "      <td>173.480418</td>\n",
       "      <td>98.109803</td>\n",
       "      <td>98.465643</td>\n",
       "      <td>97.824942</td>\n",
       "      <td>98.207184</td>\n",
       "      <td>98.167178</td>\n",
       "      <td>96.466527</td>\n",
       "      <td>95.926405</td>\n",
       "      <td>97.760031</td>\n",
       "      <td>98.175963</td>\n",
       "      <td>98.5363</td>\n",
       "      <td>98.310056</td>\n",
       "      <td>97.852818</td>\n",
       "    </tr>\n",
       "    <tr>\n",
       "      <th>17</th>\n",
       "      <td>NaN</td>\n",
       "      <td>AMERICA</td>\n",
       "      <td>0.599021</td>\n",
       "      <td>0.49</td>\n",
       "      <td>0.299342</td>\n",
       "      <td>0.53</td>\n",
       "      <td>0.295516</td>\n",
       "      <td>0.13</td>\n",
       "      <td>0.098927</td>\n",
       "      <td>0.24</td>\n",
       "      <td>0.14</td>\n",
       "      <td>0.136666</td>\n",
       "      <td>0.14</td>\n",
       "      <td>0.035661</td>\n",
       "      <td>0.39761</td>\n",
       "      <td>0.302956</td>\n",
       "      <td>0.148814</td>\n",
       "      <td>0.278326</td>\n",
       "      <td>0.189127</td>\n",
       "      <td>0.084131</td>\n",
       "      <td>0.057184</td>\n",
       "      <td>0.15042</td>\n",
       "      <td>0.080848</td>\n",
       "      <td>0.083331</td>\n",
       "      <td>0.075857</td>\n",
       "      <td>0.020115</td>\n",
       "    </tr>\n",
       "    <tr>\n",
       "      <th>18</th>\n",
       "      <td>NaN</td>\n",
       "      <td>ASIA</td>\n",
       "      <td>1.42692</td>\n",
       "      <td>1.002102</td>\n",
       "      <td>2.899201</td>\n",
       "      <td>1.938815</td>\n",
       "      <td>1.689732</td>\n",
       "      <td>3.764366</td>\n",
       "      <td>5.969397</td>\n",
       "      <td>1.838661</td>\n",
       "      <td>2.254307</td>\n",
       "      <td>1.390464</td>\n",
       "      <td>2.191352</td>\n",
       "      <td>2.136878</td>\n",
       "      <td>0.947142</td>\n",
       "      <td>0.619578</td>\n",
       "      <td>1.441301</td>\n",
       "      <td>1.018157</td>\n",
       "      <td>1.081409</td>\n",
       "      <td>2.436147</td>\n",
       "      <td>3.450578</td>\n",
       "      <td>1.152378</td>\n",
       "      <td>1.301822</td>\n",
       "      <td>0.847828</td>\n",
       "      <td>1.187345</td>\n",
       "      <td>1.205321</td>\n",
       "    </tr>\n",
       "    <tr>\n",
       "      <th>19</th>\n",
       "      <td>NaN</td>\n",
       "      <td>EUROPE</td>\n",
       "      <td>0.821743</td>\n",
       "      <td>0.98</td>\n",
       "      <td>1.141671</td>\n",
       "      <td>0.924923</td>\n",
       "      <td>0.878588</td>\n",
       "      <td>1.559644</td>\n",
       "      <td>0.978875</td>\n",
       "      <td>1.48493</td>\n",
       "      <td>0.762006</td>\n",
       "      <td>0.847482</td>\n",
       "      <td>0.787407</td>\n",
       "      <td>1.634137</td>\n",
       "      <td>0.545445</td>\n",
       "      <td>0.605913</td>\n",
       "      <td>0.567567</td>\n",
       "      <td>0.485718</td>\n",
       "      <td>0.562287</td>\n",
       "      <td>1.009339</td>\n",
       "      <td>0.565834</td>\n",
       "      <td>0.930677</td>\n",
       "      <td>0.440045</td>\n",
       "      <td>0.516748</td>\n",
       "      <td>0.426642</td>\n",
       "      <td>0.921746</td>\n",
       "    </tr>\n",
       "    <tr>\n",
       "      <th>20</th>\n",
       "      <td>NaN</td>\n",
       "      <td>OCEANIA</td>\n",
       "      <td>-0.0</td>\n",
       "      <td>0.006037</td>\n",
       "      <td>0.00699</td>\n",
       "      <td>0.01912</td>\n",
       "      <td>0.0</td>\n",
       "      <td>0.003897</td>\n",
       "      <td>0</td>\n",
       "      <td>0.004801</td>\n",
       "      <td>0.00312</td>\n",
       "      <td>0.02</td>\n",
       "      <td>0</td>\n",
       "      <td>0</td>\n",
       "      <td>-0.0</td>\n",
       "      <td>0.003732</td>\n",
       "      <td>0.003475</td>\n",
       "      <td>0.010041</td>\n",
       "      <td>0.0</td>\n",
       "      <td>0.002522</td>\n",
       "      <td>0</td>\n",
       "      <td>0.003009</td>\n",
       "      <td>0.001802</td>\n",
       "      <td>0.012195</td>\n",
       "      <td>0</td>\n",
       "      <td>0</td>\n",
       "    </tr>\n",
       "    <tr>\n",
       "      <th>21</th>\n",
       "      <td>Source: NISR</td>\n",
       "      <td>NaN</td>\n",
       "      <td>NaN</td>\n",
       "      <td>NaN</td>\n",
       "      <td>NaN</td>\n",
       "      <td>NaN</td>\n",
       "      <td>NaN</td>\n",
       "      <td>NaN</td>\n",
       "      <td>NaN</td>\n",
       "      <td>NaN</td>\n",
       "      <td>NaN</td>\n",
       "      <td>NaN</td>\n",
       "      <td>NaN</td>\n",
       "      <td>NaN</td>\n",
       "      <td>NaN</td>\n",
       "      <td>NaN</td>\n",
       "      <td>NaN</td>\n",
       "      <td>NaN</td>\n",
       "      <td>NaN</td>\n",
       "      <td>NaN</td>\n",
       "      <td>NaN</td>\n",
       "      <td>NaN</td>\n",
       "      <td>NaN</td>\n",
       "      <td>NaN</td>\n",
       "      <td>NaN</td>\n",
       "      <td>NaN</td>\n",
       "    </tr>\n",
       "  </tbody>\n",
       "</table>\n",
       "</div>"
      ],
      "text/plain": [
       "      Unnamed: 0        Unnamed: 1   Unnamed: 2  \\\n",
       "1            NaN               NaN          NaN   \n",
       "2           Flow  Partner \\ Period       2022Q1   \n",
       "3        Exports             WORLD   293.578848   \n",
       "4            NaN            AFRICA        75.48   \n",
       "5            NaN           AMERICA     3.820708   \n",
       "6            NaN              ASIA   185.156273   \n",
       "7            NaN            EUROPE    29.087444   \n",
       "8            NaN           OCEANIA     0.034949   \n",
       "9        Imports             WORLD  1034.539426   \n",
       "10           NaN            AFRICA       327.61   \n",
       "11           NaN           AMERICA    30.311143   \n",
       "12           NaN              ASIA       539.29   \n",
       "13           NaN            EUROPE   125.868095   \n",
       "14           NaN           OCEANIA    11.464205   \n",
       "15    Re-Exports             WORLD   150.655397   \n",
       "16           NaN            AFRICA   147.807713   \n",
       "17           NaN           AMERICA     0.599021   \n",
       "18           NaN              ASIA      1.42692   \n",
       "19           NaN            EUROPE     0.821743   \n",
       "20           NaN           OCEANIA         -0.0   \n",
       "21  Source: NISR               NaN          NaN   \n",
       "\n",
       "   Trade in Goods of Rwanda by Continents   Unnamed: 4   Unnamed: 5  \\\n",
       "1                           VALUES IN US$          NaN          NaN   \n",
       "2                                  2022Q2       2022Q3       2022Q4   \n",
       "3                              331.552551   342.563538   354.838691   \n",
       "4                               65.215975        86.26    81.805987   \n",
       "5                                     4.1         5.38        11.61   \n",
       "6                              240.850321       210.12   208.208394   \n",
       "7                               21.332333        39.75    52.373654   \n",
       "8                                0.055341     1.053881      0.83983   \n",
       "9                             1348.025947  1481.224343  1281.207428   \n",
       "10                                 452.63       487.84       386.62   \n",
       "11                              55.066852    25.476754    30.208726   \n",
       "12                              686.49778   787.856504       664.13   \n",
       "13                             149.493487    176.20229     181.0822   \n",
       "14                               4.341334     3.853043    19.170126   \n",
       "15                              161.73944   201.151646   190.423952   \n",
       "16                              159.25778    196.77648       187.01   \n",
       "17                                   0.49     0.299342         0.53   \n",
       "18                               1.002102     2.899201     1.938815   \n",
       "19                                   0.98     1.141671     0.924923   \n",
       "20                               0.006037      0.00699      0.01912   \n",
       "21                                    NaN          NaN          NaN   \n",
       "\n",
       "     Unnamed: 6   Unnamed: 7   Unnamed: 8   Unnamed: 9  Unnamed: 10  \\\n",
       "1           NaN          NaN          NaN          NaN          NaN   \n",
       "2        2023Q1       2023Q2       2023Q3       2023Q4       2024Q1   \n",
       "3    402.144688   484.739346   388.112971   399.108401   431.612022   \n",
       "4     91.749864    73.311712    83.861104    71.635173        72.31   \n",
       "5          3.12         2.59     7.776345     9.276707         4.76   \n",
       "6        269.04   373.966047       263.52       270.73       319.98   \n",
       "7     37.874867    34.832891    32.351697    46.756108    34.562468   \n",
       "8      0.363539     0.039508     0.607062     0.711749            0   \n",
       "9   1476.509948  1571.094626  1581.814476  1486.934303  1410.520447   \n",
       "10   511.625099   584.693086   529.306604        549.9       543.75   \n",
       "11    31.283127    24.323542        36.04        59.92    51.243398   \n",
       "12   753.259508   774.895705   780.331901       709.88   690.148313   \n",
       "13   172.154225    182.20956   233.077879     163.7774   120.569276   \n",
       "14         8.19         4.97     3.056632     3.453808      4.80887   \n",
       "15   156.252774   154.521271   172.997031   159.553707   173.165488   \n",
       "16   153.388938   149.061304   165.949832   155.979754   170.006885   \n",
       "17     0.295516         0.13     0.098927         0.24         0.14   \n",
       "18     1.689732     3.764366     5.969397     1.838661     2.254307   \n",
       "19     0.878588     1.559644     0.978875      1.48493     0.762006   \n",
       "20          0.0     0.003897            0     0.004801      0.00312   \n",
       "21          NaN          NaN          NaN          NaN          NaN   \n",
       "\n",
       "    Unnamed: 11  Unnamed: 12  Unnamed: 13 Unnamed: 14 Unnamed: 15 Unnamed: 16  \\\n",
       "1           NaN          NaN          NaN         NaN  SHARE IN %         NaN   \n",
       "2        2024Q2       2024Q3       2024Q4      2022Q1      2022Q2      2022Q3   \n",
       "3    537.637796   667.004575   677.446205         100         100         100   \n",
       "4          69.6        87.32       112.92   25.710299   19.669876    25.18073   \n",
       "5          7.85         9.36         10.6    1.301425    1.236606    1.570512   \n",
       "6    418.283575   509.674629   499.034518   63.068669   72.643181   61.337526   \n",
       "7     41.834739    59.923903    53.962076    9.907881    6.434073   11.603687   \n",
       "8       0.06677     0.725716     0.924838    0.011905    0.016691    0.307645   \n",
       "9   1568.972564  1751.568934  1629.389784         100         100         100   \n",
       "10       645.28        861.6       778.55   31.667232   33.577247   32.934916   \n",
       "11         51.7         46.7    37.651475    2.929917    4.084999    1.719979   \n",
       "12   715.053908   690.002825       671.95   52.128511   50.926155   53.189546   \n",
       "13   142.527144   136.369252       132.51   12.166583   11.089808   11.895719   \n",
       "14    14.406614    16.897098     8.727304    1.108146    0.322051    0.260126   \n",
       "15   164.003082   184.558943   177.287094         100         100         100   \n",
       "16   161.602569       181.44   173.480418   98.109803   98.465643   97.824942   \n",
       "17     0.136666         0.14     0.035661     0.39761    0.302956    0.148814   \n",
       "18     1.390464     2.191352     2.136878    0.947142    0.619578    1.441301   \n",
       "19     0.847482     0.787407     1.634137    0.545445    0.605913    0.567567   \n",
       "20         0.02            0            0        -0.0    0.003732    0.003475   \n",
       "21          NaN          NaN          NaN         NaN         NaN         NaN   \n",
       "\n",
       "   Unnamed: 17 Unnamed: 18 Unnamed: 19 Unnamed: 20 Unnamed: 21 Unnamed: 22  \\\n",
       "1          NaN         NaN         NaN         NaN         NaN         NaN   \n",
       "2       2022Q4      2023Q1      2023Q2      2023Q3      2023Q4      2024Q1   \n",
       "3          100         100         100         100         100         100   \n",
       "4    23.054416   22.815138   15.123945   21.607395   17.948801   16.753472   \n",
       "5     3.271909     0.77584    0.534308    2.003629    2.324358    1.102842   \n",
       "6    58.676914   66.901294   77.147863   67.897756   67.833701   74.136026   \n",
       "7    14.759849    9.418219    7.185901    8.335639    11.71514    8.007763   \n",
       "8     0.236679      0.0904     0.00815    0.156414    0.178335           0   \n",
       "9          100         100         100         100         100         100   \n",
       "10   30.176222   34.650975   37.215651    33.46199   36.982132   38.549601   \n",
       "11    2.357833    2.118721    1.548191    2.278396    4.029768    3.632943   \n",
       "12   51.836259   51.016216   49.322026   49.331443   47.741181   48.928629   \n",
       "13   14.133715   11.659537   11.597618   14.734843   11.014434    8.547857   \n",
       "14    1.496255    0.554686     0.31634    0.193236    0.232277    0.340929   \n",
       "15         100         100         100         100         100         100   \n",
       "16   98.207184   98.167178   96.466527   95.926405   97.760031   98.175963   \n",
       "17    0.278326    0.189127    0.084131    0.057184     0.15042    0.080848   \n",
       "18    1.018157    1.081409    2.436147    3.450578    1.152378    1.301822   \n",
       "19    0.485718    0.562287    1.009339    0.565834    0.930677    0.440045   \n",
       "20    0.010041         0.0    0.002522           0    0.003009    0.001802   \n",
       "21         NaN         NaN         NaN         NaN         NaN         NaN   \n",
       "\n",
       "   Unnamed: 23 Unnamed: 24 Unnamed: 25  \n",
       "1          NaN         NaN         NaN  \n",
       "2       2024Q2      2024Q3      2024Q4  \n",
       "3          100         100         100  \n",
       "4    12.945518   13.091364   16.668482  \n",
       "5     1.460091    1.403289      1.5647  \n",
       "6    77.800255   76.412464    73.66408  \n",
       "7     7.781212    8.984032    7.965515  \n",
       "8     0.012419    0.108802    0.136518  \n",
       "9          100         100         100  \n",
       "10   41.127552   49.190185   47.781692  \n",
       "11     3.29515    2.666181    2.310772  \n",
       "12    45.57466   39.393415   41.239365  \n",
       "13    9.084107    7.785549    8.132492  \n",
       "14     0.91822    0.964684    0.535618  \n",
       "15         100         100         100  \n",
       "16     98.5363   98.310056   97.852818  \n",
       "17    0.083331    0.075857    0.020115  \n",
       "18    0.847828    1.187345    1.205321  \n",
       "19    0.516748    0.426642    0.921746  \n",
       "20    0.012195           0           0  \n",
       "21         NaN         NaN         NaN  "
      ]
     },
     "metadata": {},
     "output_type": "display_data"
    }
   ],
   "source": [
    "# Analyze regional blocks and continental trade\n",
    "regional_sheets = ['Regional blocks', 'Trade by continents']\n",
    "\n",
    "for sheet_name in regional_sheets:\n",
    "    if sheet_name in cleaned_data:\n",
    "        df = cleaned_data[sheet_name]\n",
    "        \n",
    "        print(f\"\\n🌍 {sheet_name.upper()} Analysis\")\n",
    "        print(\"=\" * (len(sheet_name) + 20))\n",
    "        \n",
    "        # Display basic information\n",
    "        print(f\"📊 Data shape: {df.shape[0]} rows × {df.shape[1]} columns\")\n",
    "        print(f\"📋 Columns: {list(df.columns)}\")\n",
    "        \n",
    "        # Show sample data\n",
    "        print(f\"\\n📋 Sample Data:\")\n",
    "        display(df.head())\n",
    "        \n",
    "        # Analyze if it's continental data\n",
    "        if 'continent' in sheet_name.lower():\n",
    "            # Extract export data by continent\n",
    "            continent_exports = {}\n",
    "            for _, row in df.iterrows():\n",
    "                if isinstance(row.get('Flow'), str) and row.get('Flow') == 'Exports':\n",
    "                    continent = row.get('Partner')\n",
    "                    value = row.get('2024Q4', 0)\n",
    "                    if pd.notna(value) and continent != 'WORLD':\n",
    "                        continent_exports[continent] = float(value)\n",
    "            \n",
    "            if continent_exports:\n",
    "                print(f\"\\n🌍 Continental Export Analysis (Q4 2024):\")\n",
    "                for continent, value in sorted(continent_exports.items(), key=lambda x: x[1], reverse=True):\n",
    "                    print(f\"   {continent}: ${value:.2f}M\")\n",
    "                \n",
    "                # Find top continent\n",
    "                top_continent = max(continent_exports.items(), key=lambda x: x[1])\n",
    "                print(f\"\\n🏆 Top Export Destination: {top_continent[0]} - ${top_continent[1]:.2f}M\")\n",
    "                \n",
    "                # Calculate diversity\n",
    "                print(f\"📊 Geographic Diversity: {len(continent_exports)} continents\")\n",
    "        \n",
    "        print(f\"\\n📋 Complete {sheet_name} Data:\")\n",
    "        display(df)\n",
    "        \n",
    "    else:\n",
    "        print(f\"❌ {sheet_name} not found in cleaned data\")"
   ]
  },
  {
   "cell_type": "code",
   "execution_count": null,
   "metadata": {},
   "outputs": [],
   "source": [
    "# 3. Country-Specific Trade Analysis\n",
    "\n",
    "This section analyzes Rwanda's trade relationships with individual countries, focusing on top export destinations, import sources, and re-export partners."
   ]
  },
  {
   "cell_type": "code",
   "execution_count": 12,
   "metadata": {},
   "outputs": [
    {
     "name": "stdout",
     "output_type": "stream",
     "text": [
      "🚀 Export Countries Analysis\n",
      "===================================\n",
      "📊 Countries analyzed: 20\n",
      "\n",
      "🏆 Top 10 Export Destinations (Q4 2024):\n",
      "   1. China: $20.43M (3.02%)\n",
      "   2. Luxembourg: $14.10M (2.08%)\n",
      "   3. United Kingdom: $9.31M (1.37%)\n",
      "   4. United States: $8.97M (1.32%)\n",
      "   5. Uganda: $7.50M (1.11%)\n",
      "   6. India: $6.18M (0.91%)\n",
      "   7. Hong Kong: $5.89M (0.87%)\n",
      "   8. Netherlands: $5.76M (0.85%)\n",
      "   9. Italy: $5.72M (0.84%)\n",
      "   10. Belgium: $5.44M (0.80%)\n",
      "\n",
      "📈 Export Concentration:\n",
      "   Top 5 countries: 51.60% of total exports\n",
      "   Export diversity: 20 countries\n",
      "\n",
      "📈 Average YoY Growth: 402858.56%\n",
      "\n",
      "🚀 Fastest Growing Markets:\n",
      "   Ethiopia: 7249960.82% growth\n",
      "   Thailand: 939.90% growth\n",
      "   Belgium: 145.20% growth\n",
      "   Italy: 117.04% growth\n",
      "   Singapore: 90.20% growth\n",
      "\n",
      "📋 Top Export Countries Data:\n"
     ]
    },
    {
     "data": {
      "application/vnd.microsoft.datawrangler.viewer.v0+json": {
       "columns": [
        {
         "name": "index",
         "rawType": "int64",
         "type": "integer"
        },
        {
         "name": "country",
         "rawType": "object",
         "type": "string"
        },
        {
         "name": "q4_2024",
         "rawType": "float64",
         "type": "float"
        },
        {
         "name": "share_q4",
         "rawType": "float64",
         "type": "float"
        },
        {
         "name": "growth_qoq",
         "rawType": "float64",
         "type": "float"
        },
        {
         "name": "growth_yoy",
         "rawType": "float64",
         "type": "float"
        }
       ],
       "ref": "94ded5d7-238a-4238-b7f6-1de66ced6de2",
       "rows": [
        [
         "0",
         "China",
         "20.42731227798233",
         "3.0153408680268545",
         "-0.1054128386533999",
         "0.06933288237315804"
        ],
        [
         "1",
         "Luxembourg",
         "14.104303092608351",
         "2.0819812685793173",
         "0.024366077595296742",
         "0.7609572333426722"
        ],
        [
         "2",
         "United Kingdom",
         "9.310812866389798",
         "1.374398852306991",
         "-0.14638669136651938",
         "0.17106430612979673"
        ],
        [
         "3",
         "United States",
         "8.96866253380225",
         "1.3238929479168067",
         "0.09877277028458376",
         "0.021664645644321023"
        ],
        [
         "4",
         "Uganda",
         "7.5039074536482016",
         "1.1076757679601927",
         "0.6563908062853412",
         "0.8799832335974986"
        ],
        [
         "5",
         "India",
         "6.180915322446868",
         "0.9123846700907396",
         "1.3516024172630074",
         "0.6091356581571203"
        ],
        [
         "6",
         "Hong Kong",
         "5.888581333649638",
         "0.8692323154618977",
         "-0.309246853098018",
         "-0.4021625823861411"
        ],
        [
         "7",
         "Netherlands",
         "5.757676657700764",
         "0.8499090577649021",
         "-0.1494029691403067",
         "0.7371995919997683"
        ],
        [
         "8",
         "Italy",
         "5.722292233192514",
         "0.8446858497451991",
         "3.760777316239442",
         "1.170395174066643"
        ],
        [
         "9",
         "Belgium",
         "5.4444087953521985",
         "0.8036665871390826",
         "-0.022469878365313223",
         "1.4519664120132862"
        ]
       ],
       "shape": {
        "columns": 5,
        "rows": 10
       }
      },
      "text/html": [
       "<div>\n",
       "<style scoped>\n",
       "    .dataframe tbody tr th:only-of-type {\n",
       "        vertical-align: middle;\n",
       "    }\n",
       "\n",
       "    .dataframe tbody tr th {\n",
       "        vertical-align: top;\n",
       "    }\n",
       "\n",
       "    .dataframe thead th {\n",
       "        text-align: right;\n",
       "    }\n",
       "</style>\n",
       "<table border=\"1\" class=\"dataframe\">\n",
       "  <thead>\n",
       "    <tr style=\"text-align: right;\">\n",
       "      <th></th>\n",
       "      <th>country</th>\n",
       "      <th>q4_2024</th>\n",
       "      <th>share_q4</th>\n",
       "      <th>growth_qoq</th>\n",
       "      <th>growth_yoy</th>\n",
       "    </tr>\n",
       "  </thead>\n",
       "  <tbody>\n",
       "    <tr>\n",
       "      <th>0</th>\n",
       "      <td>China</td>\n",
       "      <td>20.427312</td>\n",
       "      <td>3.015341</td>\n",
       "      <td>-0.105413</td>\n",
       "      <td>0.069333</td>\n",
       "    </tr>\n",
       "    <tr>\n",
       "      <th>1</th>\n",
       "      <td>Luxembourg</td>\n",
       "      <td>14.104303</td>\n",
       "      <td>2.081981</td>\n",
       "      <td>0.024366</td>\n",
       "      <td>0.760957</td>\n",
       "    </tr>\n",
       "    <tr>\n",
       "      <th>2</th>\n",
       "      <td>United Kingdom</td>\n",
       "      <td>9.310813</td>\n",
       "      <td>1.374399</td>\n",
       "      <td>-0.146387</td>\n",
       "      <td>0.171064</td>\n",
       "    </tr>\n",
       "    <tr>\n",
       "      <th>3</th>\n",
       "      <td>United States</td>\n",
       "      <td>8.968663</td>\n",
       "      <td>1.323893</td>\n",
       "      <td>0.098773</td>\n",
       "      <td>0.021665</td>\n",
       "    </tr>\n",
       "    <tr>\n",
       "      <th>4</th>\n",
       "      <td>Uganda</td>\n",
       "      <td>7.503907</td>\n",
       "      <td>1.107676</td>\n",
       "      <td>0.656391</td>\n",
       "      <td>0.879983</td>\n",
       "    </tr>\n",
       "    <tr>\n",
       "      <th>5</th>\n",
       "      <td>India</td>\n",
       "      <td>6.180915</td>\n",
       "      <td>0.912385</td>\n",
       "      <td>1.351602</td>\n",
       "      <td>0.609136</td>\n",
       "    </tr>\n",
       "    <tr>\n",
       "      <th>6</th>\n",
       "      <td>Hong Kong</td>\n",
       "      <td>5.888581</td>\n",
       "      <td>0.869232</td>\n",
       "      <td>-0.309247</td>\n",
       "      <td>-0.402163</td>\n",
       "    </tr>\n",
       "    <tr>\n",
       "      <th>7</th>\n",
       "      <td>Netherlands</td>\n",
       "      <td>5.757677</td>\n",
       "      <td>0.849909</td>\n",
       "      <td>-0.149403</td>\n",
       "      <td>0.737200</td>\n",
       "    </tr>\n",
       "    <tr>\n",
       "      <th>8</th>\n",
       "      <td>Italy</td>\n",
       "      <td>5.722292</td>\n",
       "      <td>0.844686</td>\n",
       "      <td>3.760777</td>\n",
       "      <td>1.170395</td>\n",
       "    </tr>\n",
       "    <tr>\n",
       "      <th>9</th>\n",
       "      <td>Belgium</td>\n",
       "      <td>5.444409</td>\n",
       "      <td>0.803667</td>\n",
       "      <td>-0.022470</td>\n",
       "      <td>1.451966</td>\n",
       "    </tr>\n",
       "  </tbody>\n",
       "</table>\n",
       "</div>"
      ],
      "text/plain": [
       "          country    q4_2024  share_q4  growth_qoq  growth_yoy\n",
       "0           China  20.427312  3.015341   -0.105413    0.069333\n",
       "1      Luxembourg  14.104303  2.081981    0.024366    0.760957\n",
       "2  United Kingdom   9.310813  1.374399   -0.146387    0.171064\n",
       "3   United States   8.968663  1.323893    0.098773    0.021665\n",
       "4          Uganda   7.503907  1.107676    0.656391    0.879983\n",
       "5           India   6.180915  0.912385    1.351602    0.609136\n",
       "6       Hong Kong   5.888581  0.869232   -0.309247   -0.402163\n",
       "7     Netherlands   5.757677  0.849909   -0.149403    0.737200\n",
       "8           Italy   5.722292  0.844686    3.760777    1.170395\n",
       "9         Belgium   5.444409  0.803667   -0.022470    1.451966"
      ]
     },
     "metadata": {},
     "output_type": "display_data"
    }
   ],
   "source": [
    "# Analyze top export countries\n",
    "if 'ExportCountry' in cleaned_data:\n",
    "    export_countries = cleaned_data['ExportCountry']\n",
    "    \n",
    "    print(\"🚀 Export Countries Analysis\")\n",
    "    print(\"=\" * 35)\n",
    "    print(f\"📊 Countries analyzed: {len(export_countries)}\")\n",
    "    \n",
    "    # Find top export destinations\n",
    "    top_exports = export_countries.nlargest(10, 'q4_2024')\n",
    "    \n",
    "    print(f\"\\n🏆 Top 10 Export Destinations (Q4 2024):\")\n",
    "    for i, (_, country) in enumerate(top_exports.iterrows(), 1):\n",
    "        print(f\"   {i}. {country['country']}: ${country['q4_2024']:.2f}M ({country['share_q4']:.2f}%)\")\n",
    "    \n",
    "    # Calculate concentration\n",
    "    total_exports = export_countries['q4_2024'].sum()\n",
    "    top_5_share = top_exports.head(5)['q4_2024'].sum() / total_exports * 100\n",
    "    \n",
    "    print(f\"\\n📈 Export Concentration:\")\n",
    "    print(f\"   Top 5 countries: {top_5_share:.2f}% of total exports\")\n",
    "    print(f\"   Export diversity: {len(export_countries)} countries\")\n",
    "    \n",
    "    # Calculate growth analysis\n",
    "    export_countries['yoy_growth'] = ((export_countries['q4_2024'] - export_countries['q4_2023']) / export_countries['q4_2023']) * 100\n",
    "    avg_growth = export_countries['yoy_growth'].mean()\n",
    "    \n",
    "    print(f\"\\n📈 Average YoY Growth: {avg_growth:.2f}%\")\n",
    "    \n",
    "    # Find fastest growing markets\n",
    "    growing_markets = export_countries[export_countries['yoy_growth'] > 0].nlargest(5, 'yoy_growth')\n",
    "    print(f\"\\n🚀 Fastest Growing Markets:\")\n",
    "    for _, country in growing_markets.iterrows():\n",
    "        print(f\"   {country['country']}: {country['yoy_growth']:.2f}% growth\")\n",
    "    \n",
    "    print(f\"\\n📋 Top Export Countries Data:\")\n",
    "    display(top_exports[['country', 'q4_2024', 'share_q4', 'growth_qoq', 'growth_yoy']])\n",
    "    \n",
    "else:\n",
    "    print(\"❌ ExportCountry sheet not found in cleaned data\")"
   ]
  },
  {
   "cell_type": "code",
   "execution_count": 13,
   "metadata": {},
   "outputs": [
    {
     "name": "stdout",
     "output_type": "stream",
     "text": [
      "📦 Import Countries Analysis\n",
      "===================================\n",
      "📊 Countries analyzed: 18\n",
      "\n",
      "🏆 Top 10 Import Sources (Q4 2024):\n",
      "   1. Kenya: $211.22M (12.96%)\n",
      "   2. India: $101.83M (6.25%)\n",
      "   3. United Arab Emirates: $96.64M (5.93%)\n",
      "   4. Uganda: $75.13M (4.61%)\n",
      "   5. South Africa: $55.75M (3.42%)\n",
      "   6. Burkina Faso: $50.32M (3.09%)\n",
      "   7. Malaysia: $42.42M (2.60%)\n",
      "   8. Japan: $28.01M (1.72%)\n",
      "   9. Congo, The Democratic Republic Of: $26.50M (1.63%)\n",
      "   10. Germany: $21.65M (1.33%)\n",
      "\n",
      "📈 Import Concentration:\n",
      "   Top 5 countries: 64.44% of total imports\n",
      "   Import diversity: 18 countries\n",
      "\n",
      "📈 Average YoY Growth: 102448.09%\n",
      "\n",
      "📋 Top Import Countries Data:\n"
     ]
    },
    {
     "data": {
      "application/vnd.microsoft.datawrangler.viewer.v0+json": {
       "columns": [
        {
         "name": "index",
         "rawType": "int64",
         "type": "integer"
        },
        {
         "name": "country",
         "rawType": "object",
         "type": "string"
        },
        {
         "name": "q4_2024",
         "rawType": "float64",
         "type": "float"
        },
        {
         "name": "share_q4",
         "rawType": "float64",
         "type": "float"
        },
        {
         "name": "growth_qoq",
         "rawType": "float64",
         "type": "float"
        },
        {
         "name": "growth_yoy",
         "rawType": "float64",
         "type": "float"
        }
       ],
       "ref": "4aebcd4c-4b75-4912-aeb4-81dad44b79a3",
       "rows": [
        [
         "0",
         "Kenya",
         "211.22111726016584",
         "12.963203729564668",
         "-0.018532340798964042",
         "1.9901304089000367"
        ],
        [
         "1",
         "India",
         "101.82885923593503",
         "6.2495088793545195",
         "-0.12983497509251252",
         "-0.11729308107325076"
        ],
        [
         "2",
         "United Arab Emirates",
         "96.63555229033614",
         "5.9307817708190615",
         "0.1011637851984799",
         "0.11713470926906888"
        ],
        [
         "3",
         "Uganda",
         "75.13444643544568",
         "4.611201516612892",
         "0.18454000565027706",
         "0.05647597822994377"
        ],
        [
         "4",
         "South Africa",
         "55.745399907220495",
         "3.4212439805119668",
         "2.751731757554099",
         "-0.2925180761009144"
        ],
        [
         "5",
         "Burkina Faso",
         "50.31816780442414",
         "3.088160260717389",
         "-0.36312144798680357",
         "18438.173426886427"
        ],
        [
         "6",
         "Malaysia",
         "42.418297164568905",
         "2.603324114265649",
         "0.1846707098729612",
         "1.058927665867476"
        ],
        [
         "7",
         "Japan",
         "28.014673224010753",
         "1.7193352687966297",
         "-0.04207755235540789",
         "0.08454815962546092"
        ],
        [
         "8",
         "Congo, The Democratic Republic Of",
         "26.500726929434713",
         "1.6264203438744427",
         "0.2855534089458285",
         "1.355788971973526"
        ],
        [
         "9",
         "Germany",
         "21.650713805990804",
         "1.3287620934788387",
         "0.083865228008424",
         "0.3809869076739847"
        ]
       ],
       "shape": {
        "columns": 5,
        "rows": 10
       }
      },
      "text/html": [
       "<div>\n",
       "<style scoped>\n",
       "    .dataframe tbody tr th:only-of-type {\n",
       "        vertical-align: middle;\n",
       "    }\n",
       "\n",
       "    .dataframe tbody tr th {\n",
       "        vertical-align: top;\n",
       "    }\n",
       "\n",
       "    .dataframe thead th {\n",
       "        text-align: right;\n",
       "    }\n",
       "</style>\n",
       "<table border=\"1\" class=\"dataframe\">\n",
       "  <thead>\n",
       "    <tr style=\"text-align: right;\">\n",
       "      <th></th>\n",
       "      <th>country</th>\n",
       "      <th>q4_2024</th>\n",
       "      <th>share_q4</th>\n",
       "      <th>growth_qoq</th>\n",
       "      <th>growth_yoy</th>\n",
       "    </tr>\n",
       "  </thead>\n",
       "  <tbody>\n",
       "    <tr>\n",
       "      <th>0</th>\n",
       "      <td>Kenya</td>\n",
       "      <td>211.221117</td>\n",
       "      <td>12.963204</td>\n",
       "      <td>-0.018532</td>\n",
       "      <td>1.990130</td>\n",
       "    </tr>\n",
       "    <tr>\n",
       "      <th>1</th>\n",
       "      <td>India</td>\n",
       "      <td>101.828859</td>\n",
       "      <td>6.249509</td>\n",
       "      <td>-0.129835</td>\n",
       "      <td>-0.117293</td>\n",
       "    </tr>\n",
       "    <tr>\n",
       "      <th>2</th>\n",
       "      <td>United Arab Emirates</td>\n",
       "      <td>96.635552</td>\n",
       "      <td>5.930782</td>\n",
       "      <td>0.101164</td>\n",
       "      <td>0.117135</td>\n",
       "    </tr>\n",
       "    <tr>\n",
       "      <th>3</th>\n",
       "      <td>Uganda</td>\n",
       "      <td>75.134446</td>\n",
       "      <td>4.611202</td>\n",
       "      <td>0.184540</td>\n",
       "      <td>0.056476</td>\n",
       "    </tr>\n",
       "    <tr>\n",
       "      <th>4</th>\n",
       "      <td>South Africa</td>\n",
       "      <td>55.745400</td>\n",
       "      <td>3.421244</td>\n",
       "      <td>2.751732</td>\n",
       "      <td>-0.292518</td>\n",
       "    </tr>\n",
       "    <tr>\n",
       "      <th>5</th>\n",
       "      <td>Burkina Faso</td>\n",
       "      <td>50.318168</td>\n",
       "      <td>3.088160</td>\n",
       "      <td>-0.363121</td>\n",
       "      <td>18438.173427</td>\n",
       "    </tr>\n",
       "    <tr>\n",
       "      <th>6</th>\n",
       "      <td>Malaysia</td>\n",
       "      <td>42.418297</td>\n",
       "      <td>2.603324</td>\n",
       "      <td>0.184671</td>\n",
       "      <td>1.058928</td>\n",
       "    </tr>\n",
       "    <tr>\n",
       "      <th>7</th>\n",
       "      <td>Japan</td>\n",
       "      <td>28.014673</td>\n",
       "      <td>1.719335</td>\n",
       "      <td>-0.042078</td>\n",
       "      <td>0.084548</td>\n",
       "    </tr>\n",
       "    <tr>\n",
       "      <th>8</th>\n",
       "      <td>Congo, The Democratic Republic Of</td>\n",
       "      <td>26.500727</td>\n",
       "      <td>1.626420</td>\n",
       "      <td>0.285553</td>\n",
       "      <td>1.355789</td>\n",
       "    </tr>\n",
       "    <tr>\n",
       "      <th>9</th>\n",
       "      <td>Germany</td>\n",
       "      <td>21.650714</td>\n",
       "      <td>1.328762</td>\n",
       "      <td>0.083865</td>\n",
       "      <td>0.380987</td>\n",
       "    </tr>\n",
       "  </tbody>\n",
       "</table>\n",
       "</div>"
      ],
      "text/plain": [
       "                             country     q4_2024   share_q4  growth_qoq  \\\n",
       "0                              Kenya  211.221117  12.963204   -0.018532   \n",
       "1                              India  101.828859   6.249509   -0.129835   \n",
       "2               United Arab Emirates   96.635552   5.930782    0.101164   \n",
       "3                             Uganda   75.134446   4.611202    0.184540   \n",
       "4                       South Africa   55.745400   3.421244    2.751732   \n",
       "5                       Burkina Faso   50.318168   3.088160   -0.363121   \n",
       "6                           Malaysia   42.418297   2.603324    0.184671   \n",
       "7                              Japan   28.014673   1.719335   -0.042078   \n",
       "8  Congo, The Democratic Republic Of   26.500727   1.626420    0.285553   \n",
       "9                            Germany   21.650714   1.328762    0.083865   \n",
       "\n",
       "     growth_yoy  \n",
       "0      1.990130  \n",
       "1     -0.117293  \n",
       "2      0.117135  \n",
       "3      0.056476  \n",
       "4     -0.292518  \n",
       "5  18438.173427  \n",
       "6      1.058928  \n",
       "7      0.084548  \n",
       "8      1.355789  \n",
       "9      0.380987  "
      ]
     },
     "metadata": {},
     "output_type": "display_data"
    }
   ],
   "source": [
    "# Analyze top import countries\n",
    "if 'ImportCountry' in cleaned_data:\n",
    "    import_countries = cleaned_data['ImportCountry']\n",
    "    \n",
    "    print(\"📦 Import Countries Analysis\")\n",
    "    print(\"=\" * 35)\n",
    "    print(f\"📊 Countries analyzed: {len(import_countries)}\")\n",
    "    \n",
    "    # Find top import sources\n",
    "    top_imports = import_countries.nlargest(10, 'q4_2024')\n",
    "    \n",
    "    print(f\"\\n🏆 Top 10 Import Sources (Q4 2024):\")\n",
    "    for i, (_, country) in enumerate(top_imports.iterrows(), 1):\n",
    "        print(f\"   {i}. {country['country']}: ${country['q4_2024']:.2f}M ({country['share_q4']:.2f}%)\")\n",
    "    \n",
    "    # Calculate concentration\n",
    "    total_imports = import_countries['q4_2024'].sum()\n",
    "    top_5_import_share = top_imports.head(5)['q4_2024'].sum() / total_imports * 100\n",
    "    \n",
    "    print(f\"\\n📈 Import Concentration:\")\n",
    "    print(f\"   Top 5 countries: {top_5_import_share:.2f}% of total imports\")\n",
    "    print(f\"   Import diversity: {len(import_countries)} countries\")\n",
    "    \n",
    "    # Calculate growth analysis\n",
    "    import_countries['yoy_growth'] = ((import_countries['q4_2024'] - import_countries['q4_2023']) / import_countries['q4_2023']) * 100\n",
    "    avg_import_growth = import_countries['yoy_growth'].mean()\n",
    "    \n",
    "    print(f\"\\n📈 Average YoY Growth: {avg_import_growth:.2f}%\")\n",
    "    \n",
    "    print(f\"\\n📋 Top Import Countries Data:\")\n",
    "    display(top_imports[['country', 'q4_2024', 'share_q4', 'growth_qoq', 'growth_yoy']])\n",
    "    \n",
    "else:\n",
    "    print(\"❌ ImportCountry sheet not found in cleaned data\")"
   ]
  },
  {
   "cell_type": "code",
   "execution_count": 14,
   "metadata": {},
   "outputs": [
    {
     "name": "stdout",
     "output_type": "stream",
     "text": [
      "🔄 Re-export Countries Analysis\n",
      "========================================\n",
      "📊 Countries analyzed: 18\n",
      "\n",
      "🏆 Top 10 Re-export Destinations (Q4 2024):\n",
      "   1. United Arab Emirates: $1.97M (1.11%)\n",
      "   2. Burundi: $1.26M (0.71%)\n",
      "   3. Uganda: $1.12M (0.63%)\n",
      "   4. United Kingdom: $0.93M (0.52%)\n",
      "   5. Zambia: $0.90M (0.51%)\n",
      "   6. South Sudan: $0.62M (0.35%)\n",
      "   7. Kenya: $0.30M (0.17%)\n",
      "   8. Belgium: $0.26M (0.15%)\n",
      "   9. Turkey: $0.19M (0.11%)\n",
      "   10. Greece: $0.16M (0.09%)\n",
      "\n",
      "📈 Re-export Concentration:\n",
      "   Top 5 countries: 76.29% of total re-exports\n",
      "   Re-export diversity: 18 countries\n",
      "\n",
      "📋 Top Re-export Countries Data:\n"
     ]
    },
    {
     "data": {
      "application/vnd.microsoft.datawrangler.viewer.v0+json": {
       "columns": [
        {
         "name": "index",
         "rawType": "int64",
         "type": "integer"
        },
        {
         "name": "country",
         "rawType": "object",
         "type": "string"
        },
        {
         "name": "q4_2024",
         "rawType": "float64",
         "type": "float"
        },
        {
         "name": "share_q4",
         "rawType": "float64",
         "type": "float"
        },
        {
         "name": "growth_qoq",
         "rawType": "float64",
         "type": "float"
        },
        {
         "name": "growth_yoy",
         "rawType": "float64",
         "type": "float"
        }
       ],
       "ref": "0e934324-3d73-4928-856f-b2730b20264d",
       "rows": [
        [
         "0",
         "United Arab Emirates",
         "1.9733105659834758",
         "1.1130593467096388",
         "-0.005689813751279971",
         "0.5067044871256694"
        ],
        [
         "1",
         "Burundi",
         "1.2646074005265855",
         "0.7133104698969532",
         "-0.2258390505480643",
         "-0.6383224653739983"
        ],
        [
         "2",
         "Uganda",
         "1.1205275827339896",
         "0.6320412613746017",
         "0.40334599192222664",
         "0.4525921642659285"
        ],
        [
         "3",
         "United Kingdom",
         "0.9287486380482063",
         "0.5238670334733615",
         "92.69072175423346",
         "0.2789463477188918"
        ],
        [
         "4",
         "Zambia",
         "0.8966499439505589",
         "0.5057615451136245",
         "2.231281499580382",
         "0.0"
        ],
        [
         "5",
         "South Sudan",
         "0.6166563520878539",
         "0.34782924098780876",
         "-0.1815881528202099",
         "1.3031051545751313"
        ],
        [
         "6",
         "Kenya",
         "0.2975322371088048",
         "0.16782509715916497",
         "0.8502656281904604",
         "2.1986542966079896"
        ],
        [
         "7",
         "Belgium",
         "0.2585481357692071",
         "0.14583584766285515",
         "0.6528763968680724",
         "2.1296708330451772"
        ],
        [
         "8",
         "Turkey",
         "0.18985552219976334",
         "0.10708930826788848",
         "-0.2266249108900269",
         "-0.05929791112840388"
        ],
        [
         "9",
         "Greece",
         "0.1598756573365035",
         "0.09017896005693044",
         "0.48760240298176694",
         "-0.06392361889161735"
        ]
       ],
       "shape": {
        "columns": 5,
        "rows": 10
       }
      },
      "text/html": [
       "<div>\n",
       "<style scoped>\n",
       "    .dataframe tbody tr th:only-of-type {\n",
       "        vertical-align: middle;\n",
       "    }\n",
       "\n",
       "    .dataframe tbody tr th {\n",
       "        vertical-align: top;\n",
       "    }\n",
       "\n",
       "    .dataframe thead th {\n",
       "        text-align: right;\n",
       "    }\n",
       "</style>\n",
       "<table border=\"1\" class=\"dataframe\">\n",
       "  <thead>\n",
       "    <tr style=\"text-align: right;\">\n",
       "      <th></th>\n",
       "      <th>country</th>\n",
       "      <th>q4_2024</th>\n",
       "      <th>share_q4</th>\n",
       "      <th>growth_qoq</th>\n",
       "      <th>growth_yoy</th>\n",
       "    </tr>\n",
       "  </thead>\n",
       "  <tbody>\n",
       "    <tr>\n",
       "      <th>0</th>\n",
       "      <td>United Arab Emirates</td>\n",
       "      <td>1.973311</td>\n",
       "      <td>1.113059</td>\n",
       "      <td>-0.005690</td>\n",
       "      <td>0.506704</td>\n",
       "    </tr>\n",
       "    <tr>\n",
       "      <th>1</th>\n",
       "      <td>Burundi</td>\n",
       "      <td>1.264607</td>\n",
       "      <td>0.713310</td>\n",
       "      <td>-0.225839</td>\n",
       "      <td>-0.638322</td>\n",
       "    </tr>\n",
       "    <tr>\n",
       "      <th>2</th>\n",
       "      <td>Uganda</td>\n",
       "      <td>1.120528</td>\n",
       "      <td>0.632041</td>\n",
       "      <td>0.403346</td>\n",
       "      <td>0.452592</td>\n",
       "    </tr>\n",
       "    <tr>\n",
       "      <th>3</th>\n",
       "      <td>United Kingdom</td>\n",
       "      <td>0.928749</td>\n",
       "      <td>0.523867</td>\n",
       "      <td>92.690722</td>\n",
       "      <td>0.278946</td>\n",
       "    </tr>\n",
       "    <tr>\n",
       "      <th>4</th>\n",
       "      <td>Zambia</td>\n",
       "      <td>0.896650</td>\n",
       "      <td>0.505762</td>\n",
       "      <td>2.231281</td>\n",
       "      <td>0.000000</td>\n",
       "    </tr>\n",
       "    <tr>\n",
       "      <th>5</th>\n",
       "      <td>South Sudan</td>\n",
       "      <td>0.616656</td>\n",
       "      <td>0.347829</td>\n",
       "      <td>-0.181588</td>\n",
       "      <td>1.303105</td>\n",
       "    </tr>\n",
       "    <tr>\n",
       "      <th>6</th>\n",
       "      <td>Kenya</td>\n",
       "      <td>0.297532</td>\n",
       "      <td>0.167825</td>\n",
       "      <td>0.850266</td>\n",
       "      <td>2.198654</td>\n",
       "    </tr>\n",
       "    <tr>\n",
       "      <th>7</th>\n",
       "      <td>Belgium</td>\n",
       "      <td>0.258548</td>\n",
       "      <td>0.145836</td>\n",
       "      <td>0.652876</td>\n",
       "      <td>2.129671</td>\n",
       "    </tr>\n",
       "    <tr>\n",
       "      <th>8</th>\n",
       "      <td>Turkey</td>\n",
       "      <td>0.189856</td>\n",
       "      <td>0.107089</td>\n",
       "      <td>-0.226625</td>\n",
       "      <td>-0.059298</td>\n",
       "    </tr>\n",
       "    <tr>\n",
       "      <th>9</th>\n",
       "      <td>Greece</td>\n",
       "      <td>0.159876</td>\n",
       "      <td>0.090179</td>\n",
       "      <td>0.487602</td>\n",
       "      <td>-0.063924</td>\n",
       "    </tr>\n",
       "  </tbody>\n",
       "</table>\n",
       "</div>"
      ],
      "text/plain": [
       "                country   q4_2024  share_q4  growth_qoq  growth_yoy\n",
       "0  United Arab Emirates  1.973311  1.113059   -0.005690    0.506704\n",
       "1               Burundi  1.264607  0.713310   -0.225839   -0.638322\n",
       "2                Uganda  1.120528  0.632041    0.403346    0.452592\n",
       "3        United Kingdom  0.928749  0.523867   92.690722    0.278946\n",
       "4                Zambia  0.896650  0.505762    2.231281    0.000000\n",
       "5           South Sudan  0.616656  0.347829   -0.181588    1.303105\n",
       "6                 Kenya  0.297532  0.167825    0.850266    2.198654\n",
       "7               Belgium  0.258548  0.145836    0.652876    2.129671\n",
       "8                Turkey  0.189856  0.107089   -0.226625   -0.059298\n",
       "9                Greece  0.159876  0.090179    0.487602   -0.063924"
      ]
     },
     "metadata": {},
     "output_type": "display_data"
    }
   ],
   "source": [
    "# Analyze re-export countries\n",
    "if 'ReexportsCountry' in cleaned_data:\n",
    "    reexport_countries = cleaned_data['ReexportsCountry']\n",
    "    \n",
    "    print(\"🔄 Re-export Countries Analysis\")\n",
    "    print(\"=\" * 40)\n",
    "    print(f\"📊 Countries analyzed: {len(reexport_countries)}\")\n",
    "    \n",
    "    # Find top re-export destinations\n",
    "    top_reexports = reexport_countries.nlargest(10, 'q4_2024')\n",
    "    \n",
    "    print(f\"\\n🏆 Top 10 Re-export Destinations (Q4 2024):\")\n",
    "    for i, (_, country) in enumerate(top_reexports.iterrows(), 1):\n",
    "        print(f\"   {i}. {country['country']}: ${country['q4_2024']:.2f}M ({country['share_q4']:.2f}%)\")\n",
    "    \n",
    "    # Calculate concentration\n",
    "    total_reexports = reexport_countries['q4_2024'].sum()\n",
    "    top_5_reexport_share = top_reexports.head(5)['q4_2024'].sum() / total_reexports * 100\n",
    "    \n",
    "    print(f\"\\n📈 Re-export Concentration:\")\n",
    "    print(f\"   Top 5 countries: {top_5_reexport_share:.2f}% of total re-exports\")\n",
    "    print(f\"   Re-export diversity: {len(reexport_countries)} countries\")\n",
    "    \n",
    "    print(f\"\\n📋 Top Re-export Countries Data:\")\n",
    "    display(top_reexports[['country', 'q4_2024', 'share_q4', 'growth_qoq', 'growth_yoy']])\n",
    "    \n",
    "else:\n",
    "    print(\"❌ ReexportsCountry sheet not found in cleaned data\")"
   ]
  },
  {
   "cell_type": "code",
   "execution_count": 15,
   "metadata": {},
   "outputs": [
    {
     "data": {
      "application/vnd.plotly.v1+json": {
       "config": {
        "plotlyServerURL": "https://plot.ly"
       },
       "data": [
        {
         "marker": {
          "color": "#2E86AB"
         },
         "name": "Export Volume",
         "orientation": "h",
         "type": "bar",
         "x": [
          20.42731227798233,
          14.104303092608351,
          9.310812866389798,
          8.96866253380225,
          7.5039074536482016,
          6.180915322446868,
          5.888581333649638,
          5.757676657700764,
          5.722292233192514,
          5.4444087953521985
         ],
         "xaxis": "x",
         "y": [
          "China",
          "Luxembourg",
          "United Kingdom",
          "United States",
          "Uganda",
          "India",
          "Hong Kong",
          "Netherlands",
          "Italy",
          "Belgium"
         ],
         "yaxis": "y"
        },
        {
         "domain": {
          "x": [
           0.55,
           1
          ],
          "y": [
           0.7777777777777778,
           1
          ]
         },
         "labels": [
          "China",
          "Luxembourg",
          "United Kingdom",
          "United States",
          "Uganda",
          "India",
          "Hong Kong",
          "Netherlands",
          "Italy",
          "Belgium"
         ],
         "name": "Export Share",
         "textinfo": "label+percent",
         "textposition": "inside",
         "type": "pie",
         "values": [
          3.0153408680268545,
          2.0819812685793173,
          1.374398852306991,
          1.3238929479168067,
          1.1076757679601927,
          0.9123846700907396,
          0.8692323154618977,
          0.8499090577649021,
          0.8446858497451991,
          0.8036665871390826
         ]
        },
        {
         "marker": {
          "color": "#A23B72"
         },
         "name": "Import Volume",
         "orientation": "h",
         "type": "bar",
         "x": [
          211.22111726016584,
          101.82885923593503,
          96.63555229033614,
          75.13444643544568,
          55.745399907220495,
          50.31816780442414,
          42.418297164568905,
          28.014673224010753,
          26.500726929434713,
          21.650713805990804
         ],
         "xaxis": "x2",
         "y": [
          "Kenya",
          "India",
          "United Arab Emirates",
          "Uganda",
          "South Africa",
          "Burkina Faso",
          "Malaysia",
          "Japan",
          "Congo, The Democratic Republic Of",
          "Germany"
         ],
         "yaxis": "y2"
        },
        {
         "domain": {
          "x": [
           0.55,
           1
          ],
          "y": [
           0.3888888888888889,
           0.6111111111111112
          ]
         },
         "labels": [
          "Kenya",
          "India",
          "United Arab Emirates",
          "Uganda",
          "South Africa",
          "Burkina Faso",
          "Malaysia",
          "Japan",
          "Congo, The Democratic Republic Of",
          "Germany"
         ],
         "name": "Import Share",
         "textinfo": "label+percent",
         "textposition": "inside",
         "type": "pie",
         "values": [
          12.963203729564668,
          6.2495088793545195,
          5.9307817708190615,
          4.611201516612892,
          3.4212439805119668,
          3.088160260717389,
          2.603324114265649,
          1.7193352687966297,
          1.6264203438744427,
          1.3287620934788387
         ]
        },
        {
         "marker": {
          "color": "#F18F01"
         },
         "name": "Re-export Volume",
         "orientation": "h",
         "type": "bar",
         "x": [
          1.9733105659834758,
          1.2646074005265855,
          1.1205275827339896,
          0.9287486380482063,
          0.8966499439505589,
          0.6166563520878539,
          0.2975322371088048,
          0.2585481357692071,
          0.18985552219976334,
          0.1598756573365035
         ],
         "xaxis": "x3",
         "y": [
          "United Arab Emirates",
          "Burundi",
          "Uganda",
          "United Kingdom",
          "Zambia",
          "South Sudan",
          "Kenya",
          "Belgium",
          "Turkey",
          "Greece"
         ],
         "yaxis": "y3"
        },
        {
         "marker": {
          "color": [
           "#2E86AB",
           "#A23B72",
           "#F18F01"
          ]
         },
         "name": "Top Partner Comparison",
         "type": "bar",
         "x": [
          "Exports",
          "Imports",
          "Re-exports"
         ],
         "xaxis": "x4",
         "y": [
          20.42731227798233,
          211.22111726016584,
          1.9733105659834758
         ],
         "yaxis": "y4"
        }
       ],
       "layout": {
        "annotations": [
         {
          "font": {
           "size": 16
          },
          "showarrow": false,
          "text": "Top Export Destinations (Q4 2024)",
          "x": 0.225,
          "xanchor": "center",
          "xref": "paper",
          "y": 1,
          "yanchor": "bottom",
          "yref": "paper"
         },
         {
          "font": {
           "size": 16
          },
          "showarrow": false,
          "text": "Export Market Share Distribution",
          "x": 0.775,
          "xanchor": "center",
          "xref": "paper",
          "y": 1,
          "yanchor": "bottom",
          "yref": "paper"
         },
         {
          "font": {
           "size": 16
          },
          "showarrow": false,
          "text": "Top Import Sources (Q4 2024)",
          "x": 0.225,
          "xanchor": "center",
          "xref": "paper",
          "y": 0.6111111111111112,
          "yanchor": "bottom",
          "yref": "paper"
         },
         {
          "font": {
           "size": 16
          },
          "showarrow": false,
          "text": "Import Source Distribution",
          "x": 0.775,
          "xanchor": "center",
          "xref": "paper",
          "y": 0.6111111111111112,
          "yanchor": "bottom",
          "yref": "paper"
         },
         {
          "font": {
           "size": 16
          },
          "showarrow": false,
          "text": "Top Re-export Destinations",
          "x": 0.225,
          "xanchor": "center",
          "xref": "paper",
          "y": 0.22222222222222224,
          "yanchor": "bottom",
          "yref": "paper"
         },
         {
          "font": {
           "size": 16
          },
          "showarrow": false,
          "text": "Trade Partner Comparison",
          "x": 0.775,
          "xanchor": "center",
          "xref": "paper",
          "y": 0.22222222222222224,
          "yanchor": "bottom",
          "yref": "paper"
         }
        ],
        "height": 1200,
        "showlegend": true,
        "template": {
         "data": {
          "bar": [
           {
            "error_x": {
             "color": "#2a3f5f"
            },
            "error_y": {
             "color": "#2a3f5f"
            },
            "marker": {
             "line": {
              "color": "#E5ECF6",
              "width": 0.5
             },
             "pattern": {
              "fillmode": "overlay",
              "size": 10,
              "solidity": 0.2
             }
            },
            "type": "bar"
           }
          ],
          "barpolar": [
           {
            "marker": {
             "line": {
              "color": "#E5ECF6",
              "width": 0.5
             },
             "pattern": {
              "fillmode": "overlay",
              "size": 10,
              "solidity": 0.2
             }
            },
            "type": "barpolar"
           }
          ],
          "carpet": [
           {
            "aaxis": {
             "endlinecolor": "#2a3f5f",
             "gridcolor": "white",
             "linecolor": "white",
             "minorgridcolor": "white",
             "startlinecolor": "#2a3f5f"
            },
            "baxis": {
             "endlinecolor": "#2a3f5f",
             "gridcolor": "white",
             "linecolor": "white",
             "minorgridcolor": "white",
             "startlinecolor": "#2a3f5f"
            },
            "type": "carpet"
           }
          ],
          "choropleth": [
           {
            "colorbar": {
             "outlinewidth": 0,
             "ticks": ""
            },
            "type": "choropleth"
           }
          ],
          "contour": [
           {
            "colorbar": {
             "outlinewidth": 0,
             "ticks": ""
            },
            "colorscale": [
             [
              0,
              "#0d0887"
             ],
             [
              0.1111111111111111,
              "#46039f"
             ],
             [
              0.2222222222222222,
              "#7201a8"
             ],
             [
              0.3333333333333333,
              "#9c179e"
             ],
             [
              0.4444444444444444,
              "#bd3786"
             ],
             [
              0.5555555555555556,
              "#d8576b"
             ],
             [
              0.6666666666666666,
              "#ed7953"
             ],
             [
              0.7777777777777778,
              "#fb9f3a"
             ],
             [
              0.8888888888888888,
              "#fdca26"
             ],
             [
              1,
              "#f0f921"
             ]
            ],
            "type": "contour"
           }
          ],
          "contourcarpet": [
           {
            "colorbar": {
             "outlinewidth": 0,
             "ticks": ""
            },
            "type": "contourcarpet"
           }
          ],
          "heatmap": [
           {
            "colorbar": {
             "outlinewidth": 0,
             "ticks": ""
            },
            "colorscale": [
             [
              0,
              "#0d0887"
             ],
             [
              0.1111111111111111,
              "#46039f"
             ],
             [
              0.2222222222222222,
              "#7201a8"
             ],
             [
              0.3333333333333333,
              "#9c179e"
             ],
             [
              0.4444444444444444,
              "#bd3786"
             ],
             [
              0.5555555555555556,
              "#d8576b"
             ],
             [
              0.6666666666666666,
              "#ed7953"
             ],
             [
              0.7777777777777778,
              "#fb9f3a"
             ],
             [
              0.8888888888888888,
              "#fdca26"
             ],
             [
              1,
              "#f0f921"
             ]
            ],
            "type": "heatmap"
           }
          ],
          "heatmapgl": [
           {
            "colorbar": {
             "outlinewidth": 0,
             "ticks": ""
            },
            "colorscale": [
             [
              0,
              "#0d0887"
             ],
             [
              0.1111111111111111,
              "#46039f"
             ],
             [
              0.2222222222222222,
              "#7201a8"
             ],
             [
              0.3333333333333333,
              "#9c179e"
             ],
             [
              0.4444444444444444,
              "#bd3786"
             ],
             [
              0.5555555555555556,
              "#d8576b"
             ],
             [
              0.6666666666666666,
              "#ed7953"
             ],
             [
              0.7777777777777778,
              "#fb9f3a"
             ],
             [
              0.8888888888888888,
              "#fdca26"
             ],
             [
              1,
              "#f0f921"
             ]
            ],
            "type": "heatmapgl"
           }
          ],
          "histogram": [
           {
            "marker": {
             "pattern": {
              "fillmode": "overlay",
              "size": 10,
              "solidity": 0.2
             }
            },
            "type": "histogram"
           }
          ],
          "histogram2d": [
           {
            "colorbar": {
             "outlinewidth": 0,
             "ticks": ""
            },
            "colorscale": [
             [
              0,
              "#0d0887"
             ],
             [
              0.1111111111111111,
              "#46039f"
             ],
             [
              0.2222222222222222,
              "#7201a8"
             ],
             [
              0.3333333333333333,
              "#9c179e"
             ],
             [
              0.4444444444444444,
              "#bd3786"
             ],
             [
              0.5555555555555556,
              "#d8576b"
             ],
             [
              0.6666666666666666,
              "#ed7953"
             ],
             [
              0.7777777777777778,
              "#fb9f3a"
             ],
             [
              0.8888888888888888,
              "#fdca26"
             ],
             [
              1,
              "#f0f921"
             ]
            ],
            "type": "histogram2d"
           }
          ],
          "histogram2dcontour": [
           {
            "colorbar": {
             "outlinewidth": 0,
             "ticks": ""
            },
            "colorscale": [
             [
              0,
              "#0d0887"
             ],
             [
              0.1111111111111111,
              "#46039f"
             ],
             [
              0.2222222222222222,
              "#7201a8"
             ],
             [
              0.3333333333333333,
              "#9c179e"
             ],
             [
              0.4444444444444444,
              "#bd3786"
             ],
             [
              0.5555555555555556,
              "#d8576b"
             ],
             [
              0.6666666666666666,
              "#ed7953"
             ],
             [
              0.7777777777777778,
              "#fb9f3a"
             ],
             [
              0.8888888888888888,
              "#fdca26"
             ],
             [
              1,
              "#f0f921"
             ]
            ],
            "type": "histogram2dcontour"
           }
          ],
          "mesh3d": [
           {
            "colorbar": {
             "outlinewidth": 0,
             "ticks": ""
            },
            "type": "mesh3d"
           }
          ],
          "parcoords": [
           {
            "line": {
             "colorbar": {
              "outlinewidth": 0,
              "ticks": ""
             }
            },
            "type": "parcoords"
           }
          ],
          "pie": [
           {
            "automargin": true,
            "type": "pie"
           }
          ],
          "scatter": [
           {
            "fillpattern": {
             "fillmode": "overlay",
             "size": 10,
             "solidity": 0.2
            },
            "type": "scatter"
           }
          ],
          "scatter3d": [
           {
            "line": {
             "colorbar": {
              "outlinewidth": 0,
              "ticks": ""
             }
            },
            "marker": {
             "colorbar": {
              "outlinewidth": 0,
              "ticks": ""
             }
            },
            "type": "scatter3d"
           }
          ],
          "scattercarpet": [
           {
            "marker": {
             "colorbar": {
              "outlinewidth": 0,
              "ticks": ""
             }
            },
            "type": "scattercarpet"
           }
          ],
          "scattergeo": [
           {
            "marker": {
             "colorbar": {
              "outlinewidth": 0,
              "ticks": ""
             }
            },
            "type": "scattergeo"
           }
          ],
          "scattergl": [
           {
            "marker": {
             "colorbar": {
              "outlinewidth": 0,
              "ticks": ""
             }
            },
            "type": "scattergl"
           }
          ],
          "scattermapbox": [
           {
            "marker": {
             "colorbar": {
              "outlinewidth": 0,
              "ticks": ""
             }
            },
            "type": "scattermapbox"
           }
          ],
          "scatterpolar": [
           {
            "marker": {
             "colorbar": {
              "outlinewidth": 0,
              "ticks": ""
             }
            },
            "type": "scatterpolar"
           }
          ],
          "scatterpolargl": [
           {
            "marker": {
             "colorbar": {
              "outlinewidth": 0,
              "ticks": ""
             }
            },
            "type": "scatterpolargl"
           }
          ],
          "scatterternary": [
           {
            "marker": {
             "colorbar": {
              "outlinewidth": 0,
              "ticks": ""
             }
            },
            "type": "scatterternary"
           }
          ],
          "surface": [
           {
            "colorbar": {
             "outlinewidth": 0,
             "ticks": ""
            },
            "colorscale": [
             [
              0,
              "#0d0887"
             ],
             [
              0.1111111111111111,
              "#46039f"
             ],
             [
              0.2222222222222222,
              "#7201a8"
             ],
             [
              0.3333333333333333,
              "#9c179e"
             ],
             [
              0.4444444444444444,
              "#bd3786"
             ],
             [
              0.5555555555555556,
              "#d8576b"
             ],
             [
              0.6666666666666666,
              "#ed7953"
             ],
             [
              0.7777777777777778,
              "#fb9f3a"
             ],
             [
              0.8888888888888888,
              "#fdca26"
             ],
             [
              1,
              "#f0f921"
             ]
            ],
            "type": "surface"
           }
          ],
          "table": [
           {
            "cells": {
             "fill": {
              "color": "#EBF0F8"
             },
             "line": {
              "color": "white"
             }
            },
            "header": {
             "fill": {
              "color": "#C8D4E3"
             },
             "line": {
              "color": "white"
             }
            },
            "type": "table"
           }
          ]
         },
         "layout": {
          "annotationdefaults": {
           "arrowcolor": "#2a3f5f",
           "arrowhead": 0,
           "arrowwidth": 1
          },
          "autotypenumbers": "strict",
          "coloraxis": {
           "colorbar": {
            "outlinewidth": 0,
            "ticks": ""
           }
          },
          "colorscale": {
           "diverging": [
            [
             0,
             "#8e0152"
            ],
            [
             0.1,
             "#c51b7d"
            ],
            [
             0.2,
             "#de77ae"
            ],
            [
             0.3,
             "#f1b6da"
            ],
            [
             0.4,
             "#fde0ef"
            ],
            [
             0.5,
             "#f7f7f7"
            ],
            [
             0.6,
             "#e6f5d0"
            ],
            [
             0.7,
             "#b8e186"
            ],
            [
             0.8,
             "#7fbc41"
            ],
            [
             0.9,
             "#4d9221"
            ],
            [
             1,
             "#276419"
            ]
           ],
           "sequential": [
            [
             0,
             "#0d0887"
            ],
            [
             0.1111111111111111,
             "#46039f"
            ],
            [
             0.2222222222222222,
             "#7201a8"
            ],
            [
             0.3333333333333333,
             "#9c179e"
            ],
            [
             0.4444444444444444,
             "#bd3786"
            ],
            [
             0.5555555555555556,
             "#d8576b"
            ],
            [
             0.6666666666666666,
             "#ed7953"
            ],
            [
             0.7777777777777778,
             "#fb9f3a"
            ],
            [
             0.8888888888888888,
             "#fdca26"
            ],
            [
             1,
             "#f0f921"
            ]
           ],
           "sequentialminus": [
            [
             0,
             "#0d0887"
            ],
            [
             0.1111111111111111,
             "#46039f"
            ],
            [
             0.2222222222222222,
             "#7201a8"
            ],
            [
             0.3333333333333333,
             "#9c179e"
            ],
            [
             0.4444444444444444,
             "#bd3786"
            ],
            [
             0.5555555555555556,
             "#d8576b"
            ],
            [
             0.6666666666666666,
             "#ed7953"
            ],
            [
             0.7777777777777778,
             "#fb9f3a"
            ],
            [
             0.8888888888888888,
             "#fdca26"
            ],
            [
             1,
             "#f0f921"
            ]
           ]
          },
          "colorway": [
           "#636efa",
           "#EF553B",
           "#00cc96",
           "#ab63fa",
           "#FFA15A",
           "#19d3f3",
           "#FF6692",
           "#B6E880",
           "#FF97FF",
           "#FECB52"
          ],
          "font": {
           "color": "#2a3f5f"
          },
          "geo": {
           "bgcolor": "white",
           "lakecolor": "white",
           "landcolor": "#E5ECF6",
           "showlakes": true,
           "showland": true,
           "subunitcolor": "white"
          },
          "hoverlabel": {
           "align": "left"
          },
          "hovermode": "closest",
          "mapbox": {
           "style": "light"
          },
          "paper_bgcolor": "white",
          "plot_bgcolor": "#E5ECF6",
          "polar": {
           "angularaxis": {
            "gridcolor": "white",
            "linecolor": "white",
            "ticks": ""
           },
           "bgcolor": "#E5ECF6",
           "radialaxis": {
            "gridcolor": "white",
            "linecolor": "white",
            "ticks": ""
           }
          },
          "scene": {
           "xaxis": {
            "backgroundcolor": "#E5ECF6",
            "gridcolor": "white",
            "gridwidth": 2,
            "linecolor": "white",
            "showbackground": true,
            "ticks": "",
            "zerolinecolor": "white"
           },
           "yaxis": {
            "backgroundcolor": "#E5ECF6",
            "gridcolor": "white",
            "gridwidth": 2,
            "linecolor": "white",
            "showbackground": true,
            "ticks": "",
            "zerolinecolor": "white"
           },
           "zaxis": {
            "backgroundcolor": "#E5ECF6",
            "gridcolor": "white",
            "gridwidth": 2,
            "linecolor": "white",
            "showbackground": true,
            "ticks": "",
            "zerolinecolor": "white"
           }
          },
          "shapedefaults": {
           "line": {
            "color": "#2a3f5f"
           }
          },
          "ternary": {
           "aaxis": {
            "gridcolor": "white",
            "linecolor": "white",
            "ticks": ""
           },
           "baxis": {
            "gridcolor": "white",
            "linecolor": "white",
            "ticks": ""
           },
           "bgcolor": "#E5ECF6",
           "caxis": {
            "gridcolor": "white",
            "linecolor": "white",
            "ticks": ""
           }
          },
          "title": {
           "x": 0.05
          },
          "xaxis": {
           "automargin": true,
           "gridcolor": "white",
           "linecolor": "white",
           "ticks": "",
           "title": {
            "standoff": 15
           },
           "zerolinecolor": "white",
           "zerolinewidth": 2
          },
          "yaxis": {
           "automargin": true,
           "gridcolor": "white",
           "linecolor": "white",
           "ticks": "",
           "title": {
            "standoff": 15
           },
           "zerolinecolor": "white",
           "zerolinewidth": 2
          }
         }
        },
        "title": {
         "text": "Rwanda Country-Specific Trade Analysis (Q4 2024)",
         "x": 0.5
        },
        "xaxis": {
         "anchor": "y",
         "domain": [
          0,
          0.45
         ]
        },
        "xaxis2": {
         "anchor": "y2",
         "domain": [
          0,
          0.45
         ]
        },
        "xaxis3": {
         "anchor": "y3",
         "domain": [
          0,
          0.45
         ]
        },
        "xaxis4": {
         "anchor": "y4",
         "domain": [
          0.55,
          1
         ]
        },
        "yaxis": {
         "anchor": "x",
         "domain": [
          0.7777777777777778,
          1
         ]
        },
        "yaxis2": {
         "anchor": "x2",
         "domain": [
          0.3888888888888889,
          0.6111111111111112
         ]
        },
        "yaxis3": {
         "anchor": "x3",
         "domain": [
          0,
          0.22222222222222224
         ]
        },
        "yaxis4": {
         "anchor": "x4",
         "domain": [
          0,
          0.22222222222222224
         ]
        }
       }
      }
     },
     "metadata": {},
     "output_type": "display_data"
    },
    {
     "name": "stdout",
     "output_type": "stream",
     "text": [
      "✅ Country analysis visualization completed\n"
     ]
    }
   ],
   "source": [
    "# Create comprehensive country analysis visualization - FIXED subplot issues\n",
    "if all(sheet in cleaned_data for sheet in ['ExportCountry', 'ImportCountry', 'ReexportsCountry']):\n",
    "    export_df = cleaned_data['ExportCountry']\n",
    "    import_df = cleaned_data['ImportCountry']\n",
    "    reexport_df = cleaned_data['ReexportsCountry']\n",
    "    \n",
    "    # Create comprehensive country analysis - FIXED subplot specs\n",
    "    fig_countries = make_subplots(\n",
    "        rows=3, cols=2,\n",
    "        subplot_titles=(\n",
    "            'Top Export Destinations (Q4 2024)',\n",
    "            'Export Market Share Distribution',\n",
    "            'Top Import Sources (Q4 2024)',\n",
    "            'Import Source Distribution',\n",
    "            'Top Re-export Destinations',\n",
    "            'Trade Partner Comparison'\n",
    "        ),\n",
    "        specs=[[{\"type\": \"bar\"}, {\"type\": \"domain\"}],\n",
    "               [{\"type\": \"bar\"}, {\"type\": \"domain\"}],\n",
    "               [{\"type\": \"bar\"}, {\"secondary_y\": False}]]\n",
    "    )\n",
    "    \n",
    "    # 1. Top Export Destinations\n",
    "    top_exports = export_df.nlargest(10, 'q4_2024')\n",
    "    fig_countries.add_trace(\n",
    "        go.Bar(\n",
    "            x=top_exports['q4_2024'],\n",
    "            y=top_exports['country'],\n",
    "            orientation='h',\n",
    "            name='Export Volume',\n",
    "            marker_color='#2E86AB'\n",
    "        ),\n",
    "        row=1, col=1\n",
    "    )\n",
    "    \n",
    "    # 2. Export Market Share - FIXED: Pie chart in domain subplot\n",
    "    fig_countries.add_trace(\n",
    "        go.Pie(\n",
    "            labels=top_exports['country'],\n",
    "            values=top_exports['share_q4'],\n",
    "            name='Export Share',\n",
    "            textinfo='label+percent',\n",
    "            textposition='inside'\n",
    "        ),\n",
    "        row=1, col=2\n",
    "    )\n",
    "    \n",
    "    # 3. Top Import Sources\n",
    "    top_imports = import_df.nlargest(10, 'q4_2024')\n",
    "    fig_countries.add_trace(\n",
    "        go.Bar(\n",
    "            x=top_imports['q4_2024'],\n",
    "            y=top_imports['country'],\n",
    "            orientation='h',\n",
    "            name='Import Volume',\n",
    "            marker_color='#A23B72'\n",
    "        ),\n",
    "        row=2, col=1\n",
    "    )\n",
    "    \n",
    "    # 4. Import Source Distribution - FIXED: Pie chart in domain subplot\n",
    "    fig_countries.add_trace(\n",
    "        go.Pie(\n",
    "            labels=top_imports['country'],\n",
    "            values=top_imports['share_q4'],\n",
    "            name='Import Share',\n",
    "            textinfo='label+percent',\n",
    "            textposition='inside'\n",
    "        ),\n",
    "        row=2, col=2\n",
    "    )\n",
    "    \n",
    "    # 5. Top Re-export Destinations\n",
    "    top_reexports = reexport_df.nlargest(10, 'q4_2024')\n",
    "    fig_countries.add_trace(\n",
    "        go.Bar(\n",
    "            x=top_reexports['q4_2024'],\n",
    "            y=top_reexports['country'],\n",
    "            orientation='h',\n",
    "            name='Re-export Volume',\n",
    "            marker_color='#F18F01'\n",
    "        ),\n",
    "        row=3, col=1\n",
    "    )\n",
    "    \n",
    "    # 6. Trade Partner Comparison\n",
    "    # Compare top partners across export, import, and re-export\n",
    "    top_export_partner = top_exports.iloc[0]['country']\n",
    "    top_import_partner = top_imports.iloc[0]['country']\n",
    "    top_reexport_partner = top_reexports.iloc[0]['country']\n",
    "    \n",
    "    # Get values for comparison\n",
    "    export_val = top_exports.iloc[0]['q4_2024']\n",
    "    import_val = top_imports.iloc[0]['q4_2024']\n",
    "    reexport_val = top_reexports.iloc[0]['q4_2024']\n",
    "    \n",
    "    fig_countries.add_trace(\n",
    "        go.Bar(\n",
    "            x=['Exports', 'Imports', 'Re-exports'],\n",
    "            y=[export_val, import_val, reexport_val],\n",
    "            name='Top Partner Comparison',\n",
    "            marker_color=['#2E86AB', '#A23B72', '#F18F01']\n",
    "        ),\n",
    "        row=3, col=2\n",
    "    )\n",
    "    \n",
    "    # Update layout\n",
    "    fig_countries.update_layout(\n",
    "        height=1200,\n",
    "        title_text=\"Rwanda Country-Specific Trade Analysis (Q4 2024)\",\n",
    "        title_x=0.5,\n",
    "        showlegend=True\n",
    "    )\n",
    "    \n",
    "    fig_countries.show()\n",
    "    \n",
    "    print(\"✅ Country analysis visualization completed\")\n",
    "else:\n",
    "    print(\"❌ Country data not available for visualization\")"
   ]
  },
  {
   "cell_type": "code",
   "execution_count": null,
   "metadata": {},
   "outputs": [],
   "source": [
    "# 4. Commodity Analysis\n",
    "\n",
    "This section analyzes Rwanda's trade by commodity type using the Standard International Trade Classification (SITC) system, providing insights into product-specific trade patterns."
   ]
  },
  {
   "cell_type": "code",
   "execution_count": 16,
   "metadata": {},
   "outputs": [
    {
     "name": "stdout",
     "output_type": "stream",
     "text": [
      "📦 Export Commodities Analysis\n",
      "========================================\n",
      "📊 Commodities analyzed: 10\n",
      "\n",
      "🏆 Top 15 Export Commodities (Q4 2024):\n",
      "   1. SITC 9 - Other commodities & transactions, n.e.s: $428.15M (63.20%)\n",
      "   2. SITC 0 - Food and live animals: $101.12M (14.93%)\n",
      "   3. SITC 2 - Crude materials, inedible, except fuels : $58.79M (8.68%)\n",
      "   4. SITC 6 - Manufactured goods classified chiefly by material: $34.87M (5.15%)\n",
      "   5. SITC 4 - Animals and vegetable oils, fats & waxes: $23.40M (3.45%)\n",
      "   6. SITC 7 - Machinery and transport equipment: $16.87M (2.49%)\n",
      "   7. SITC 8 - Miscellaneous manufactured articles: $8.32M (1.23%)\n",
      "   8. SITC 5 - Chemicals & related products, n.e.s.: $4.88M (0.72%)\n",
      "   9. SITC 3 - Mineral fuels, lubricants and related materials: $0.94M (0.14%)\n",
      "   10. SITC 1 - Beverages and tobacco: $0.10M (0.01%)\n",
      "\n",
      "📈 Export Commodity Concentration:\n",
      "   Top 5 commodities: 95.41% of total exports\n",
      "   Export commodity diversity: 10 commodities\n",
      "\n",
      "🏭 Export Analysis by SITC Section:\n",
      "   SITC 9 (Commodities and transactions not classified elsewhere): $428.15M (63.20%) - 1.0 commodities\n",
      "   SITC 0 (Food and live animals): $101.12M (14.93%) - 1.0 commodities\n",
      "   SITC 2 (Crude materials, inedible, except fuels): $58.79M (8.68%) - 1.0 commodities\n",
      "   SITC 6 (Manufactured goods classified by material): $34.87M (5.15%) - 1.0 commodities\n",
      "   SITC 4 (Animal and vegetable oils, fats and waxes): $23.40M (3.45%) - 1.0 commodities\n",
      "   SITC 7 (Machinery and transport equipment): $16.87M (2.49%) - 1.0 commodities\n",
      "   SITC 8 (Miscellaneous manufactured articles): $8.32M (1.23%) - 1.0 commodities\n",
      "   SITC 5 (Chemicals and related products): $4.88M (0.72%) - 1.0 commodities\n",
      "   SITC 3 (Mineral fuels, lubricants and related materials): $0.94M (0.14%) - 1.0 commodities\n",
      "   SITC 1 (Beverages and tobacco): $0.10M (0.01%) - 1.0 commodities\n",
      "\n",
      "📋 Top Export Commodities Data:\n"
     ]
    },
    {
     "data": {
      "application/vnd.microsoft.datawrangler.viewer.v0+json": {
       "columns": [
        {
         "name": "index",
         "rawType": "int64",
         "type": "integer"
        },
        {
         "name": "sitc_section",
         "rawType": "object",
         "type": "string"
        },
        {
         "name": "description",
         "rawType": "object",
         "type": "string"
        },
        {
         "name": "q4_2024",
         "rawType": "float64",
         "type": "float"
        },
        {
         "name": "share_q4",
         "rawType": "float64",
         "type": "float"
        },
        {
         "name": "growth_qoq",
         "rawType": "float64",
         "type": "float"
        },
        {
         "name": "growth_yoy",
         "rawType": "float64",
         "type": "float"
        }
       ],
       "ref": "b41e8f07-c37f-4bd0-b566-542e403e6eda",
       "rows": [
        [
         "9",
         "9",
         "Other commodities & transactions, n.e.s",
         "428.1483479071482",
         "63.200346352668646",
         "-0.01505429527242197",
         "1.113087002060793"
        ],
        [
         "0",
         "0",
         "Food and live animals",
         "101.12493008783761",
         "14.927374209620384",
         "0.01974455278738141",
         "-0.025880806800425593"
        ],
        [
         "2",
         "2",
         "Crude materials, inedible, except fuels ",
         "58.78923659545866",
         "8.678067153134839",
         "-0.13426232539342609",
         "0.14851985527506817"
        ],
        [
         "6",
         "6",
         "Manufactured goods classified chiefly by material",
         "34.872048192777875",
         "5.147574513795568",
         "0.13495541664728616",
         "0.4157132218918549"
        ],
        [
         "4",
         "4",
         "Animals and vegetable oils, fats & waxes",
         "23.396384054352332",
         "3.4536150445587976",
         "0.9433547923008432",
         "20.002958196272285"
        ],
        [
         "7",
         "7",
         "Machinery and transport equipment",
         "16.870761895697886",
         "2.49034709640581",
         "1.3852925830440999",
         "4.945666302034924"
        ],
        [
         "8",
         "8",
         "Miscellaneous manufactured articles",
         "8.323204657159229",
         "1.2286148473255047",
         "-0.12024699015155571",
         "0.3103899224991493"
        ],
        [
         "5",
         "5",
         "Chemicals & related products, n.e.s.",
         "4.87797166069729",
         "0.7200529908886376",
         "-0.0002789957565847434",
         "0.08126435715066771"
        ],
        [
         "3",
         "3",
         "Mineral fuels, lubricants and related materials",
         "0.9406992131324204",
         "0.13885961810728556",
         "-0.04303796901415091",
         "-0.4514484419712864"
        ],
        [
         "1",
         "1",
         "Beverages and tobacco",
         "0.10161149487692121",
         "0.014999197593602622",
         "0.3418680732580659",
         "-0.691431825831275"
        ]
       ],
       "shape": {
        "columns": 6,
        "rows": 10
       }
      },
      "text/html": [
       "<div>\n",
       "<style scoped>\n",
       "    .dataframe tbody tr th:only-of-type {\n",
       "        vertical-align: middle;\n",
       "    }\n",
       "\n",
       "    .dataframe tbody tr th {\n",
       "        vertical-align: top;\n",
       "    }\n",
       "\n",
       "    .dataframe thead th {\n",
       "        text-align: right;\n",
       "    }\n",
       "</style>\n",
       "<table border=\"1\" class=\"dataframe\">\n",
       "  <thead>\n",
       "    <tr style=\"text-align: right;\">\n",
       "      <th></th>\n",
       "      <th>sitc_section</th>\n",
       "      <th>description</th>\n",
       "      <th>q4_2024</th>\n",
       "      <th>share_q4</th>\n",
       "      <th>growth_qoq</th>\n",
       "      <th>growth_yoy</th>\n",
       "    </tr>\n",
       "  </thead>\n",
       "  <tbody>\n",
       "    <tr>\n",
       "      <th>9</th>\n",
       "      <td>9</td>\n",
       "      <td>Other commodities &amp; transactions, n.e.s</td>\n",
       "      <td>428.148348</td>\n",
       "      <td>63.200346</td>\n",
       "      <td>-0.015054</td>\n",
       "      <td>1.113087</td>\n",
       "    </tr>\n",
       "    <tr>\n",
       "      <th>0</th>\n",
       "      <td>0</td>\n",
       "      <td>Food and live animals</td>\n",
       "      <td>101.124930</td>\n",
       "      <td>14.927374</td>\n",
       "      <td>0.019745</td>\n",
       "      <td>-0.025881</td>\n",
       "    </tr>\n",
       "    <tr>\n",
       "      <th>2</th>\n",
       "      <td>2</td>\n",
       "      <td>Crude materials, inedible, except fuels</td>\n",
       "      <td>58.789237</td>\n",
       "      <td>8.678067</td>\n",
       "      <td>-0.134262</td>\n",
       "      <td>0.148520</td>\n",
       "    </tr>\n",
       "    <tr>\n",
       "      <th>6</th>\n",
       "      <td>6</td>\n",
       "      <td>Manufactured goods classified chiefly by material</td>\n",
       "      <td>34.872048</td>\n",
       "      <td>5.147575</td>\n",
       "      <td>0.134955</td>\n",
       "      <td>0.415713</td>\n",
       "    </tr>\n",
       "    <tr>\n",
       "      <th>4</th>\n",
       "      <td>4</td>\n",
       "      <td>Animals and vegetable oils, fats &amp; waxes</td>\n",
       "      <td>23.396384</td>\n",
       "      <td>3.453615</td>\n",
       "      <td>0.943355</td>\n",
       "      <td>20.002958</td>\n",
       "    </tr>\n",
       "    <tr>\n",
       "      <th>7</th>\n",
       "      <td>7</td>\n",
       "      <td>Machinery and transport equipment</td>\n",
       "      <td>16.870762</td>\n",
       "      <td>2.490347</td>\n",
       "      <td>1.385293</td>\n",
       "      <td>4.945666</td>\n",
       "    </tr>\n",
       "    <tr>\n",
       "      <th>8</th>\n",
       "      <td>8</td>\n",
       "      <td>Miscellaneous manufactured articles</td>\n",
       "      <td>8.323205</td>\n",
       "      <td>1.228615</td>\n",
       "      <td>-0.120247</td>\n",
       "      <td>0.310390</td>\n",
       "    </tr>\n",
       "    <tr>\n",
       "      <th>5</th>\n",
       "      <td>5</td>\n",
       "      <td>Chemicals &amp; related products, n.e.s.</td>\n",
       "      <td>4.877972</td>\n",
       "      <td>0.720053</td>\n",
       "      <td>-0.000279</td>\n",
       "      <td>0.081264</td>\n",
       "    </tr>\n",
       "    <tr>\n",
       "      <th>3</th>\n",
       "      <td>3</td>\n",
       "      <td>Mineral fuels, lubricants and related materials</td>\n",
       "      <td>0.940699</td>\n",
       "      <td>0.138860</td>\n",
       "      <td>-0.043038</td>\n",
       "      <td>-0.451448</td>\n",
       "    </tr>\n",
       "    <tr>\n",
       "      <th>1</th>\n",
       "      <td>1</td>\n",
       "      <td>Beverages and tobacco</td>\n",
       "      <td>0.101611</td>\n",
       "      <td>0.014999</td>\n",
       "      <td>0.341868</td>\n",
       "      <td>-0.691432</td>\n",
       "    </tr>\n",
       "  </tbody>\n",
       "</table>\n",
       "</div>"
      ],
      "text/plain": [
       "  sitc_section                                        description     q4_2024  \\\n",
       "9            9            Other commodities & transactions, n.e.s  428.148348   \n",
       "0            0                              Food and live animals  101.124930   \n",
       "2            2           Crude materials, inedible, except fuels    58.789237   \n",
       "6            6  Manufactured goods classified chiefly by material   34.872048   \n",
       "4            4           Animals and vegetable oils, fats & waxes   23.396384   \n",
       "7            7                  Machinery and transport equipment   16.870762   \n",
       "8            8                Miscellaneous manufactured articles    8.323205   \n",
       "5            5               Chemicals & related products, n.e.s.    4.877972   \n",
       "3            3    Mineral fuels, lubricants and related materials    0.940699   \n",
       "1            1                              Beverages and tobacco    0.101611   \n",
       "\n",
       "    share_q4  growth_qoq  growth_yoy  \n",
       "9  63.200346   -0.015054    1.113087  \n",
       "0  14.927374    0.019745   -0.025881  \n",
       "2   8.678067   -0.134262    0.148520  \n",
       "6   5.147575    0.134955    0.415713  \n",
       "4   3.453615    0.943355   20.002958  \n",
       "7   2.490347    1.385293    4.945666  \n",
       "8   1.228615   -0.120247    0.310390  \n",
       "5   0.720053   -0.000279    0.081264  \n",
       "3   0.138860   -0.043038   -0.451448  \n",
       "1   0.014999    0.341868   -0.691432  "
      ]
     },
     "metadata": {},
     "output_type": "display_data"
    }
   ],
   "source": [
    "# Analyze export commodities\n",
    "if 'ExportsCommodity' in cleaned_data:\n",
    "    export_commodities = cleaned_data['ExportsCommodity']\n",
    "    \n",
    "    print(\"📦 Export Commodities Analysis\")\n",
    "    print(\"=\" * 40)\n",
    "    print(f\"📊 Commodities analyzed: {len(export_commodities)}\")\n",
    "    \n",
    "    # Find top export commodities\n",
    "    top_export_commodities = export_commodities.nlargest(15, 'q4_2024')\n",
    "    \n",
    "    print(f\"\\n🏆 Top 15 Export Commodities (Q4 2024):\")\n",
    "    for i, (_, commodity) in enumerate(top_export_commodities.iterrows(), 1):\n",
    "        sitc_section = commodity['sitc_section']\n",
    "        description = commodity['description']\n",
    "        value = commodity['q4_2024']\n",
    "        share = commodity['share_q4']\n",
    "        print(f\"   {i}. SITC {sitc_section} - {description}: ${value:.2f}M ({share:.2f}%)\")\n",
    "    \n",
    "    # Calculate commodity concentration\n",
    "    total_exports = export_commodities['q4_2024'].sum()\n",
    "    top_5_commodity_share = top_export_commodities.head(5)['q4_2024'].sum() / total_exports * 100\n",
    "    \n",
    "    print(f\"\\n📈 Export Commodity Concentration:\")\n",
    "    print(f\"   Top 5 commodities: {top_5_commodity_share:.2f}% of total exports\")\n",
    "    print(f\"   Export commodity diversity: {len(export_commodities)} commodities\")\n",
    "    \n",
    "    # Analyze by SITC sections\n",
    "    sitc_analysis = export_commodities.groupby('sitc_section').agg({\n",
    "        'q4_2024': 'sum',\n",
    "        'description': 'count'\n",
    "    }).sort_values('q4_2024', ascending=False)\n",
    "    \n",
    "    print(f\"\\n🏭 Export Analysis by SITC Section:\")\n",
    "    for sitc, row in sitc_analysis.iterrows():\n",
    "        section_name = SITC_SECTIONS.get(sitc, f'SITC Section {sitc}')\n",
    "        value = row['q4_2024']\n",
    "        count = row['description']\n",
    "        share = (value / total_exports) * 100\n",
    "        print(f\"   SITC {sitc} ({section_name}): ${value:.2f}M ({share:.2f}%) - {count} commodities\")\n",
    "    \n",
    "    print(f\"\\n📋 Top Export Commodities Data:\")\n",
    "    display(top_export_commodities[['sitc_section', 'description', 'q4_2024', 'share_q4', 'growth_qoq', 'growth_yoy']])\n",
    "    \n",
    "else:\n",
    "    print(\"❌ ExportsCommodity sheet not found in cleaned data\")"
   ]
  },
  {
   "cell_type": "code",
   "execution_count": 17,
   "metadata": {},
   "outputs": [
    {
     "name": "stdout",
     "output_type": "stream",
     "text": [
      "📦 Import Commodities Analysis\n",
      "========================================\n",
      "📊 Commodities analyzed: 10\n",
      "\n",
      "🏆 Top 15 Import Commodities (Q4 2024):\n",
      "   1. SITC 9 - Other commodities & transactions, n.e.s: $396.16M (24.31%)\n",
      "   2. SITC 7 - Machinery and transport equipment: $238.86M (14.66%)\n",
      "   3. SITC 0 - Food and live animals: $234.57M (14.40%)\n",
      "   4. SITC 6 - Manufactured goods classified chiefly by material: $215.13M (13.20%)\n",
      "   5. SITC 3 - Mineral fuels, lubricants and related materials: $190.53M (11.69%)\n",
      "   6. SITC 5 - Chemicals & related products, n.e.s.: $135.39M (8.31%)\n",
      "   7. SITC 8 - Miscellaneous manufactured articles: $92.66M (5.69%)\n",
      "   8. SITC 4 - Animals and vegetable oils, fats & waxes: $55.92M (3.43%)\n",
      "   9. SITC 2 - Crude materials, inedible, except fuels : $40.66M (2.50%)\n",
      "   10. SITC 1 - Beverages and tobacco: $27.41M (1.68%)\n",
      "\n",
      "📈 Import Commodity Concentration:\n",
      "   Top 5 commodities: 78.37% of total imports\n",
      "   Import commodity diversity: 10 commodities\n",
      "\n",
      "🏭 Import Analysis by SITC Section:\n",
      "   SITC 9 (Commodities and transactions not classified elsewhere): $396.16M (24.34%) - 1.0 commodities\n",
      "   SITC 7 (Machinery and transport equipment): $238.86M (14.68%) - 1.0 commodities\n",
      "   SITC 0 (Food and live animals): $234.57M (14.41%) - 1.0 commodities\n",
      "   SITC 6 (Manufactured goods classified by material): $215.13M (13.22%) - 1.0 commodities\n",
      "   SITC 3 (Mineral fuels, lubricants and related materials): $190.53M (11.71%) - 1.0 commodities\n",
      "   SITC 5 (Chemicals and related products): $135.39M (8.32%) - 1.0 commodities\n",
      "   SITC 8 (Miscellaneous manufactured articles): $92.66M (5.69%) - 1.0 commodities\n",
      "   SITC 4 (Animal and vegetable oils, fats and waxes): $55.92M (3.44%) - 1.0 commodities\n",
      "   SITC 2 (Crude materials, inedible, except fuels): $40.66M (2.50%) - 1.0 commodities\n",
      "   SITC 1 (Beverages and tobacco): $27.41M (1.68%) - 1.0 commodities\n",
      "\n",
      "📋 Top Import Commodities Data:\n"
     ]
    },
    {
     "data": {
      "application/vnd.microsoft.datawrangler.viewer.v0+json": {
       "columns": [
        {
         "name": "index",
         "rawType": "int64",
         "type": "integer"
        },
        {
         "name": "sitc_section",
         "rawType": "object",
         "type": "string"
        },
        {
         "name": "description",
         "rawType": "object",
         "type": "string"
        },
        {
         "name": "q4_2024",
         "rawType": "float64",
         "type": "float"
        },
        {
         "name": "share_q4",
         "rawType": "float64",
         "type": "float"
        },
        {
         "name": "growth_qoq",
         "rawType": "float64",
         "type": "float"
        },
        {
         "name": "growth_yoy",
         "rawType": "float64",
         "type": "float"
        }
       ],
       "ref": "d32866d5-504e-4039-9ffb-7fc2731b3807",
       "rows": [
        [
         "9",
         "9",
         "Other commodities & transactions, n.e.s",
         "396.1624103306197",
         "24.313544505995885",
         "-0.17314599491426041",
         "0.9587280443809043"
        ],
        [
         "7",
         "7",
         "Machinery and transport equipment",
         "238.86086994544144",
         "14.659529124211094",
         "-0.059090586908028375",
         "-0.07642744255794409"
        ],
        [
         "0",
         "0",
         "Food and live animals",
         "234.56643276944516",
         "14.395968052579763",
         "-0.01250326617906894",
         "-0.19204959506175168"
        ],
        [
         "6",
         "6",
         "Manufactured goods classified chiefly by material",
         "215.1264163020412",
         "13.202882355269255",
         "-0.015725574120304286",
         "-0.00804464037499375"
        ],
        [
         "3",
         "3",
         "Mineral fuels, lubricants and related materials",
         "190.52678439970418",
         "11.69313728735775",
         "-0.057186998585033955",
         "0.09069077899802935"
        ],
        [
         "5",
         "5",
         "Chemicals & related products, n.e.s.",
         "135.39214316316625",
         "8.30937719662137",
         "-0.07853269818059927",
         "0.03771626748991763"
        ],
        [
         "8",
         "8",
         "Miscellaneous manufactured articles",
         "92.66231800879544",
         "5.6869337781325076",
         "0.06198522763689951",
         "0.060282360106026944"
        ],
        [
         "4",
         "4",
         "Animals and vegetable oils, fats & waxes",
         "55.924705765790115",
         "3.4322484596317295",
         "0.04964886452277284",
         "-0.023460594031524118"
        ],
        [
         "2",
         "2",
         "Crude materials, inedible, except fuels ",
         "40.664177707047784",
         "2.4956691212952653",
         "-0.08260744673657971",
         "0.037372568849013854"
        ],
        [
         "1",
         "1",
         "Beverages and tobacco",
         "27.40919862604367",
         "1.6821756766671365",
         "0.017154861951951483",
         "0.025433569090667074"
        ]
       ],
       "shape": {
        "columns": 6,
        "rows": 10
       }
      },
      "text/html": [
       "<div>\n",
       "<style scoped>\n",
       "    .dataframe tbody tr th:only-of-type {\n",
       "        vertical-align: middle;\n",
       "    }\n",
       "\n",
       "    .dataframe tbody tr th {\n",
       "        vertical-align: top;\n",
       "    }\n",
       "\n",
       "    .dataframe thead th {\n",
       "        text-align: right;\n",
       "    }\n",
       "</style>\n",
       "<table border=\"1\" class=\"dataframe\">\n",
       "  <thead>\n",
       "    <tr style=\"text-align: right;\">\n",
       "      <th></th>\n",
       "      <th>sitc_section</th>\n",
       "      <th>description</th>\n",
       "      <th>q4_2024</th>\n",
       "      <th>share_q4</th>\n",
       "      <th>growth_qoq</th>\n",
       "      <th>growth_yoy</th>\n",
       "    </tr>\n",
       "  </thead>\n",
       "  <tbody>\n",
       "    <tr>\n",
       "      <th>9</th>\n",
       "      <td>9</td>\n",
       "      <td>Other commodities &amp; transactions, n.e.s</td>\n",
       "      <td>396.162410</td>\n",
       "      <td>24.313545</td>\n",
       "      <td>-0.173146</td>\n",
       "      <td>0.958728</td>\n",
       "    </tr>\n",
       "    <tr>\n",
       "      <th>7</th>\n",
       "      <td>7</td>\n",
       "      <td>Machinery and transport equipment</td>\n",
       "      <td>238.860870</td>\n",
       "      <td>14.659529</td>\n",
       "      <td>-0.059091</td>\n",
       "      <td>-0.076427</td>\n",
       "    </tr>\n",
       "    <tr>\n",
       "      <th>0</th>\n",
       "      <td>0</td>\n",
       "      <td>Food and live animals</td>\n",
       "      <td>234.566433</td>\n",
       "      <td>14.395968</td>\n",
       "      <td>-0.012503</td>\n",
       "      <td>-0.192050</td>\n",
       "    </tr>\n",
       "    <tr>\n",
       "      <th>6</th>\n",
       "      <td>6</td>\n",
       "      <td>Manufactured goods classified chiefly by material</td>\n",
       "      <td>215.126416</td>\n",
       "      <td>13.202882</td>\n",
       "      <td>-0.015726</td>\n",
       "      <td>-0.008045</td>\n",
       "    </tr>\n",
       "    <tr>\n",
       "      <th>3</th>\n",
       "      <td>3</td>\n",
       "      <td>Mineral fuels, lubricants and related materials</td>\n",
       "      <td>190.526784</td>\n",
       "      <td>11.693137</td>\n",
       "      <td>-0.057187</td>\n",
       "      <td>0.090691</td>\n",
       "    </tr>\n",
       "    <tr>\n",
       "      <th>5</th>\n",
       "      <td>5</td>\n",
       "      <td>Chemicals &amp; related products, n.e.s.</td>\n",
       "      <td>135.392143</td>\n",
       "      <td>8.309377</td>\n",
       "      <td>-0.078533</td>\n",
       "      <td>0.037716</td>\n",
       "    </tr>\n",
       "    <tr>\n",
       "      <th>8</th>\n",
       "      <td>8</td>\n",
       "      <td>Miscellaneous manufactured articles</td>\n",
       "      <td>92.662318</td>\n",
       "      <td>5.686934</td>\n",
       "      <td>0.061985</td>\n",
       "      <td>0.060282</td>\n",
       "    </tr>\n",
       "    <tr>\n",
       "      <th>4</th>\n",
       "      <td>4</td>\n",
       "      <td>Animals and vegetable oils, fats &amp; waxes</td>\n",
       "      <td>55.924706</td>\n",
       "      <td>3.432248</td>\n",
       "      <td>0.049649</td>\n",
       "      <td>-0.023461</td>\n",
       "    </tr>\n",
       "    <tr>\n",
       "      <th>2</th>\n",
       "      <td>2</td>\n",
       "      <td>Crude materials, inedible, except fuels</td>\n",
       "      <td>40.664178</td>\n",
       "      <td>2.495669</td>\n",
       "      <td>-0.082607</td>\n",
       "      <td>0.037373</td>\n",
       "    </tr>\n",
       "    <tr>\n",
       "      <th>1</th>\n",
       "      <td>1</td>\n",
       "      <td>Beverages and tobacco</td>\n",
       "      <td>27.409199</td>\n",
       "      <td>1.682176</td>\n",
       "      <td>0.017155</td>\n",
       "      <td>0.025434</td>\n",
       "    </tr>\n",
       "  </tbody>\n",
       "</table>\n",
       "</div>"
      ],
      "text/plain": [
       "  sitc_section                                        description     q4_2024  \\\n",
       "9            9            Other commodities & transactions, n.e.s  396.162410   \n",
       "7            7                  Machinery and transport equipment  238.860870   \n",
       "0            0                              Food and live animals  234.566433   \n",
       "6            6  Manufactured goods classified chiefly by material  215.126416   \n",
       "3            3    Mineral fuels, lubricants and related materials  190.526784   \n",
       "5            5               Chemicals & related products, n.e.s.  135.392143   \n",
       "8            8                Miscellaneous manufactured articles   92.662318   \n",
       "4            4           Animals and vegetable oils, fats & waxes   55.924706   \n",
       "2            2           Crude materials, inedible, except fuels    40.664178   \n",
       "1            1                              Beverages and tobacco   27.409199   \n",
       "\n",
       "    share_q4  growth_qoq  growth_yoy  \n",
       "9  24.313545   -0.173146    0.958728  \n",
       "7  14.659529   -0.059091   -0.076427  \n",
       "0  14.395968   -0.012503   -0.192050  \n",
       "6  13.202882   -0.015726   -0.008045  \n",
       "3  11.693137   -0.057187    0.090691  \n",
       "5   8.309377   -0.078533    0.037716  \n",
       "8   5.686934    0.061985    0.060282  \n",
       "4   3.432248    0.049649   -0.023461  \n",
       "2   2.495669   -0.082607    0.037373  \n",
       "1   1.682176    0.017155    0.025434  "
      ]
     },
     "metadata": {},
     "output_type": "display_data"
    }
   ],
   "source": [
    "# Analyze import commodities\n",
    "if 'ImportsCommodity' in cleaned_data:\n",
    "    import_commodities = cleaned_data['ImportsCommodity']\n",
    "    \n",
    "    print(\"📦 Import Commodities Analysis\")\n",
    "    print(\"=\" * 40)\n",
    "    print(f\"📊 Commodities analyzed: {len(import_commodities)}\")\n",
    "    \n",
    "    # Find top import commodities\n",
    "    top_import_commodities = import_commodities.nlargest(15, 'q4_2024')\n",
    "    \n",
    "    print(f\"\\n🏆 Top 15 Import Commodities (Q4 2024):\")\n",
    "    for i, (_, commodity) in enumerate(top_import_commodities.iterrows(), 1):\n",
    "        sitc_section = commodity['sitc_section']\n",
    "        description = commodity['description']\n",
    "        value = commodity['q4_2024']\n",
    "        share = commodity['share_q4']\n",
    "        print(f\"   {i}. SITC {sitc_section} - {description}: ${value:.2f}M ({share:.2f}%)\")\n",
    "    \n",
    "    # Calculate commodity concentration\n",
    "    total_imports = import_commodities['q4_2024'].sum()\n",
    "    top_5_import_commodity_share = top_import_commodities.head(5)['q4_2024'].sum() / total_imports * 100\n",
    "    \n",
    "    print(f\"\\n📈 Import Commodity Concentration:\")\n",
    "    print(f\"   Top 5 commodities: {top_5_import_commodity_share:.2f}% of total imports\")\n",
    "    print(f\"   Import commodity diversity: {len(import_commodities)} commodities\")\n",
    "    \n",
    "    # Analyze by SITC sections\n",
    "    import_sitc_analysis = import_commodities.groupby('sitc_section').agg({\n",
    "        'q4_2024': 'sum',\n",
    "        'description': 'count'\n",
    "    }).sort_values('q4_2024', ascending=False)\n",
    "    \n",
    "    print(f\"\\n🏭 Import Analysis by SITC Section:\")\n",
    "    for sitc, row in import_sitc_analysis.iterrows():\n",
    "        section_name = SITC_SECTIONS.get(sitc, f'SITC Section {sitc}')\n",
    "        value = row['q4_2024']\n",
    "        count = row['description']\n",
    "        share = (value / total_imports) * 100\n",
    "        print(f\"   SITC {sitc} ({section_name}): ${value:.2f}M ({share:.2f}%) - {count} commodities\")\n",
    "    \n",
    "    print(f\"\\n📋 Top Import Commodities Data:\")\n",
    "    display(top_import_commodities[['sitc_section', 'description', 'q4_2024', 'share_q4', 'growth_qoq', 'growth_yoy']])\n",
    "    \n",
    "else:\n",
    "    print(\"❌ ImportsCommodity sheet not found in cleaned data\")"
   ]
  },
  {
   "cell_type": "code",
   "execution_count": 18,
   "metadata": {},
   "outputs": [
    {
     "name": "stdout",
     "output_type": "stream",
     "text": [
      "🔄 Re-export Commodities Analysis\n",
      "=============================================\n",
      "📊 Commodities analyzed: 9\n",
      "\n",
      "🏆 Top 15 Re-export Commodities (Q4 2024):\n",
      "   1. SITC 3 - Mineral fuels, lubricants and related materials: $48.01M (27.08%)\n",
      "   2. SITC 6 - Manufactured goods classified chiefly by material: $20.40M (11.51%)\n",
      "   3. SITC 1 - Beverages and tobacco: $12.25M (6.91%)\n",
      "   4. SITC 5 - Chemicals & related products, n.e.s.: $11.62M (6.55%)\n",
      "   5. SITC 8 - Miscellaneous manufactured articles: $10.18M (5.74%)\n",
      "   6. SITC 7 - Machinery and transport equipment: $9.99M (5.63%)\n",
      "   7. SITC 4 - Animals and vegetable oils, fats & waxes: $8.39M (4.73%)\n",
      "   8. SITC 2 - Crude materials, inedible, except fuels : $4.87M (2.75%)\n",
      "   9. SITC 9 - Other commodities & transactions, n.e.s: $0.00M (0.00%)\n",
      "\n",
      "📈 Re-export Commodity Concentration:\n",
      "   Top 5 commodities: 81.51% of total re-exports\n",
      "   Re-export commodity diversity: 9 commodities\n",
      "\n",
      "📋 Top Re-export Commodities Data:\n"
     ]
    },
    {
     "data": {
      "application/vnd.microsoft.datawrangler.viewer.v0+json": {
       "columns": [
        {
         "name": "index",
         "rawType": "int64",
         "type": "integer"
        },
        {
         "name": "sitc_section",
         "rawType": "object",
         "type": "string"
        },
        {
         "name": "description",
         "rawType": "object",
         "type": "string"
        },
        {
         "name": "q4_2024",
         "rawType": "float64",
         "type": "float"
        },
        {
         "name": "share_q4",
         "rawType": "float64",
         "type": "float"
        },
        {
         "name": "growth_qoq",
         "rawType": "float64",
         "type": "float"
        },
        {
         "name": "growth_yoy",
         "rawType": "float64",
         "type": "float"
        }
       ],
       "ref": "45a43e8c-13a4-48e8-bf33-bd86187c5400",
       "rows": [
        [
         "2",
         "3",
         "Mineral fuels, lubricants and related materials",
         "48.010716887279955",
         "27.08077385020435",
         "-0.10663044759519691",
         "0.239402042471897"
        ],
        [
         "5",
         "6",
         "Manufactured goods classified chiefly by material",
         "20.40471364927067",
         "11.509418555682455",
         "-0.07168246174909787",
         "0.42153084375305383"
        ],
        [
         "0",
         "1",
         "Beverages and tobacco",
         "12.247576969946403",
         "6.908329715525739",
         "0.17145341443931827",
         "0.4492221431250518"
        ],
        [
         "4",
         "5",
         "Chemicals & related products, n.e.s.",
         "11.616735573397053",
         "6.552499303007442",
         "-0.03604103822343219",
         "0.4841930028232526"
        ],
        [
         "7",
         "8",
         "Miscellaneous manufactured articles",
         "10.184696869667828",
         "5.744748059228252",
         "0.03910553267792971",
         "0.7192135580685877"
        ],
        [
         "6",
         "7",
         "Machinery and transport equipment",
         "9.987036649669678",
         "5.633256457686062",
         "-0.025836806473983565",
         "0.2708939495957512"
        ],
        [
         "3",
         "4",
         "Animals and vegetable oils, fats & waxes",
         "8.386769567432818",
         "4.730614844236953",
         "-0.06745768209785041",
         "-0.4679838721511297"
        ],
        [
         "1",
         "2",
         "Crude materials, inedible, except fuels ",
         "4.86838826317236",
         "2.7460477601176927",
         "-0.016979790197548694",
         "0.08158563058225465"
        ],
        [
         "8",
         "9",
         "Other commodities & transactions, n.e.s",
         "0.0",
         "0.0",
         "0.0",
         "0.0"
        ]
       ],
       "shape": {
        "columns": 6,
        "rows": 9
       }
      },
      "text/html": [
       "<div>\n",
       "<style scoped>\n",
       "    .dataframe tbody tr th:only-of-type {\n",
       "        vertical-align: middle;\n",
       "    }\n",
       "\n",
       "    .dataframe tbody tr th {\n",
       "        vertical-align: top;\n",
       "    }\n",
       "\n",
       "    .dataframe thead th {\n",
       "        text-align: right;\n",
       "    }\n",
       "</style>\n",
       "<table border=\"1\" class=\"dataframe\">\n",
       "  <thead>\n",
       "    <tr style=\"text-align: right;\">\n",
       "      <th></th>\n",
       "      <th>sitc_section</th>\n",
       "      <th>description</th>\n",
       "      <th>q4_2024</th>\n",
       "      <th>share_q4</th>\n",
       "      <th>growth_qoq</th>\n",
       "      <th>growth_yoy</th>\n",
       "    </tr>\n",
       "  </thead>\n",
       "  <tbody>\n",
       "    <tr>\n",
       "      <th>2</th>\n",
       "      <td>3</td>\n",
       "      <td>Mineral fuels, lubricants and related materials</td>\n",
       "      <td>48.010717</td>\n",
       "      <td>27.080774</td>\n",
       "      <td>-0.106630</td>\n",
       "      <td>0.239402</td>\n",
       "    </tr>\n",
       "    <tr>\n",
       "      <th>5</th>\n",
       "      <td>6</td>\n",
       "      <td>Manufactured goods classified chiefly by material</td>\n",
       "      <td>20.404714</td>\n",
       "      <td>11.509419</td>\n",
       "      <td>-0.071682</td>\n",
       "      <td>0.421531</td>\n",
       "    </tr>\n",
       "    <tr>\n",
       "      <th>0</th>\n",
       "      <td>1</td>\n",
       "      <td>Beverages and tobacco</td>\n",
       "      <td>12.247577</td>\n",
       "      <td>6.908330</td>\n",
       "      <td>0.171453</td>\n",
       "      <td>0.449222</td>\n",
       "    </tr>\n",
       "    <tr>\n",
       "      <th>4</th>\n",
       "      <td>5</td>\n",
       "      <td>Chemicals &amp; related products, n.e.s.</td>\n",
       "      <td>11.616736</td>\n",
       "      <td>6.552499</td>\n",
       "      <td>-0.036041</td>\n",
       "      <td>0.484193</td>\n",
       "    </tr>\n",
       "    <tr>\n",
       "      <th>7</th>\n",
       "      <td>8</td>\n",
       "      <td>Miscellaneous manufactured articles</td>\n",
       "      <td>10.184697</td>\n",
       "      <td>5.744748</td>\n",
       "      <td>0.039106</td>\n",
       "      <td>0.719214</td>\n",
       "    </tr>\n",
       "    <tr>\n",
       "      <th>6</th>\n",
       "      <td>7</td>\n",
       "      <td>Machinery and transport equipment</td>\n",
       "      <td>9.987037</td>\n",
       "      <td>5.633256</td>\n",
       "      <td>-0.025837</td>\n",
       "      <td>0.270894</td>\n",
       "    </tr>\n",
       "    <tr>\n",
       "      <th>3</th>\n",
       "      <td>4</td>\n",
       "      <td>Animals and vegetable oils, fats &amp; waxes</td>\n",
       "      <td>8.386770</td>\n",
       "      <td>4.730615</td>\n",
       "      <td>-0.067458</td>\n",
       "      <td>-0.467984</td>\n",
       "    </tr>\n",
       "    <tr>\n",
       "      <th>1</th>\n",
       "      <td>2</td>\n",
       "      <td>Crude materials, inedible, except fuels</td>\n",
       "      <td>4.868388</td>\n",
       "      <td>2.746048</td>\n",
       "      <td>-0.016980</td>\n",
       "      <td>0.081586</td>\n",
       "    </tr>\n",
       "    <tr>\n",
       "      <th>8</th>\n",
       "      <td>9</td>\n",
       "      <td>Other commodities &amp; transactions, n.e.s</td>\n",
       "      <td>0.000000</td>\n",
       "      <td>0.000000</td>\n",
       "      <td>0.000000</td>\n",
       "      <td>0.000000</td>\n",
       "    </tr>\n",
       "  </tbody>\n",
       "</table>\n",
       "</div>"
      ],
      "text/plain": [
       "  sitc_section                                        description    q4_2024  \\\n",
       "2            3    Mineral fuels, lubricants and related materials  48.010717   \n",
       "5            6  Manufactured goods classified chiefly by material  20.404714   \n",
       "0            1                              Beverages and tobacco  12.247577   \n",
       "4            5               Chemicals & related products, n.e.s.  11.616736   \n",
       "7            8                Miscellaneous manufactured articles  10.184697   \n",
       "6            7                  Machinery and transport equipment   9.987037   \n",
       "3            4           Animals and vegetable oils, fats & waxes   8.386770   \n",
       "1            2           Crude materials, inedible, except fuels    4.868388   \n",
       "8            9            Other commodities & transactions, n.e.s   0.000000   \n",
       "\n",
       "    share_q4  growth_qoq  growth_yoy  \n",
       "2  27.080774   -0.106630    0.239402  \n",
       "5  11.509419   -0.071682    0.421531  \n",
       "0   6.908330    0.171453    0.449222  \n",
       "4   6.552499   -0.036041    0.484193  \n",
       "7   5.744748    0.039106    0.719214  \n",
       "6   5.633256   -0.025837    0.270894  \n",
       "3   4.730615   -0.067458   -0.467984  \n",
       "1   2.746048   -0.016980    0.081586  \n",
       "8   0.000000    0.000000    0.000000  "
      ]
     },
     "metadata": {},
     "output_type": "display_data"
    }
   ],
   "source": [
    "# Analyze re-export commodities\n",
    "if 'ReexportsCommodity' in cleaned_data:\n",
    "    reexport_commodities = cleaned_data['ReexportsCommodity']\n",
    "    \n",
    "    print(\"🔄 Re-export Commodities Analysis\")\n",
    "    print(\"=\" * 45)\n",
    "    print(f\"📊 Commodities analyzed: {len(reexport_commodities)}\")\n",
    "    \n",
    "    # Find top re-export commodities\n",
    "    top_reexport_commodities = reexport_commodities.nlargest(15, 'q4_2024')\n",
    "    \n",
    "    print(f\"\\n🏆 Top 15 Re-export Commodities (Q4 2024):\")\n",
    "    for i, (_, commodity) in enumerate(top_reexport_commodities.iterrows(), 1):\n",
    "        sitc_section = commodity['sitc_section']\n",
    "        description = commodity['description']\n",
    "        value = commodity['q4_2024']\n",
    "        share = commodity['share_q4']\n",
    "        print(f\"   {i}. SITC {sitc_section} - {description}: ${value:.2f}M ({share:.2f}%)\")\n",
    "    \n",
    "    # Calculate commodity concentration\n",
    "    total_reexports = reexport_commodities['q4_2024'].sum()\n",
    "    top_5_reexport_commodity_share = top_reexport_commodities.head(5)['q4_2024'].sum() / total_reexports * 100\n",
    "    \n",
    "    print(f\"\\n📈 Re-export Commodity Concentration:\")\n",
    "    print(f\"   Top 5 commodities: {top_5_reexport_commodity_share:.2f}% of total re-exports\")\n",
    "    print(f\"   Re-export commodity diversity: {len(reexport_commodities)} commodities\")\n",
    "    \n",
    "    print(f\"\\n📋 Top Re-export Commodities Data:\")\n",
    "    display(top_reexport_commodities[['sitc_section', 'description', 'q4_2024', 'share_q4', 'growth_qoq', 'growth_yoy']])\n",
    "    \n",
    "else:\n",
    "    print(\"❌ ReexportsCommodity sheet not found in cleaned data\")"
   ]
  },
  {
   "cell_type": "code",
   "execution_count": 19,
   "metadata": {},
   "outputs": [
    {
     "data": {
      "application/vnd.plotly.v1+json": {
       "config": {
        "plotlyServerURL": "https://plot.ly"
       },
       "data": [
        {
         "marker": {
          "color": "#2E86AB"
         },
         "name": "Export Volume",
         "orientation": "h",
         "type": "bar",
         "x": [
          428.1483479071482,
          101.12493008783761,
          58.78923659545866,
          34.872048192777875,
          23.396384054352332,
          16.870761895697886,
          8.323204657159229,
          4.87797166069729,
          0.9406992131324204,
          0.10161149487692121
         ],
         "xaxis": "x",
         "y": [
          "Other commodities & transactions, n.e.s",
          "Food and live animals",
          "Crude materials, inedible, except fuels ",
          "Manufactured goods classified chiefly by material",
          "Animals and vegetable oils, fats & waxes",
          "Machinery and transport equipment",
          "Miscellaneous manufactured articles",
          "Chemicals & related products, n.e.s.",
          "Mineral fuels, lubricants and related materials",
          "Beverages and tobacco"
         ],
         "yaxis": "y"
        },
        {
         "domain": {
          "x": [
           0.55,
           1
          ],
          "y": [
           0.7777777777777778,
           1
          ]
         },
         "labels": [
          "Beverages and tobacco",
          "Mineral fuels, lubricants and related materials",
          "Chemicals and related products",
          "Miscellaneous manufactured articles",
          "Machinery and transport equipment",
          "Animal and vegetable oils, fats and waxes",
          "Manufactured goods classified by material",
          "Crude materials, inedible, except fuels",
          "Food and live animals",
          "Commodities and transactions not classified elsewhere"
         ],
         "name": "Export by SITC",
         "textinfo": "label+percent",
         "textposition": "inside",
         "type": "pie",
         "values": [
          0.10161149487692121,
          0.9406992131324204,
          4.87797166069729,
          8.323204657159229,
          16.870761895697886,
          23.396384054352332,
          34.872048192777875,
          58.78923659545866,
          101.12493008783761,
          428.1483479071482
         ]
        },
        {
         "marker": {
          "color": "#A23B72"
         },
         "name": "Import Volume",
         "orientation": "h",
         "type": "bar",
         "x": [
          396.1624103306197,
          238.86086994544144,
          234.56643276944516,
          215.1264163020412,
          190.52678439970418,
          135.39214316316625,
          92.66231800879544,
          55.924705765790115,
          40.664177707047784,
          27.40919862604367
         ],
         "xaxis": "x2",
         "y": [
          "Other commodities & transactions, n.e.s",
          "Machinery and transport equipment",
          "Food and live animals",
          "Manufactured goods classified chiefly by material",
          "Mineral fuels, lubricants and related materials",
          "Chemicals & related products, n.e.s.",
          "Miscellaneous manufactured articles",
          "Animals and vegetable oils, fats & waxes",
          "Crude materials, inedible, except fuels ",
          "Beverages and tobacco"
         ],
         "yaxis": "y2"
        },
        {
         "domain": {
          "x": [
           0.55,
           1
          ],
          "y": [
           0.3888888888888889,
           0.6111111111111112
          ]
         },
         "labels": [
          "Beverages and tobacco",
          "Crude materials, inedible, except fuels",
          "Animal and vegetable oils, fats and waxes",
          "Miscellaneous manufactured articles",
          "Chemicals and related products",
          "Mineral fuels, lubricants and related materials",
          "Manufactured goods classified by material",
          "Food and live animals",
          "Machinery and transport equipment",
          "Commodities and transactions not classified elsewhere"
         ],
         "name": "Import by SITC",
         "textinfo": "label+percent",
         "textposition": "inside",
         "type": "pie",
         "values": [
          27.40919862604367,
          40.664177707047784,
          55.924705765790115,
          92.66231800879544,
          135.39214316316625,
          190.52678439970418,
          215.1264163020412,
          234.56643276944516,
          238.86086994544144,
          396.1624103306197
         ]
        },
        {
         "marker": {
          "color": "#F18F01"
         },
         "name": "Re-export Volume",
         "orientation": "h",
         "type": "bar",
         "x": [
          48.010716887279955,
          20.40471364927067,
          12.247576969946403,
          11.616735573397053,
          10.184696869667828,
          9.987036649669678,
          8.386769567432818,
          4.86838826317236,
          0
         ],
         "xaxis": "x3",
         "y": [
          "Mineral fuels, lubricants and related materials",
          "Manufactured goods classified chiefly by material",
          "Beverages and tobacco",
          "Chemicals & related products, n.e.s.",
          "Miscellaneous manufactured articles",
          "Machinery and transport equipment",
          "Animals and vegetable oils, fats & waxes",
          "Crude materials, inedible, except fuels ",
          "Other commodities & transactions, n.e.s"
         ],
         "yaxis": "y3"
        },
        {
         "marker": {
          "color": [
           "#2E86AB",
           "#A23B72",
           "#F18F01"
          ]
         },
         "name": "Top Commodity Comparison",
         "type": "bar",
         "x": [
          "Top Export",
          "Top Import",
          "Top Re-export"
         ],
         "xaxis": "x4",
         "y": [
          428.1483479071482,
          396.1624103306197,
          48.010716887279955
         ],
         "yaxis": "y4"
        }
       ],
       "layout": {
        "annotations": [
         {
          "font": {
           "size": 16
          },
          "showarrow": false,
          "text": "Top Export Commodities (Q4 2024)",
          "x": 0.225,
          "xanchor": "center",
          "xref": "paper",
          "y": 1,
          "yanchor": "bottom",
          "yref": "paper"
         },
         {
          "font": {
           "size": 16
          },
          "showarrow": false,
          "text": "Export Commodities by SITC Section",
          "x": 0.775,
          "xanchor": "center",
          "xref": "paper",
          "y": 1,
          "yanchor": "bottom",
          "yref": "paper"
         },
         {
          "font": {
           "size": 16
          },
          "showarrow": false,
          "text": "Top Import Commodities (Q4 2024)",
          "x": 0.225,
          "xanchor": "center",
          "xref": "paper",
          "y": 0.6111111111111112,
          "yanchor": "bottom",
          "yref": "paper"
         },
         {
          "font": {
           "size": 16
          },
          "showarrow": false,
          "text": "Import Commodities by SITC Section",
          "x": 0.775,
          "xanchor": "center",
          "xref": "paper",
          "y": 0.6111111111111112,
          "yanchor": "bottom",
          "yref": "paper"
         },
         {
          "font": {
           "size": 16
          },
          "showarrow": false,
          "text": "Top Re-export Commodities",
          "x": 0.225,
          "xanchor": "center",
          "xref": "paper",
          "y": 0.22222222222222224,
          "yanchor": "bottom",
          "yref": "paper"
         },
         {
          "font": {
           "size": 16
          },
          "showarrow": false,
          "text": "Commodity Trade Comparison",
          "x": 0.775,
          "xanchor": "center",
          "xref": "paper",
          "y": 0.22222222222222224,
          "yanchor": "bottom",
          "yref": "paper"
         }
        ],
        "height": 1200,
        "showlegend": true,
        "template": {
         "data": {
          "bar": [
           {
            "error_x": {
             "color": "#2a3f5f"
            },
            "error_y": {
             "color": "#2a3f5f"
            },
            "marker": {
             "line": {
              "color": "#E5ECF6",
              "width": 0.5
             },
             "pattern": {
              "fillmode": "overlay",
              "size": 10,
              "solidity": 0.2
             }
            },
            "type": "bar"
           }
          ],
          "barpolar": [
           {
            "marker": {
             "line": {
              "color": "#E5ECF6",
              "width": 0.5
             },
             "pattern": {
              "fillmode": "overlay",
              "size": 10,
              "solidity": 0.2
             }
            },
            "type": "barpolar"
           }
          ],
          "carpet": [
           {
            "aaxis": {
             "endlinecolor": "#2a3f5f",
             "gridcolor": "white",
             "linecolor": "white",
             "minorgridcolor": "white",
             "startlinecolor": "#2a3f5f"
            },
            "baxis": {
             "endlinecolor": "#2a3f5f",
             "gridcolor": "white",
             "linecolor": "white",
             "minorgridcolor": "white",
             "startlinecolor": "#2a3f5f"
            },
            "type": "carpet"
           }
          ],
          "choropleth": [
           {
            "colorbar": {
             "outlinewidth": 0,
             "ticks": ""
            },
            "type": "choropleth"
           }
          ],
          "contour": [
           {
            "colorbar": {
             "outlinewidth": 0,
             "ticks": ""
            },
            "colorscale": [
             [
              0,
              "#0d0887"
             ],
             [
              0.1111111111111111,
              "#46039f"
             ],
             [
              0.2222222222222222,
              "#7201a8"
             ],
             [
              0.3333333333333333,
              "#9c179e"
             ],
             [
              0.4444444444444444,
              "#bd3786"
             ],
             [
              0.5555555555555556,
              "#d8576b"
             ],
             [
              0.6666666666666666,
              "#ed7953"
             ],
             [
              0.7777777777777778,
              "#fb9f3a"
             ],
             [
              0.8888888888888888,
              "#fdca26"
             ],
             [
              1,
              "#f0f921"
             ]
            ],
            "type": "contour"
           }
          ],
          "contourcarpet": [
           {
            "colorbar": {
             "outlinewidth": 0,
             "ticks": ""
            },
            "type": "contourcarpet"
           }
          ],
          "heatmap": [
           {
            "colorbar": {
             "outlinewidth": 0,
             "ticks": ""
            },
            "colorscale": [
             [
              0,
              "#0d0887"
             ],
             [
              0.1111111111111111,
              "#46039f"
             ],
             [
              0.2222222222222222,
              "#7201a8"
             ],
             [
              0.3333333333333333,
              "#9c179e"
             ],
             [
              0.4444444444444444,
              "#bd3786"
             ],
             [
              0.5555555555555556,
              "#d8576b"
             ],
             [
              0.6666666666666666,
              "#ed7953"
             ],
             [
              0.7777777777777778,
              "#fb9f3a"
             ],
             [
              0.8888888888888888,
              "#fdca26"
             ],
             [
              1,
              "#f0f921"
             ]
            ],
            "type": "heatmap"
           }
          ],
          "heatmapgl": [
           {
            "colorbar": {
             "outlinewidth": 0,
             "ticks": ""
            },
            "colorscale": [
             [
              0,
              "#0d0887"
             ],
             [
              0.1111111111111111,
              "#46039f"
             ],
             [
              0.2222222222222222,
              "#7201a8"
             ],
             [
              0.3333333333333333,
              "#9c179e"
             ],
             [
              0.4444444444444444,
              "#bd3786"
             ],
             [
              0.5555555555555556,
              "#d8576b"
             ],
             [
              0.6666666666666666,
              "#ed7953"
             ],
             [
              0.7777777777777778,
              "#fb9f3a"
             ],
             [
              0.8888888888888888,
              "#fdca26"
             ],
             [
              1,
              "#f0f921"
             ]
            ],
            "type": "heatmapgl"
           }
          ],
          "histogram": [
           {
            "marker": {
             "pattern": {
              "fillmode": "overlay",
              "size": 10,
              "solidity": 0.2
             }
            },
            "type": "histogram"
           }
          ],
          "histogram2d": [
           {
            "colorbar": {
             "outlinewidth": 0,
             "ticks": ""
            },
            "colorscale": [
             [
              0,
              "#0d0887"
             ],
             [
              0.1111111111111111,
              "#46039f"
             ],
             [
              0.2222222222222222,
              "#7201a8"
             ],
             [
              0.3333333333333333,
              "#9c179e"
             ],
             [
              0.4444444444444444,
              "#bd3786"
             ],
             [
              0.5555555555555556,
              "#d8576b"
             ],
             [
              0.6666666666666666,
              "#ed7953"
             ],
             [
              0.7777777777777778,
              "#fb9f3a"
             ],
             [
              0.8888888888888888,
              "#fdca26"
             ],
             [
              1,
              "#f0f921"
             ]
            ],
            "type": "histogram2d"
           }
          ],
          "histogram2dcontour": [
           {
            "colorbar": {
             "outlinewidth": 0,
             "ticks": ""
            },
            "colorscale": [
             [
              0,
              "#0d0887"
             ],
             [
              0.1111111111111111,
              "#46039f"
             ],
             [
              0.2222222222222222,
              "#7201a8"
             ],
             [
              0.3333333333333333,
              "#9c179e"
             ],
             [
              0.4444444444444444,
              "#bd3786"
             ],
             [
              0.5555555555555556,
              "#d8576b"
             ],
             [
              0.6666666666666666,
              "#ed7953"
             ],
             [
              0.7777777777777778,
              "#fb9f3a"
             ],
             [
              0.8888888888888888,
              "#fdca26"
             ],
             [
              1,
              "#f0f921"
             ]
            ],
            "type": "histogram2dcontour"
           }
          ],
          "mesh3d": [
           {
            "colorbar": {
             "outlinewidth": 0,
             "ticks": ""
            },
            "type": "mesh3d"
           }
          ],
          "parcoords": [
           {
            "line": {
             "colorbar": {
              "outlinewidth": 0,
              "ticks": ""
             }
            },
            "type": "parcoords"
           }
          ],
          "pie": [
           {
            "automargin": true,
            "type": "pie"
           }
          ],
          "scatter": [
           {
            "fillpattern": {
             "fillmode": "overlay",
             "size": 10,
             "solidity": 0.2
            },
            "type": "scatter"
           }
          ],
          "scatter3d": [
           {
            "line": {
             "colorbar": {
              "outlinewidth": 0,
              "ticks": ""
             }
            },
            "marker": {
             "colorbar": {
              "outlinewidth": 0,
              "ticks": ""
             }
            },
            "type": "scatter3d"
           }
          ],
          "scattercarpet": [
           {
            "marker": {
             "colorbar": {
              "outlinewidth": 0,
              "ticks": ""
             }
            },
            "type": "scattercarpet"
           }
          ],
          "scattergeo": [
           {
            "marker": {
             "colorbar": {
              "outlinewidth": 0,
              "ticks": ""
             }
            },
            "type": "scattergeo"
           }
          ],
          "scattergl": [
           {
            "marker": {
             "colorbar": {
              "outlinewidth": 0,
              "ticks": ""
             }
            },
            "type": "scattergl"
           }
          ],
          "scattermapbox": [
           {
            "marker": {
             "colorbar": {
              "outlinewidth": 0,
              "ticks": ""
             }
            },
            "type": "scattermapbox"
           }
          ],
          "scatterpolar": [
           {
            "marker": {
             "colorbar": {
              "outlinewidth": 0,
              "ticks": ""
             }
            },
            "type": "scatterpolar"
           }
          ],
          "scatterpolargl": [
           {
            "marker": {
             "colorbar": {
              "outlinewidth": 0,
              "ticks": ""
             }
            },
            "type": "scatterpolargl"
           }
          ],
          "scatterternary": [
           {
            "marker": {
             "colorbar": {
              "outlinewidth": 0,
              "ticks": ""
             }
            },
            "type": "scatterternary"
           }
          ],
          "surface": [
           {
            "colorbar": {
             "outlinewidth": 0,
             "ticks": ""
            },
            "colorscale": [
             [
              0,
              "#0d0887"
             ],
             [
              0.1111111111111111,
              "#46039f"
             ],
             [
              0.2222222222222222,
              "#7201a8"
             ],
             [
              0.3333333333333333,
              "#9c179e"
             ],
             [
              0.4444444444444444,
              "#bd3786"
             ],
             [
              0.5555555555555556,
              "#d8576b"
             ],
             [
              0.6666666666666666,
              "#ed7953"
             ],
             [
              0.7777777777777778,
              "#fb9f3a"
             ],
             [
              0.8888888888888888,
              "#fdca26"
             ],
             [
              1,
              "#f0f921"
             ]
            ],
            "type": "surface"
           }
          ],
          "table": [
           {
            "cells": {
             "fill": {
              "color": "#EBF0F8"
             },
             "line": {
              "color": "white"
             }
            },
            "header": {
             "fill": {
              "color": "#C8D4E3"
             },
             "line": {
              "color": "white"
             }
            },
            "type": "table"
           }
          ]
         },
         "layout": {
          "annotationdefaults": {
           "arrowcolor": "#2a3f5f",
           "arrowhead": 0,
           "arrowwidth": 1
          },
          "autotypenumbers": "strict",
          "coloraxis": {
           "colorbar": {
            "outlinewidth": 0,
            "ticks": ""
           }
          },
          "colorscale": {
           "diverging": [
            [
             0,
             "#8e0152"
            ],
            [
             0.1,
             "#c51b7d"
            ],
            [
             0.2,
             "#de77ae"
            ],
            [
             0.3,
             "#f1b6da"
            ],
            [
             0.4,
             "#fde0ef"
            ],
            [
             0.5,
             "#f7f7f7"
            ],
            [
             0.6,
             "#e6f5d0"
            ],
            [
             0.7,
             "#b8e186"
            ],
            [
             0.8,
             "#7fbc41"
            ],
            [
             0.9,
             "#4d9221"
            ],
            [
             1,
             "#276419"
            ]
           ],
           "sequential": [
            [
             0,
             "#0d0887"
            ],
            [
             0.1111111111111111,
             "#46039f"
            ],
            [
             0.2222222222222222,
             "#7201a8"
            ],
            [
             0.3333333333333333,
             "#9c179e"
            ],
            [
             0.4444444444444444,
             "#bd3786"
            ],
            [
             0.5555555555555556,
             "#d8576b"
            ],
            [
             0.6666666666666666,
             "#ed7953"
            ],
            [
             0.7777777777777778,
             "#fb9f3a"
            ],
            [
             0.8888888888888888,
             "#fdca26"
            ],
            [
             1,
             "#f0f921"
            ]
           ],
           "sequentialminus": [
            [
             0,
             "#0d0887"
            ],
            [
             0.1111111111111111,
             "#46039f"
            ],
            [
             0.2222222222222222,
             "#7201a8"
            ],
            [
             0.3333333333333333,
             "#9c179e"
            ],
            [
             0.4444444444444444,
             "#bd3786"
            ],
            [
             0.5555555555555556,
             "#d8576b"
            ],
            [
             0.6666666666666666,
             "#ed7953"
            ],
            [
             0.7777777777777778,
             "#fb9f3a"
            ],
            [
             0.8888888888888888,
             "#fdca26"
            ],
            [
             1,
             "#f0f921"
            ]
           ]
          },
          "colorway": [
           "#636efa",
           "#EF553B",
           "#00cc96",
           "#ab63fa",
           "#FFA15A",
           "#19d3f3",
           "#FF6692",
           "#B6E880",
           "#FF97FF",
           "#FECB52"
          ],
          "font": {
           "color": "#2a3f5f"
          },
          "geo": {
           "bgcolor": "white",
           "lakecolor": "white",
           "landcolor": "#E5ECF6",
           "showlakes": true,
           "showland": true,
           "subunitcolor": "white"
          },
          "hoverlabel": {
           "align": "left"
          },
          "hovermode": "closest",
          "mapbox": {
           "style": "light"
          },
          "paper_bgcolor": "white",
          "plot_bgcolor": "#E5ECF6",
          "polar": {
           "angularaxis": {
            "gridcolor": "white",
            "linecolor": "white",
            "ticks": ""
           },
           "bgcolor": "#E5ECF6",
           "radialaxis": {
            "gridcolor": "white",
            "linecolor": "white",
            "ticks": ""
           }
          },
          "scene": {
           "xaxis": {
            "backgroundcolor": "#E5ECF6",
            "gridcolor": "white",
            "gridwidth": 2,
            "linecolor": "white",
            "showbackground": true,
            "ticks": "",
            "zerolinecolor": "white"
           },
           "yaxis": {
            "backgroundcolor": "#E5ECF6",
            "gridcolor": "white",
            "gridwidth": 2,
            "linecolor": "white",
            "showbackground": true,
            "ticks": "",
            "zerolinecolor": "white"
           },
           "zaxis": {
            "backgroundcolor": "#E5ECF6",
            "gridcolor": "white",
            "gridwidth": 2,
            "linecolor": "white",
            "showbackground": true,
            "ticks": "",
            "zerolinecolor": "white"
           }
          },
          "shapedefaults": {
           "line": {
            "color": "#2a3f5f"
           }
          },
          "ternary": {
           "aaxis": {
            "gridcolor": "white",
            "linecolor": "white",
            "ticks": ""
           },
           "baxis": {
            "gridcolor": "white",
            "linecolor": "white",
            "ticks": ""
           },
           "bgcolor": "#E5ECF6",
           "caxis": {
            "gridcolor": "white",
            "linecolor": "white",
            "ticks": ""
           }
          },
          "title": {
           "x": 0.05
          },
          "xaxis": {
           "automargin": true,
           "gridcolor": "white",
           "linecolor": "white",
           "ticks": "",
           "title": {
            "standoff": 15
           },
           "zerolinecolor": "white",
           "zerolinewidth": 2
          },
          "yaxis": {
           "automargin": true,
           "gridcolor": "white",
           "linecolor": "white",
           "ticks": "",
           "title": {
            "standoff": 15
           },
           "zerolinecolor": "white",
           "zerolinewidth": 2
          }
         }
        },
        "title": {
         "text": "Rwanda Commodity Trade Analysis (Q4 2024)",
         "x": 0.5
        },
        "xaxis": {
         "anchor": "y",
         "domain": [
          0,
          0.45
         ]
        },
        "xaxis2": {
         "anchor": "y2",
         "domain": [
          0,
          0.45
         ]
        },
        "xaxis3": {
         "anchor": "y3",
         "domain": [
          0,
          0.45
         ]
        },
        "xaxis4": {
         "anchor": "y4",
         "domain": [
          0.55,
          1
         ]
        },
        "yaxis": {
         "anchor": "x",
         "domain": [
          0.7777777777777778,
          1
         ]
        },
        "yaxis2": {
         "anchor": "x2",
         "domain": [
          0.3888888888888889,
          0.6111111111111112
         ]
        },
        "yaxis3": {
         "anchor": "x3",
         "domain": [
          0,
          0.22222222222222224
         ]
        },
        "yaxis4": {
         "anchor": "x4",
         "domain": [
          0,
          0.22222222222222224
         ]
        }
       }
      }
     },
     "metadata": {},
     "output_type": "display_data"
    },
    {
     "name": "stdout",
     "output_type": "stream",
     "text": [
      "✅ Commodity analysis visualization completed\n"
     ]
    }
   ],
   "source": [
    "# Create comprehensive commodity analysis visualization - FIXED subplot issues\n",
    "if all(sheet in cleaned_data for sheet in ['ExportsCommodity', 'ImportsCommodity', 'ReexportsCommodity']):\n",
    "    export_comm = cleaned_data['ExportsCommodity']\n",
    "    import_comm = cleaned_data['ImportsCommodity']\n",
    "    reexport_comm = cleaned_data['ReexportsCommodity']\n",
    "    \n",
    "    # Create comprehensive commodity analysis - FIXED subplot specs\n",
    "    fig_commodities = make_subplots(\n",
    "        rows=3, cols=2,\n",
    "        subplot_titles=(\n",
    "            'Top Export Commodities (Q4 2024)',\n",
    "            'Export Commodities by SITC Section',\n",
    "            'Top Import Commodities (Q4 2024)',\n",
    "            'Import Commodities by SITC Section',\n",
    "            'Top Re-export Commodities',\n",
    "            'Commodity Trade Comparison'\n",
    "        ),\n",
    "        specs=[[{\"type\": \"bar\"}, {\"type\": \"domain\"}],\n",
    "               [{\"type\": \"bar\"}, {\"type\": \"domain\"}],\n",
    "               [{\"type\": \"bar\"}, {\"secondary_y\": False}]]\n",
    "    )\n",
    "    \n",
    "    # 1. Top Export Commodities\n",
    "    top_export_comm = export_comm.nlargest(10, 'q4_2024')\n",
    "    fig_commodities.add_trace(\n",
    "        go.Bar(\n",
    "            x=top_export_comm['q4_2024'],\n",
    "            y=top_export_comm['description'],\n",
    "            orientation='h',\n",
    "            name='Export Volume',\n",
    "            marker_color='#2E86AB'\n",
    "        ),\n",
    "        row=1, col=1\n",
    "    )\n",
    "    \n",
    "    # 2. Export Commodities by SITC Section - FIXED: Pie chart in domain subplot\n",
    "    export_sitc = export_comm.groupby('sitc_section')['q4_2024'].sum().sort_values(ascending=True)\n",
    "    fig_commodities.add_trace(\n",
    "        go.Pie(\n",
    "            labels=[SITC_SECTIONS.get(sitc, f'SITC {sitc}') for sitc in export_sitc.index],\n",
    "            values=export_sitc.values,\n",
    "            name='Export by SITC',\n",
    "            textinfo='label+percent',\n",
    "            textposition='inside'\n",
    "        ),\n",
    "        row=1, col=2\n",
    "    )\n",
    "    \n",
    "    # 3. Top Import Commodities\n",
    "    top_import_comm = import_comm.nlargest(10, 'q4_2024')\n",
    "    fig_commodities.add_trace(\n",
    "        go.Bar(\n",
    "            x=top_import_comm['q4_2024'],\n",
    "            y=top_import_comm['description'],\n",
    "            orientation='h',\n",
    "            name='Import Volume',\n",
    "            marker_color='#A23B72'\n",
    "        ),\n",
    "        row=2, col=1\n",
    "    )\n",
    "    \n",
    "    # 4. Import Commodities by SITC Section - FIXED: Pie chart in domain subplot\n",
    "    import_sitc = import_comm.groupby('sitc_section')['q4_2024'].sum().sort_values(ascending=True)\n",
    "    fig_commodities.add_trace(\n",
    "        go.Pie(\n",
    "            labels=[SITC_SECTIONS.get(sitc, f'SITC {sitc}') for sitc in import_sitc.index],\n",
    "            values=import_sitc.values,\n",
    "            name='Import by SITC',\n",
    "            textinfo='label+percent',\n",
    "            textposition='inside'\n",
    "        ),\n",
    "        row=2, col=2\n",
    "    )\n",
    "    \n",
    "    # 5. Top Re-export Commodities\n",
    "    top_reexport_comm = reexport_comm.nlargest(10, 'q4_2024')\n",
    "    fig_commodities.add_trace(\n",
    "        go.Bar(\n",
    "            x=top_reexport_comm['q4_2024'],\n",
    "            y=top_reexport_comm['description'],\n",
    "            orientation='h',\n",
    "            name='Re-export Volume',\n",
    "            marker_color='#F18F01'\n",
    "        ),\n",
    "        row=3, col=1\n",
    "    )\n",
    "    \n",
    "    # 6. Commodity Trade Comparison\n",
    "    # Compare top commodities across export, import, and re-export\n",
    "    top_export_comm_name = top_export_comm.iloc[0]['description']\n",
    "    top_import_comm_name = top_import_comm.iloc[0]['description']\n",
    "    top_reexport_comm_name = top_reexport_comm.iloc[0]['description']\n",
    "    \n",
    "    export_val = top_export_comm.iloc[0]['q4_2024']\n",
    "    import_val = top_import_comm.iloc[0]['q4_2024']\n",
    "    reexport_val = top_reexport_comm.iloc[0]['q4_2024']\n",
    "    \n",
    "    fig_commodities.add_trace(\n",
    "        go.Bar(\n",
    "            x=['Top Export', 'Top Import', 'Top Re-export'],\n",
    "            y=[export_val, import_val, reexport_val],\n",
    "            name='Top Commodity Comparison',\n",
    "            marker_color=['#2E86AB', '#A23B72', '#F18F01']\n",
    "        ),\n",
    "        row=3, col=2\n",
    "    )\n",
    "    \n",
    "    # Update layout\n",
    "    fig_commodities.update_layout(\n",
    "        height=1200,\n",
    "        title_text=\"Rwanda Commodity Trade Analysis (Q4 2024)\",\n",
    "        title_x=0.5,\n",
    "        showlegend=True\n",
    "    )\n",
    "    \n",
    "    fig_commodities.show()\n",
    "    \n",
    "    print(\"✅ Commodity analysis visualization completed\")\n",
    "else:\n",
    "    print(\"❌ Commodity data not available for visualization\")"
   ]
  },
  {
   "cell_type": "code",
   "execution_count": null,
   "metadata": {},
   "outputs": [],
   "source": [
    "# 5. Trend Analysis and Forecasting\n",
    "\n",
    "This section provides advanced trend analysis and forecasting using statistical methods to predict future trade patterns."
   ]
  },
  {
   "cell_type": "code",
   "execution_count": 20,
   "metadata": {},
   "outputs": [
    {
     "name": "stdout",
     "output_type": "stream",
     "text": [
      "📈 Trend Analysis and Forecasting\n",
      "=============================================\n",
      "\n",
      "📊 Moving Averages Analysis:\n",
      "   Latest Export MA (4Q): $222.12M\n",
      "   Latest Import MA (4Q): $246.65M\n",
      "   Latest Trade Balance MA (4Q): $279.20M\n",
      "\n",
      "📈 Year-over-Year Growth:\n",
      "   Latest Export YoY: -100.00%\n",
      "   Latest Import YoY: -100.00%\n",
      "\n",
      "📉 Volatility Analysis:\n",
      "   Export Volatility: 206.07%\n",
      "   Import Volatility: 224.42%\n",
      "\n",
      "🤖 Linear Regression Forecasting:\n",
      "   Export Model R²: 0.1670\n",
      "   Import Model R²: 0.1605\n",
      "\n",
      "🔮 Next Quarter Forecast:\n",
      "   Predicted Exports: $-189.08M\n",
      "   Predicted Imports: $-268.47M\n",
      "   Predicted Trade Balance: $79.39M\n",
      "\n",
      "📋 Trend Analysis Data:\n"
     ]
    },
    {
     "data": {
      "application/vnd.microsoft.datawrangler.viewer.v0+json": {
       "columns": [
        {
         "name": "index",
         "rawType": "int64",
         "type": "integer"
        },
        {
         "name": "period",
         "rawType": "object",
         "type": "string"
        },
        {
         "name": "exports",
         "rawType": "float64",
         "type": "float"
        },
        {
         "name": "imports",
         "rawType": "float64",
         "type": "float"
        },
        {
         "name": "trade_balance",
         "rawType": "float64",
         "type": "float"
        },
        {
         "name": "export_ma_4",
         "rawType": "float64",
         "type": "float"
        },
        {
         "name": "import_ma_4",
         "rawType": "float64",
         "type": "float"
        },
        {
         "name": "export_yoy",
         "rawType": "float64",
         "type": "float"
        },
        {
         "name": "import_yoy",
         "rawType": "float64",
         "type": "float"
        }
       ],
       "ref": "0b9b1023-717e-4c95-be85-0f13b5f63794",
       "rows": [
        [
         "2",
         "Re-Exports",
         "150.6553971830555",
         "161.7394402630839",
         "156.25277435433534",
         null,
         null,
         null,
         null
        ],
        [
         "3",
         "Total Trade",
         "1478.7736711779276",
         "1841.3179382306507",
         "2034.90741057856",
         "739.3868355889638",
         "920.6589691153254",
         null,
         null
        ],
        [
         "4",
         "Trade Balance",
         "-590.3051801823782",
         "-854.7339552251364",
         "-918.1124861761293",
         "518.4158284646895",
         "624.087342499123",
         "-301.0721084202789",
         "-357.79742970738437"
        ],
        [
         "5",
         "*Major revisions  include Domestic exports destination of Tea and Coffee",
         "0.0",
         "0.0",
         "0.0",
         "259.7809720446512",
         "287.08085581714965",
         "-100.0",
         "-100.0"
        ],
        [
         "6",
         "*All series revised from 2022Q1",
         "0.0",
         "0.0",
         "0.0",
         "222.11712274888737",
         "246.64599575137865",
         "-100.0",
         "-100.0"
        ]
       ],
       "shape": {
        "columns": 8,
        "rows": 5
       }
      },
      "text/html": [
       "<div>\n",
       "<style scoped>\n",
       "    .dataframe tbody tr th:only-of-type {\n",
       "        vertical-align: middle;\n",
       "    }\n",
       "\n",
       "    .dataframe tbody tr th {\n",
       "        vertical-align: top;\n",
       "    }\n",
       "\n",
       "    .dataframe thead th {\n",
       "        text-align: right;\n",
       "    }\n",
       "</style>\n",
       "<table border=\"1\" class=\"dataframe\">\n",
       "  <thead>\n",
       "    <tr style=\"text-align: right;\">\n",
       "      <th></th>\n",
       "      <th>period</th>\n",
       "      <th>exports</th>\n",
       "      <th>imports</th>\n",
       "      <th>trade_balance</th>\n",
       "      <th>export_ma_4</th>\n",
       "      <th>import_ma_4</th>\n",
       "      <th>export_yoy</th>\n",
       "      <th>import_yoy</th>\n",
       "    </tr>\n",
       "  </thead>\n",
       "  <tbody>\n",
       "    <tr>\n",
       "      <th>2</th>\n",
       "      <td>Re-Exports</td>\n",
       "      <td>150.655397</td>\n",
       "      <td>161.739440</td>\n",
       "      <td>156.252774</td>\n",
       "      <td>NaN</td>\n",
       "      <td>NaN</td>\n",
       "      <td>NaN</td>\n",
       "      <td>NaN</td>\n",
       "    </tr>\n",
       "    <tr>\n",
       "      <th>3</th>\n",
       "      <td>Total Trade</td>\n",
       "      <td>1478.773671</td>\n",
       "      <td>1841.317938</td>\n",
       "      <td>2034.907411</td>\n",
       "      <td>739.386836</td>\n",
       "      <td>920.658969</td>\n",
       "      <td>NaN</td>\n",
       "      <td>NaN</td>\n",
       "    </tr>\n",
       "    <tr>\n",
       "      <th>4</th>\n",
       "      <td>Trade Balance</td>\n",
       "      <td>-590.305180</td>\n",
       "      <td>-854.733955</td>\n",
       "      <td>-918.112486</td>\n",
       "      <td>518.415828</td>\n",
       "      <td>624.087342</td>\n",
       "      <td>-301.072108</td>\n",
       "      <td>-357.79743</td>\n",
       "    </tr>\n",
       "    <tr>\n",
       "      <th>5</th>\n",
       "      <td>*Major revisions  include Domestic exports des...</td>\n",
       "      <td>0.000000</td>\n",
       "      <td>0.000000</td>\n",
       "      <td>0.000000</td>\n",
       "      <td>259.780972</td>\n",
       "      <td>287.080856</td>\n",
       "      <td>-100.000000</td>\n",
       "      <td>-100.00000</td>\n",
       "    </tr>\n",
       "    <tr>\n",
       "      <th>6</th>\n",
       "      <td>*All series revised from 2022Q1</td>\n",
       "      <td>0.000000</td>\n",
       "      <td>0.000000</td>\n",
       "      <td>0.000000</td>\n",
       "      <td>222.117123</td>\n",
       "      <td>246.645996</td>\n",
       "      <td>-100.000000</td>\n",
       "      <td>-100.00000</td>\n",
       "    </tr>\n",
       "  </tbody>\n",
       "</table>\n",
       "</div>"
      ],
      "text/plain": [
       "                                              period      exports  \\\n",
       "2                                         Re-Exports   150.655397   \n",
       "3                                        Total Trade  1478.773671   \n",
       "4                                      Trade Balance  -590.305180   \n",
       "5  *Major revisions  include Domestic exports des...     0.000000   \n",
       "6                    *All series revised from 2022Q1     0.000000   \n",
       "\n",
       "       imports  trade_balance  export_ma_4  import_ma_4  export_yoy  \\\n",
       "2   161.739440     156.252774          NaN          NaN         NaN   \n",
       "3  1841.317938    2034.907411   739.386836   920.658969         NaN   \n",
       "4  -854.733955    -918.112486   518.415828   624.087342 -301.072108   \n",
       "5     0.000000       0.000000   259.780972   287.080856 -100.000000   \n",
       "6     0.000000       0.000000   222.117123   246.645996 -100.000000   \n",
       "\n",
       "   import_yoy  \n",
       "2         NaN  \n",
       "3         NaN  \n",
       "4  -357.79743  \n",
       "5  -100.00000  \n",
       "6  -100.00000  "
      ]
     },
     "metadata": {},
     "output_type": "display_data"
    }
   ],
   "source": [
    "# Perform trend analysis on overall trade data\n",
    "if 'Graph Overall' in cleaned_data:\n",
    "    overall_df = cleaned_data['Graph Overall']\n",
    "    \n",
    "    print(\"📈 Trend Analysis and Forecasting\")\n",
    "    print(\"=\" * 45)\n",
    "    \n",
    "    # Calculate moving averages\n",
    "    overall_df['export_ma_4'] = overall_df['exports'].rolling(window=4).mean()\n",
    "    overall_df['import_ma_4'] = overall_df['imports'].rolling(window=4).mean()\n",
    "    overall_df['trade_balance_ma_4'] = overall_df['trade_balance'].rolling(window=4).mean()\n",
    "    \n",
    "    # Calculate year-over-year growth\n",
    "    overall_df['export_yoy'] = overall_df['exports'].pct_change(periods=4) * 100\n",
    "    overall_df['import_yoy'] = overall_df['imports'].pct_change(periods=4) * 100\n",
    "    \n",
    "    print(f\"\\n📊 Moving Averages Analysis:\")\n",
    "    print(f\"   Latest Export MA (4Q): ${overall_df['export_ma_4'].iloc[-1]:.2f}M\")\n",
    "    print(f\"   Latest Import MA (4Q): ${overall_df['import_ma_4'].iloc[-1]:.2f}M\")\n",
    "    print(f\"   Latest Trade Balance MA (4Q): ${overall_df['trade_balance_ma_4'].iloc[-1]:.2f}M\")\n",
    "    \n",
    "    print(f\"\\n📈 Year-over-Year Growth:\")\n",
    "    print(f\"   Latest Export YoY: {overall_df['export_yoy'].iloc[-1]:.2f}%\")\n",
    "    print(f\"   Latest Import YoY: {overall_df['import_yoy'].iloc[-1]:.2f}%\")\n",
    "    \n",
    "    # Calculate volatility\n",
    "    export_volatility = overall_df['exports'].std() / overall_df['exports'].mean() * 100\n",
    "    import_volatility = overall_df['imports'].std() / overall_df['imports'].mean() * 100\n",
    "    \n",
    "    print(f\"\\n📉 Volatility Analysis:\")\n",
    "    print(f\"   Export Volatility: {export_volatility:.2f}%\")\n",
    "    print(f\"   Import Volatility: {import_volatility:.2f}%\")\n",
    "    \n",
    "    # Simple forecasting using linear regression\n",
    "    from sklearn.linear_model import LinearRegression\n",
    "    from sklearn.metrics import r2_score\n",
    "    \n",
    "    # Prepare data for forecasting\n",
    "    X = np.array(range(len(overall_df))).reshape(-1, 1)\n",
    "    y_export = overall_df['exports'].values\n",
    "    y_import = overall_df['imports'].values\n",
    "    \n",
    "    # Fit linear regression models\n",
    "    export_model = LinearRegression()\n",
    "    import_model = LinearRegression()\n",
    "    \n",
    "    export_model.fit(X, y_export)\n",
    "    import_model.fit(X, y_import)\n",
    "    \n",
    "    # Calculate R-squared scores\n",
    "    export_r2 = r2_score(y_export, export_model.predict(X))\n",
    "    import_r2 = r2_score(y_import, import_model.predict(X))\n",
    "    \n",
    "    print(f\"\\n🤖 Linear Regression Forecasting:\")\n",
    "    print(f\"   Export Model R²: {export_r2:.4f}\")\n",
    "    print(f\"   Import Model R²: {import_r2:.4f}\")\n",
    "    \n",
    "    # Predict next quarter\n",
    "    next_quarter = len(overall_df)\n",
    "    export_forecast = export_model.predict([[next_quarter]])[0]\n",
    "    import_forecast = import_model.predict([[next_quarter]])[0]\n",
    "    \n",
    "    print(f\"\\n🔮 Next Quarter Forecast:\")\n",
    "    print(f\"   Predicted Exports: ${export_forecast:.2f}M\")\n",
    "    print(f\"   Predicted Imports: ${import_forecast:.2f}M\")\n",
    "    print(f\"   Predicted Trade Balance: ${export_forecast - import_forecast:.2f}M\")\n",
    "    \n",
    "    # Display trend analysis data\n",
    "    print(f\"\\n📋 Trend Analysis Data:\")\n",
    "    display(overall_df[['period', 'exports', 'imports', 'trade_balance', 'export_ma_4', 'import_ma_4', 'export_yoy', 'import_yoy']].tail())\n",
    "    \n",
    "else:\n",
    "    print(\"❌ Graph Overall data not available for trend analysis\")"
   ]
  },
  {
   "cell_type": "code",
   "execution_count": 21,
   "metadata": {},
   "outputs": [
    {
     "data": {
      "application/vnd.plotly.v1+json": {
       "config": {
        "plotlyServerURL": "https://plot.ly"
       },
       "data": [
        {
         "line": {
          "color": "#2E86AB",
          "width": 2
         },
         "mode": "lines+markers",
         "name": "Exports",
         "type": "scatter",
         "x": [
          "Exports",
          "Imports",
          "Re-Exports",
          "Total Trade",
          "Trade Balance",
          "*Major revisions  include Domestic exports destination of Tea and Coffee",
          "*All series revised from 2022Q1"
         ],
         "xaxis": "x",
         "y": [
          293.57884831471915,
          1034.5394256801528,
          150.6553971830555,
          1478.7736711779276,
          -590.3051801823782,
          0,
          0
         ],
         "yaxis": "y"
        },
        {
         "line": {
          "color": "#2E86AB",
          "dash": "dash",
          "width": 4
         },
         "mode": "lines",
         "name": "Export MA (4Q)",
         "type": "scatter",
         "x": [
          "Exports",
          "Imports",
          "Re-Exports",
          "Total Trade",
          "Trade Balance",
          "*Major revisions  include Domestic exports destination of Tea and Coffee",
          "*All series revised from 2022Q1"
         ],
         "xaxis": "x",
         "y": [
          null,
          null,
          null,
          739.3868355889638,
          518.4158284646895,
          259.7809720446512,
          222.11712274888737
         ],
         "yaxis": "y"
        },
        {
         "line": {
          "color": "#A23B72",
          "width": 2
         },
         "mode": "lines+markers",
         "name": "Imports",
         "type": "scatter",
         "x": [
          "Exports",
          "Imports",
          "Re-Exports",
          "Total Trade",
          "Trade Balance",
          "*Major revisions  include Domestic exports destination of Tea and Coffee",
          "*All series revised from 2022Q1"
         ],
         "xaxis": "x",
         "y": [
          331.55255123967333,
          1348.0259467278936,
          161.7394402630839,
          1841.3179382306507,
          -854.7339552251364,
          0,
          0
         ],
         "yaxis": "y"
        },
        {
         "line": {
          "color": "#A23B72",
          "dash": "dash",
          "width": 4
         },
         "mode": "lines",
         "name": "Import MA (4Q)",
         "type": "scatter",
         "x": [
          "Exports",
          "Imports",
          "Re-Exports",
          "Total Trade",
          "Trade Balance",
          "*Major revisions  include Domestic exports destination of Tea and Coffee",
          "*All series revised from 2022Q1"
         ],
         "xaxis": "x",
         "y": [
          null,
          null,
          null,
          920.6589691153254,
          624.087342499123,
          287.08085581714965,
          246.64599575137865
         ],
         "yaxis": "y"
        },
        {
         "fill": "tozeroy",
         "fillcolor": "rgba(241, 143, 1, 0.3)",
         "line": {
          "color": "#F18F01",
          "width": 3
         },
         "mode": "lines+markers",
         "name": "Trade Balance",
         "type": "scatter",
         "x": [
          "Exports",
          "Imports",
          "Re-Exports",
          "Total Trade",
          "Trade Balance",
          "*Major revisions  include Domestic exports destination of Tea and Coffee",
          "*All series revised from 2022Q1"
         ],
         "xaxis": "x2",
         "y": [
          402.14468784688006,
          1476.5099483773447,
          156.25277435433534,
          2034.90741057856,
          -918.1124861761293,
          0,
          0
         ],
         "yaxis": "y2"
        },
        {
         "line": {
          "color": "#2E86AB",
          "width": 2
         },
         "mode": "lines+markers",
         "name": "Export YoY Growth %",
         "type": "scatter",
         "x": [
          "Trade Balance",
          "*Major revisions  include Domestic exports destination of Tea and Coffee",
          "*All series revised from 2022Q1"
         ],
         "xaxis": "x3",
         "y": [
          -301.0721084202789,
          -100,
          -100
         ],
         "yaxis": "y3"
        },
        {
         "line": {
          "color": "#A23B72",
          "width": 2
         },
         "mode": "lines+markers",
         "name": "Import YoY Growth %",
         "type": "scatter",
         "x": [
          "Trade Balance",
          "*Major revisions  include Domestic exports destination of Tea and Coffee",
          "*All series revised from 2022Q1"
         ],
         "xaxis": "x3",
         "y": [
          -357.79742970738437,
          -100,
          -100
         ],
         "yaxis": "y3"
        },
        {
         "line": {
          "color": "#2E86AB",
          "width": 2
         },
         "mode": "lines",
         "name": "Export Volatility",
         "type": "scatter",
         "x": [
          "Total Trade",
          "Trade Balance",
          "*Major revisions  include Domestic exports destination of Tea and Coffee",
          "*All series revised from 2022Q1"
         ],
         "xaxis": "x4",
         "y": [
          626.9389688969737,
          922.5292702664921,
          873.3048744613236,
          882.7773806659335
         ],
         "yaxis": "y4"
        },
        {
         "line": {
          "color": "#A23B72",
          "width": 2
         },
         "mode": "lines",
         "name": "Import Volatility",
         "type": "scatter",
         "x": [
          "Total Trade",
          "Trade Balance",
          "*Major revisions  include Domestic exports destination of Tea and Coffee",
          "*All series revised from 2022Q1"
         ],
         "xaxis": "x4",
         "y": [
          806.8995587683731,
          1211.9427158055723,
          1128.0543514232174,
          1136.9088053407543
         ],
         "yaxis": "y4"
        },
        {
         "line": {
          "color": "#C73E1D",
          "width": 3
         },
         "mode": "lines+markers",
         "name": "Export/Import Ratio %",
         "type": "scatter",
         "x": [
          "Exports",
          "Imports",
          "Re-Exports",
          "Total Trade",
          "Trade Balance",
          "*Major revisions  include Domestic exports destination of Tea and Coffee",
          "*All series revised from 2022Q1"
         ],
         "xaxis": "x5",
         "y": [
          88.54670163659706,
          76.7447709883718,
          93.14697573949854,
          80.31061015996525,
          69.06303143495595,
          null,
          null
         ],
         "yaxis": "y5"
        },
        {
         "marker": {
          "color": "#2E86AB",
          "size": 6
         },
         "mode": "markers",
         "name": "Actual Exports",
         "type": "scatter",
         "x": [
          "Exports",
          "Imports",
          "Re-Exports",
          "Total Trade",
          "Trade Balance",
          "*Major revisions  include Domestic exports destination of Tea and Coffee",
          "*All series revised from 2022Q1"
         ],
         "xaxis": "x6",
         "y": [
          293.57884831471915,
          1034.5394256801528,
          150.6553971830555,
          1478.7736711779276,
          -590.3051801823782,
          0,
          0
         ],
         "yaxis": "y6"
        },
        {
         "line": {
          "color": "#2E86AB",
          "dash": "dash",
          "width": 3
         },
         "mode": "lines",
         "name": "Trend Line (R²=0.167)",
         "type": "scatter",
         "x": [
          "Exports",
          "Imports",
          "Re-Exports",
          "Total Trade",
          "Trade Balance",
          "*Major revisions  include Domestic exports destination of Tea and Coffee",
          "*All series revised from 2022Q1"
         ],
         "xaxis": "x6",
         "y": [
          733.6177346322713,
          601.8043070012036,
          469.9908793701359,
          338.17745173906815,
          206.36402410800042,
          74.5505964769327,
          -57.26283115413503
         ],
         "yaxis": "y6"
        },
        {
         "marker": {
          "color": "#F18F01",
          "size": 10,
          "symbol": "star"
         },
         "mode": "markers",
         "name": "Forecast",
         "type": "scatter",
         "x": [
          "Q4 2025"
         ],
         "xaxis": "x6",
         "y": [
          -189.07625878520275
         ],
         "yaxis": "y6"
        }
       ],
       "layout": {
        "annotations": [
         {
          "font": {
           "size": 16
          },
          "showarrow": false,
          "text": "Trade Volume Trends with Moving Averages",
          "x": 0.225,
          "xanchor": "center",
          "xref": "paper",
          "y": 1,
          "yanchor": "bottom",
          "yref": "paper"
         },
         {
          "font": {
           "size": 16
          },
          "showarrow": false,
          "text": "Trade Balance Trend",
          "x": 0.775,
          "xanchor": "center",
          "xref": "paper",
          "y": 1,
          "yanchor": "bottom",
          "yref": "paper"
         },
         {
          "font": {
           "size": 16
          },
          "showarrow": false,
          "text": "Year-over-Year Growth Rates",
          "x": 0.225,
          "xanchor": "center",
          "xref": "paper",
          "y": 0.6111111111111112,
          "yanchor": "bottom",
          "yref": "paper"
         },
         {
          "font": {
           "size": 16
          },
          "showarrow": false,
          "text": "Volatility Analysis",
          "x": 0.775,
          "xanchor": "center",
          "xref": "paper",
          "y": 0.6111111111111112,
          "yanchor": "bottom",
          "yref": "paper"
         },
         {
          "font": {
           "size": 16
          },
          "showarrow": false,
          "text": "Export vs Import Ratio",
          "x": 0.225,
          "xanchor": "center",
          "xref": "paper",
          "y": 0.22222222222222224,
          "yanchor": "bottom",
          "yref": "paper"
         },
         {
          "font": {
           "size": 16
          },
          "showarrow": false,
          "text": "Forecasting Model",
          "x": 0.775,
          "xanchor": "center",
          "xref": "paper",
          "y": 0.22222222222222224,
          "yanchor": "bottom",
          "yref": "paper"
         }
        ],
        "height": 1200,
        "showlegend": true,
        "template": {
         "data": {
          "bar": [
           {
            "error_x": {
             "color": "#2a3f5f"
            },
            "error_y": {
             "color": "#2a3f5f"
            },
            "marker": {
             "line": {
              "color": "#E5ECF6",
              "width": 0.5
             },
             "pattern": {
              "fillmode": "overlay",
              "size": 10,
              "solidity": 0.2
             }
            },
            "type": "bar"
           }
          ],
          "barpolar": [
           {
            "marker": {
             "line": {
              "color": "#E5ECF6",
              "width": 0.5
             },
             "pattern": {
              "fillmode": "overlay",
              "size": 10,
              "solidity": 0.2
             }
            },
            "type": "barpolar"
           }
          ],
          "carpet": [
           {
            "aaxis": {
             "endlinecolor": "#2a3f5f",
             "gridcolor": "white",
             "linecolor": "white",
             "minorgridcolor": "white",
             "startlinecolor": "#2a3f5f"
            },
            "baxis": {
             "endlinecolor": "#2a3f5f",
             "gridcolor": "white",
             "linecolor": "white",
             "minorgridcolor": "white",
             "startlinecolor": "#2a3f5f"
            },
            "type": "carpet"
           }
          ],
          "choropleth": [
           {
            "colorbar": {
             "outlinewidth": 0,
             "ticks": ""
            },
            "type": "choropleth"
           }
          ],
          "contour": [
           {
            "colorbar": {
             "outlinewidth": 0,
             "ticks": ""
            },
            "colorscale": [
             [
              0,
              "#0d0887"
             ],
             [
              0.1111111111111111,
              "#46039f"
             ],
             [
              0.2222222222222222,
              "#7201a8"
             ],
             [
              0.3333333333333333,
              "#9c179e"
             ],
             [
              0.4444444444444444,
              "#bd3786"
             ],
             [
              0.5555555555555556,
              "#d8576b"
             ],
             [
              0.6666666666666666,
              "#ed7953"
             ],
             [
              0.7777777777777778,
              "#fb9f3a"
             ],
             [
              0.8888888888888888,
              "#fdca26"
             ],
             [
              1,
              "#f0f921"
             ]
            ],
            "type": "contour"
           }
          ],
          "contourcarpet": [
           {
            "colorbar": {
             "outlinewidth": 0,
             "ticks": ""
            },
            "type": "contourcarpet"
           }
          ],
          "heatmap": [
           {
            "colorbar": {
             "outlinewidth": 0,
             "ticks": ""
            },
            "colorscale": [
             [
              0,
              "#0d0887"
             ],
             [
              0.1111111111111111,
              "#46039f"
             ],
             [
              0.2222222222222222,
              "#7201a8"
             ],
             [
              0.3333333333333333,
              "#9c179e"
             ],
             [
              0.4444444444444444,
              "#bd3786"
             ],
             [
              0.5555555555555556,
              "#d8576b"
             ],
             [
              0.6666666666666666,
              "#ed7953"
             ],
             [
              0.7777777777777778,
              "#fb9f3a"
             ],
             [
              0.8888888888888888,
              "#fdca26"
             ],
             [
              1,
              "#f0f921"
             ]
            ],
            "type": "heatmap"
           }
          ],
          "heatmapgl": [
           {
            "colorbar": {
             "outlinewidth": 0,
             "ticks": ""
            },
            "colorscale": [
             [
              0,
              "#0d0887"
             ],
             [
              0.1111111111111111,
              "#46039f"
             ],
             [
              0.2222222222222222,
              "#7201a8"
             ],
             [
              0.3333333333333333,
              "#9c179e"
             ],
             [
              0.4444444444444444,
              "#bd3786"
             ],
             [
              0.5555555555555556,
              "#d8576b"
             ],
             [
              0.6666666666666666,
              "#ed7953"
             ],
             [
              0.7777777777777778,
              "#fb9f3a"
             ],
             [
              0.8888888888888888,
              "#fdca26"
             ],
             [
              1,
              "#f0f921"
             ]
            ],
            "type": "heatmapgl"
           }
          ],
          "histogram": [
           {
            "marker": {
             "pattern": {
              "fillmode": "overlay",
              "size": 10,
              "solidity": 0.2
             }
            },
            "type": "histogram"
           }
          ],
          "histogram2d": [
           {
            "colorbar": {
             "outlinewidth": 0,
             "ticks": ""
            },
            "colorscale": [
             [
              0,
              "#0d0887"
             ],
             [
              0.1111111111111111,
              "#46039f"
             ],
             [
              0.2222222222222222,
              "#7201a8"
             ],
             [
              0.3333333333333333,
              "#9c179e"
             ],
             [
              0.4444444444444444,
              "#bd3786"
             ],
             [
              0.5555555555555556,
              "#d8576b"
             ],
             [
              0.6666666666666666,
              "#ed7953"
             ],
             [
              0.7777777777777778,
              "#fb9f3a"
             ],
             [
              0.8888888888888888,
              "#fdca26"
             ],
             [
              1,
              "#f0f921"
             ]
            ],
            "type": "histogram2d"
           }
          ],
          "histogram2dcontour": [
           {
            "colorbar": {
             "outlinewidth": 0,
             "ticks": ""
            },
            "colorscale": [
             [
              0,
              "#0d0887"
             ],
             [
              0.1111111111111111,
              "#46039f"
             ],
             [
              0.2222222222222222,
              "#7201a8"
             ],
             [
              0.3333333333333333,
              "#9c179e"
             ],
             [
              0.4444444444444444,
              "#bd3786"
             ],
             [
              0.5555555555555556,
              "#d8576b"
             ],
             [
              0.6666666666666666,
              "#ed7953"
             ],
             [
              0.7777777777777778,
              "#fb9f3a"
             ],
             [
              0.8888888888888888,
              "#fdca26"
             ],
             [
              1,
              "#f0f921"
             ]
            ],
            "type": "histogram2dcontour"
           }
          ],
          "mesh3d": [
           {
            "colorbar": {
             "outlinewidth": 0,
             "ticks": ""
            },
            "type": "mesh3d"
           }
          ],
          "parcoords": [
           {
            "line": {
             "colorbar": {
              "outlinewidth": 0,
              "ticks": ""
             }
            },
            "type": "parcoords"
           }
          ],
          "pie": [
           {
            "automargin": true,
            "type": "pie"
           }
          ],
          "scatter": [
           {
            "fillpattern": {
             "fillmode": "overlay",
             "size": 10,
             "solidity": 0.2
            },
            "type": "scatter"
           }
          ],
          "scatter3d": [
           {
            "line": {
             "colorbar": {
              "outlinewidth": 0,
              "ticks": ""
             }
            },
            "marker": {
             "colorbar": {
              "outlinewidth": 0,
              "ticks": ""
             }
            },
            "type": "scatter3d"
           }
          ],
          "scattercarpet": [
           {
            "marker": {
             "colorbar": {
              "outlinewidth": 0,
              "ticks": ""
             }
            },
            "type": "scattercarpet"
           }
          ],
          "scattergeo": [
           {
            "marker": {
             "colorbar": {
              "outlinewidth": 0,
              "ticks": ""
             }
            },
            "type": "scattergeo"
           }
          ],
          "scattergl": [
           {
            "marker": {
             "colorbar": {
              "outlinewidth": 0,
              "ticks": ""
             }
            },
            "type": "scattergl"
           }
          ],
          "scattermapbox": [
           {
            "marker": {
             "colorbar": {
              "outlinewidth": 0,
              "ticks": ""
             }
            },
            "type": "scattermapbox"
           }
          ],
          "scatterpolar": [
           {
            "marker": {
             "colorbar": {
              "outlinewidth": 0,
              "ticks": ""
             }
            },
            "type": "scatterpolar"
           }
          ],
          "scatterpolargl": [
           {
            "marker": {
             "colorbar": {
              "outlinewidth": 0,
              "ticks": ""
             }
            },
            "type": "scatterpolargl"
           }
          ],
          "scatterternary": [
           {
            "marker": {
             "colorbar": {
              "outlinewidth": 0,
              "ticks": ""
             }
            },
            "type": "scatterternary"
           }
          ],
          "surface": [
           {
            "colorbar": {
             "outlinewidth": 0,
             "ticks": ""
            },
            "colorscale": [
             [
              0,
              "#0d0887"
             ],
             [
              0.1111111111111111,
              "#46039f"
             ],
             [
              0.2222222222222222,
              "#7201a8"
             ],
             [
              0.3333333333333333,
              "#9c179e"
             ],
             [
              0.4444444444444444,
              "#bd3786"
             ],
             [
              0.5555555555555556,
              "#d8576b"
             ],
             [
              0.6666666666666666,
              "#ed7953"
             ],
             [
              0.7777777777777778,
              "#fb9f3a"
             ],
             [
              0.8888888888888888,
              "#fdca26"
             ],
             [
              1,
              "#f0f921"
             ]
            ],
            "type": "surface"
           }
          ],
          "table": [
           {
            "cells": {
             "fill": {
              "color": "#EBF0F8"
             },
             "line": {
              "color": "white"
             }
            },
            "header": {
             "fill": {
              "color": "#C8D4E3"
             },
             "line": {
              "color": "white"
             }
            },
            "type": "table"
           }
          ]
         },
         "layout": {
          "annotationdefaults": {
           "arrowcolor": "#2a3f5f",
           "arrowhead": 0,
           "arrowwidth": 1
          },
          "autotypenumbers": "strict",
          "coloraxis": {
           "colorbar": {
            "outlinewidth": 0,
            "ticks": ""
           }
          },
          "colorscale": {
           "diverging": [
            [
             0,
             "#8e0152"
            ],
            [
             0.1,
             "#c51b7d"
            ],
            [
             0.2,
             "#de77ae"
            ],
            [
             0.3,
             "#f1b6da"
            ],
            [
             0.4,
             "#fde0ef"
            ],
            [
             0.5,
             "#f7f7f7"
            ],
            [
             0.6,
             "#e6f5d0"
            ],
            [
             0.7,
             "#b8e186"
            ],
            [
             0.8,
             "#7fbc41"
            ],
            [
             0.9,
             "#4d9221"
            ],
            [
             1,
             "#276419"
            ]
           ],
           "sequential": [
            [
             0,
             "#0d0887"
            ],
            [
             0.1111111111111111,
             "#46039f"
            ],
            [
             0.2222222222222222,
             "#7201a8"
            ],
            [
             0.3333333333333333,
             "#9c179e"
            ],
            [
             0.4444444444444444,
             "#bd3786"
            ],
            [
             0.5555555555555556,
             "#d8576b"
            ],
            [
             0.6666666666666666,
             "#ed7953"
            ],
            [
             0.7777777777777778,
             "#fb9f3a"
            ],
            [
             0.8888888888888888,
             "#fdca26"
            ],
            [
             1,
             "#f0f921"
            ]
           ],
           "sequentialminus": [
            [
             0,
             "#0d0887"
            ],
            [
             0.1111111111111111,
             "#46039f"
            ],
            [
             0.2222222222222222,
             "#7201a8"
            ],
            [
             0.3333333333333333,
             "#9c179e"
            ],
            [
             0.4444444444444444,
             "#bd3786"
            ],
            [
             0.5555555555555556,
             "#d8576b"
            ],
            [
             0.6666666666666666,
             "#ed7953"
            ],
            [
             0.7777777777777778,
             "#fb9f3a"
            ],
            [
             0.8888888888888888,
             "#fdca26"
            ],
            [
             1,
             "#f0f921"
            ]
           ]
          },
          "colorway": [
           "#636efa",
           "#EF553B",
           "#00cc96",
           "#ab63fa",
           "#FFA15A",
           "#19d3f3",
           "#FF6692",
           "#B6E880",
           "#FF97FF",
           "#FECB52"
          ],
          "font": {
           "color": "#2a3f5f"
          },
          "geo": {
           "bgcolor": "white",
           "lakecolor": "white",
           "landcolor": "#E5ECF6",
           "showlakes": true,
           "showland": true,
           "subunitcolor": "white"
          },
          "hoverlabel": {
           "align": "left"
          },
          "hovermode": "closest",
          "mapbox": {
           "style": "light"
          },
          "paper_bgcolor": "white",
          "plot_bgcolor": "#E5ECF6",
          "polar": {
           "angularaxis": {
            "gridcolor": "white",
            "linecolor": "white",
            "ticks": ""
           },
           "bgcolor": "#E5ECF6",
           "radialaxis": {
            "gridcolor": "white",
            "linecolor": "white",
            "ticks": ""
           }
          },
          "scene": {
           "xaxis": {
            "backgroundcolor": "#E5ECF6",
            "gridcolor": "white",
            "gridwidth": 2,
            "linecolor": "white",
            "showbackground": true,
            "ticks": "",
            "zerolinecolor": "white"
           },
           "yaxis": {
            "backgroundcolor": "#E5ECF6",
            "gridcolor": "white",
            "gridwidth": 2,
            "linecolor": "white",
            "showbackground": true,
            "ticks": "",
            "zerolinecolor": "white"
           },
           "zaxis": {
            "backgroundcolor": "#E5ECF6",
            "gridcolor": "white",
            "gridwidth": 2,
            "linecolor": "white",
            "showbackground": true,
            "ticks": "",
            "zerolinecolor": "white"
           }
          },
          "shapedefaults": {
           "line": {
            "color": "#2a3f5f"
           }
          },
          "ternary": {
           "aaxis": {
            "gridcolor": "white",
            "linecolor": "white",
            "ticks": ""
           },
           "baxis": {
            "gridcolor": "white",
            "linecolor": "white",
            "ticks": ""
           },
           "bgcolor": "#E5ECF6",
           "caxis": {
            "gridcolor": "white",
            "linecolor": "white",
            "ticks": ""
           }
          },
          "title": {
           "x": 0.05
          },
          "xaxis": {
           "automargin": true,
           "gridcolor": "white",
           "linecolor": "white",
           "ticks": "",
           "title": {
            "standoff": 15
           },
           "zerolinecolor": "white",
           "zerolinewidth": 2
          },
          "yaxis": {
           "automargin": true,
           "gridcolor": "white",
           "linecolor": "white",
           "ticks": "",
           "title": {
            "standoff": 15
           },
           "zerolinecolor": "white",
           "zerolinewidth": 2
          }
         }
        },
        "title": {
         "text": "Rwanda Trade Trend Analysis and Forecasting (2022-2024)",
         "x": 0.5
        },
        "xaxis": {
         "anchor": "y",
         "domain": [
          0,
          0.45
         ],
         "tickangle": 45
        },
        "xaxis2": {
         "anchor": "y2",
         "domain": [
          0.55,
          1
         ],
         "tickangle": 45
        },
        "xaxis3": {
         "anchor": "y3",
         "domain": [
          0,
          0.45
         ],
         "tickangle": 45
        },
        "xaxis4": {
         "anchor": "y4",
         "domain": [
          0.55,
          1
         ],
         "tickangle": 45
        },
        "xaxis5": {
         "anchor": "y5",
         "domain": [
          0,
          0.45
         ],
         "tickangle": 45
        },
        "xaxis6": {
         "anchor": "y6",
         "domain": [
          0.55,
          1
         ],
         "tickangle": 45
        },
        "yaxis": {
         "anchor": "x",
         "domain": [
          0.7777777777777778,
          1
         ]
        },
        "yaxis2": {
         "anchor": "x2",
         "domain": [
          0.7777777777777778,
          1
         ]
        },
        "yaxis3": {
         "anchor": "x3",
         "domain": [
          0.3888888888888889,
          0.6111111111111112
         ]
        },
        "yaxis4": {
         "anchor": "x4",
         "domain": [
          0.3888888888888889,
          0.6111111111111112
         ]
        },
        "yaxis5": {
         "anchor": "x5",
         "domain": [
          0,
          0.22222222222222224
         ]
        },
        "yaxis6": {
         "anchor": "x6",
         "domain": [
          0,
          0.22222222222222224
         ]
        }
       }
      }
     },
     "metadata": {},
     "output_type": "display_data"
    },
    {
     "name": "stdout",
     "output_type": "stream",
     "text": [
      "✅ Trend analysis visualization completed\n"
     ]
    }
   ],
   "source": [
    "# Create trend analysis visualization\n",
    "if 'Graph Overall' in cleaned_data:\n",
    "    overall_df = cleaned_data['Graph Overall']\n",
    "    \n",
    "    # Create comprehensive trend analysis\n",
    "    fig_trends = make_subplots(\n",
    "        rows=3, cols=2,\n",
    "        subplot_titles=(\n",
    "            'Trade Volume Trends with Moving Averages',\n",
    "            'Trade Balance Trend',\n",
    "            'Year-over-Year Growth Rates',\n",
    "            'Volatility Analysis',\n",
    "            'Export vs Import Ratio',\n",
    "            'Forecasting Model'\n",
    "        ),\n",
    "        specs=[[{\"secondary_y\": False}, {\"secondary_y\": False}],\n",
    "               [{\"secondary_y\": False}, {\"secondary_y\": False}],\n",
    "               [{\"secondary_y\": False}, {\"secondary_y\": False}]]\n",
    "    )\n",
    "    \n",
    "    # 1. Trade Volume Trends with Moving Averages\n",
    "    fig_trends.add_trace(\n",
    "        go.Scatter(\n",
    "            x=overall_df['period'], \n",
    "            y=overall_df['exports'], \n",
    "            mode='lines+markers', \n",
    "            name='Exports',\n",
    "            line=dict(color='#2E86AB', width=2)\n",
    "        ),\n",
    "        row=1, col=1\n",
    "    )\n",
    "    \n",
    "    fig_trends.add_trace(\n",
    "        go.Scatter(\n",
    "            x=overall_df['period'], \n",
    "            y=overall_df['export_ma_4'], \n",
    "            mode='lines', \n",
    "            name='Export MA (4Q)',\n",
    "            line=dict(color='#2E86AB', width=4, dash='dash')\n",
    "        ),\n",
    "        row=1, col=1\n",
    "    )\n",
    "    \n",
    "    fig_trends.add_trace(\n",
    "        go.Scatter(\n",
    "            x=overall_df['period'], \n",
    "            y=overall_df['imports'], \n",
    "            mode='lines+markers', \n",
    "            name='Imports',\n",
    "            line=dict(color='#A23B72', width=2)\n",
    "        ),\n",
    "        row=1, col=1\n",
    "    )\n",
    "    \n",
    "    fig_trends.add_trace(\n",
    "        go.Scatter(\n",
    "            x=overall_df['period'], \n",
    "            y=overall_df['import_ma_4'], \n",
    "            mode='lines', \n",
    "            name='Import MA (4Q)',\n",
    "            line=dict(color='#A23B72', width=4, dash='dash')\n",
    "        ),\n",
    "        row=1, col=1\n",
    "    )\n",
    "    \n",
    "    # 2. Trade Balance Trend\n",
    "    fig_trends.add_trace(\n",
    "        go.Scatter(\n",
    "            x=overall_df['period'], \n",
    "            y=overall_df['trade_balance'], \n",
    "            mode='lines+markers', \n",
    "            name='Trade Balance',\n",
    "            line=dict(color='#F18F01', width=3),\n",
    "            fill='tozeroy',\n",
    "            fillcolor='rgba(241, 143, 1, 0.3)'\n",
    "        ),\n",
    "        row=1, col=2\n",
    "    )\n",
    "    \n",
    "    # 3. Year-over-Year Growth Rates\n",
    "    fig_trends.add_trace(\n",
    "        go.Scatter(\n",
    "            x=overall_df['period'][4:], \n",
    "            y=overall_df['export_yoy'][4:], \n",
    "            mode='lines+markers', \n",
    "            name='Export YoY Growth %',\n",
    "            line=dict(color='#2E86AB', width=2)\n",
    "        ),\n",
    "        row=2, col=1\n",
    "    )\n",
    "    \n",
    "    fig_trends.add_trace(\n",
    "        go.Scatter(\n",
    "            x=overall_df['period'][4:], \n",
    "            y=overall_df['import_yoy'][4:], \n",
    "            mode='lines+markers', \n",
    "            name='Import YoY Growth %',\n",
    "            line=dict(color='#A23B72', width=2)\n",
    "        ),\n",
    "        row=2, col=1\n",
    "    )\n",
    "    \n",
    "    # 4. Volatility Analysis\n",
    "    quarters = overall_df['period']\n",
    "    export_vol = overall_df['exports'].rolling(window=4).std()\n",
    "    import_vol = overall_df['imports'].rolling(window=4).std()\n",
    "    \n",
    "    fig_trends.add_trace(\n",
    "        go.Scatter(\n",
    "            x=quarters[3:], \n",
    "            y=export_vol[3:], \n",
    "            mode='lines', \n",
    "            name='Export Volatility',\n",
    "            line=dict(color='#2E86AB', width=2)\n",
    "        ),\n",
    "        row=2, col=2\n",
    "    )\n",
    "    \n",
    "    fig_trends.add_trace(\n",
    "        go.Scatter(\n",
    "            x=quarters[3:], \n",
    "            y=import_vol[3:], \n",
    "            mode='lines', \n",
    "            name='Import Volatility',\n",
    "            line=dict(color='#A23B72', width=2)\n",
    "        ),\n",
    "        row=2, col=2\n",
    "    )\n",
    "    \n",
    "    # 5. Export vs Import Ratio\n",
    "    export_import_ratio = overall_df['exports'] / overall_df['imports'] * 100\n",
    "    fig_trends.add_trace(\n",
    "        go.Scatter(\n",
    "            x=overall_df['period'], \n",
    "            y=export_import_ratio, \n",
    "            mode='lines+markers', \n",
    "            name='Export/Import Ratio %',\n",
    "            line=dict(color='#C73E1D', width=3)\n",
    "        ),\n",
    "        row=3, col=1\n",
    "    )\n",
    "    \n",
    "    # 6. Forecasting Model\n",
    "    # Add actual data\n",
    "    fig_trends.add_trace(\n",
    "        go.Scatter(\n",
    "            x=overall_df['period'], \n",
    "            y=overall_df['exports'], \n",
    "            mode='markers', \n",
    "            name='Actual Exports',\n",
    "            marker=dict(color='#2E86AB', size=6)\n",
    "        ),\n",
    "        row=3, col=2\n",
    "    )\n",
    "    \n",
    "    # Add trend line\n",
    "    X_plot = np.array(range(len(overall_df)))\n",
    "    y_plot = export_model.predict(X_plot.reshape(-1, 1))\n",
    "    \n",
    "    fig_trends.add_trace(\n",
    "        go.Scatter(\n",
    "            x=overall_df['period'], \n",
    "            y=y_plot, \n",
    "            mode='lines', \n",
    "            name=f'Trend Line (R²={export_r2:.3f})',\n",
    "            line=dict(color='#2E86AB', width=3, dash='dash')\n",
    "        ),\n",
    "        row=3, col=2\n",
    "    )\n",
    "    \n",
    "    # Add forecast point\n",
    "    next_period = f\"Q{((len(overall_df) % 4) + 1)} 2025\"\n",
    "    fig_trends.add_trace(\n",
    "        go.Scatter(\n",
    "            x=[next_period], \n",
    "            y=[export_forecast], \n",
    "            mode='markers', \n",
    "            name='Forecast',\n",
    "            marker=dict(color='#F18F01', size=10, symbol='star')\n",
    "        ),\n",
    "        row=3, col=2\n",
    "    )\n",
    "    \n",
    "    # Update layout\n",
    "    fig_trends.update_layout(\n",
    "        height=1200,\n",
    "        title_text=\"Rwanda Trade Trend Analysis and Forecasting (2022-2024)\",\n",
    "        title_x=0.5,\n",
    "        showlegend=True\n",
    "    )\n",
    "    \n",
    "    # Update x-axis labels\n",
    "    for i in range(1, 4):\n",
    "        for j in range(1, 3):\n",
    "            fig_trends.update_xaxes(tickangle=45, row=i, col=j)\n",
    "    \n",
    "    fig_trends.show()\n",
    "    \n",
    "    print(\"✅ Trend analysis visualization completed\")\n",
    "else:\n",
    "    print(\"❌ Trend analysis data not available for visualization\")"
   ]
  },
  {
   "cell_type": "code",
   "execution_count": null,
   "metadata": {},
   "outputs": [],
   "source": [
    "# 6. Key Insights and Recommendations\n",
    "\n",
    "This section provides comprehensive insights derived from the analysis and actionable recommendations for trade policy and business strategy."
   ]
  },
  {
   "cell_type": "code",
   "execution_count": 22,
   "metadata": {},
   "outputs": [
    {
     "name": "stdout",
     "output_type": "stream",
     "text": [
      "🔍 Key Insights and Recommendations\n",
      "==================================================\n",
      "\n",
      "📊 Total Insights Generated: 1\n",
      "📋 Total Recommendations: 5\n",
      "\n",
      "💡 KEY INSIGHTS:\n",
      "------------------------------\n",
      "\n",
      "LEADING EXPORT:\n",
      "   Other commodities & transactions, n.e.s is Rwanda's leading export commodity\n",
      "   💬 Generated $428.15M in Q4 2024, representing 63.2% of total exports\n",
      "\n",
      "🎯 STRATEGIC RECOMMENDATIONS:\n",
      "----------------------------------------\n",
      "\n",
      "Trade Diversification (Priority: High):\n",
      "   🎯 Develop strategies to diversify export markets beyond the top 5 destinations\n",
      "   📝 Rationale: Current concentration increases vulnerability to market-specific shocks\n",
      "   ✅ Actions:\n",
      "      • Identify and target emerging markets in Asia and Europe\n",
      "      • Strengthen trade relations with West African markets\n",
      "      • Participate in international trade fairs and exhibitions\n",
      "      • Develop market intelligence capabilities\n",
      "\n",
      "Export Promotion (Priority: High):\n",
      "   🎯 Enhance support for high-growth export commodities\n",
      "   📝 Rationale: Focus resources on sectors with proven growth potential\n",
      "   ✅ Actions:\n",
      "      • Provide targeted incentives for top-performing commodities\n",
      "      • Invest in quality certification and standards compliance\n",
      "      • Develop supply chain infrastructure for key exports\n",
      "      • Create sector-specific export promotion programs\n",
      "\n",
      "Import Substitution (Priority: Medium):\n",
      "   🎯 Identify opportunities for import substitution in key commodity categories\n",
      "   📝 Rationale: Reduce trade deficit by developing domestic production capacity\n",
      "   ✅ Actions:\n",
      "      • Analyze top import commodities for local production potential\n",
      "      • Assess feasibility of domestic manufacturing for selected goods\n",
      "      • Provide incentives for import-substituting industries\n",
      "      • Develop backward integration strategies\n",
      "\n",
      "Regional Integration (Priority: High):\n",
      "   🎯 Strengthen EAC trade integration and explore new regional partnerships\n",
      "   📝 Rationale: EAC represents a significant portion of Rwanda's export market\n",
      "   ✅ Actions:\n",
      "      • Enhance participation in EAC trade protocols\n",
      "      • Improve cross-border trade infrastructure\n",
      "      • Develop regional value chains\n",
      "      • Strengthen trade facilitation measures\n",
      "\n",
      "Trade Infrastructure (Priority: Medium):\n",
      "   🎯 Invest in trade infrastructure and logistics capabilities\n",
      "   📝 Rationale: Efficient logistics are crucial for maintaining export competitiveness\n",
      "   ✅ Actions:\n",
      "      • Upgrade port and transportation facilities\n",
      "      • Implement trade facilitation technologies\n",
      "      • Develop warehousing and storage facilities\n",
      "      • Improve customs clearance processes\n"
     ]
    }
   ],
   "source": [
    "# Generate comprehensive insights and recommendations\n",
    "def generate_insights_and_recommendations():\n",
    "    \"\"\"\n",
    "    Generate comprehensive insights and recommendations based on the analysis\n",
    "    \"\"\"\n",
    "    insights = []\n",
    "    recommendations = []\n",
    "    \n",
    "    # Overall Trade Insights\n",
    "    if 'Graph Overall' in cleaned_data:\n",
    "        overall_df = cleaned_data['Graph Overall']\n",
    "        latest_data = overall_df.iloc[-1]\n",
    "        previous_data = overall_df.iloc[-2]\n",
    "        \n",
    "        # Trade balance analysis\n",
    "        if latest_data['trade_balance'] < 0:\n",
    "            deficit_ratio = abs(latest_data['trade_balance']) / latest_data['imports'] * 100\n",
    "            insights.append({\n",
    "                'category': 'Trade Balance',\n",
    "                'type': 'warning',\n",
    "                'insight': f\"Rwanda maintains a significant trade deficit of ${latest_data['trade_balance']:.2f}M in Q4 2024\",\n",
    "                'details': f\"This represents {deficit_ratio:.1f}% of total imports, indicating continued reliance on imported goods\"\n",
    "            })\n",
    "        \n",
    "        # Export growth analysis\n",
    "        export_growth = ((latest_data['exports'] - previous_data['exports']) / previous_data['exports']) * 100\n",
    "        if export_growth > 10:\n",
    "            insights.append({\n",
    "                'category': 'Export Performance',\n",
    "                'type': 'success',\n",
    "                'insight': f\"Strong export growth of {export_growth:.1f}% quarter-over-quarter in Q4 2024\",\n",
    "                'details': f\"Exports reached ${latest_data['exports']:.2f}M, showing robust performance\"\n",
    "            })\n",
    "        \n",
    "        # Import trends\n",
    "        import_growth = ((latest_data['imports'] - previous_data['imports']) / previous_data['imports']) * 100\n",
    "        if import_growth > 5:\n",
    "            insights.append({\n",
    "                'category': 'Import Trends',\n",
    "                'type': 'info',\n",
    "                'insight': f\"Imports growing at {import_growth:.1f}% QoQ, indicating strong domestic demand\",\n",
    "                'details': f\"Import value reached ${latest_data['imports']:.2f}M in Q4 2024\"\n",
    "            })\n",
    "    \n",
    "    # Regional Analysis Insights\n",
    "    if 'EAC' in cleaned_data:\n",
    "        eac_df = cleaned_data['EAC']\n",
    "        total_eac = eac_df['q4_2024'].sum()\n",
    "        eac_share = (total_eac / overall_df.iloc[-1]['exports']) * 100 if 'Graph Overall' in cleaned_data else 0\n",
    "        \n",
    "        if eac_share > 30:\n",
    "            insights.append({\n",
    "                'category': 'Regional Integration',\n",
    "                'type': 'success',\n",
    "                'insight': f\"Strong regional integration with EAC accounting for {eac_share:.1f}% of exports\",\n",
    "                'details': f\"EAC exports totaled ${total_eac:.2f}M in Q4 2024\"\n",
    "            })\n",
    "    \n",
    "    # Country Concentration Insights\n",
    "    if 'ExportCountry' in cleaned_data:\n",
    "        export_countries = cleaned_data['ExportCountry']\n",
    "        top_5_export_share = export_countries.nlargest(5, 'q4_2024')['q4_2024'].sum() / export_countries['q4_2024'].sum() * 100\n",
    "        \n",
    "        if top_5_export_share > 80:\n",
    "            insights.append({\n",
    "                'category': 'Market Concentration',\n",
    "                'type': 'warning',\n",
    "                'insight': f\"High export concentration with top 5 countries representing {top_5_export_share:.1f}% of exports\",\n",
    "                'details': \"Consider market diversification strategies to reduce dependency\"\n",
    "            })\n",
    "        \n",
    "        # Find top export partner\n",
    "        top_export_partner = export_countries.loc[export_countries['q4_2024'].idxmax()]\n",
    "        if top_export_partner['share_q4'] > 50:\n",
    "            insights.append({\n",
    "                'category': 'Market Dependency',\n",
    "                'type': 'warning',\n",
    "                'insight': f\"Heavy reliance on {top_export_partner['country']} for {top_export_partner['share_q4']:.1f}% of exports\",\n",
    "                'details': f\"{top_export_partner['country']} imported ${top_export_partner['q4_2024']:.2f}M worth of Rwandan goods\"\n",
    "            })\n",
    "    \n",
    "    # Commodity Analysis Insights\n",
    "    if 'ExportsCommodity' in cleaned_data:\n",
    "        export_commodities = cleaned_data['ExportsCommodity']\n",
    "        top_commodities = export_commodities.nlargest(5, 'q4_2024')\n",
    "        top_commodity = top_commodities.iloc[0]\n",
    "        \n",
    "        insights.append({\n",
    "            'category': 'Leading Export',\n",
    "            'type': 'info',\n",
    "            'insight': f\"{top_commodity['description']} is Rwanda's leading export commodity\",\n",
    "            'details': f\"Generated ${top_commodity['q4_2024']:.2f}M in Q4 2024, representing {top_commodity['share_q4']:.1f}% of total exports\"\n",
    "        })\n",
    "    \n",
    "    # Generate Recommendations\n",
    "    recommendations.append({\n",
    "        'category': 'Trade Diversification',\n",
    "        'priority': 'High',\n",
    "        'recommendation': 'Develop strategies to diversify export markets beyond the top 5 destinations',\n",
    "        'rationale': 'Current concentration increases vulnerability to market-specific shocks',\n",
    "        'actions': [\n",
    "            'Identify and target emerging markets in Asia and Europe',\n",
    "            'Strengthen trade relations with West African markets',\n",
    "            'Participate in international trade fairs and exhibitions',\n",
    "            'Develop market intelligence capabilities'\n",
    "        ]\n",
    "    })\n",
    "    \n",
    "    recommendations.append({\n",
    "        'category': 'Export Promotion',\n",
    "        'priority': 'High',\n",
    "        'recommendation': 'Enhance support for high-growth export commodities',\n",
    "        'rationale': 'Focus resources on sectors with proven growth potential',\n",
    "        'actions': [\n",
    "            'Provide targeted incentives for top-performing commodities',\n",
    "            'Invest in quality certification and standards compliance',\n",
    "            'Develop supply chain infrastructure for key exports',\n",
    "            'Create sector-specific export promotion programs'\n",
    "        ]\n",
    "    })\n",
    "    \n",
    "    recommendations.append({\n",
    "        'category': 'Import Substitution',\n",
    "        'priority': 'Medium',\n",
    "        'recommendation': 'Identify opportunities for import substitution in key commodity categories',\n",
    "        'rationale': 'Reduce trade deficit by developing domestic production capacity',\n",
    "        'actions': [\n",
    "            'Analyze top import commodities for local production potential',\n",
    "            'Assess feasibility of domestic manufacturing for selected goods',\n",
    "            'Provide incentives for import-substituting industries',\n",
    "            'Develop backward integration strategies'\n",
    "        ]\n",
    "    })\n",
    "    \n",
    "    recommendations.append({\n",
    "        'category': 'Regional Integration',\n",
    "        'priority': 'High',\n",
    "        'recommendation': 'Strengthen EAC trade integration and explore new regional partnerships',\n",
    "        'rationale': 'EAC represents a significant portion of Rwanda\\'s export market',\n",
    "        'actions': [\n",
    "            'Enhance participation in EAC trade protocols',\n",
    "            'Improve cross-border trade infrastructure',\n",
    "            'Develop regional value chains',\n",
    "            'Strengthen trade facilitation measures'\n",
    "        ]\n",
    "    })\n",
    "    \n",
    "    recommendations.append({\n",
    "        'category': 'Trade Infrastructure',\n",
    "        'priority': 'Medium',\n",
    "        'recommendation': 'Invest in trade infrastructure and logistics capabilities',\n",
    "        'rationale': 'Efficient logistics are crucial for maintaining export competitiveness',\n",
    "        'actions': [\n",
    "            'Upgrade port and transportation facilities',\n",
    "            'Implement trade facilitation technologies',\n",
    "            'Develop warehousing and storage facilities',\n",
    "            'Improve customs clearance processes'\n",
    "        ]\n",
    "    })\n",
    "    \n",
    "    return insights, recommendations\n",
    "\n",
    "# Generate insights and recommendations\n",
    "insights, recommendations = generate_insights_and_recommendations()\n",
    "\n",
    "print(\"🔍 Key Insights and Recommendations\")\n",
    "print(\"=\" * 50)\n",
    "\n",
    "print(f\"\\n📊 Total Insights Generated: {len(insights)}\")\n",
    "print(f\"📋 Total Recommendations: {len(recommendations)}\")\n",
    "\n",
    "print(f\"\\n💡 KEY INSIGHTS:\")\n",
    "print(\"-\" * 30)\n",
    "for insight in insights:\n",
    "    print(f\"\\n{insight['category'].upper()}:\")\n",
    "    print(f\"   {insight['insight']}\")\n",
    "    print(f\"   💬 {insight['details']}\")\n",
    "\n",
    "print(f\"\\n🎯 STRATEGIC RECOMMENDATIONS:\")\n",
    "print(\"-\" * 40)\n",
    "for rec in recommendations:\n",
    "    print(f\"\\n{rec['category']} (Priority: {rec['priority']}):\")\n",
    "    print(f\"   🎯 {rec['recommendation']}\")\n",
    "    print(f\"   📝 Rationale: {rec['rationale']}\")\n",
    "    print(f\"   ✅ Actions:\")\n",
    "    for action in rec['actions']:\n",
    "        print(f\"      • {action}\")"
   ]
  },
  {
   "cell_type": "code",
   "execution_count": 23,
   "metadata": {},
   "outputs": [
    {
     "data": {
      "application/vnd.plotly.v1+json": {
       "config": {
        "plotlyServerURL": "https://plot.ly"
       },
       "data": [
        {
         "marker": {
          "color": "#2E86AB"
         },
         "name": "Insights by Category",
         "orientation": "h",
         "type": "bar",
         "x": [
          1
         ],
         "xaxis": "x",
         "y": [
          "Leading Export"
         ],
         "yaxis": "y"
        },
        {
         "domain": {
          "x": [
           0.55,
           1
          ],
          "y": [
           0.625,
           1
          ]
         },
         "labels": [
          "info"
         ],
         "name": "Insights by Type",
         "textinfo": "label+value",
         "textposition": "inside",
         "type": "pie",
         "values": [
          1
         ]
        },
        {
         "marker": {
          "color": [
           "#F18F01",
           "#2E86AB"
          ]
         },
         "name": "Recommendations by Priority",
         "orientation": "h",
         "type": "bar",
         "x": [
          3,
          2
         ],
         "xaxis": "x2",
         "y": [
          "High",
          "Medium"
         ],
         "yaxis": "y2"
        },
        {
         "cells": {
          "values": [
           [
            "Total Recommendations",
            "Total Action Items",
            "High Priority Actions",
            "Medium Priority Actions",
            "Insights Generated"
           ],
           [
            5,
            20,
            12,
            8,
            1
           ]
          ]
         },
         "domain": {
          "x": [
           0.55,
           1
          ],
          "y": [
           0,
           0.375
          ]
         },
         "header": {
          "values": [
           "Metric",
           "Value"
          ]
         },
         "type": "table"
        }
       ],
       "layout": {
        "annotations": [
         {
          "font": {
           "size": 16
          },
          "showarrow": false,
          "text": "Insights by Category",
          "x": 0.225,
          "xanchor": "center",
          "xref": "paper",
          "y": 1,
          "yanchor": "bottom",
          "yref": "paper"
         },
         {
          "font": {
           "size": 16
          },
          "showarrow": false,
          "text": "Insights by Type",
          "x": 0.775,
          "xanchor": "center",
          "xref": "paper",
          "y": 1,
          "yanchor": "bottom",
          "yref": "paper"
         },
         {
          "font": {
           "size": 16
          },
          "showarrow": false,
          "text": "Recommendations by Priority",
          "x": 0.225,
          "xanchor": "center",
          "xref": "paper",
          "y": 0.375,
          "yanchor": "bottom",
          "yref": "paper"
         },
         {
          "font": {
           "size": 16
          },
          "showarrow": false,
          "text": "Action Items Summary",
          "x": 0.775,
          "xanchor": "center",
          "xref": "paper",
          "y": 0.375,
          "yanchor": "bottom",
          "yref": "paper"
         }
        ],
        "height": 800,
        "showlegend": false,
        "template": {
         "data": {
          "bar": [
           {
            "error_x": {
             "color": "#2a3f5f"
            },
            "error_y": {
             "color": "#2a3f5f"
            },
            "marker": {
             "line": {
              "color": "#E5ECF6",
              "width": 0.5
             },
             "pattern": {
              "fillmode": "overlay",
              "size": 10,
              "solidity": 0.2
             }
            },
            "type": "bar"
           }
          ],
          "barpolar": [
           {
            "marker": {
             "line": {
              "color": "#E5ECF6",
              "width": 0.5
             },
             "pattern": {
              "fillmode": "overlay",
              "size": 10,
              "solidity": 0.2
             }
            },
            "type": "barpolar"
           }
          ],
          "carpet": [
           {
            "aaxis": {
             "endlinecolor": "#2a3f5f",
             "gridcolor": "white",
             "linecolor": "white",
             "minorgridcolor": "white",
             "startlinecolor": "#2a3f5f"
            },
            "baxis": {
             "endlinecolor": "#2a3f5f",
             "gridcolor": "white",
             "linecolor": "white",
             "minorgridcolor": "white",
             "startlinecolor": "#2a3f5f"
            },
            "type": "carpet"
           }
          ],
          "choropleth": [
           {
            "colorbar": {
             "outlinewidth": 0,
             "ticks": ""
            },
            "type": "choropleth"
           }
          ],
          "contour": [
           {
            "colorbar": {
             "outlinewidth": 0,
             "ticks": ""
            },
            "colorscale": [
             [
              0,
              "#0d0887"
             ],
             [
              0.1111111111111111,
              "#46039f"
             ],
             [
              0.2222222222222222,
              "#7201a8"
             ],
             [
              0.3333333333333333,
              "#9c179e"
             ],
             [
              0.4444444444444444,
              "#bd3786"
             ],
             [
              0.5555555555555556,
              "#d8576b"
             ],
             [
              0.6666666666666666,
              "#ed7953"
             ],
             [
              0.7777777777777778,
              "#fb9f3a"
             ],
             [
              0.8888888888888888,
              "#fdca26"
             ],
             [
              1,
              "#f0f921"
             ]
            ],
            "type": "contour"
           }
          ],
          "contourcarpet": [
           {
            "colorbar": {
             "outlinewidth": 0,
             "ticks": ""
            },
            "type": "contourcarpet"
           }
          ],
          "heatmap": [
           {
            "colorbar": {
             "outlinewidth": 0,
             "ticks": ""
            },
            "colorscale": [
             [
              0,
              "#0d0887"
             ],
             [
              0.1111111111111111,
              "#46039f"
             ],
             [
              0.2222222222222222,
              "#7201a8"
             ],
             [
              0.3333333333333333,
              "#9c179e"
             ],
             [
              0.4444444444444444,
              "#bd3786"
             ],
             [
              0.5555555555555556,
              "#d8576b"
             ],
             [
              0.6666666666666666,
              "#ed7953"
             ],
             [
              0.7777777777777778,
              "#fb9f3a"
             ],
             [
              0.8888888888888888,
              "#fdca26"
             ],
             [
              1,
              "#f0f921"
             ]
            ],
            "type": "heatmap"
           }
          ],
          "heatmapgl": [
           {
            "colorbar": {
             "outlinewidth": 0,
             "ticks": ""
            },
            "colorscale": [
             [
              0,
              "#0d0887"
             ],
             [
              0.1111111111111111,
              "#46039f"
             ],
             [
              0.2222222222222222,
              "#7201a8"
             ],
             [
              0.3333333333333333,
              "#9c179e"
             ],
             [
              0.4444444444444444,
              "#bd3786"
             ],
             [
              0.5555555555555556,
              "#d8576b"
             ],
             [
              0.6666666666666666,
              "#ed7953"
             ],
             [
              0.7777777777777778,
              "#fb9f3a"
             ],
             [
              0.8888888888888888,
              "#fdca26"
             ],
             [
              1,
              "#f0f921"
             ]
            ],
            "type": "heatmapgl"
           }
          ],
          "histogram": [
           {
            "marker": {
             "pattern": {
              "fillmode": "overlay",
              "size": 10,
              "solidity": 0.2
             }
            },
            "type": "histogram"
           }
          ],
          "histogram2d": [
           {
            "colorbar": {
             "outlinewidth": 0,
             "ticks": ""
            },
            "colorscale": [
             [
              0,
              "#0d0887"
             ],
             [
              0.1111111111111111,
              "#46039f"
             ],
             [
              0.2222222222222222,
              "#7201a8"
             ],
             [
              0.3333333333333333,
              "#9c179e"
             ],
             [
              0.4444444444444444,
              "#bd3786"
             ],
             [
              0.5555555555555556,
              "#d8576b"
             ],
             [
              0.6666666666666666,
              "#ed7953"
             ],
             [
              0.7777777777777778,
              "#fb9f3a"
             ],
             [
              0.8888888888888888,
              "#fdca26"
             ],
             [
              1,
              "#f0f921"
             ]
            ],
            "type": "histogram2d"
           }
          ],
          "histogram2dcontour": [
           {
            "colorbar": {
             "outlinewidth": 0,
             "ticks": ""
            },
            "colorscale": [
             [
              0,
              "#0d0887"
             ],
             [
              0.1111111111111111,
              "#46039f"
             ],
             [
              0.2222222222222222,
              "#7201a8"
             ],
             [
              0.3333333333333333,
              "#9c179e"
             ],
             [
              0.4444444444444444,
              "#bd3786"
             ],
             [
              0.5555555555555556,
              "#d8576b"
             ],
             [
              0.6666666666666666,
              "#ed7953"
             ],
             [
              0.7777777777777778,
              "#fb9f3a"
             ],
             [
              0.8888888888888888,
              "#fdca26"
             ],
             [
              1,
              "#f0f921"
             ]
            ],
            "type": "histogram2dcontour"
           }
          ],
          "mesh3d": [
           {
            "colorbar": {
             "outlinewidth": 0,
             "ticks": ""
            },
            "type": "mesh3d"
           }
          ],
          "parcoords": [
           {
            "line": {
             "colorbar": {
              "outlinewidth": 0,
              "ticks": ""
             }
            },
            "type": "parcoords"
           }
          ],
          "pie": [
           {
            "automargin": true,
            "type": "pie"
           }
          ],
          "scatter": [
           {
            "fillpattern": {
             "fillmode": "overlay",
             "size": 10,
             "solidity": 0.2
            },
            "type": "scatter"
           }
          ],
          "scatter3d": [
           {
            "line": {
             "colorbar": {
              "outlinewidth": 0,
              "ticks": ""
             }
            },
            "marker": {
             "colorbar": {
              "outlinewidth": 0,
              "ticks": ""
             }
            },
            "type": "scatter3d"
           }
          ],
          "scattercarpet": [
           {
            "marker": {
             "colorbar": {
              "outlinewidth": 0,
              "ticks": ""
             }
            },
            "type": "scattercarpet"
           }
          ],
          "scattergeo": [
           {
            "marker": {
             "colorbar": {
              "outlinewidth": 0,
              "ticks": ""
             }
            },
            "type": "scattergeo"
           }
          ],
          "scattergl": [
           {
            "marker": {
             "colorbar": {
              "outlinewidth": 0,
              "ticks": ""
             }
            },
            "type": "scattergl"
           }
          ],
          "scattermapbox": [
           {
            "marker": {
             "colorbar": {
              "outlinewidth": 0,
              "ticks": ""
             }
            },
            "type": "scattermapbox"
           }
          ],
          "scatterpolar": [
           {
            "marker": {
             "colorbar": {
              "outlinewidth": 0,
              "ticks": ""
             }
            },
            "type": "scatterpolar"
           }
          ],
          "scatterpolargl": [
           {
            "marker": {
             "colorbar": {
              "outlinewidth": 0,
              "ticks": ""
             }
            },
            "type": "scatterpolargl"
           }
          ],
          "scatterternary": [
           {
            "marker": {
             "colorbar": {
              "outlinewidth": 0,
              "ticks": ""
             }
            },
            "type": "scatterternary"
           }
          ],
          "surface": [
           {
            "colorbar": {
             "outlinewidth": 0,
             "ticks": ""
            },
            "colorscale": [
             [
              0,
              "#0d0887"
             ],
             [
              0.1111111111111111,
              "#46039f"
             ],
             [
              0.2222222222222222,
              "#7201a8"
             ],
             [
              0.3333333333333333,
              "#9c179e"
             ],
             [
              0.4444444444444444,
              "#bd3786"
             ],
             [
              0.5555555555555556,
              "#d8576b"
             ],
             [
              0.6666666666666666,
              "#ed7953"
             ],
             [
              0.7777777777777778,
              "#fb9f3a"
             ],
             [
              0.8888888888888888,
              "#fdca26"
             ],
             [
              1,
              "#f0f921"
             ]
            ],
            "type": "surface"
           }
          ],
          "table": [
           {
            "cells": {
             "fill": {
              "color": "#EBF0F8"
             },
             "line": {
              "color": "white"
             }
            },
            "header": {
             "fill": {
              "color": "#C8D4E3"
             },
             "line": {
              "color": "white"
             }
            },
            "type": "table"
           }
          ]
         },
         "layout": {
          "annotationdefaults": {
           "arrowcolor": "#2a3f5f",
           "arrowhead": 0,
           "arrowwidth": 1
          },
          "autotypenumbers": "strict",
          "coloraxis": {
           "colorbar": {
            "outlinewidth": 0,
            "ticks": ""
           }
          },
          "colorscale": {
           "diverging": [
            [
             0,
             "#8e0152"
            ],
            [
             0.1,
             "#c51b7d"
            ],
            [
             0.2,
             "#de77ae"
            ],
            [
             0.3,
             "#f1b6da"
            ],
            [
             0.4,
             "#fde0ef"
            ],
            [
             0.5,
             "#f7f7f7"
            ],
            [
             0.6,
             "#e6f5d0"
            ],
            [
             0.7,
             "#b8e186"
            ],
            [
             0.8,
             "#7fbc41"
            ],
            [
             0.9,
             "#4d9221"
            ],
            [
             1,
             "#276419"
            ]
           ],
           "sequential": [
            [
             0,
             "#0d0887"
            ],
            [
             0.1111111111111111,
             "#46039f"
            ],
            [
             0.2222222222222222,
             "#7201a8"
            ],
            [
             0.3333333333333333,
             "#9c179e"
            ],
            [
             0.4444444444444444,
             "#bd3786"
            ],
            [
             0.5555555555555556,
             "#d8576b"
            ],
            [
             0.6666666666666666,
             "#ed7953"
            ],
            [
             0.7777777777777778,
             "#fb9f3a"
            ],
            [
             0.8888888888888888,
             "#fdca26"
            ],
            [
             1,
             "#f0f921"
            ]
           ],
           "sequentialminus": [
            [
             0,
             "#0d0887"
            ],
            [
             0.1111111111111111,
             "#46039f"
            ],
            [
             0.2222222222222222,
             "#7201a8"
            ],
            [
             0.3333333333333333,
             "#9c179e"
            ],
            [
             0.4444444444444444,
             "#bd3786"
            ],
            [
             0.5555555555555556,
             "#d8576b"
            ],
            [
             0.6666666666666666,
             "#ed7953"
            ],
            [
             0.7777777777777778,
             "#fb9f3a"
            ],
            [
             0.8888888888888888,
             "#fdca26"
            ],
            [
             1,
             "#f0f921"
            ]
           ]
          },
          "colorway": [
           "#636efa",
           "#EF553B",
           "#00cc96",
           "#ab63fa",
           "#FFA15A",
           "#19d3f3",
           "#FF6692",
           "#B6E880",
           "#FF97FF",
           "#FECB52"
          ],
          "font": {
           "color": "#2a3f5f"
          },
          "geo": {
           "bgcolor": "white",
           "lakecolor": "white",
           "landcolor": "#E5ECF6",
           "showlakes": true,
           "showland": true,
           "subunitcolor": "white"
          },
          "hoverlabel": {
           "align": "left"
          },
          "hovermode": "closest",
          "mapbox": {
           "style": "light"
          },
          "paper_bgcolor": "white",
          "plot_bgcolor": "#E5ECF6",
          "polar": {
           "angularaxis": {
            "gridcolor": "white",
            "linecolor": "white",
            "ticks": ""
           },
           "bgcolor": "#E5ECF6",
           "radialaxis": {
            "gridcolor": "white",
            "linecolor": "white",
            "ticks": ""
           }
          },
          "scene": {
           "xaxis": {
            "backgroundcolor": "#E5ECF6",
            "gridcolor": "white",
            "gridwidth": 2,
            "linecolor": "white",
            "showbackground": true,
            "ticks": "",
            "zerolinecolor": "white"
           },
           "yaxis": {
            "backgroundcolor": "#E5ECF6",
            "gridcolor": "white",
            "gridwidth": 2,
            "linecolor": "white",
            "showbackground": true,
            "ticks": "",
            "zerolinecolor": "white"
           },
           "zaxis": {
            "backgroundcolor": "#E5ECF6",
            "gridcolor": "white",
            "gridwidth": 2,
            "linecolor": "white",
            "showbackground": true,
            "ticks": "",
            "zerolinecolor": "white"
           }
          },
          "shapedefaults": {
           "line": {
            "color": "#2a3f5f"
           }
          },
          "ternary": {
           "aaxis": {
            "gridcolor": "white",
            "linecolor": "white",
            "ticks": ""
           },
           "baxis": {
            "gridcolor": "white",
            "linecolor": "white",
            "ticks": ""
           },
           "bgcolor": "#E5ECF6",
           "caxis": {
            "gridcolor": "white",
            "linecolor": "white",
            "ticks": ""
           }
          },
          "title": {
           "x": 0.05
          },
          "xaxis": {
           "automargin": true,
           "gridcolor": "white",
           "linecolor": "white",
           "ticks": "",
           "title": {
            "standoff": 15
           },
           "zerolinecolor": "white",
           "zerolinewidth": 2
          },
          "yaxis": {
           "automargin": true,
           "gridcolor": "white",
           "linecolor": "white",
           "ticks": "",
           "title": {
            "standoff": 15
           },
           "zerolinecolor": "white",
           "zerolinewidth": 2
          }
         }
        },
        "title": {
         "text": "Rwanda Trade Analysis - Insights Dashboard",
         "x": 0.5
        },
        "xaxis": {
         "anchor": "y",
         "domain": [
          0,
          0.45
         ]
        },
        "xaxis2": {
         "anchor": "y2",
         "domain": [
          0,
          0.45
         ]
        },
        "yaxis": {
         "anchor": "x",
         "domain": [
          0.625,
          1
         ]
        },
        "yaxis2": {
         "anchor": "x2",
         "domain": [
          0,
          0.375
         ]
        }
       }
      }
     },
     "metadata": {},
     "output_type": "display_data"
    },
    {
     "name": "stdout",
     "output_type": "stream",
     "text": [
      "✅ Insights dashboard created successfully\n"
     ]
    }
   ],
   "source": [
    "# Create insights dashboard\n",
    "def create_insights_dashboard(insights, recommendations):\n",
    "    \"\"\"\n",
    "    Create a visual dashboard of key insights and recommendations\n",
    "    \"\"\"\n",
    "    # Categorize insights by type\n",
    "    insight_types = {}\n",
    "    for insight in insights:\n",
    "        insight_type = insight['type']\n",
    "        if insight_type not in insight_types:\n",
    "            insight_types[insight_type] = 0\n",
    "        insight_types[insight_type] += 1\n",
    "    \n",
    "    # Categorize recommendations by priority\n",
    "    priority_counts = {}\n",
    "    for rec in recommendations:\n",
    "        priority = rec['priority']\n",
    "        if priority not in priority_counts:\n",
    "            priority_counts[priority] = 0\n",
    "        priority_counts[priority] += 1\n",
    "    \n",
    "    # Create insights dashboard\n",
    "    fig_dashboard = make_subplots(\n",
    "        rows=2, cols=2,\n",
    "        subplot_titles=(\n",
    "            'Insights by Category',\n",
    "            'Insights by Type',\n",
    "            'Recommendations by Priority',\n",
    "            'Action Items Summary'\n",
    "        ),\n",
    "        specs=[[{\"type\": \"bar\"}, {\"type\": \"pie\"}],\n",
    "               [{\"type\": \"bar\"}, {\"type\": \"table\"}]]\n",
    "    )\n",
    "    \n",
    "    # 1. Insights by Category\n",
    "    categories = [insight['category'] for insight in insights]\n",
    "    category_counts = {}\n",
    "    for cat in categories:\n",
    "        if cat not in category_counts:\n",
    "            category_counts[cat] = 0\n",
    "        category_counts[cat] += 1\n",
    "    \n",
    "    sorted_categories = sorted(category_counts.items(), key=lambda x: x[1], reverse=True)\n",
    "    \n",
    "    fig_dashboard.add_trace(\n",
    "        go.Bar(\n",
    "            x=[cat[1] for cat in sorted_categories],\n",
    "            y=[cat[0] for cat in sorted_categories],\n",
    "            orientation='h',\n",
    "            name='Insights by Category',\n",
    "            marker_color='#2E86AB'\n",
    "        ),\n",
    "        row=1, col=1\n",
    "    )\n",
    "    \n",
    "    # 2. Insights by Type\n",
    "    fig_dashboard.add_trace(\n",
    "        go.Pie(\n",
    "            labels=list(insight_types.keys()),\n",
    "            values=list(insight_types.values()),\n",
    "            name='Insights by Type',\n",
    "            textinfo='label+value',\n",
    "            textposition='inside'\n",
    "        ),\n",
    "        row=1, col=2\n",
    "    )\n",
    "    \n",
    "    # 3. Recommendations by Priority\n",
    "    fig_dashboard.add_trace(\n",
    "        go.Bar(\n",
    "            x=list(priority_counts.values()),\n",
    "            y=list(priority_counts.keys()),\n",
    "            orientation='h',\n",
    "            name='Recommendations by Priority',\n",
    "            marker_color=['#F18F01' if p == 'High' else '#2E86AB' if p == 'Medium' else '#A23B72' for p in priority_counts.keys()]\n",
    "        ),\n",
    "        row=2, col=1\n",
    "    )\n",
    "    \n",
    "    # 4. Action Items Summary\n",
    "    total_actions = sum(len(rec['actions']) for rec in recommendations)\n",
    "    high_priority_actions = sum(len(rec['actions']) for rec in recommendations if rec['priority'] == 'High')\n",
    "    medium_priority_actions = sum(len(rec['actions']) for rec in recommendations if rec['priority'] == 'Medium')\n",
    "    \n",
    "    # Create summary table\n",
    "    summary_data = [\n",
    "        ['Total Recommendations', len(recommendations)],\n",
    "        ['Total Action Items', total_actions],\n",
    "        ['High Priority Actions', high_priority_actions],\n",
    "        ['Medium Priority Actions', medium_priority_actions],\n",
    "        ['Insights Generated', len(insights)]\n",
    "    ]\n",
    "    \n",
    "    fig_dashboard.add_trace(\n",
    "        go.Table(\n",
    "            header=dict(values=['Metric', 'Value']),\n",
    "            cells=dict(values=list(zip(*summary_data)))\n",
    "        ),\n",
    "        row=2, col=2\n",
    "    )\n",
    "    \n",
    "    # Update layout\n",
    "    fig_dashboard.update_layout(\n",
    "        height=800,\n",
    "        title_text=\"Rwanda Trade Analysis - Insights Dashboard\",\n",
    "        title_x=0.5,\n",
    "        showlegend=False\n",
    "    )\n",
    "    \n",
    "    return fig_dashboard\n",
    "\n",
    "# Create and display insights dashboard\n",
    "insights_dashboard = create_insights_dashboard(insights, recommendations)\n",
    "insights_dashboard.show()\n",
    "\n",
    "print(\"✅ Insights dashboard created successfully\")"
   ]
  },
  {
   "cell_type": "code",
   "execution_count": 24,
   "metadata": {},
   "outputs": [
    {
     "ename": "SyntaxError",
     "evalue": "invalid syntax (1108337441.py, line 3)",
     "output_type": "error",
     "traceback": [
      "\u001b[1;36m  Cell \u001b[1;32mIn[24], line 3\u001b[1;36m\u001b[0m\n\u001b[1;33m    This comprehensive analysis of Rwanda's trade data provides valuable insights into the country's external trade performance, patterns, and opportunities.\u001b[0m\n\u001b[1;37m         ^\u001b[0m\n\u001b[1;31mSyntaxError\u001b[0m\u001b[1;31m:\u001b[0m invalid syntax\n"
     ]
    }
   ],
   "source": [
    "# 7. Summary and Conclusion\n",
    "\n",
    "This comprehensive analysis of Rwanda's trade data provides valuable insights into the country's external trade performance, patterns, and opportunities."
   ]
  },
  {
   "cell_type": "code",
   "execution_count": 25,
   "metadata": {},
   "outputs": [
    {
     "name": "stdout",
     "output_type": "stream",
     "text": [
      "📋 COMPREHENSIVE ANALYSIS SUMMARY\n",
      "==================================================\n",
      "\n",
      "📊 ANALYSIS OVERVIEW:\n",
      "   Title: Rwanda Trade Data Analysis - Q4 2024\n",
      "   Period: Q1 2022 - Q4 2024\n",
      "   Data Source: NISR Trade Report Annex Tables\n",
      "   Analysis Date: 2025-09-25 10:33:39\n",
      "   Sheets Analyzed: 12\n",
      "\n",
      "💰 KEY METRICS (Q4 2024):\n",
      "   Total Exports Q4 2024: $0.00M\n",
      "   Total Imports Q4 2024: $0.00M\n",
      "   Total Reexports Q4 2024: $0.00M\n",
      "   Trade Balance Q4 2024: $0.00M\n",
      "   Total Trade Volume: $0.00M\n",
      "\n",
      "🏆 TOP PERFORMERS:\n",
      "   Top Export Destination:\n",
      "      Country: China\n",
      "      Value: $20.43M\n",
      "      Share: 3.02%\n",
      "   Top Import Source:\n",
      "      Country: Kenya\n",
      "      Value: $211.22M\n",
      "      Share: 12.96%\n",
      "   Top Export Commodity:\n",
      "      Commodity: Other commodities & transactions, n.e.s\n",
      "      Sitc Section: 9\n",
      "      Value: $428.15M\n",
      "      Share: 63.20%\n",
      "\n",
      "⚠️ KEY CHALLENGES:\n",
      "\n",
      "🚀 OPPORTUNITIES:\n",
      "   Regional Market Expansion (Potential: High)\n",
      "      EAC market represents nan% of exports with growth potential\n",
      "   High-Growth Commodity: Animals and vegetable oils, fats & waxes (Potential: High)\n",
      "      YoY growth of 20.0% in Q4 2024\n",
      "\n",
      "🎯 RECOMMENDATIONS SUMMARY:\n",
      "   Trade Diversification (Priority: High)\n",
      "      Develop strategies to diversify export markets beyond the top 5 destinations\n",
      "      Actions: 4 items\n",
      "   Export Promotion (Priority: High)\n",
      "      Enhance support for high-growth export commodities\n",
      "      Actions: 4 items\n",
      "   Import Substitution (Priority: Medium)\n",
      "      Identify opportunities for import substitution in key commodity categories\n",
      "      Actions: 4 items\n",
      "   Regional Integration (Priority: High)\n",
      "      Strengthen EAC trade integration and explore new regional partnerships\n",
      "      Actions: 4 items\n",
      "   Trade Infrastructure (Priority: Medium)\n",
      "      Invest in trade infrastructure and logistics capabilities\n",
      "      Actions: 4 items\n",
      "\n",
      "📈 ANALYSIS COMPLETED SUCCESSFULLY!\n",
      "   Total insights generated: 1\n",
      "   Total recommendations: 5\n",
      "   Data visualizations created: 6 comprehensive charts\n",
      "   Analysis covers: 12 Excel sheets\n",
      "   Time period: 12 quarters (2022-2024)\n",
      "   Trade volume analyzed: ~$0M\n",
      "\n",
      "==================================================\n",
      "🎉 RWANDA TRADE ANALYSIS COMPLETE\n",
      "==================================================\n"
     ]
    }
   ],
   "source": [
    "# Generate comprehensive summary report\n",
    "def generate_summary_report():\n",
    "    \"\"\"\n",
    "    Generate a comprehensive summary report of the analysis\n",
    "    \"\"\"\n",
    "    summary = {\n",
    "        'analysis_overview': {\n",
    "            'title': 'Rwanda Trade Data Analysis - Q4 2024',\n",
    "            'period': 'Q1 2022 - Q4 2024',\n",
    "            'data_source': 'NISR Trade Report Annex Tables',\n",
    "            'analysis_date': pd.Timestamp.now().strftime('%Y-%m-%d %H:%M:%S'),\n",
    "            'sheets_analyzed': len(cleaned_data)\n",
    "        },\n",
    "        'key_metrics': {},\n",
    "        'top_performers': {},\n",
    "        'challenges': [],\n",
    "        'opportunities': [],\n",
    "        'recommendations_summary': []\n",
    "    }\n",
    "    \n",
    "    # Key Metrics\n",
    "    if 'Graph Overall' in cleaned_data:\n",
    "        latest = cleaned_data['Graph Overall'].iloc[-1]\n",
    "        summary['key_metrics'] = {\n",
    "            'total_exports_q4_2024': f\"${latest['exports']:.2f}M\",\n",
    "            'total_imports_q4_2024': f\"${latest['imports']:.2f}M\",\n",
    "            'total_reexports_q4_2024': f\"${latest['reexports']:.2f}M\",\n",
    "            'trade_balance_q4_2024': f\"${latest['trade_balance']:.2f}M\",\n",
    "            'total_trade_volume': f\"${latest['total_trade']:.2f}M\"\n",
    "        }\n",
    "    \n",
    "    # Top Performers\n",
    "    if 'ExportCountry' in cleaned_data:\n",
    "        top_export = cleaned_data['ExportCountry'].loc[cleaned_data['ExportCountry']['q4_2024'].idxmax()]\n",
    "        summary['top_performers']['top_export_destination'] = {\n",
    "            'country': top_export['country'],\n",
    "            'value': f\"${top_export['q4_2024']:.2f}M\",\n",
    "            'share': f\"{top_export['share_q4']:.2f}%\"\n",
    "        }\n",
    "    \n",
    "    if 'ImportCountry' in cleaned_data:\n",
    "        top_import = cleaned_data['ImportCountry'].loc[cleaned_data['ImportCountry']['q4_2024'].idxmax()]\n",
    "        summary['top_performers']['top_import_source'] = {\n",
    "            'country': top_import['country'],\n",
    "            'value': f\"${top_import['q4_2024']:.2f}M\",\n",
    "            'share': f\"{top_import['share_q4']:.2f}%\"\n",
    "        }\n",
    "    \n",
    "    if 'ExportsCommodity' in cleaned_data:\n",
    "        top_commodity = cleaned_data['ExportsCommodity'].loc[cleaned_data['ExportsCommodity']['q4_2024'].idxmax()]\n",
    "        summary['top_performers']['top_export_commodity'] = {\n",
    "            'commodity': top_commodity['description'],\n",
    "            'sitc_section': top_commodity['sitc_section'],\n",
    "            'value': f\"${top_commodity['q4_2024']:.2f}M\",\n",
    "            'share': f\"{top_commodity['share_q4']:.2f}%\"\n",
    "        }\n",
    "    \n",
    "    # Challenges\n",
    "    if 'Graph Overall' in cleaned_data:\n",
    "        latest = cleaned_data['Graph Overall'].iloc[-1]\n",
    "        if latest['trade_balance'] < 0:\n",
    "            deficit_ratio = abs(latest['trade_balance']) / latest['imports'] * 100\n",
    "            summary['challenges'].append({\n",
    "                'issue': 'Persistent Trade Deficit',\n",
    "                'details': f\"Trade deficit of ${latest['trade_balance']:.2f}M represents {deficit_ratio:.1f}% of imports\",\n",
    "                'impact': 'High'\n",
    "            })\n",
    "    \n",
    "    if 'ExportCountry' in cleaned_data:\n",
    "        export_countries = cleaned_data['ExportCountry']\n",
    "        top_5_share = export_countries.nlargest(5, 'q4_2024')['q4_2024'].sum() / export_countries['q4_2024'].sum() * 100\n",
    "        if top_5_share > 80:\n",
    "            summary['challenges'].append({\n",
    "                'issue': 'Market Concentration Risk',\n",
    "                'details': f\"Top 5 export destinations account for {top_5_share:.1f}% of total exports\",\n",
    "                'impact': 'Medium'\n",
    "            })\n",
    "    \n",
    "    # Opportunities\n",
    "    if 'EAC' in cleaned_data:\n",
    "        eac_df = cleaned_data['EAC']\n",
    "        total_eac = eac_df['q4_2024'].sum()\n",
    "        if 'Graph Overall' in cleaned_data:\n",
    "            total_exports = cleaned_data['Graph Overall'].iloc[-1]['exports']\n",
    "            eac_share = (total_eac / total_exports) * 100\n",
    "            summary['opportunities'].append({\n",
    "                'opportunity': 'Regional Market Expansion',\n",
    "                'details': f\"EAC market represents {eac_share:.1f}% of exports with growth potential\",\n",
    "                'potential': 'High'\n",
    "            })\n",
    "    \n",
    "    if 'ExportsCommodity' in cleaned_data:\n",
    "        export_commodities = cleaned_data['ExportsCommodity']\n",
    "        high_growth = export_commodities[export_commodities['growth_yoy'] > 20].nlargest(3, 'growth_yoy')\n",
    "        for _, commodity in high_growth.iterrows():\n",
    "            summary['opportunities'].append({\n",
    "                'opportunity': f\"High-Growth Commodity: {commodity['description']}\",\n",
    "                'details': f\"YoY growth of {commodity['growth_yoy']:.1f}% in Q4 2024\",\n",
    "                'potential': 'High'\n",
    "            })\n",
    "    \n",
    "    # Recommendations Summary\n",
    "    for rec in recommendations:\n",
    "        summary['recommendations_summary'].append({\n",
    "            'category': rec['category'],\n",
    "            'priority': rec['priority'],\n",
    "            'summary': rec['recommendation'],\n",
    "            'action_count': len(rec['actions'])\n",
    "        })\n",
    "    \n",
    "    return summary\n",
    "\n",
    "# Generate and display summary report\n",
    "summary_report = generate_summary_report()\n",
    "\n",
    "print(\"📋 COMPREHENSIVE ANALYSIS SUMMARY\")\n",
    "print(\"=\" * 50)\n",
    "\n",
    "print(f\"\\n📊 ANALYSIS OVERVIEW:\")\n",
    "print(f\"   Title: {summary_report['analysis_overview']['title']}\")\n",
    "print(f\"   Period: {summary_report['analysis_overview']['period']}\")\n",
    "print(f\"   Data Source: {summary_report['analysis_overview']['data_source']}\")\n",
    "print(f\"   Analysis Date: {summary_report['analysis_overview']['analysis_date']}\")\n",
    "print(f\"   Sheets Analyzed: {summary_report['analysis_overview']['sheets_analyzed']}\")\n",
    "\n",
    "print(f\"\\n💰 KEY METRICS (Q4 2024):\")\n",
    "for metric, value in summary_report['key_metrics'].items():\n",
    "    print(f\"   {metric.replace('_', ' ').title()}: {value}\")\n",
    "\n",
    "print(f\"\\n🏆 TOP PERFORMERS:\")\n",
    "for category, performer in summary_report['top_performers'].items():\n",
    "    print(f\"   {category.replace('_', ' ').title()}:\")\n",
    "    for key, value in performer.items():\n",
    "        print(f\"      {key.replace('_', ' ').title()}: {value}\")\n",
    "\n",
    "print(f\"\\n⚠️ KEY CHALLENGES:\")\n",
    "for challenge in summary_report['challenges']:\n",
    "    print(f\"   {challenge['issue']} (Impact: {challenge['impact']})\")\n",
    "    print(f\"      {challenge['details']}\")\n",
    "\n",
    "print(f\"\\n🚀 OPPORTUNITIES:\")\n",
    "for opportunity in summary_report['opportunities']:\n",
    "    print(f\"   {opportunity['opportunity']} (Potential: {opportunity['potential']})\")\n",
    "    print(f\"      {opportunity['details']}\")\n",
    "\n",
    "print(f\"\\n🎯 RECOMMENDATIONS SUMMARY:\")\n",
    "for rec in summary_report['recommendations_summary']:\n",
    "    print(f\"   {rec['category']} (Priority: {rec['priority']})\")\n",
    "    print(f\"      {rec['summary']}\")\n",
    "    print(f\"      Actions: {rec['action_count']} items\")\n",
    "\n",
    "print(f\"\\n📈 ANALYSIS COMPLETED SUCCESSFULLY!\")\n",
    "print(f\"   Total insights generated: {len(insights)}\")\n",
    "print(f\"   Total recommendations: {len(recommendations)}\")\n",
    "print(f\"   Data visualizations created: 6 comprehensive charts\")\n",
    "print(f\"   Analysis covers: {len(cleaned_data)} Excel sheets\")\n",
    "print(f\"   Time period: 12 quarters (2022-2024)\")\n",
    "print(f\"   Trade volume analyzed: ~${cleaned_data['Graph Overall'].iloc[-1]['total_trade']:.0f}M\")\n",
    "\n",
    "print(\"\\n\" + \"=\" * 50)\n",
    "print(\"🎉 RWANDA TRADE ANALYSIS COMPLETE\")\n",
    "print(\"=\" * 50)"
   ]
  },
  {
   "cell_type": "code",
   "execution_count": 26,
   "metadata": {},
   "outputs": [
    {
     "name": "stdout",
     "output_type": "stream",
     "text": [
      "✅ Analysis results saved to: data/processed/comprehensive_analysis_results_20250925_103357.json\n",
      "✅ Graph Overall data saved to: data/processed/sheet_graph_overall_20250925_103357.json\n",
      "✅ Graph EAC data saved to: data/processed/sheet_graph_eac_20250925_103357.json\n",
      "✅ EAC data saved to: data/processed/sheet_eac_20250925_103357.json\n",
      "✅ Total trade with the World data saved to: data/processed/sheet_total_trade_with_the_world_20250925_103357.json\n",
      "✅ Regional blocks data saved to: data/processed/sheet_regional_blocks_20250925_103357.json\n",
      "✅ Trade by continents data saved to: data/processed/sheet_trade_by_continents_20250925_103357.json\n",
      "✅ ExportCountry data saved to: data/processed/sheet_exportcountry_20250925_103357.json\n",
      "✅ ImportCountry data saved to: data/processed/sheet_importcountry_20250925_103357.json\n",
      "✅ ReexportsCountry data saved to: data/processed/sheet_reexportscountry_20250925_103357.json\n",
      "✅ ExportsCommodity data saved to: data/processed/sheet_exportscommodity_20250925_103357.json\n",
      "✅ ImportsCommodity data saved to: data/processed/sheet_importscommodity_20250925_103357.json\n",
      "✅ ReexportsCommodity data saved to: data/processed/sheet_reexportscommodity_20250925_103357.json\n",
      "\n",
      "📁 All analysis files saved successfully!\n",
      "   Main results: data/processed/comprehensive_analysis_results_20250925_103357.json\n",
      "   Individual sheets: 12 JSON files\n",
      "   Total files created: 13\n",
      "\n",
      "🎉 ANALYSIS COMPLETE - All issues fixed!\n"
     ]
    }
   ],
   "source": [
    "# Save comprehensive analysis results - CHANGED to JSON format\n",
    "import json\n",
    "from datetime import datetime\n",
    "\n",
    "def save_analysis_results():\n",
    "    \"\"\"\n",
    "    Save all analysis results to JSON files for future reference\n",
    "    \"\"\"\n",
    "    timestamp = datetime.now().strftime('%Y%m%d_%H%M%S')\n",
    "    \n",
    "    # Prepare comprehensive results\n",
    "    results = {\n",
    "        'metadata': {\n",
    "            'analysis_timestamp': timestamp,\n",
    "            'data_source': EXCEL_FILE,\n",
    "            'sheets_analyzed': len(cleaned_data),\n",
    "            'analysis_version': '2.0',\n",
    "            'analyst': 'Rwanda Export Explorer AI Analysis'\n",
    "        },\n",
    "        'summary_report': summary_report,\n",
    "        'insights': insights,\n",
    "        'recommendations': recommendations,\n",
    "        'data_statistics': {\n",
    "            'total_sheets': len(cleaned_data),\n",
    "            'total_data_points': sum(len(df) for df in cleaned_data.values()),\n",
    "            'quarters_covered': 12,\n",
    "            'countries_analyzed': len(cleaned_data.get('ExportCountry', [])) + len(cleaned_data.get('ImportCountry', [])) + len(cleaned_data.get('ReexportsCountry', [])),\n",
    "            'commodities_analyzed': len(cleaned_data.get('ExportsCommodity', [])) + len(cleaned_data.get('ImportsCommodity', [])) + len(cleaned_data.get('ReexportsCommodity', []))\n",
    "        }\n",
    "    }\n",
    "    \n",
    "    # Save main results - CHANGED to JSON\n",
    "    output_file = f\"{OUTPUT_DIR}comprehensive_analysis_results_{timestamp}.json\"\n",
    "    with open(output_file, 'w', encoding='utf-8') as f:\n",
    "        json.dump(results, f, indent=2, ensure_ascii=False, default=str)\n",
    "    \n",
    "    print(f\"✅ Analysis results saved to: {output_file}\")\n",
    "    \n",
    "    # Save individual sheet data - CHANGED to JSON\n",
    "    for sheet_name, df in cleaned_data.items():\n",
    "        sheet_file = f\"{OUTPUT_DIR}sheet_{sheet_name.replace(' ', '_').lower()}_{timestamp}.json\"\n",
    "        df.to_json(sheet_file, orient='records', indent=2)\n",
    "        print(f\"✅ {sheet_name} data saved to: {sheet_file}\")\n",
    "    \n",
    "    return output_file\n",
    "\n",
    "# Save all results\n",
    "main_results_file = save_analysis_results()\n",
    "print(f\"\\n📁 All analysis files saved successfully!\")\n",
    "print(f\"   Main results: {main_results_file}\")\n",
    "print(f\"   Individual sheets: {len(cleaned_data)} JSON files\")\n",
    "print(f\"   Total files created: {len(cleaned_data) + 1}\")\n",
    "print(f\"\\n🎉 ANALYSIS COMPLETE - All issues fixed!\")"
   ]
  }
 ],
 "metadata": {
  "kernelspec": {
   "display_name": "Python 3",
   "language": "python",
   "name": "python3"
  },
  "language_info": {
   "codemirror_mode": {
    "name": "ipython",
    "version": 3
   },
   "file_extension": ".py",
   "mimetype": "text/x-python",
   "name": "python",
   "nbconvert_exporter": "python",
   "pygments_lexer": "ipython3",
   "version": "3.12.5"
  }
 },
 "nbformat": 4,
 "nbformat_minor": 4
}
