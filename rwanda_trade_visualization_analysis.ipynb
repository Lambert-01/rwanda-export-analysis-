{
 "cells": [
  {
   "cell_type": "markdown",
   "metadata": {},
   "source": [
    "# Rwanda Trade Data - Advanced Visualization & Correlation Analysis\n",
    "\n",
    "## NISRA Statistical Datasets - Visual Analytics (2024Q4 & 2025Q1)\n",
    "\n",
    "This notebook focuses on advanced data visualization and correlation analysis:\n",
    "- Interactive visualizations using Plotly\n",
    "- Geographic analysis and mapping\n",
    "- Network analysis of trade relationships\n",
    "- Advanced correlation heatmaps and scatter plots\n",
    "- Time series decomposition and trend analysis\n",
    "- Interactive dashboards and reporting\n",
    "\n",
    "### Dataset Sources:\n",
    "- 2024Q4_Trade_report_annexTables.xlsx\n",
    "- 2025Q1_Trade_report_annexTables.xlsx\n",
    "- Enhanced processed data from statistical analysis"
   ]
  },
  {
   "cell_type": "code",
   "execution_count": 1,
   "metadata": {},
   "outputs": [
    {
     "name": "stdout",
     "output_type": "stream",
     "text": [
      "🎨 Starting Advanced Visualization Analysis...\n"
     ]
    }
   ],
   "source": [
    "# Import visualization libraries\n",
    "import pandas as pd\n",
    "import numpy as np\n",
    "import matplotlib.pyplot as plt\n",
    "import seaborn as sns\n",
    "import plotly.express as px\n",
    "import plotly.graph_objects as go\n",
    "from plotly.subplots import make_subplots\n",
    "import warnings\n",
    "warnings.filterwarnings('ignore')\n",
    "\n",
    "# Set style for better visualizations\n",
    "plt.style.use('seaborn-v0_8')\n",
    "sns.set_palette(\"husl\")\n",
    "\n",
    "# For interactive maps (if geopandas is available)\n",
    "try:\n",
    "    import geopandas as gpd\n",
    "    GEOPANDAS_AVAILABLE = True\n",
    "except ImportError:\n",
    "    GEOPANDAS_AVAILABLE = False\n",
    "    print(\"⚠️ GeoPandas not available - geographic visualizations will be limited\")\n",
    "\n",
    "print(\"🎨 Starting Advanced Visualization Analysis...\")"
   ]
  },
  {
   "cell_type": "markdown",
   "metadata": {},
   "source": [
    "## 1. Data Loading and Geographic Mapping"
   ]
  },
  {
   "cell_type": "code",
   "execution_count": 2,
   "metadata": {},
   "outputs": [
    {
     "name": "stdout",
     "output_type": "stream",
     "text": [
      "📊 Loaded comprehensive analysis data\n",
      "📈 Quarters covered: 13\n",
      "🌍 Countries found: 20\n",
      "\n",
      "📍 Added coordinates for 18 export destinations\n",
      "📍 Added coordinates for 9 import sources\n"
     ]
    }
   ],
   "source": [
    "# Load comprehensive analysis data\n",
    "import json\n",
    "\n",
    "# Load the comprehensive analysis JSON file\n",
    "with open('data/processed/comprehensive_analysis.json', 'r') as f:\n",
    "    comprehensive_data = json.load(f)\n",
    "\n",
    "print(f\"📊 Loaded comprehensive analysis data\")\n",
    "print(f\"📈 Quarters covered: {len(comprehensive_data['quarterly_aggregation']['exports'])}\")\n",
    "print(f\"🌍 Countries found: {len(comprehensive_data['country_aggregation']['export_destinations'])}\")\n",
    "\n",
    "# Convert to DataFrames\n",
    "exports_df = pd.DataFrame(comprehensive_data['quarterly_aggregation']['exports'])\n",
    "imports_df = pd.DataFrame(comprehensive_data['quarterly_aggregation']['imports'])\n",
    "countries_df = pd.DataFrame(comprehensive_data['country_aggregation']['export_destinations'])\n",
    "import_countries_df = pd.DataFrame(comprehensive_data['country_aggregation']['import_sources'])\n",
    "\n",
    "# Add country coordinates for mapping\n",
    "country_coordinates = {\n",
    "    'United Arab Emirates': {'lat': 23.4241, 'lon': 53.8478, 'region': 'Asia'},\n",
    "    'Democratic Republic of the Congo': {'lat': -4.0383, 'lon': 21.7587, 'region': 'Africa'},\n",
    "    'China': {'lat': 35.8617, 'lon': 104.1954, 'region': 'Asia'},\n",
    "    'United Kingdom': {'lat': 55.3781, 'lon': -3.4360, 'region': 'Europe'},\n",
    "    'Hong Kong': {'lat': 22.3193, 'lon': 114.1694, 'region': 'Asia'},\n",
    "    'Luxembourg': {'lat': 49.8153, 'lon': 6.1296, 'region': 'Europe'},\n",
    "    'Pakistan': {'lat': 30.3753, 'lon': 69.3451, 'region': 'Asia'},\n",
    "    'India': {'lat': 20.5937, 'lon': 78.9629, 'region': 'Asia'},\n",
    "    'Uganda': {'lat': 1.3733, 'lon': 32.2903, 'region': 'Africa'},\n",
    "    'United States': {'lat': 37.0902, 'lon': -95.7129, 'region': 'Americas'},\n",
    "    'Netherlands': {'lat': 52.1326, 'lon': 5.2913, 'region': 'Europe'},\n",
    "    'Singapore': {'lat': 1.3521, 'lon': 103.8198, 'region': 'Asia'},\n",
    "    'South Sudan': {'lat': 6.8770, 'lon': 31.3070, 'region': 'Africa'},\n",
    "    'Belgium': {'lat': 50.5039, 'lon': 4.4699, 'region': 'Europe'},\n",
    "    'Congo': {'lat': -0.2280, 'lon': 15.8277, 'region': 'Africa'},\n",
    "    'Ethiopia': {'lat': 9.1450, 'lon': 40.4897, 'region': 'Africa'},\n",
    "    'Germany': {'lat': 51.1657, 'lon': 10.4515, 'region': 'Europe'},\n",
    "    'Thailand': {'lat': 15.8700, 'lon': 100.9925, 'region': 'Asia'},\n",
    "    'Tanzania': {'lat': -6.3728, 'lon': 34.8924, 'region': 'Africa'},\n",
    "    'Kenya': {'lat': -0.0236, 'lon': 37.9062, 'region': 'Africa'}\n",
    "}\n",
    "\n",
    "# Add coordinates to dataframes\n",
    "def add_coordinates(df, country_col, coord_dict):\n",
    "    df = df.copy()\n",
    "    df['latitude'] = df[country_col].map(lambda x: coord_dict.get(x, {}).get('lat', 0))\n",
    "    df['longitude'] = df[country_col].map(lambda x: coord_dict.get(x, {}).get('lon', 0))\n",
    "    df['region'] = df[country_col].map(lambda x: coord_dict.get(x, {}).get('region', 'Unknown'))\n",
    "    return df\n",
    "\n",
    "countries_df = add_coordinates(countries_df, 'destination_country', country_coordinates)\n",
    "import_countries_df = add_coordinates(import_countries_df, 'source_country', country_coordinates)\n",
    "\n",
    "print(f\"\\n📍 Added coordinates for {len([c for c in countries_df['latitude'] if c != 0])} export destinations\")\n",
    "print(f\"📍 Added coordinates for {len([c for c in import_countries_df['latitude'] if c != 0])} import sources\")"
   ]
  },
  {
   "cell_type": "markdown",
   "metadata": {},
   "source": [
    "## 2. Interactive Geographic Visualizations"
   ]
  },
  {
   "cell_type": "code",
   "execution_count": 3,
   "metadata": {},
   "outputs": [
    {
     "name": "stdout",
     "output_type": "stream",
     "text": [
      "🗺️ CREATING INTERACTIVE GEOGRAPHIC VISUALIZATIONS\n",
      "======================================================================\n",
      "\n",
      "📊 Export destinations with coordinates: 18\n",
      "📊 Import sources with coordinates: 9\n"
     ]
    },
    {
     "data": {
      "application/vnd.plotly.v1+json": {
       "config": {
        "plotlyServerURL": "https://plot.ly"
       },
       "data": [
        {
         "hovertemplate": "<b>%{text}</b><br>Export Value: $%{marker.size:.0f}M<br><extra></extra>",
         "lat": [
          23.4241,
          -4.0383,
          35.8617,
          55.3781,
          22.3193,
          49.8153,
          30.3753,
          20.5937,
          1.3733,
          37.0902,
          52.1326,
          1.3521,
          6.877,
          50.5039,
          -0.228,
          9.145,
          51.1657,
          15.87
         ],
         "locationmode": "ISO-3",
         "lon": [
          53.8478,
          21.7587,
          104.1954,
          -3.436,
          114.1694,
          6.1296,
          69.3451,
          78.9629,
          32.2903,
          -95.7129,
          5.2913,
          103.8198,
          31.307,
          4.4699,
          15.8277,
          40.4897,
          10.4515,
          100.9925
         ],
         "marker": {
          "color": "blue",
          "line": {
           "color": "darkblue",
           "width": 1
          },
          "opacity": 0.7,
          "size": [
           11.29349980208722,
           9.0625103101463,
           7.788753436551136,
           6.910221449132324,
           6.781434258261487,
           6.656896093409432,
           6.6086705651654825,
           6.468102190057845,
           6.271072037373824,
           6.270682234518619,
           5.956288238535875,
           5.821569569599504,
           5.800124473717436,
           5.492400069884599,
           5.391661936163507,
           5.074140722132641,
           4.781017129763185,
           4.6832214568316815
          ],
          "sizemode": "diameter"
         },
         "mode": "markers+text",
         "name": "Export Destinations",
         "text": [
          "United Arab Emirates",
          "Democratic Republic of the Congo",
          "China",
          "United Kingdom",
          "Hong Kong",
          "Luxembourg",
          "Pakistan",
          "India",
          "Uganda",
          "United States",
          "Netherlands",
          "Singapore",
          "South Sudan",
          "Belgium",
          "Congo",
          "Ethiopia",
          "Germany",
          "Thailand"
         ],
         "textposition": "top center",
         "texttemplate": "%{text}<br>%{marker.size:.0f}M",
         "type": "scattergeo"
        },
        {
         "hovertemplate": "<b>%{text}</b><br>Import Value: $%{marker.size:.0f}M<br><extra></extra>",
         "lat": [
          -6.3728,
          -0.0236,
          20.5937,
          23.4241,
          1.3733,
          51.1657,
          50.5039,
          37.0902,
          -4.0383
         ],
         "locationmode": "ISO-3",
         "lon": [
          34.8924,
          37.9062,
          78.9629,
          53.8478,
          32.2903,
          10.4515,
          4.4699,
          -95.7129,
          21.7587
         ],
         "marker": {
          "color": "red",
          "line": {
           "color": "darkred",
           "width": 1
          },
          "opacity": 0.7,
          "size": [
           10.88673691178001,
           10.455239786033413,
           10.379042850590729,
           9.860915823506717,
           9.10190093863864,
           8.097622115090005,
           7.996362587742131,
           7.982838347289208,
           7.210626325223462
          ],
          "sizemode": "diameter"
         },
         "mode": "markers+text",
         "name": "Import Sources",
         "text": [
          "Tanzania",
          "Kenya",
          "India",
          "United Arab Emirates",
          "Uganda",
          "Germany",
          "Belgium",
          "United States",
          "Democratic Republic of the Congo"
         ],
         "textposition": "top center",
         "texttemplate": "%{text}<br>%{marker.size:.0f}M",
         "type": "scattergeo"
        }
       ],
       "layout": {
        "geo": {
         "countrycolor": "lightgray",
         "projection": {
          "type": "natural earth"
         },
         "showcoastlines": true,
         "showcountries": true,
         "showframe": false
        },
        "height": 800,
        "legend": {
         "bgcolor": "rgba(255, 255, 255, 0.8)",
         "bordercolor": "black",
         "borderwidth": 1,
         "x": 0.02,
         "y": 0.95
        },
        "template": {
         "data": {
          "bar": [
           {
            "error_x": {
             "color": "#2a3f5f"
            },
            "error_y": {
             "color": "#2a3f5f"
            },
            "marker": {
             "line": {
              "color": "#E5ECF6",
              "width": 0.5
             },
             "pattern": {
              "fillmode": "overlay",
              "size": 10,
              "solidity": 0.2
             }
            },
            "type": "bar"
           }
          ],
          "barpolar": [
           {
            "marker": {
             "line": {
              "color": "#E5ECF6",
              "width": 0.5
             },
             "pattern": {
              "fillmode": "overlay",
              "size": 10,
              "solidity": 0.2
             }
            },
            "type": "barpolar"
           }
          ],
          "carpet": [
           {
            "aaxis": {
             "endlinecolor": "#2a3f5f",
             "gridcolor": "white",
             "linecolor": "white",
             "minorgridcolor": "white",
             "startlinecolor": "#2a3f5f"
            },
            "baxis": {
             "endlinecolor": "#2a3f5f",
             "gridcolor": "white",
             "linecolor": "white",
             "minorgridcolor": "white",
             "startlinecolor": "#2a3f5f"
            },
            "type": "carpet"
           }
          ],
          "choropleth": [
           {
            "colorbar": {
             "outlinewidth": 0,
             "ticks": ""
            },
            "type": "choropleth"
           }
          ],
          "contour": [
           {
            "colorbar": {
             "outlinewidth": 0,
             "ticks": ""
            },
            "colorscale": [
             [
              0,
              "#0d0887"
             ],
             [
              0.1111111111111111,
              "#46039f"
             ],
             [
              0.2222222222222222,
              "#7201a8"
             ],
             [
              0.3333333333333333,
              "#9c179e"
             ],
             [
              0.4444444444444444,
              "#bd3786"
             ],
             [
              0.5555555555555556,
              "#d8576b"
             ],
             [
              0.6666666666666666,
              "#ed7953"
             ],
             [
              0.7777777777777778,
              "#fb9f3a"
             ],
             [
              0.8888888888888888,
              "#fdca26"
             ],
             [
              1,
              "#f0f921"
             ]
            ],
            "type": "contour"
           }
          ],
          "contourcarpet": [
           {
            "colorbar": {
             "outlinewidth": 0,
             "ticks": ""
            },
            "type": "contourcarpet"
           }
          ],
          "heatmap": [
           {
            "colorbar": {
             "outlinewidth": 0,
             "ticks": ""
            },
            "colorscale": [
             [
              0,
              "#0d0887"
             ],
             [
              0.1111111111111111,
              "#46039f"
             ],
             [
              0.2222222222222222,
              "#7201a8"
             ],
             [
              0.3333333333333333,
              "#9c179e"
             ],
             [
              0.4444444444444444,
              "#bd3786"
             ],
             [
              0.5555555555555556,
              "#d8576b"
             ],
             [
              0.6666666666666666,
              "#ed7953"
             ],
             [
              0.7777777777777778,
              "#fb9f3a"
             ],
             [
              0.8888888888888888,
              "#fdca26"
             ],
             [
              1,
              "#f0f921"
             ]
            ],
            "type": "heatmap"
           }
          ],
          "heatmapgl": [
           {
            "colorbar": {
             "outlinewidth": 0,
             "ticks": ""
            },
            "colorscale": [
             [
              0,
              "#0d0887"
             ],
             [
              0.1111111111111111,
              "#46039f"
             ],
             [
              0.2222222222222222,
              "#7201a8"
             ],
             [
              0.3333333333333333,
              "#9c179e"
             ],
             [
              0.4444444444444444,
              "#bd3786"
             ],
             [
              0.5555555555555556,
              "#d8576b"
             ],
             [
              0.6666666666666666,
              "#ed7953"
             ],
             [
              0.7777777777777778,
              "#fb9f3a"
             ],
             [
              0.8888888888888888,
              "#fdca26"
             ],
             [
              1,
              "#f0f921"
             ]
            ],
            "type": "heatmapgl"
           }
          ],
          "histogram": [
           {
            "marker": {
             "pattern": {
              "fillmode": "overlay",
              "size": 10,
              "solidity": 0.2
             }
            },
            "type": "histogram"
           }
          ],
          "histogram2d": [
           {
            "colorbar": {
             "outlinewidth": 0,
             "ticks": ""
            },
            "colorscale": [
             [
              0,
              "#0d0887"
             ],
             [
              0.1111111111111111,
              "#46039f"
             ],
             [
              0.2222222222222222,
              "#7201a8"
             ],
             [
              0.3333333333333333,
              "#9c179e"
             ],
             [
              0.4444444444444444,
              "#bd3786"
             ],
             [
              0.5555555555555556,
              "#d8576b"
             ],
             [
              0.6666666666666666,
              "#ed7953"
             ],
             [
              0.7777777777777778,
              "#fb9f3a"
             ],
             [
              0.8888888888888888,
              "#fdca26"
             ],
             [
              1,
              "#f0f921"
             ]
            ],
            "type": "histogram2d"
           }
          ],
          "histogram2dcontour": [
           {
            "colorbar": {
             "outlinewidth": 0,
             "ticks": ""
            },
            "colorscale": [
             [
              0,
              "#0d0887"
             ],
             [
              0.1111111111111111,
              "#46039f"
             ],
             [
              0.2222222222222222,
              "#7201a8"
             ],
             [
              0.3333333333333333,
              "#9c179e"
             ],
             [
              0.4444444444444444,
              "#bd3786"
             ],
             [
              0.5555555555555556,
              "#d8576b"
             ],
             [
              0.6666666666666666,
              "#ed7953"
             ],
             [
              0.7777777777777778,
              "#fb9f3a"
             ],
             [
              0.8888888888888888,
              "#fdca26"
             ],
             [
              1,
              "#f0f921"
             ]
            ],
            "type": "histogram2dcontour"
           }
          ],
          "mesh3d": [
           {
            "colorbar": {
             "outlinewidth": 0,
             "ticks": ""
            },
            "type": "mesh3d"
           }
          ],
          "parcoords": [
           {
            "line": {
             "colorbar": {
              "outlinewidth": 0,
              "ticks": ""
             }
            },
            "type": "parcoords"
           }
          ],
          "pie": [
           {
            "automargin": true,
            "type": "pie"
           }
          ],
          "scatter": [
           {
            "fillpattern": {
             "fillmode": "overlay",
             "size": 10,
             "solidity": 0.2
            },
            "type": "scatter"
           }
          ],
          "scatter3d": [
           {
            "line": {
             "colorbar": {
              "outlinewidth": 0,
              "ticks": ""
             }
            },
            "marker": {
             "colorbar": {
              "outlinewidth": 0,
              "ticks": ""
             }
            },
            "type": "scatter3d"
           }
          ],
          "scattercarpet": [
           {
            "marker": {
             "colorbar": {
              "outlinewidth": 0,
              "ticks": ""
             }
            },
            "type": "scattercarpet"
           }
          ],
          "scattergeo": [
           {
            "marker": {
             "colorbar": {
              "outlinewidth": 0,
              "ticks": ""
             }
            },
            "type": "scattergeo"
           }
          ],
          "scattergl": [
           {
            "marker": {
             "colorbar": {
              "outlinewidth": 0,
              "ticks": ""
             }
            },
            "type": "scattergl"
           }
          ],
          "scattermapbox": [
           {
            "marker": {
             "colorbar": {
              "outlinewidth": 0,
              "ticks": ""
             }
            },
            "type": "scattermapbox"
           }
          ],
          "scatterpolar": [
           {
            "marker": {
             "colorbar": {
              "outlinewidth": 0,
              "ticks": ""
             }
            },
            "type": "scatterpolar"
           }
          ],
          "scatterpolargl": [
           {
            "marker": {
             "colorbar": {
              "outlinewidth": 0,
              "ticks": ""
             }
            },
            "type": "scatterpolargl"
           }
          ],
          "scatterternary": [
           {
            "marker": {
             "colorbar": {
              "outlinewidth": 0,
              "ticks": ""
             }
            },
            "type": "scatterternary"
           }
          ],
          "surface": [
           {
            "colorbar": {
             "outlinewidth": 0,
             "ticks": ""
            },
            "colorscale": [
             [
              0,
              "#0d0887"
             ],
             [
              0.1111111111111111,
              "#46039f"
             ],
             [
              0.2222222222222222,
              "#7201a8"
             ],
             [
              0.3333333333333333,
              "#9c179e"
             ],
             [
              0.4444444444444444,
              "#bd3786"
             ],
             [
              0.5555555555555556,
              "#d8576b"
             ],
             [
              0.6666666666666666,
              "#ed7953"
             ],
             [
              0.7777777777777778,
              "#fb9f3a"
             ],
             [
              0.8888888888888888,
              "#fdca26"
             ],
             [
              1,
              "#f0f921"
             ]
            ],
            "type": "surface"
           }
          ],
          "table": [
           {
            "cells": {
             "fill": {
              "color": "#EBF0F8"
             },
             "line": {
              "color": "white"
             }
            },
            "header": {
             "fill": {
              "color": "#C8D4E3"
             },
             "line": {
              "color": "white"
             }
            },
            "type": "table"
           }
          ]
         },
         "layout": {
          "annotationdefaults": {
           "arrowcolor": "#2a3f5f",
           "arrowhead": 0,
           "arrowwidth": 1
          },
          "autotypenumbers": "strict",
          "coloraxis": {
           "colorbar": {
            "outlinewidth": 0,
            "ticks": ""
           }
          },
          "colorscale": {
           "diverging": [
            [
             0,
             "#8e0152"
            ],
            [
             0.1,
             "#c51b7d"
            ],
            [
             0.2,
             "#de77ae"
            ],
            [
             0.3,
             "#f1b6da"
            ],
            [
             0.4,
             "#fde0ef"
            ],
            [
             0.5,
             "#f7f7f7"
            ],
            [
             0.6,
             "#e6f5d0"
            ],
            [
             0.7,
             "#b8e186"
            ],
            [
             0.8,
             "#7fbc41"
            ],
            [
             0.9,
             "#4d9221"
            ],
            [
             1,
             "#276419"
            ]
           ],
           "sequential": [
            [
             0,
             "#0d0887"
            ],
            [
             0.1111111111111111,
             "#46039f"
            ],
            [
             0.2222222222222222,
             "#7201a8"
            ],
            [
             0.3333333333333333,
             "#9c179e"
            ],
            [
             0.4444444444444444,
             "#bd3786"
            ],
            [
             0.5555555555555556,
             "#d8576b"
            ],
            [
             0.6666666666666666,
             "#ed7953"
            ],
            [
             0.7777777777777778,
             "#fb9f3a"
            ],
            [
             0.8888888888888888,
             "#fdca26"
            ],
            [
             1,
             "#f0f921"
            ]
           ],
           "sequentialminus": [
            [
             0,
             "#0d0887"
            ],
            [
             0.1111111111111111,
             "#46039f"
            ],
            [
             0.2222222222222222,
             "#7201a8"
            ],
            [
             0.3333333333333333,
             "#9c179e"
            ],
            [
             0.4444444444444444,
             "#bd3786"
            ],
            [
             0.5555555555555556,
             "#d8576b"
            ],
            [
             0.6666666666666666,
             "#ed7953"
            ],
            [
             0.7777777777777778,
             "#fb9f3a"
            ],
            [
             0.8888888888888888,
             "#fdca26"
            ],
            [
             1,
             "#f0f921"
            ]
           ]
          },
          "colorway": [
           "#636efa",
           "#EF553B",
           "#00cc96",
           "#ab63fa",
           "#FFA15A",
           "#19d3f3",
           "#FF6692",
           "#B6E880",
           "#FF97FF",
           "#FECB52"
          ],
          "font": {
           "color": "#2a3f5f"
          },
          "geo": {
           "bgcolor": "white",
           "lakecolor": "white",
           "landcolor": "#E5ECF6",
           "showlakes": true,
           "showland": true,
           "subunitcolor": "white"
          },
          "hoverlabel": {
           "align": "left"
          },
          "hovermode": "closest",
          "mapbox": {
           "style": "light"
          },
          "paper_bgcolor": "white",
          "plot_bgcolor": "#E5ECF6",
          "polar": {
           "angularaxis": {
            "gridcolor": "white",
            "linecolor": "white",
            "ticks": ""
           },
           "bgcolor": "#E5ECF6",
           "radialaxis": {
            "gridcolor": "white",
            "linecolor": "white",
            "ticks": ""
           }
          },
          "scene": {
           "xaxis": {
            "backgroundcolor": "#E5ECF6",
            "gridcolor": "white",
            "gridwidth": 2,
            "linecolor": "white",
            "showbackground": true,
            "ticks": "",
            "zerolinecolor": "white"
           },
           "yaxis": {
            "backgroundcolor": "#E5ECF6",
            "gridcolor": "white",
            "gridwidth": 2,
            "linecolor": "white",
            "showbackground": true,
            "ticks": "",
            "zerolinecolor": "white"
           },
           "zaxis": {
            "backgroundcolor": "#E5ECF6",
            "gridcolor": "white",
            "gridwidth": 2,
            "linecolor": "white",
            "showbackground": true,
            "ticks": "",
            "zerolinecolor": "white"
           }
          },
          "shapedefaults": {
           "line": {
            "color": "#2a3f5f"
           }
          },
          "ternary": {
           "aaxis": {
            "gridcolor": "white",
            "linecolor": "white",
            "ticks": ""
           },
           "baxis": {
            "gridcolor": "white",
            "linecolor": "white",
            "ticks": ""
           },
           "bgcolor": "#E5ECF6",
           "caxis": {
            "gridcolor": "white",
            "linecolor": "white",
            "ticks": ""
           }
          },
          "title": {
           "x": 0.05
          },
          "xaxis": {
           "automargin": true,
           "gridcolor": "white",
           "linecolor": "white",
           "ticks": "",
           "title": {
            "standoff": 15
           },
           "zerolinecolor": "white",
           "zerolinewidth": 2
          },
          "yaxis": {
           "automargin": true,
           "gridcolor": "white",
           "linecolor": "white",
           "ticks": "",
           "title": {
            "standoff": 15
           },
           "zerolinecolor": "white",
           "zerolinewidth": 2
          }
         }
        },
        "title": {
         "font": {
          "size": 20
         },
         "text": "Rwanda Trade Network - Export Destinations & Import Sources",
         "x": 0.5
        },
        "width": 1200
       }
      }
     },
     "metadata": {},
     "output_type": "display_data"
    },
    {
     "name": "stdout",
     "output_type": "stream",
     "text": [
      "\n",
      "💾 Interactive trade map saved as 'visualizations/rwanda_trade_map.html'\n"
     ]
    }
   ],
   "source": [
    "# Create interactive world map visualization\n",
    "print(\"🗺️ CREATING INTERACTIVE GEOGRAPHIC VISUALIZATIONS\")\n",
    "print(\"=\"*70)\n",
    "\n",
    "# Filter out countries without coordinates\n",
    "export_map_data = countries_df[countries_df['latitude'] != 0].copy()\n",
    "import_map_data = import_countries_df[import_countries_df['latitude'] != 0].copy()\n",
    "\n",
    "print(f\"\\n📊 Export destinations with coordinates: {len(export_map_data)}\")\n",
    "print(f\"📊 Import sources with coordinates: {len(import_map_data)}\")\n",
    "\n",
    "# Create interactive scatter plot on world map\n",
    "fig = go.Figure()\n",
    "\n",
    "# Add export destinations\n",
    "fig.add_trace(go.Scattergeo(\n",
    "    locationmode='ISO-3',\n",
    "    lat=export_map_data['latitude'],\n",
    "    lon=export_map_data['longitude'],\n",
    "    text=export_map_data['destination_country'],\n",
    "    mode='markers+text',\n",
    "    name='Export Destinations',\n",
    "    marker=dict(\n",
    "        size=np.log10(export_map_data['export_value']) * 3,\n",
    "        color='blue',\n",
    "        opacity=0.7,\n",
    "        line=dict(width=1, color='darkblue'),\n",
    "        sizemode='diameter'\n",
    "    ),\n",
    "    texttemplate='%{text}<br>%{marker.size:.0f}M',\n",
    "    textposition='top center',\n",
    "    hovertemplate=\n",
    "        '<b>%{text}</b><br>' +\n",
    "        'Export Value: $%{marker.size:.0f}M<br>' +\n",
    "        '<extra></extra>'\n",
    "))\n",
    "\n",
    "# Add import sources\n",
    "fig.add_trace(go.Scattergeo(\n",
    "    locationmode='ISO-3',\n",
    "    lat=import_map_data['latitude'],\n",
    "    lon=import_map_data['longitude'],\n",
    "    text=import_map_data['source_country'],\n",
    "    mode='markers+text',\n",
    "    name='Import Sources',\n",
    "    marker=dict(\n",
    "        size=np.log10(import_map_data['import_value']) * 3,\n",
    "        color='red',\n",
    "        opacity=0.7,\n",
    "        line=dict(width=1, color='darkred'),\n",
    "        sizemode='diameter'\n",
    "    ),\n",
    "    texttemplate='%{text}<br>%{marker.size:.0f}M',\n",
    "    textposition='top center',\n",
    "    hovertemplate=\n",
    "        '<b>%{text}</b><br>' +\n",
    "        'Import Value: $%{marker.size:.0f}M<br>' +\n",
    "        '<extra></extra>'\n",
    "))\n",
    "\n",
    "fig.update_layout(\n",
    "    title=dict(\n",
    "        text='Rwanda Trade Network - Export Destinations & Import Sources',\n",
    "        x=0.5,\n",
    "        font=dict(size=20)\n",
    "    ),\n",
    "    geo=dict(\n",
    "        showframe=False,\n",
    "        showcoastlines=True,\n",
    "        projection_type='natural earth',\n",
    "        showcountries=True,\n",
    "        countrycolor='lightgray'\n",
    "    ),\n",
    "    legend=dict(\n",
    "        x=0.02,\n",
    "        y=0.95,\n",
    "        bgcolor='rgba(255, 255, 255, 0.8)',\n",
    "        bordercolor='black',\n",
    "        borderwidth=1\n",
    "    ),\n",
    "    width=1200,\n",
    "    height=800\n",
    ")\n",
    "\n",
    "fig.show()\n",
    "\n",
    "# Save interactive map as HTML\n",
    "fig.write_html('visualizations/rwanda_trade_map.html')\n",
    "print(\"\\n💾 Interactive trade map saved as 'visualizations/rwanda_trade_map.html'\")"
   ]
  },
  {
   "cell_type": "markdown",
   "metadata": {},
   "source": [
    "## 3. Advanced Correlation Analysis and Heatmaps"
   ]
  },
  {
   "cell_type": "code",
   "execution_count": 4,
   "metadata": {},
   "outputs": [
    {
     "name": "stdout",
     "output_type": "stream",
     "text": [
      "🔗 ADVANCED CORRELATION ANALYSIS\n",
      "======================================================================\n",
      "\n",
      "📊 Correlation dataset shape: (12, 7)\n",
      "\n",
      "📋 Available columns for correlation:\n",
      "  - quarter\n",
      "  - export_value\n",
      "  - import_value\n",
      "  - trade_balance\n",
      "  - export_to_import_ratio\n",
      "  - export_growth_rate\n",
      "  - import_growth_rate\n"
     ]
    },
    {
     "data": {
      "image/png": "[encoded data removed]",
      "text/plain": [
       "<Figure size 1200x1000 with 2 Axes>"
      ]
     },
     "metadata": {},
     "output_type": "display_data"
    },
    {
     "name": "stdout",
     "output_type": "stream",
     "text": [
      "\n",
      "🧪 CORRELATION SIGNIFICANCE TESTING\n",
      "======================================================================\n",
      "\n",
      "📊 Found 5 significant correlations (p < 0.05):\n",
      "\n",
      "--------------------------------------------------------------------------------\n",
      "export_value ↔ import_value\n",
      "  Correlation: 0.9253 ***\n",
      "  P-value: 0.0000\n",
      "\n",
      "export_value ↔ trade_balance\n",
      "  Correlation: -0.7006 *\n",
      "  P-value: 0.0112\n",
      "\n",
      "export_value ↔ export_to_import_ratio\n",
      "  Correlation: 0.6498 *\n",
      "  P-value: 0.0222\n",
      "\n",
      "import_value ↔ trade_balance\n",
      "  Correlation: -0.9189 ***\n",
      "  P-value: 0.0000\n",
      "\n",
      "export_growth_rate ↔ import_growth_rate\n",
      "  Correlation: 0.9654 ***\n",
      "  P-value: 0.0000\n",
      "\n"
     ]
    }
   ],
   "source": [
    "# Advanced correlation analysis\n",
    "print(\"🔗 ADVANCED CORRELATION ANALYSIS\")\n",
    "print(\"=\"*70)\n",
    "\n",
    "# Create comprehensive correlation dataset\n",
    "trade_df = pd.merge(exports_df, imports_df, on='quarter', suffixes=('_export', '_import'))\n",
    "trade_df['trade_balance'] = trade_df['export_value'] - trade_df['import_value']\n",
    "trade_df['export_to_import_ratio'] = trade_df['export_value'] / trade_df['import_value']\n",
    "trade_df['export_growth_rate'] = trade_df['export_value'].pct_change()\n",
    "trade_df['import_growth_rate'] = trade_df['import_value'].pct_change()\n",
    "\n",
    "# Drop NaN values\n",
    "trade_df = trade_df.dropna()\n",
    "\n",
    "print(f\"\\n📊 Correlation dataset shape: {trade_df.shape}\")\n",
    "print(f\"\\n📋 Available columns for correlation:\")\n",
    "for col in trade_df.columns:\n",
    "    print(f\"  - {col}\")\n",
    "\n",
    "# Select numeric columns for correlation\n",
    "numeric_cols = ['export_value', 'import_value', 'trade_balance', 'export_to_import_ratio', \n",
    "                'export_growth_rate', 'import_growth_rate']\n",
    "\n",
    "# Calculate correlation matrix\n",
    "correlation_matrix = trade_df[numeric_cols].corr()\n",
    "\n",
    "# Create advanced correlation heatmap\n",
    "plt.figure(figsize=(12, 10))\n",
    "\n",
    "# Create mask for upper triangle\n",
    "mask = np.triu(np.ones_like(correlation_matrix, dtype=bool))\n",
    "\n",
    "# Plot heatmap\n",
    "sns.heatmap(correlation_matrix, \n",
    "            mask=mask,\n",
    "            annot=True, \n",
    "            cmap='coolwarm', \n",
    "            center=0,\n",
    "            square=True, \n",
    "            linewidths=0.5,\n",
    "            cbar_kws={\"shrink\": 0.8},\n",
    "            fmt='.3f',\n",
    "            annot_kws={'size': 10})\n",
    "\n",
    "plt.title('Advanced Trade Data Correlation Matrix', fontsize=16, fontweight='bold', pad=20)\n",
    "plt.tight_layout()\n",
    "plt.show()\n",
    "\n",
    "# Statistical significance of correlations\n",
    "from scipy.stats import pearsonr\n",
    "import itertools\n",
    "\n",
    "print(\"\\n🧪 CORRELATION SIGNIFICANCE TESTING\")\n",
    "print(\"=\"*70)\n",
    "\n",
    "significant_correlations = []\n",
    "\n",
    "for col1, col2 in itertools.combinations(numeric_cols, 2):\n",
    "    corr_coef, p_value = pearsonr(trade_df[col1], trade_df[col2])\n",
    "    if p_value < 0.05:  # Significant correlation\n",
    "        significant_correlations.append({\n",
    "            'variable_1': col1,\n",
    "            'variable_2': col2,\n",
    "            'correlation': corr_coef,\n",
    "            'p_value': p_value,\n",
    "            'significance': '***' if p_value < 0.001 else '**' if p_value < 0.01 else '*'\n",
    "        })\n",
    "\n",
    "print(f\"\\n📊 Found {len(significant_correlations)} significant correlations (p < 0.05):\")\n",
    "print(\"\\n\" + \"-\"*80)\n",
    "for corr in significant_correlations:\n",
    "    print(f\"{corr['variable_1']} ↔ {corr['variable_2']}\")\n",
    "    print(f\"  Correlation: {corr['correlation']:.4f} {corr['significance']}\")\n",
    "    print(f\"  P-value: {corr['p_value']:.4f}\")\n",
    "    print()"
   ]
  },
  {
   "cell_type": "markdown",
   "metadata": {},
   "source": [
    "## 4. Interactive Scatter Plots and 3D Visualizations"
   ]
  },
  {
   "cell_type": "code",
   "execution_count": 5,
   "metadata": {},
   "outputs": [
    {
     "name": "stdout",
     "output_type": "stream",
     "text": [
      "📈 INTERACTIVE SCATTER PLOTS\n",
      "======================================================================\n"
     ]
    },
    {
     "data": {
      "application/vnd.plotly.v1+json": {
       "config": {
        "plotlyServerURL": "https://plot.ly"
       },
       "data": [
        {
         "customdata": [
          [
           "2022Q2"
          ],
          [
           "2022Q3"
          ],
          [
           "2022Q4"
          ],
          [
           "2023Q1"
          ],
          [
           "2023Q2"
          ],
          [
           "2023Q3"
          ],
          [
           "2023Q4"
          ],
          [
           "2024Q1"
          ],
          [
           "2024Q2"
          ],
          [
           "2024Q3"
          ],
          [
           "2024Q4"
          ],
          [
           "2025Q1"
          ]
         ],
         "hovertemplate": "Export Value (Millions USD)=%{x}<br>Import Value (Millions USD)=%{y}<br>Export/Import Ratio=%{marker.size}<br>quarter=%{customdata[0]}<br>Trade Balance=%{marker.color}<extra></extra>",
         "legendgroup": "",
         "marker": {
          "color": [
           -552.1723300208702,
           -561.2893091341882,
           -430.75364737685686,
           -1114.8022316677511,
           -1136.3538277398372,
           -1351.3297940323835,
           -1177.6487657265789,
           -984.7148136783783,
           -1117.850820786153,
           -1143.5087572362727,
           -958.7350720736972,
           -411.3489984964744
          ],
          "coloraxis": "coloraxis",
          "size": [
           0.3531958062506847,
           0.36024476949952494,
           0.4200833285651272,
           0.39838346319881096,
           0.4446144981710556,
           0.34078746199654014,
           0.3753014405046915,
           0.4486513697125012,
           0.47671556543202814,
           0.5231835382358894,
           0.5697572278538868,
           0.5270704863486351
          ],
          "sizemode": "area",
          "sizeref": 0.001424393069634717,
          "symbol": "circle"
         },
         "mode": "markers",
         "name": "",
         "orientation": "v",
         "showlegend": false,
         "type": "scatter",
         "x": [
          301.52085155871305,
          316.06078098558515,
          312.03177093342254,
          738.2090528876635,
          909.7093553963832,
          698.5853943606064,
          707.4984750130135,
          801.2963588984035,
          1018.3694581698994,
          1254.7070111655871,
          1269.6232738234066,
          458.4402335617165
         ],
         "xaxis": "x",
         "y": [
          853.6931815795832,
          877.3500901197733,
          742.7854183102794,
          1853.0112845554147,
          2046.0631831362205,
          2049.91518839299,
          1885.1472407395925,
          1786.0111725767817,
          2136.2202789560524,
          2398.21576840186,
          2228.358345897104,
          869.7892320581909
         ],
         "yaxis": "y"
        }
       ],
       "layout": {
        "coloraxis": {
         "colorbar": {
          "title": {
           "text": "Trade Balance"
          }
         },
         "colorscale": [
          [
           0,
           "rgb(165,0,38)"
          ],
          [
           0.1,
           "rgb(215,48,39)"
          ],
          [
           0.2,
           "rgb(244,109,67)"
          ],
          [
           0.3,
           "rgb(253,174,97)"
          ],
          [
           0.4,
           "rgb(254,224,144)"
          ],
          [
           0.5,
           "rgb(255,255,191)"
          ],
          [
           0.6,
           "rgb(224,243,248)"
          ],
          [
           0.7,
           "rgb(171,217,233)"
          ],
          [
           0.8,
           "rgb(116,173,209)"
          ],
          [
           0.9,
           "rgb(69,117,180)"
          ],
          [
           1,
           "rgb(49,54,149)"
          ]
         ]
        },
        "height": 600,
        "legend": {
         "itemsizing": "constant",
         "tracegroupgap": 0
        },
        "showlegend": true,
        "template": {
         "data": {
          "bar": [
           {
            "error_x": {
             "color": "#2a3f5f"
            },
            "error_y": {
             "color": "#2a3f5f"
            },
            "marker": {
             "line": {
              "color": "white",
              "width": 0.5
             },
             "pattern": {
              "fillmode": "overlay",
              "size": 10,
              "solidity": 0.2
             }
            },
            "type": "bar"
           }
          ],
          "barpolar": [
           {
            "marker": {
             "line": {
              "color": "white",
              "width": 0.5
             },
             "pattern": {
              "fillmode": "overlay",
              "size": 10,
              "solidity": 0.2
             }
            },
            "type": "barpolar"
           }
          ],
          "carpet": [
           {
            "aaxis": {
             "endlinecolor": "#2a3f5f",
             "gridcolor": "#C8D4E3",
             "linecolor": "#C8D4E3",
             "minorgridcolor": "#C8D4E3",
             "startlinecolor": "#2a3f5f"
            },
            "baxis": {
             "endlinecolor": "#2a3f5f",
             "gridcolor": "#C8D4E3",
             "linecolor": "#C8D4E3",
             "minorgridcolor": "#C8D4E3",
             "startlinecolor": "#2a3f5f"
            },
            "type": "carpet"
           }
          ],
          "choropleth": [
           {
            "colorbar": {
             "outlinewidth": 0,
             "ticks": ""
            },
            "type": "choropleth"
           }
          ],
          "contour": [
           {
            "colorbar": {
             "outlinewidth": 0,
             "ticks": ""
            },
            "colorscale": [
             [
              0,
              "#0d0887"
             ],
             [
              0.1111111111111111,
              "#46039f"
             ],
             [
              0.2222222222222222,
              "#7201a8"
             ],
             [
              0.3333333333333333,
              "#9c179e"
             ],
             [
              0.4444444444444444,
              "#bd3786"
             ],
             [
              0.5555555555555556,
              "#d8576b"
             ],
             [
              0.6666666666666666,
              "#ed7953"
             ],
             [
              0.7777777777777778,
              "#fb9f3a"
             ],
             [
              0.8888888888888888,
              "#fdca26"
             ],
             [
              1,
              "#f0f921"
             ]
            ],
            "type": "contour"
           }
          ],
          "contourcarpet": [
           {
            "colorbar": {
             "outlinewidth": 0,
             "ticks": ""
            },
            "type": "contourcarpet"
           }
          ],
          "heatmap": [
           {
            "colorbar": {
             "outlinewidth": 0,
             "ticks": ""
            },
            "colorscale": [
             [
              0,
              "#0d0887"
             ],
             [
              0.1111111111111111,
              "#46039f"
             ],
             [
              0.2222222222222222,
              "#7201a8"
             ],
             [
              0.3333333333333333,
              "#9c179e"
             ],
             [
              0.4444444444444444,
              "#bd3786"
             ],
             [
              0.5555555555555556,
              "#d8576b"
             ],
             [
              0.6666666666666666,
              "#ed7953"
             ],
             [
              0.7777777777777778,
              "#fb9f3a"
             ],
             [
              0.8888888888888888,
              "#fdca26"
             ],
             [
              1,
              "#f0f921"
             ]
            ],
            "type": "heatmap"
           }
          ],
          "heatmapgl": [
           {
            "colorbar": {
             "outlinewidth": 0,
             "ticks": ""
            },
            "colorscale": [
             [
              0,
              "#0d0887"
             ],
             [
              0.1111111111111111,
              "#46039f"
             ],
             [
              0.2222222222222222,
              "#7201a8"
             ],
             [
              0.3333333333333333,
              "#9c179e"
             ],
             [
              0.4444444444444444,
              "#bd3786"
             ],
             [
              0.5555555555555556,
              "#d8576b"
             ],
             [
              0.6666666666666666,
              "#ed7953"
             ],
             [
              0.7777777777777778,
              "#fb9f3a"
             ],
             [
              0.8888888888888888,
              "#fdca26"
             ],
             [
              1,
              "#f0f921"
             ]
            ],
            "type": "heatmapgl"
           }
          ],
          "histogram": [
           {
            "marker": {
             "pattern": {
              "fillmode": "overlay",
              "size": 10,
              "solidity": 0.2
             }
            },
            "type": "histogram"
           }
          ],
          "histogram2d": [
           {
            "colorbar": {
             "outlinewidth": 0,
             "ticks": ""
            },
            "colorscale": [
             [
              0,
              "#0d0887"
             ],
             [
              0.1111111111111111,
              "#46039f"
             ],
             [
              0.2222222222222222,
              "#7201a8"
             ],
             [
              0.3333333333333333,
              "#9c179e"
             ],
             [
              0.4444444444444444,
              "#bd3786"
             ],
             [
              0.5555555555555556,
              "#d8576b"
             ],
             [
              0.6666666666666666,
              "#ed7953"
             ],
             [
              0.7777777777777778,
              "#fb9f3a"
             ],
             [
              0.8888888888888888,
              "#fdca26"
             ],
             [
              1,
              "#f0f921"
             ]
            ],
            "type": "histogram2d"
           }
          ],
          "histogram2dcontour": [
           {
            "colorbar": {
             "outlinewidth": 0,
             "ticks": ""
            },
            "colorscale": [
             [
              0,
              "#0d0887"
             ],
             [
              0.1111111111111111,
              "#46039f"
             ],
             [
              0.2222222222222222,
              "#7201a8"
             ],
             [
              0.3333333333333333,
              "#9c179e"
             ],
             [
              0.4444444444444444,
              "#bd3786"
             ],
             [
              0.5555555555555556,
              "#d8576b"
             ],
             [
              0.6666666666666666,
              "#ed7953"
             ],
             [
              0.7777777777777778,
              "#fb9f3a"
             ],
             [
              0.8888888888888888,
              "#fdca26"
             ],
             [
              1,
              "#f0f921"
             ]
            ],
            "type": "histogram2dcontour"
           }
          ],
          "mesh3d": [
           {
            "colorbar": {
             "outlinewidth": 0,
             "ticks": ""
            },
            "type": "mesh3d"
           }
          ],
          "parcoords": [
           {
            "line": {
             "colorbar": {
              "outlinewidth": 0,
              "ticks": ""
             }
            },
            "type": "parcoords"
           }
          ],
          "pie": [
           {
            "automargin": true,
            "type": "pie"
           }
          ],
          "scatter": [
           {
            "fillpattern": {
             "fillmode": "overlay",
             "size": 10,
             "solidity": 0.2
            },
            "type": "scatter"
           }
          ],
          "scatter3d": [
           {
            "line": {
             "colorbar": {
              "outlinewidth": 0,
              "ticks": ""
             }
            },
            "marker": {
             "colorbar": {
              "outlinewidth": 0,
              "ticks": ""
             }
            },
            "type": "scatter3d"
           }
          ],
          "scattercarpet": [
           {
            "marker": {
             "colorbar": {
              "outlinewidth": 0,
              "ticks": ""
             }
            },
            "type": "scattercarpet"
           }
          ],
          "scattergeo": [
           {
            "marker": {
             "colorbar": {
              "outlinewidth": 0,
              "ticks": ""
             }
            },
            "type": "scattergeo"
           }
          ],
          "scattergl": [
           {
            "marker": {
             "colorbar": {
              "outlinewidth": 0,
              "ticks": ""
             }
            },
            "type": "scattergl"
           }
          ],
          "scattermapbox": [
           {
            "marker": {
             "colorbar": {
              "outlinewidth": 0,
              "ticks": ""
             }
            },
            "type": "scattermapbox"
           }
          ],
          "scatterpolar": [
           {
            "marker": {
             "colorbar": {
              "outlinewidth": 0,
              "ticks": ""
             }
            },
            "type": "scatterpolar"
           }
          ],
          "scatterpolargl": [
           {
            "marker": {
             "colorbar": {
              "outlinewidth": 0,
              "ticks": ""
             }
            },
            "type": "scatterpolargl"
           }
          ],
          "scatterternary": [
           {
            "marker": {
             "colorbar": {
              "outlinewidth": 0,
              "ticks": ""
             }
            },
            "type": "scatterternary"
           }
          ],
          "surface": [
           {
            "colorbar": {
             "outlinewidth": 0,
             "ticks": ""
            },
            "colorscale": [
             [
              0,
              "#0d0887"
             ],
             [
              0.1111111111111111,
              "#46039f"
             ],
             [
              0.2222222222222222,
              "#7201a8"
             ],
             [
              0.3333333333333333,
              "#9c179e"
             ],
             [
              0.4444444444444444,
              "#bd3786"
             ],
             [
              0.5555555555555556,
              "#d8576b"
             ],
             [
              0.6666666666666666,
              "#ed7953"
             ],
             [
              0.7777777777777778,
              "#fb9f3a"
             ],
             [
              0.8888888888888888,
              "#fdca26"
             ],
             [
              1,
              "#f0f921"
             ]
            ],
            "type": "surface"
           }
          ],
          "table": [
           {
            "cells": {
             "fill": {
              "color": "#EBF0F8"
             },
             "line": {
              "color": "white"
             }
            },
            "header": {
             "fill": {
              "color": "#C8D4E3"
             },
             "line": {
              "color": "white"
             }
            },
            "type": "table"
           }
          ]
         },
         "layout": {
          "annotationdefaults": {
           "arrowcolor": "#2a3f5f",
           "arrowhead": 0,
           "arrowwidth": 1
          },
          "autotypenumbers": "strict",
          "coloraxis": {
           "colorbar": {
            "outlinewidth": 0,
            "ticks": ""
           }
          },
          "colorscale": {
           "diverging": [
            [
             0,
             "#8e0152"
            ],
            [
             0.1,
             "#c51b7d"
            ],
            [
             0.2,
             "#de77ae"
            ],
            [
             0.3,
             "#f1b6da"
            ],
            [
             0.4,
             "#fde0ef"
            ],
            [
             0.5,
             "#f7f7f7"
            ],
            [
             0.6,
             "#e6f5d0"
            ],
            [
             0.7,
             "#b8e186"
            ],
            [
             0.8,
             "#7fbc41"
            ],
            [
             0.9,
             "#4d9221"
            ],
            [
             1,
             "#276419"
            ]
           ],
           "sequential": [
            [
             0,
             "#0d0887"
            ],
            [
             0.1111111111111111,
             "#46039f"
            ],
            [
             0.2222222222222222,
             "#7201a8"
            ],
            [
             0.3333333333333333,
             "#9c179e"
            ],
            [
             0.4444444444444444,
             "#bd3786"
            ],
            [
             0.5555555555555556,
             "#d8576b"
            ],
            [
             0.6666666666666666,
             "#ed7953"
            ],
            [
             0.7777777777777778,
             "#fb9f3a"
            ],
            [
             0.8888888888888888,
             "#fdca26"
            ],
            [
             1,
             "#f0f921"
            ]
           ],
           "sequentialminus": [
            [
             0,
             "#0d0887"
            ],
            [
             0.1111111111111111,
             "#46039f"
            ],
            [
             0.2222222222222222,
             "#7201a8"
            ],
            [
             0.3333333333333333,
             "#9c179e"
            ],
            [
             0.4444444444444444,
             "#bd3786"
            ],
            [
             0.5555555555555556,
             "#d8576b"
            ],
            [
             0.6666666666666666,
             "#ed7953"
            ],
            [
             0.7777777777777778,
             "#fb9f3a"
            ],
            [
             0.8888888888888888,
             "#fdca26"
            ],
            [
             1,
             "#f0f921"
            ]
           ]
          },
          "colorway": [
           "#636efa",
           "#EF553B",
           "#00cc96",
           "#ab63fa",
           "#FFA15A",
           "#19d3f3",
           "#FF6692",
           "#B6E880",
           "#FF97FF",
           "#FECB52"
          ],
          "font": {
           "color": "#2a3f5f"
          },
          "geo": {
           "bgcolor": "white",
           "lakecolor": "white",
           "landcolor": "white",
           "showlakes": true,
           "showland": true,
           "subunitcolor": "#C8D4E3"
          },
          "hoverlabel": {
           "align": "left"
          },
          "hovermode": "closest",
          "mapbox": {
           "style": "light"
          },
          "paper_bgcolor": "white",
          "plot_bgcolor": "white",
          "polar": {
           "angularaxis": {
            "gridcolor": "#EBF0F8",
            "linecolor": "#EBF0F8",
            "ticks": ""
           },
           "bgcolor": "white",
           "radialaxis": {
            "gridcolor": "#EBF0F8",
            "linecolor": "#EBF0F8",
            "ticks": ""
           }
          },
          "scene": {
           "xaxis": {
            "backgroundcolor": "white",
            "gridcolor": "#DFE8F3",
            "gridwidth": 2,
            "linecolor": "#EBF0F8",
            "showbackground": true,
            "ticks": "",
            "zerolinecolor": "#EBF0F8"
           },
           "yaxis": {
            "backgroundcolor": "white",
            "gridcolor": "#DFE8F3",
            "gridwidth": 2,
            "linecolor": "#EBF0F8",
            "showbackground": true,
            "ticks": "",
            "zerolinecolor": "#EBF0F8"
           },
           "zaxis": {
            "backgroundcolor": "white",
            "gridcolor": "#DFE8F3",
            "gridwidth": 2,
            "linecolor": "#EBF0F8",
            "showbackground": true,
            "ticks": "",
            "zerolinecolor": "#EBF0F8"
           }
          },
          "shapedefaults": {
           "line": {
            "color": "#2a3f5f"
           }
          },
          "ternary": {
           "aaxis": {
            "gridcolor": "#DFE8F3",
            "linecolor": "#A2B1C6",
            "ticks": ""
           },
           "baxis": {
            "gridcolor": "#DFE8F3",
            "linecolor": "#A2B1C6",
            "ticks": ""
           },
           "bgcolor": "white",
           "caxis": {
            "gridcolor": "#DFE8F3",
            "linecolor": "#A2B1C6",
            "ticks": ""
           }
          },
          "title": {
           "x": 0.05
          },
          "xaxis": {
           "automargin": true,
           "gridcolor": "#EBF0F8",
           "linecolor": "#EBF0F8",
           "ticks": "",
           "title": {
            "standoff": 15
           },
           "zerolinecolor": "#EBF0F8",
           "zerolinewidth": 2
          },
          "yaxis": {
           "automargin": true,
           "gridcolor": "#EBF0F8",
           "linecolor": "#EBF0F8",
           "ticks": "",
           "title": {
            "standoff": 15
           },
           "zerolinecolor": "#EBF0F8",
           "zerolinewidth": 2
          }
         }
        },
        "title": {
         "text": "Rwanda Trade Balance: Exports vs Imports"
        },
        "width": 1000,
        "xaxis": {
         "anchor": "y",
         "domain": [
          0,
          1
         ],
         "title": {
          "text": "Export Value (Millions USD)"
         }
        },
        "yaxis": {
         "anchor": "x",
         "domain": [
          0,
          1
         ],
         "title": {
          "text": "Import Value (Millions USD)"
         }
        }
       }
      }
     },
     "metadata": {},
     "output_type": "display_data"
    },
    {
     "data": {
      "application/vnd.plotly.v1+json": {
       "config": {
        "plotlyServerURL": "https://plot.ly"
       },
       "data": [
        {
         "hovertemplate": "<b>Quarter: %{text}</b><br>Exports: %{x:.2f}M<br>Imports: %{y:.2f}M<br>Trade Balance: %{z:.2f}M<br><extra></extra>",
         "marker": {
          "color": [
           0.20832855360954472,
           0.04822196989597205,
           -0.012747579878777726,
           1.3658137460789956,
           0.23231942474541523,
           -0.23207847625551214,
           0.012758756086741485,
           0.1325768000894485,
           0.2709023906834185,
           0.23207447071361242,
           0.011888243649776697,
           -0.6389163281631197
          ],
          "colorbar": {
           "title": {
            "text": "Export Growth Rate"
           }
          },
          "colorscale": [
           [
            0,
            "#440154"
           ],
           [
            0.1111111111111111,
            "#482878"
           ],
           [
            0.2222222222222222,
            "#3e4989"
           ],
           [
            0.3333333333333333,
            "#31688e"
           ],
           [
            0.4444444444444444,
            "#26828e"
           ],
           [
            0.5555555555555556,
            "#1f9e89"
           ],
           [
            0.6666666666666666,
            "#35b779"
           ],
           [
            0.7777777777777778,
            "#6ece58"
           ],
           [
            0.8888888888888888,
            "#b5de2b"
           ],
           [
            1,
            "#fde725"
           ]
          ],
          "opacity": 0.8,
          "showscale": true,
          "size": [
           3.531958062506847,
           3.6024476949952495,
           4.200833285651272,
           3.9838346319881097,
           4.446144981710556,
           3.4078746199654013,
           3.753014405046915,
           4.486513697125012,
           4.767155654320281,
           5.231835382358893,
           5.6975722785388685,
           5.270704863486351
          ]
         },
         "mode": "markers",
         "text": [
          "2022Q2",
          "2022Q3",
          "2022Q4",
          "2023Q1",
          "2023Q2",
          "2023Q3",
          "2023Q4",
          "2024Q1",
          "2024Q2",
          "2024Q3",
          "2024Q4",
          "2025Q1"
         ],
         "type": "scatter3d",
         "x": [
          301.52085155871305,
          316.06078098558515,
          312.03177093342254,
          738.2090528876635,
          909.7093553963832,
          698.5853943606064,
          707.4984750130135,
          801.2963588984035,
          1018.3694581698994,
          1254.7070111655871,
          1269.6232738234066,
          458.4402335617165
         ],
         "y": [
          853.6931815795832,
          877.3500901197733,
          742.7854183102794,
          1853.0112845554147,
          2046.0631831362205,
          2049.91518839299,
          1885.1472407395925,
          1786.0111725767817,
          2136.2202789560524,
          2398.21576840186,
          2228.358345897104,
          869.7892320581909
         ],
         "z": [
          -552.1723300208702,
          -561.2893091341882,
          -430.75364737685686,
          -1114.8022316677511,
          -1136.3538277398372,
          -1351.3297940323835,
          -1177.6487657265789,
          -984.7148136783783,
          -1117.850820786153,
          -1143.5087572362727,
          -958.7350720736972,
          -411.3489984964744
         ]
        }
       ],
       "layout": {
        "height": 800,
        "scene": {
         "xaxis": {
          "title": {
           "text": "Export Value (M USD)"
          }
         },
         "yaxis": {
          "title": {
           "text": "Import Value (M USD)"
          }
         },
         "zaxis": {
          "title": {
           "text": "Trade Balance (M USD)"
          }
         }
        },
        "template": {
         "data": {
          "bar": [
           {
            "error_x": {
             "color": "#2a3f5f"
            },
            "error_y": {
             "color": "#2a3f5f"
            },
            "marker": {
             "line": {
              "color": "#E5ECF6",
              "width": 0.5
             },
             "pattern": {
              "fillmode": "overlay",
              "size": 10,
              "solidity": 0.2
             }
            },
            "type": "bar"
           }
          ],
          "barpolar": [
           {
            "marker": {
             "line": {
              "color": "#E5ECF6",
              "width": 0.5
             },
             "pattern": {
              "fillmode": "overlay",
              "size": 10,
              "solidity": 0.2
             }
            },
            "type": "barpolar"
           }
          ],
          "carpet": [
           {
            "aaxis": {
             "endlinecolor": "#2a3f5f",
             "gridcolor": "white",
             "linecolor": "white",
             "minorgridcolor": "white",
             "startlinecolor": "#2a3f5f"
            },
            "baxis": {
             "endlinecolor": "#2a3f5f",
             "gridcolor": "white",
             "linecolor": "white",
             "minorgridcolor": "white",
             "startlinecolor": "#2a3f5f"
            },
            "type": "carpet"
           }
          ],
          "choropleth": [
           {
            "colorbar": {
             "outlinewidth": 0,
             "ticks": ""
            },
            "type": "choropleth"
           }
          ],
          "contour": [
           {
            "colorbar": {
             "outlinewidth": 0,
             "ticks": ""
            },
            "colorscale": [
             [
              0,
              "#0d0887"
             ],
             [
              0.1111111111111111,
              "#46039f"
             ],
             [
              0.2222222222222222,
              "#7201a8"
             ],
             [
              0.3333333333333333,
              "#9c179e"
             ],
             [
              0.4444444444444444,
              "#bd3786"
             ],
             [
              0.5555555555555556,
              "#d8576b"
             ],
             [
              0.6666666666666666,
              "#ed7953"
             ],
             [
              0.7777777777777778,
              "#fb9f3a"
             ],
             [
              0.8888888888888888,
              "#fdca26"
             ],
             [
              1,
              "#f0f921"
             ]
            ],
            "type": "contour"
           }
          ],
          "contourcarpet": [
           {
            "colorbar": {
             "outlinewidth": 0,
             "ticks": ""
            },
            "type": "contourcarpet"
           }
          ],
          "heatmap": [
           {
            "colorbar": {
             "outlinewidth": 0,
             "ticks": ""
            },
            "colorscale": [
             [
              0,
              "#0d0887"
             ],
             [
              0.1111111111111111,
              "#46039f"
             ],
             [
              0.2222222222222222,
              "#7201a8"
             ],
             [
              0.3333333333333333,
              "#9c179e"
             ],
             [
              0.4444444444444444,
              "#bd3786"
             ],
             [
              0.5555555555555556,
              "#d8576b"
             ],
             [
              0.6666666666666666,
              "#ed7953"
             ],
             [
              0.7777777777777778,
              "#fb9f3a"
             ],
             [
              0.8888888888888888,
              "#fdca26"
             ],
             [
              1,
              "#f0f921"
             ]
            ],
            "type": "heatmap"
           }
          ],
          "heatmapgl": [
           {
            "colorbar": {
             "outlinewidth": 0,
             "ticks": ""
            },
            "colorscale": [
             [
              0,
              "#0d0887"
             ],
             [
              0.1111111111111111,
              "#46039f"
             ],
             [
              0.2222222222222222,
              "#7201a8"
             ],
             [
              0.3333333333333333,
              "#9c179e"
             ],
             [
              0.4444444444444444,
              "#bd3786"
             ],
             [
              0.5555555555555556,
              "#d8576b"
             ],
             [
              0.6666666666666666,
              "#ed7953"
             ],
             [
              0.7777777777777778,
              "#fb9f3a"
             ],
             [
              0.8888888888888888,
              "#fdca26"
             ],
             [
              1,
              "#f0f921"
             ]
            ],
            "type": "heatmapgl"
           }
          ],
          "histogram": [
           {
            "marker": {
             "pattern": {
              "fillmode": "overlay",
              "size": 10,
              "solidity": 0.2
             }
            },
            "type": "histogram"
           }
          ],
          "histogram2d": [
           {
            "colorbar": {
             "outlinewidth": 0,
             "ticks": ""
            },
            "colorscale": [
             [
              0,
              "#0d0887"
             ],
             [
              0.1111111111111111,
              "#46039f"
             ],
             [
              0.2222222222222222,
              "#7201a8"
             ],
             [
              0.3333333333333333,
              "#9c179e"
             ],
             [
              0.4444444444444444,
              "#bd3786"
             ],
             [
              0.5555555555555556,
              "#d8576b"
             ],
             [
              0.6666666666666666,
              "#ed7953"
             ],
             [
              0.7777777777777778,
              "#fb9f3a"
             ],
             [
              0.8888888888888888,
              "#fdca26"
             ],
             [
              1,
              "#f0f921"
             ]
            ],
            "type": "histogram2d"
           }
          ],
          "histogram2dcontour": [
           {
            "colorbar": {
             "outlinewidth": 0,
             "ticks": ""
            },
            "colorscale": [
             [
              0,
              "#0d0887"
             ],
             [
              0.1111111111111111,
              "#46039f"
             ],
             [
              0.2222222222222222,
              "#7201a8"
             ],
             [
              0.3333333333333333,
              "#9c179e"
             ],
             [
              0.4444444444444444,
              "#bd3786"
             ],
             [
              0.5555555555555556,
              "#d8576b"
             ],
             [
              0.6666666666666666,
              "#ed7953"
             ],
             [
              0.7777777777777778,
              "#fb9f3a"
             ],
             [
              0.8888888888888888,
              "#fdca26"
             ],
             [
              1,
              "#f0f921"
             ]
            ],
            "type": "histogram2dcontour"
           }
          ],
          "mesh3d": [
           {
            "colorbar": {
             "outlinewidth": 0,
             "ticks": ""
            },
            "type": "mesh3d"
           }
          ],
          "parcoords": [
           {
            "line": {
             "colorbar": {
              "outlinewidth": 0,
              "ticks": ""
             }
            },
            "type": "parcoords"
           }
          ],
          "pie": [
           {
            "automargin": true,
            "type": "pie"
           }
          ],
          "scatter": [
           {
            "fillpattern": {
             "fillmode": "overlay",
             "size": 10,
             "solidity": 0.2
            },
            "type": "scatter"
           }
          ],
          "scatter3d": [
           {
            "line": {
             "colorbar": {
              "outlinewidth": 0,
              "ticks": ""
             }
            },
            "marker": {
             "colorbar": {
              "outlinewidth": 0,
              "ticks": ""
             }
            },
            "type": "scatter3d"
           }
          ],
          "scattercarpet": [
           {
            "marker": {
             "colorbar": {
              "outlinewidth": 0,
              "ticks": ""
             }
            },
            "type": "scattercarpet"
           }
          ],
          "scattergeo": [
           {
            "marker": {
             "colorbar": {
              "outlinewidth": 0,
              "ticks": ""
             }
            },
            "type": "scattergeo"
           }
          ],
          "scattergl": [
           {
            "marker": {
             "colorbar": {
              "outlinewidth": 0,
              "ticks": ""
             }
            },
            "type": "scattergl"
           }
          ],
          "scattermapbox": [
           {
            "marker": {
             "colorbar": {
              "outlinewidth": 0,
              "ticks": ""
             }
            },
            "type": "scattermapbox"
           }
          ],
          "scatterpolar": [
           {
            "marker": {
             "colorbar": {
              "outlinewidth": 0,
              "ticks": ""
             }
            },
            "type": "scatterpolar"
           }
          ],
          "scatterpolargl": [
           {
            "marker": {
             "colorbar": {
              "outlinewidth": 0,
              "ticks": ""
             }
            },
            "type": "scatterpolargl"
           }
          ],
          "scatterternary": [
           {
            "marker": {
             "colorbar": {
              "outlinewidth": 0,
              "ticks": ""
             }
            },
            "type": "scatterternary"
           }
          ],
          "surface": [
           {
            "colorbar": {
             "outlinewidth": 0,
             "ticks": ""
            },
            "colorscale": [
             [
              0,
              "#0d0887"
             ],
             [
              0.1111111111111111,
              "#46039f"
             ],
             [
              0.2222222222222222,
              "#7201a8"
             ],
             [
              0.3333333333333333,
              "#9c179e"
             ],
             [
              0.4444444444444444,
              "#bd3786"
             ],
             [
              0.5555555555555556,
              "#d8576b"
             ],
             [
              0.6666666666666666,
              "#ed7953"
             ],
             [
              0.7777777777777778,
              "#fb9f3a"
             ],
             [
              0.8888888888888888,
              "#fdca26"
             ],
             [
              1,
              "#f0f921"
             ]
            ],
            "type": "surface"
           }
          ],
          "table": [
           {
            "cells": {
             "fill": {
              "color": "#EBF0F8"
             },
             "line": {
              "color": "white"
             }
            },
            "header": {
             "fill": {
              "color": "#C8D4E3"
             },
             "line": {
              "color": "white"
             }
            },
            "type": "table"
           }
          ]
         },
         "layout": {
          "annotationdefaults": {
           "arrowcolor": "#2a3f5f",
           "arrowhead": 0,
           "arrowwidth": 1
          },
          "autotypenumbers": "strict",
          "coloraxis": {
           "colorbar": {
            "outlinewidth": 0,
            "ticks": ""
           }
          },
          "colorscale": {
           "diverging": [
            [
             0,
             "#8e0152"
            ],
            [
             0.1,
             "#c51b7d"
            ],
            [
             0.2,
             "#de77ae"
            ],
            [
             0.3,
             "#f1b6da"
            ],
            [
             0.4,
             "#fde0ef"
            ],
            [
             0.5,
             "#f7f7f7"
            ],
            [
             0.6,
             "#e6f5d0"
            ],
            [
             0.7,
             "#b8e186"
            ],
            [
             0.8,
             "#7fbc41"
            ],
            [
             0.9,
             "#4d9221"
            ],
            [
             1,
             "#276419"
            ]
           ],
           "sequential": [
            [
             0,
             "#0d0887"
            ],
            [
             0.1111111111111111,
             "#46039f"
            ],
            [
             0.2222222222222222,
             "#7201a8"
            ],
            [
             0.3333333333333333,
             "#9c179e"
            ],
            [
             0.4444444444444444,
             "#bd3786"
            ],
            [
             0.5555555555555556,
             "#d8576b"
            ],
            [
             0.6666666666666666,
             "#ed7953"
            ],
            [
             0.7777777777777778,
             "#fb9f3a"
            ],
            [
             0.8888888888888888,
             "#fdca26"
            ],
            [
             1,
             "#f0f921"
            ]
           ],
           "sequentialminus": [
            [
             0,
             "#0d0887"
            ],
            [
             0.1111111111111111,
             "#46039f"
            ],
            [
             0.2222222222222222,
             "#7201a8"
            ],
            [
             0.3333333333333333,
             "#9c179e"
            ],
            [
             0.4444444444444444,
             "#bd3786"
            ],
            [
             0.5555555555555556,
             "#d8576b"
            ],
            [
             0.6666666666666666,
             "#ed7953"
            ],
            [
             0.7777777777777778,
             "#fb9f3a"
            ],
            [
             0.8888888888888888,
             "#fdca26"
            ],
            [
             1,
             "#f0f921"
            ]
           ]
          },
          "colorway": [
           "#636efa",
           "#EF553B",
           "#00cc96",
           "#ab63fa",
           "#FFA15A",
           "#19d3f3",
           "#FF6692",
           "#B6E880",
           "#FF97FF",
           "#FECB52"
          ],
          "font": {
           "color": "#2a3f5f"
          },
          "geo": {
           "bgcolor": "white",
           "lakecolor": "white",
           "landcolor": "#E5ECF6",
           "showlakes": true,
           "showland": true,
           "subunitcolor": "white"
          },
          "hoverlabel": {
           "align": "left"
          },
          "hovermode": "closest",
          "mapbox": {
           "style": "light"
          },
          "paper_bgcolor": "white",
          "plot_bgcolor": "#E5ECF6",
          "polar": {
           "angularaxis": {
            "gridcolor": "white",
            "linecolor": "white",
            "ticks": ""
           },
           "bgcolor": "#E5ECF6",
           "radialaxis": {
            "gridcolor": "white",
            "linecolor": "white",
            "ticks": ""
           }
          },
          "scene": {
           "xaxis": {
            "backgroundcolor": "#E5ECF6",
            "gridcolor": "white",
            "gridwidth": 2,
            "linecolor": "white",
            "showbackground": true,
            "ticks": "",
            "zerolinecolor": "white"
           },
           "yaxis": {
            "backgroundcolor": "#E5ECF6",
            "gridcolor": "white",
            "gridwidth": 2,
            "linecolor": "white",
            "showbackground": true,
            "ticks": "",
            "zerolinecolor": "white"
           },
           "zaxis": {
            "backgroundcolor": "#E5ECF6",
            "gridcolor": "white",
            "gridwidth": 2,
            "linecolor": "white",
            "showbackground": true,
            "ticks": "",
            "zerolinecolor": "white"
           }
          },
          "shapedefaults": {
           "line": {
            "color": "#2a3f5f"
           }
          },
          "ternary": {
           "aaxis": {
            "gridcolor": "white",
            "linecolor": "white",
            "ticks": ""
           },
           "baxis": {
            "gridcolor": "white",
            "linecolor": "white",
            "ticks": ""
           },
           "bgcolor": "#E5ECF6",
           "caxis": {
            "gridcolor": "white",
            "linecolor": "white",
            "ticks": ""
           }
          },
          "title": {
           "x": 0.05
          },
          "xaxis": {
           "automargin": true,
           "gridcolor": "white",
           "linecolor": "white",
           "ticks": "",
           "title": {
            "standoff": 15
           },
           "zerolinecolor": "white",
           "zerolinewidth": 2
          },
          "yaxis": {
           "automargin": true,
           "gridcolor": "white",
           "linecolor": "white",
           "ticks": "",
           "title": {
            "standoff": 15
           },
           "zerolinecolor": "white",
           "zerolinewidth": 2
          }
         }
        },
        "title": {
         "text": "3D Trade Analysis: Exports, Imports, and Balance"
        },
        "width": 1000
       }
      }
     },
     "metadata": {},
     "output_type": "display_data"
    },
    {
     "name": "stdout",
     "output_type": "stream",
     "text": [
      "\n",
      "💾 3D trade analysis saved as 'visualizations/rwanda_trade_3d_analysis.html'\n"
     ]
    }
   ],
   "source": [
    "# Interactive scatter plots\n",
    "print(\"📈 INTERACTIVE SCATTER PLOTS\")\n",
    "print(\"=\"*70)\n",
    "\n",
    "# Create interactive scatter plot for exports vs imports\n",
    "fig = px.scatter(trade_df, \n",
    "                 x='export_value', \n",
    "                 y='import_value',\n",
    "                 color='trade_balance',\n",
    "                 size='export_to_import_ratio',\n",
    "                 hover_data=['quarter'],\n",
    "                 title='Rwanda Trade Balance: Exports vs Imports',\n",
    "                 labels={\n",
    "                     'export_value': 'Export Value (Millions USD)',\n",
    "                     'import_value': 'Import Value (Millions USD)',\n",
    "                     'trade_balance': 'Trade Balance',\n",
    "                     'export_to_import_ratio': 'Export/Import Ratio'\n",
    "                 },\n",
    "                 color_continuous_scale='RdYlBu',\n",
    "                 template='plotly_white')\n",
    "\n",
    "fig.update_layout(\n",
    "    width=1000,\n",
    "    height=600,\n",
    "    showlegend=True\n",
    ")\n",
    "\n",
    "fig.show()\n",
    "\n",
    "# 3D scatter plot for multi-dimensional analysis\n",
    "fig_3d = go.Figure(data=[go.Scatter3d(\n",
    "    x=trade_df['export_value'],\n",
    "    y=trade_df['import_value'],\n",
    "    z=trade_df['trade_balance'],\n",
    "    mode='markers',\n",
    "    marker=dict(\n",
    "        size=trade_df['export_to_import_ratio'] * 10,\n",
    "        color=trade_df['export_growth_rate'],\n",
    "        colorscale='Viridis',\n",
    "        opacity=0.8,\n",
    "        showscale=True,\n",
    "        colorbar=dict(title=\"Export Growth Rate\")\n",
    "    ),\n",
    "    text=trade_df['quarter'],\n",
    "    hovertemplate=\n",
    "        '<b>Quarter: %{text}</b><br>' +\n",
    "        'Exports: %{x:.2f}M<br>' +\n",
    "        'Imports: %{y:.2f}M<br>' +\n",
    "        'Trade Balance: %{z:.2f}M<br>' +\n",
    "        '<extra></extra>'\n",
    ")])\n",
    "\n",
    "fig_3d.update_layout(\n",
    "    title='3D Trade Analysis: Exports, Imports, and Balance',\n",
    "    scene=dict(\n",
    "        xaxis_title='Export Value (M USD)',\n",
    "        yaxis_title='Import Value (M USD)',\n",
    "        zaxis_title='Trade Balance (M USD)'\n",
    "    ),\n",
    "    width=1000,\n",
    "    height=800\n",
    ")\n",
    "\n",
    "fig_3d.show()\n",
    "\n",
    "# Save 3D visualization\n",
    "fig_3d.write_html('visualizations/rwanda_trade_3d_analysis.html')\n",
    "print(\"\\n💾 3D trade analysis saved as 'visualizations/rwanda_trade_3d_analysis.html'\")"
   ]
  },
  {
   "cell_type": "markdown",
   "metadata": {},
   "source": [
    "## 5. Time Series Decomposition and Trend Analysis"
   ]
  },
  {
   "cell_type": "code",
   "execution_count": 6,
   "metadata": {},
   "outputs": [
    {
     "name": "stdout",
     "output_type": "stream",
     "text": [
      "📈 TIME SERIES DECOMPOSITION\n",
      "======================================================================\n"
     ]
    },
    {
     "data": {
      "application/vnd.plotly.v1+json": {
       "config": {
        "plotlyServerURL": "https://plot.ly"
       },
       "data": [
        {
         "name": "Exports Observed",
         "type": "scatter",
         "x": [
          "2022-04-01T00:00:00",
          "2022-07-01T00:00:00",
          "2022-10-01T00:00:00",
          "2023-01-01T00:00:00",
          "2023-04-01T00:00:00",
          "2023-07-01T00:00:00",
          "2023-10-01T00:00:00",
          "2024-01-01T00:00:00",
          "2024-04-01T00:00:00",
          "2024-07-01T00:00:00",
          "2024-10-01T00:00:00",
          "2025-01-01T00:00:00"
         ],
         "xaxis": "x",
         "y": [
          301.52085155871305,
          316.06078098558515,
          312.03177093342254,
          738.2090528876635,
          909.7093553963832,
          698.5853943606064,
          707.4984750130135,
          801.2963588984035,
          1018.3694581698994,
          1254.7070111655871,
          1269.6232738234066,
          458.4402335617165
         ],
         "yaxis": "y"
        },
        {
         "name": "Exports Trend",
         "type": "scatter",
         "x": [
          "2022-04-01T00:00:00",
          "2022-07-01T00:00:00",
          "2022-10-01T00:00:00",
          "2023-01-01T00:00:00",
          "2023-04-01T00:00:00",
          "2023-07-01T00:00:00",
          "2023-10-01T00:00:00",
          "2024-01-01T00:00:00",
          "2024-04-01T00:00:00",
          "2024-07-01T00:00:00",
          "2024-10-01T00:00:00",
          "2025-01-01T00:00:00"
         ],
         "xaxis": "x3",
         "y": [
          null,
          null,
          492.9791770710548,
          616.8183167226413,
          714.0672314044677,
          771.3864826657591,
          792.8549087637912,
          875.9526237111033,
          1015.7334256630251,
          1043.1420098472383,
          null,
          null
         ],
         "yaxis": "y3"
        },
        {
         "name": "Exports Seasonal",
         "type": "scatter",
         "x": [
          "2022-04-01T00:00:00",
          "2022-07-01T00:00:00",
          "2022-10-01T00:00:00",
          "2023-01-01T00:00:00",
          "2023-04-01T00:00:00",
          "2023-07-01T00:00:00",
          "2023-10-01T00:00:00",
          "2024-01-01T00:00:00",
          "2024-04-01T00:00:00",
          "2024-07-01T00:00:00",
          "2024-10-01T00:00:00",
          "2025-01-01T00:00:00"
         ],
         "xaxis": "x5",
         "y": [
          84.45499062740762,
          54.697868884610756,
          -147.83600756619225,
          8.68314805417387,
          84.45499062740762,
          54.697868884610756,
          -147.83600756619225,
          8.68314805417387,
          84.45499062740762,
          54.697868884610756,
          -147.83600756619225,
          8.68314805417387
         ],
         "yaxis": "y5"
        },
        {
         "name": "Exports Residual",
         "type": "scatter",
         "x": [
          "2022-04-01T00:00:00",
          "2022-07-01T00:00:00",
          "2022-10-01T00:00:00",
          "2023-01-01T00:00:00",
          "2023-04-01T00:00:00",
          "2023-07-01T00:00:00",
          "2023-10-01T00:00:00",
          "2024-01-01T00:00:00",
          "2024-04-01T00:00:00",
          "2024-07-01T00:00:00",
          "2024-10-01T00:00:00",
          "2025-01-01T00:00:00"
         ],
         "xaxis": "x7",
         "y": [
          null,
          null,
          -33.11139857143999,
          112.70758811084832,
          111.18713336450784,
          -127.49895718976344,
          62.47957381541457,
          -83.33941286687374,
          -81.81895812053327,
          156.86713243373802,
          null,
          null
         ],
         "yaxis": "y7"
        },
        {
         "name": "Imports Observed",
         "type": "scatter",
         "x": [
          "2022-04-01T00:00:00",
          "2022-07-01T00:00:00",
          "2022-10-01T00:00:00",
          "2023-01-01T00:00:00",
          "2023-04-01T00:00:00",
          "2023-07-01T00:00:00",
          "2023-10-01T00:00:00",
          "2024-01-01T00:00:00",
          "2024-04-01T00:00:00",
          "2024-07-01T00:00:00",
          "2024-10-01T00:00:00",
          "2025-01-01T00:00:00"
         ],
         "xaxis": "x2",
         "y": [
          853.6931815795832,
          877.3500901197733,
          742.7854183102794,
          1853.0112845554147,
          2046.0631831362205,
          2049.91518839299,
          1885.1472407395925,
          1786.0111725767817,
          2136.2202789560524,
          2398.21576840186,
          2228.358345897104,
          869.7892320581909
         ],
         "yaxis": "y2"
        },
        {
         "name": "Imports Trend",
         "type": "scatter",
         "x": [
          "2022-04-01T00:00:00",
          "2022-07-01T00:00:00",
          "2022-10-01T00:00:00",
          "2023-01-01T00:00:00",
          "2023-04-01T00:00:00",
          "2023-07-01T00:00:00",
          "2023-10-01T00:00:00",
          "2024-01-01T00:00:00",
          "2024-04-01T00:00:00",
          "2024-07-01T00:00:00",
          "2024-10-01T00:00:00",
          "2025-01-01T00:00:00"
         ],
         "xaxis": "x4",
         "y": [
          null,
          null,
          1230.7562438358423,
          1526.373131314574,
          1815.7389964023903,
          1950.1592102087252,
          1953.0538331888752,
          2007.861042667463,
          2094.3000033132607,
          2022.6736488931258,
          null,
          null
         ],
         "yaxis": "y4"
        },
        {
         "name": "Imports Seasonal",
         "type": "scatter",
         "x": [
          "2022-04-01T00:00:00",
          "2022-07-01T00:00:00",
          "2022-10-01T00:00:00",
          "2023-01-01T00:00:00",
          "2023-04-01T00:00:00",
          "2023-07-01T00:00:00",
          "2023-10-01T00:00:00",
          "2024-01-01T00:00:00",
          "2024-04-01T00:00:00",
          "2024-07-01T00:00:00",
          "2024-10-01T00:00:00",
          "2025-01-01T00:00:00"
         ],
         "xaxis": "x6",
         "y": [
          99.06555303269413,
          200.59237069088255,
          -314.9953871430396,
          15.337463419462935,
          99.06555303269413,
          200.59237069088255,
          -314.9953871430396,
          15.337463419462935,
          99.06555303269413,
          200.59237069088255,
          -314.9953871430396,
          15.337463419462935
         ],
         "yaxis": "y6"
        },
        {
         "name": "Imports Residual",
         "type": "scatter",
         "x": [
          "2022-04-01T00:00:00",
          "2022-07-01T00:00:00",
          "2022-10-01T00:00:00",
          "2023-01-01T00:00:00",
          "2023-04-01T00:00:00",
          "2023-07-01T00:00:00",
          "2023-10-01T00:00:00",
          "2024-01-01T00:00:00",
          "2024-04-01T00:00:00",
          "2024-07-01T00:00:00",
          "2024-10-01T00:00:00",
          "2025-01-01T00:00:00"
         ],
         "xaxis": "x8",
         "y": [
          null,
          null,
          -172.9754383825233,
          311.3006898213777,
          131.25863370113603,
          -100.83639250661787,
          247.08879469375688,
          -237.18733351014413,
          -57.14527738990243,
          174.94974881785146,
          null,
          null
         ],
         "yaxis": "y8"
        }
       ],
       "layout": {
        "annotations": [
         {
          "font": {
           "size": 16
          },
          "showarrow": false,
          "text": "Exports - Observed",
          "x": 0.225,
          "xanchor": "center",
          "xref": "paper",
          "y": 1,
          "yanchor": "bottom",
          "yref": "paper"
         },
         {
          "font": {
           "size": 16
          },
          "showarrow": false,
          "text": "Imports - Observed",
          "x": 0.775,
          "xanchor": "center",
          "xref": "paper",
          "y": 1,
          "yanchor": "bottom",
          "yref": "paper"
         },
         {
          "font": {
           "size": 16
          },
          "showarrow": false,
          "text": "Exports - Trend",
          "x": 0.225,
          "xanchor": "center",
          "xref": "paper",
          "y": 0.73,
          "yanchor": "bottom",
          "yref": "paper"
         },
         {
          "font": {
           "size": 16
          },
          "showarrow": false,
          "text": "Imports - Trend",
          "x": 0.775,
          "xanchor": "center",
          "xref": "paper",
          "y": 0.73,
          "yanchor": "bottom",
          "yref": "paper"
         },
         {
          "font": {
           "size": 16
          },
          "showarrow": false,
          "text": "Exports - Seasonal",
          "x": 0.225,
          "xanchor": "center",
          "xref": "paper",
          "y": 0.46,
          "yanchor": "bottom",
          "yref": "paper"
         },
         {
          "font": {
           "size": 16
          },
          "showarrow": false,
          "text": "Imports - Seasonal",
          "x": 0.775,
          "xanchor": "center",
          "xref": "paper",
          "y": 0.46,
          "yanchor": "bottom",
          "yref": "paper"
         },
         {
          "font": {
           "size": 16
          },
          "showarrow": false,
          "text": "Exports - Residual",
          "x": 0.225,
          "xanchor": "center",
          "xref": "paper",
          "y": 0.19,
          "yanchor": "bottom",
          "yref": "paper"
         },
         {
          "font": {
           "size": 16
          },
          "showarrow": false,
          "text": "Imports - Residual",
          "x": 0.775,
          "xanchor": "center",
          "xref": "paper",
          "y": 0.19,
          "yanchor": "bottom",
          "yref": "paper"
         }
        ],
        "height": 1000,
        "showlegend": false,
        "template": {
         "data": {
          "bar": [
           {
            "error_x": {
             "color": "#2a3f5f"
            },
            "error_y": {
             "color": "#2a3f5f"
            },
            "marker": {
             "line": {
              "color": "#E5ECF6",
              "width": 0.5
             },
             "pattern": {
              "fillmode": "overlay",
              "size": 10,
              "solidity": 0.2
             }
            },
            "type": "bar"
           }
          ],
          "barpolar": [
           {
            "marker": {
             "line": {
              "color": "#E5ECF6",
              "width": 0.5
             },
             "pattern": {
              "fillmode": "overlay",
              "size": 10,
              "solidity": 0.2
             }
            },
            "type": "barpolar"
           }
          ],
          "carpet": [
           {
            "aaxis": {
             "endlinecolor": "#2a3f5f",
             "gridcolor": "white",
             "linecolor": "white",
             "minorgridcolor": "white",
             "startlinecolor": "#2a3f5f"
            },
            "baxis": {
             "endlinecolor": "#2a3f5f",
             "gridcolor": "white",
             "linecolor": "white",
             "minorgridcolor": "white",
             "startlinecolor": "#2a3f5f"
            },
            "type": "carpet"
           }
          ],
          "choropleth": [
           {
            "colorbar": {
             "outlinewidth": 0,
             "ticks": ""
            },
            "type": "choropleth"
           }
          ],
          "contour": [
           {
            "colorbar": {
             "outlinewidth": 0,
             "ticks": ""
            },
            "colorscale": [
             [
              0,
              "#0d0887"
             ],
             [
              0.1111111111111111,
              "#46039f"
             ],
             [
              0.2222222222222222,
              "#7201a8"
             ],
             [
              0.3333333333333333,
              "#9c179e"
             ],
             [
              0.4444444444444444,
              "#bd3786"
             ],
             [
              0.5555555555555556,
              "#d8576b"
             ],
             [
              0.6666666666666666,
              "#ed7953"
             ],
             [
              0.7777777777777778,
              "#fb9f3a"
             ],
             [
              0.8888888888888888,
              "#fdca26"
             ],
             [
              1,
              "#f0f921"
             ]
            ],
            "type": "contour"
           }
          ],
          "contourcarpet": [
           {
            "colorbar": {
             "outlinewidth": 0,
             "ticks": ""
            },
            "type": "contourcarpet"
           }
          ],
          "heatmap": [
           {
            "colorbar": {
             "outlinewidth": 0,
             "ticks": ""
            },
            "colorscale": [
             [
              0,
              "#0d0887"
             ],
             [
              0.1111111111111111,
              "#46039f"
             ],
             [
              0.2222222222222222,
              "#7201a8"
             ],
             [
              0.3333333333333333,
              "#9c179e"
             ],
             [
              0.4444444444444444,
              "#bd3786"
             ],
             [
              0.5555555555555556,
              "#d8576b"
             ],
             [
              0.6666666666666666,
              "#ed7953"
             ],
             [
              0.7777777777777778,
              "#fb9f3a"
             ],
             [
              0.8888888888888888,
              "#fdca26"
             ],
             [
              1,
              "#f0f921"
             ]
            ],
            "type": "heatmap"
           }
          ],
          "heatmapgl": [
           {
            "colorbar": {
             "outlinewidth": 0,
             "ticks": ""
            },
            "colorscale": [
             [
              0,
              "#0d0887"
             ],
             [
              0.1111111111111111,
              "#46039f"
             ],
             [
              0.2222222222222222,
              "#7201a8"
             ],
             [
              0.3333333333333333,
              "#9c179e"
             ],
             [
              0.4444444444444444,
              "#bd3786"
             ],
             [
              0.5555555555555556,
              "#d8576b"
             ],
             [
              0.6666666666666666,
              "#ed7953"
             ],
             [
              0.7777777777777778,
              "#fb9f3a"
             ],
             [
              0.8888888888888888,
              "#fdca26"
             ],
             [
              1,
              "#f0f921"
             ]
            ],
            "type": "heatmapgl"
           }
          ],
          "histogram": [
           {
            "marker": {
             "pattern": {
              "fillmode": "overlay",
              "size": 10,
              "solidity": 0.2
             }
            },
            "type": "histogram"
           }
          ],
          "histogram2d": [
           {
            "colorbar": {
             "outlinewidth": 0,
             "ticks": ""
            },
            "colorscale": [
             [
              0,
              "#0d0887"
             ],
             [
              0.1111111111111111,
              "#46039f"
             ],
             [
              0.2222222222222222,
              "#7201a8"
             ],
             [
              0.3333333333333333,
              "#9c179e"
             ],
             [
              0.4444444444444444,
              "#bd3786"
             ],
             [
              0.5555555555555556,
              "#d8576b"
             ],
             [
              0.6666666666666666,
              "#ed7953"
             ],
             [
              0.7777777777777778,
              "#fb9f3a"
             ],
             [
              0.8888888888888888,
              "#fdca26"
             ],
             [
              1,
              "#f0f921"
             ]
            ],
            "type": "histogram2d"
           }
          ],
          "histogram2dcontour": [
           {
            "colorbar": {
             "outlinewidth": 0,
             "ticks": ""
            },
            "colorscale": [
             [
              0,
              "#0d0887"
             ],
             [
              0.1111111111111111,
              "#46039f"
             ],
             [
              0.2222222222222222,
              "#7201a8"
             ],
             [
              0.3333333333333333,
              "#9c179e"
             ],
             [
              0.4444444444444444,
              "#bd3786"
             ],
             [
              0.5555555555555556,
              "#d8576b"
             ],
             [
              0.6666666666666666,
              "#ed7953"
             ],
             [
              0.7777777777777778,
              "#fb9f3a"
             ],
             [
              0.8888888888888888,
              "#fdca26"
             ],
             [
              1,
              "#f0f921"
             ]
            ],
            "type": "histogram2dcontour"
           }
          ],
          "mesh3d": [
           {
            "colorbar": {
             "outlinewidth": 0,
             "ticks": ""
            },
            "type": "mesh3d"
           }
          ],
          "parcoords": [
           {
            "line": {
             "colorbar": {
              "outlinewidth": 0,
              "ticks": ""
             }
            },
            "type": "parcoords"
           }
          ],
          "pie": [
           {
            "automargin": true,
            "type": "pie"
           }
          ],
          "scatter": [
           {
            "fillpattern": {
             "fillmode": "overlay",
             "size": 10,
             "solidity": 0.2
            },
            "type": "scatter"
           }
          ],
          "scatter3d": [
           {
            "line": {
             "colorbar": {
              "outlinewidth": 0,
              "ticks": ""
             }
            },
            "marker": {
             "colorbar": {
              "outlinewidth": 0,
              "ticks": ""
             }
            },
            "type": "scatter3d"
           }
          ],
          "scattercarpet": [
           {
            "marker": {
             "colorbar": {
              "outlinewidth": 0,
              "ticks": ""
             }
            },
            "type": "scattercarpet"
           }
          ],
          "scattergeo": [
           {
            "marker": {
             "colorbar": {
              "outlinewidth": 0,
              "ticks": ""
             }
            },
            "type": "scattergeo"
           }
          ],
          "scattergl": [
           {
            "marker": {
             "colorbar": {
              "outlinewidth": 0,
              "ticks": ""
             }
            },
            "type": "scattergl"
           }
          ],
          "scattermapbox": [
           {
            "marker": {
             "colorbar": {
              "outlinewidth": 0,
              "ticks": ""
             }
            },
            "type": "scattermapbox"
           }
          ],
          "scatterpolar": [
           {
            "marker": {
             "colorbar": {
              "outlinewidth": 0,
              "ticks": ""
             }
            },
            "type": "scatterpolar"
           }
          ],
          "scatterpolargl": [
           {
            "marker": {
             "colorbar": {
              "outlinewidth": 0,
              "ticks": ""
             }
            },
            "type": "scatterpolargl"
           }
          ],
          "scatterternary": [
           {
            "marker": {
             "colorbar": {
              "outlinewidth": 0,
              "ticks": ""
             }
            },
            "type": "scatterternary"
           }
          ],
          "surface": [
           {
            "colorbar": {
             "outlinewidth": 0,
             "ticks": ""
            },
            "colorscale": [
             [
              0,
              "#0d0887"
             ],
             [
              0.1111111111111111,
              "#46039f"
             ],
             [
              0.2222222222222222,
              "#7201a8"
             ],
             [
              0.3333333333333333,
              "#9c179e"
             ],
             [
              0.4444444444444444,
              "#bd3786"
             ],
             [
              0.5555555555555556,
              "#d8576b"
             ],
             [
              0.6666666666666666,
              "#ed7953"
             ],
             [
              0.7777777777777778,
              "#fb9f3a"
             ],
             [
              0.8888888888888888,
              "#fdca26"
             ],
             [
              1,
              "#f0f921"
             ]
            ],
            "type": "surface"
           }
          ],
          "table": [
           {
            "cells": {
             "fill": {
              "color": "#EBF0F8"
             },
             "line": {
              "color": "white"
             }
            },
            "header": {
             "fill": {
              "color": "#C8D4E3"
             },
             "line": {
              "color": "white"
             }
            },
            "type": "table"
           }
          ]
         },
         "layout": {
          "annotationdefaults": {
           "arrowcolor": "#2a3f5f",
           "arrowhead": 0,
           "arrowwidth": 1
          },
          "autotypenumbers": "strict",
          "coloraxis": {
           "colorbar": {
            "outlinewidth": 0,
            "ticks": ""
           }
          },
          "colorscale": {
           "diverging": [
            [
             0,
             "#8e0152"
            ],
            [
             0.1,
             "#c51b7d"
            ],
            [
             0.2,
             "#de77ae"
            ],
            [
             0.3,
             "#f1b6da"
            ],
            [
             0.4,
             "#fde0ef"
            ],
            [
             0.5,
             "#f7f7f7"
            ],
            [
             0.6,
             "#e6f5d0"
            ],
            [
             0.7,
             "#b8e186"
            ],
            [
             0.8,
             "#7fbc41"
            ],
            [
             0.9,
             "#4d9221"
            ],
            [
             1,
             "#276419"
            ]
           ],
           "sequential": [
            [
             0,
             "#0d0887"
            ],
            [
             0.1111111111111111,
             "#46039f"
            ],
            [
             0.2222222222222222,
             "#7201a8"
            ],
            [
             0.3333333333333333,
             "#9c179e"
            ],
            [
             0.4444444444444444,
             "#bd3786"
            ],
            [
             0.5555555555555556,
             "#d8576b"
            ],
            [
             0.6666666666666666,
             "#ed7953"
            ],
            [
             0.7777777777777778,
             "#fb9f3a"
            ],
            [
             0.8888888888888888,
             "#fdca26"
            ],
            [
             1,
             "#f0f921"
            ]
           ],
           "sequentialminus": [
            [
             0,
             "#0d0887"
            ],
            [
             0.1111111111111111,
             "#46039f"
            ],
            [
             0.2222222222222222,
             "#7201a8"
            ],
            [
             0.3333333333333333,
             "#9c179e"
            ],
            [
             0.4444444444444444,
             "#bd3786"
            ],
            [
             0.5555555555555556,
             "#d8576b"
            ],
            [
             0.6666666666666666,
             "#ed7953"
            ],
            [
             0.7777777777777778,
             "#fb9f3a"
            ],
            [
             0.8888888888888888,
             "#fdca26"
            ],
            [
             1,
             "#f0f921"
            ]
           ]
          },
          "colorway": [
           "#636efa",
           "#EF553B",
           "#00cc96",
           "#ab63fa",
           "#FFA15A",
           "#19d3f3",
           "#FF6692",
           "#B6E880",
           "#FF97FF",
           "#FECB52"
          ],
          "font": {
           "color": "#2a3f5f"
          },
          "geo": {
           "bgcolor": "white",
           "lakecolor": "white",
           "landcolor": "#E5ECF6",
           "showlakes": true,
           "showland": true,
           "subunitcolor": "white"
          },
          "hoverlabel": {
           "align": "left"
          },
          "hovermode": "closest",
          "mapbox": {
           "style": "light"
          },
          "paper_bgcolor": "white",
          "plot_bgcolor": "#E5ECF6",
          "polar": {
           "angularaxis": {
            "gridcolor": "white",
            "linecolor": "white",
            "ticks": ""
           },
           "bgcolor": "#E5ECF6",
           "radialaxis": {
            "gridcolor": "white",
            "linecolor": "white",
            "ticks": ""
           }
          },
          "scene": {
           "xaxis": {
            "backgroundcolor": "#E5ECF6",
            "gridcolor": "white",
            "gridwidth": 2,
            "linecolor": "white",
            "showbackground": true,
            "ticks": "",
            "zerolinecolor": "white"
           },
           "yaxis": {
            "backgroundcolor": "#E5ECF6",
            "gridcolor": "white",
            "gridwidth": 2,
            "linecolor": "white",
            "showbackground": true,
            "ticks": "",
            "zerolinecolor": "white"
           },
           "zaxis": {
            "backgroundcolor": "#E5ECF6",
            "gridcolor": "white",
            "gridwidth": 2,
            "linecolor": "white",
            "showbackground": true,
            "ticks": "",
            "zerolinecolor": "white"
           }
          },
          "shapedefaults": {
           "line": {
            "color": "#2a3f5f"
           }
          },
          "ternary": {
           "aaxis": {
            "gridcolor": "white",
            "linecolor": "white",
            "ticks": ""
           },
           "baxis": {
            "gridcolor": "white",
            "linecolor": "white",
            "ticks": ""
           },
           "bgcolor": "#E5ECF6",
           "caxis": {
            "gridcolor": "white",
            "linecolor": "white",
            "ticks": ""
           }
          },
          "title": {
           "x": 0.05
          },
          "xaxis": {
           "automargin": true,
           "gridcolor": "white",
           "linecolor": "white",
           "ticks": "",
           "title": {
            "standoff": 15
           },
           "zerolinecolor": "white",
           "zerolinewidth": 2
          },
          "yaxis": {
           "automargin": true,
           "gridcolor": "white",
           "linecolor": "white",
           "ticks": "",
           "title": {
            "standoff": 15
           },
           "zerolinecolor": "white",
           "zerolinewidth": 2
          }
         }
        },
        "title": {
         "text": "Time Series Decomposition: Exports vs Imports"
        },
        "xaxis": {
         "anchor": "y",
         "domain": [
          0,
          0.45
         ]
        },
        "xaxis2": {
         "anchor": "y2",
         "domain": [
          0.55,
          1
         ]
        },
        "xaxis3": {
         "anchor": "y3",
         "domain": [
          0,
          0.45
         ]
        },
        "xaxis4": {
         "anchor": "y4",
         "domain": [
          0.55,
          1
         ]
        },
        "xaxis5": {
         "anchor": "y5",
         "domain": [
          0,
          0.45
         ]
        },
        "xaxis6": {
         "anchor": "y6",
         "domain": [
          0.55,
          1
         ]
        },
        "xaxis7": {
         "anchor": "y7",
         "domain": [
          0,
          0.45
         ]
        },
        "xaxis8": {
         "anchor": "y8",
         "domain": [
          0.55,
          1
         ]
        },
        "yaxis": {
         "anchor": "x",
         "domain": [
          0.81,
          1
         ]
        },
        "yaxis2": {
         "anchor": "x2",
         "domain": [
          0.81,
          1
         ]
        },
        "yaxis3": {
         "anchor": "x3",
         "domain": [
          0.54,
          0.73
         ]
        },
        "yaxis4": {
         "anchor": "x4",
         "domain": [
          0.54,
          0.73
         ]
        },
        "yaxis5": {
         "anchor": "x5",
         "domain": [
          0.27,
          0.46
         ]
        },
        "yaxis6": {
         "anchor": "x6",
         "domain": [
          0.27,
          0.46
         ]
        },
        "yaxis7": {
         "anchor": "x7",
         "domain": [
          0,
          0.19
         ]
        },
        "yaxis8": {
         "anchor": "x8",
         "domain": [
          0,
          0.19
         ]
        }
       }
      }
     },
     "metadata": {},
     "output_type": "display_data"
    },
    {
     "name": "stdout",
     "output_type": "stream",
     "text": [
      "\n",
      "💾 Time series decomposition saved as 'visualizations/rwanda_trade_decomposition.html'\n"
     ]
    }
   ],
   "source": [
    "# Time series decomposition\n",
    "from statsmodels.tsa.seasonal import seasonal_decompose\n",
    "import plotly.graph_objects as go\n",
    "from plotly.subplots import make_subplots\n",
    "\n",
    "print(\"📈 TIME SERIES DECOMPOSITION\")\n",
    "print(\"=\"*70)\n",
    "\n",
    "# Convert quarter to datetime for time series\n",
    "def quarter_to_datetime(quarter_str):\n",
    "    year, q = quarter_str.split('Q')\n",
    "    month = int(q) * 3 - 2  # Convert quarter to starting month\n",
    "    return pd.Timestamp(f'{year}-{month:02d}-01')\n",
    "\n",
    "trade_df['date'] = trade_df['quarter'].apply(quarter_to_datetime)\n",
    "trade_df = trade_df.sort_values('date').set_index('date')\n",
    "\n",
    "# Perform seasonal decomposition\n",
    "decomposition_exports = seasonal_decompose(trade_df['export_value'], model='additive', period=4)\n",
    "decomposition_imports = seasonal_decompose(trade_df['import_value'], model='additive', period=4)\n",
    "\n",
    "# Create subplots for decomposition\n",
    "fig = make_subplots(\n",
    "    rows=4, cols=2,\n",
    "    subplot_titles=('Exports - Observed', 'Imports - Observed',\n",
    "                   'Exports - Trend', 'Imports - Trend',\n",
    "                   'Exports - Seasonal', 'Imports - Seasonal',\n",
    "                   'Exports - Residual', 'Imports - Residual'),\n",
    "    vertical_spacing=0.08\n",
    ")\n",
    "\n",
    "# Export decomposition\n",
    "fig.add_trace(go.Scatter(x=decomposition_exports.observed.index, \n",
    "                        y=decomposition_exports.observed.values, name='Exports Observed'),\n",
    "              row=1, col=1)\n",
    "fig.add_trace(go.Scatter(x=decomposition_exports.trend.index, \n",
    "                        y=decomposition_exports.trend.values, name='Exports Trend'),\n",
    "              row=2, col=1)\n",
    "fig.add_trace(go.Scatter(x=decomposition_exports.seasonal.index, \n",
    "                        y=decomposition_exports.seasonal.values, name='Exports Seasonal'),\n",
    "              row=3, col=1)\n",
    "fig.add_trace(go.Scatter(x=decomposition_exports.resid.index, \n",
    "                        y=decomposition_exports.resid.values, name='Exports Residual'),\n",
    "              row=4, col=1)\n",
    "\n",
    "# Import decomposition\n",
    "fig.add_trace(go.Scatter(x=decomposition_imports.observed.index, \n",
    "                        y=decomposition_imports.observed.values, name='Imports Observed'),\n",
    "              row=1, col=2)\n",
    "fig.add_trace(go.Scatter(x=decomposition_imports.trend.index, \n",
    "                        y=decomposition_imports.trend.values, name='Imports Trend'),\n",
    "              row=2, col=2)\n",
    "fig.add_trace(go.Scatter(x=decomposition_imports.seasonal.index, \n",
    "                        y=decomposition_imports.seasonal.values, name='Imports Seasonal'),\n",
    "              row=3, col=2)\n",
    "fig.add_trace(go.Scatter(x=decomposition_imports.resid.index, \n",
    "                        y=decomposition_imports.resid.values, name='Imports Residual'),\n",
    "              row=4, col=2)\n",
    "\n",
    "fig.update_layout(\n",
    "    title='Time Series Decomposition: Exports vs Imports',\n",
    "    height=1000,\n",
    "    showlegend=False\n",
    ")\n",
    "\n",
    "fig.show()\n",
    "\n",
    "# Save decomposition visualization\n",
    "fig.write_html('visualizations/rwanda_trade_decomposition.html')\n",
    "print(\"\\n💾 Time series decomposition saved as 'visualizations/rwanda_trade_decomposition.html'\")"
   ]
  },
  {
   "cell_type": "markdown",
   "metadata": {},
   "source": [
    "## 6. Network Analysis of Trade Relationships"
   ]
  },
  {
   "cell_type": "code",
   "execution_count": 7,
   "metadata": {},
   "outputs": [
    {
     "name": "stdout",
     "output_type": "stream",
     "text": [
      "🌐 TRADE NETWORK ANALYSIS\n",
      "======================================================================\n",
      "\n",
      "📊 Network data created with 27 relationships\n",
      "📈 Unique countries in network: 29\n"
     ]
    },
    {
     "data": {
      "application/vnd.plotly.v1+json": {
       "config": {
        "plotlyServerURL": "https://plot.ly"
       },
       "data": [
        {
         "hovertemplate": "<b>Netherlands</b><br>Total Trade: $96.70M<extra></extra>",
         "lat": [
          52.1326
         ],
         "lon": [
          5.2913
         ],
         "marker": {
          "color": "orange",
          "line": {
           "color": "black",
           "width": 2
          },
          "size": 3.9708588256905837
         },
         "mode": "markers+text",
         "name": "Netherlands",
         "showlegend": false,
         "text": [
          "Netherlands"
         ],
         "textposition": "top center",
         "type": "scattergeo"
        },
        {
         "hovertemplate": "<b>Democratic Republic of the Congo</b><br>Total Trade: $1302.39M<extra></extra>",
         "lat": [
          -4.0383
         ],
         "lon": [
          21.7587
         ],
         "marker": {
          "color": "orange",
          "line": {
           "color": "black",
           "width": 2
          },
          "size": 6.229484605494661
         },
         "mode": "markers+text",
         "name": "Democratic Republic of the Congo",
         "showlegend": false,
         "text": [
          "Democratic Republic of the Congo"
         ],
         "textposition": "top center",
         "type": "scattergeo"
        },
        {
         "hovertemplate": "<b>Kenya</b><br>Total Trade: $3055.48M<extra></extra>",
         "lat": [
          -0.0236
         ],
         "lon": [
          37.9062
         ],
         "marker": {
          "color": "orange",
          "line": {
           "color": "black",
           "width": 2
          },
          "size": 6.970159857355609
         },
         "mode": "markers+text",
         "name": "Kenya",
         "showlegend": false,
         "text": [
          "Kenya"
         ],
         "textposition": "top center",
         "type": "scattergeo"
        },
        {
         "hovertemplate": "<b>Ethiopia</b><br>Total Trade: $49.13M<extra></extra>",
         "lat": [
          9.145
         ],
         "lon": [
          40.4897
         ],
         "marker": {
          "color": "orange",
          "line": {
           "color": "black",
           "width": 2
          },
          "size": 3.3827604814217604
         },
         "mode": "markers+text",
         "name": "Ethiopia",
         "showlegend": false,
         "text": [
          "Ethiopia"
         ],
         "textposition": "top center",
         "type": "scattergeo"
        },
        {
         "hovertemplate": "<b>Uganda</b><br>Total Trade: $1204.48M<extra></extra>",
         "lat": [
          1.3733
         ],
         "lon": [
          32.2903
         ],
         "marker": {
          "color": "orange",
          "line": {
           "color": "black",
           "width": 2
          },
          "size": 6.161599098173879
         },
         "mode": "markers+text",
         "name": "Uganda",
         "showlegend": false,
         "text": [
          "Uganda"
         ],
         "textposition": "top center",
         "type": "scattergeo"
        },
        {
         "hovertemplate": "<b>China</b><br>Total Trade: $394.69M<extra></extra>",
         "lat": [
          35.8617
         ],
         "lon": [
          104.1954
         ],
         "marker": {
          "color": "orange",
          "line": {
           "color": "black",
           "width": 2
          },
          "size": 5.192502291034091
         },
         "mode": "markers+text",
         "name": "China",
         "showlegend": false,
         "text": [
          "China"
         ],
         "textposition": "top center",
         "type": "scattergeo"
        },
        {
         "hovertemplate": "<b>South Sudan</b><br>Total Trade: $85.78M<extra></extra>",
         "lat": [
          6.877
         ],
         "lon": [
          31.307
         ],
         "marker": {
          "color": "orange",
          "line": {
           "color": "black",
           "width": 2
          },
          "size": 3.8667496491449573
         },
         "mode": "markers+text",
         "name": "South Sudan",
         "showlegend": false,
         "text": [
          "South Sudan"
         ],
         "textposition": "top center",
         "type": "scattergeo"
        },
        {
         "hovertemplate": "<b>United Kingdom</b><br>Total Trade: $201.10M<extra></extra>",
         "lat": [
          55.3781
         ],
         "lon": [
          -3.436
         ],
         "marker": {
          "color": "orange",
          "line": {
           "color": "black",
           "width": 2
          },
          "size": 4.60681429942155
         },
         "mode": "markers+text",
         "name": "United Kingdom",
         "showlegend": false,
         "text": [
          "United Kingdom"
         ],
         "textposition": "top center",
         "type": "scattergeo"
        },
        {
         "hovertemplate": "<b>Hong Kong</b><br>Total Trade: $182.17M<extra></extra>",
         "lat": [
          22.3193
         ],
         "lon": [
          114.1694
         ],
         "marker": {
          "color": "orange",
          "line": {
           "color": "black",
           "width": 2
          },
          "size": 4.5209561721743245
         },
         "mode": "markers+text",
         "name": "Hong Kong",
         "showlegend": false,
         "text": [
          "Hong Kong"
         ],
         "textposition": "top center",
         "type": "scattergeo"
        },
        {
         "hovertemplate": "<b>United States</b><br>Total Trade: $581.18M<extra></extra>",
         "lat": [
          37.0902
         ],
         "lon": [
          -95.7129
         ],
         "marker": {
          "color": "orange",
          "line": {
           "color": "black",
           "width": 2
          },
          "size": 5.528615884477334
         },
         "mode": "markers+text",
         "name": "United States",
         "showlegend": false,
         "text": [
          "United States"
         ],
         "textposition": "top center",
         "type": "scattergeo"
        },
        {
         "hovertemplate": "<b>Congo</b><br>Total Trade: $62.69M<extra></extra>",
         "lat": [
          -0.228
         ],
         "lon": [
          15.8277
         ],
         "marker": {
          "color": "orange",
          "line": {
           "color": "black",
           "width": 2
          },
          "size": 3.594441290775671
         },
         "mode": "markers+text",
         "name": "Congo",
         "showlegend": false,
         "text": [
          "Congo"
         ],
         "textposition": "top center",
         "type": "scattergeo"
        },
        {
         "hovertemplate": "<b>Singapore</b><br>Total Trade: $87.20M<extra></extra>",
         "lat": [
          1.3521
         ],
         "lon": [
          103.8198
         ],
         "marker": {
          "color": "orange",
          "line": {
           "color": "black",
           "width": 2
          },
          "size": 3.881046379733003
         },
         "mode": "markers+text",
         "name": "Singapore",
         "showlegend": false,
         "text": [
          "Singapore"
         ],
         "textposition": "top center",
         "type": "scattergeo"
        },
        {
         "hovertemplate": "<b>Luxembourg</b><br>Total Trade: $165.56M<extra></extra>",
         "lat": [
          49.8153
         ],
         "lon": [
          6.1296
         ],
         "marker": {
          "color": "orange",
          "line": {
           "color": "black",
           "width": 2
          },
          "size": 4.437930728939621
         },
         "mode": "markers+text",
         "name": "Luxembourg",
         "showlegend": false,
         "text": [
          "Luxembourg"
         ],
         "textposition": "top center",
         "type": "scattergeo"
        },
        {
         "hovertemplate": "<b>Germany</b><br>Total Trade: $539.51M<extra></extra>",
         "lat": [
          51.1657
         ],
         "lon": [
          10.4515
         ],
         "marker": {
          "color": "orange",
          "line": {
           "color": "black",
           "width": 2
          },
          "size": 5.463996161504958
         },
         "mode": "markers+text",
         "name": "Germany",
         "showlegend": false,
         "text": [
          "Germany"
         ],
         "textposition": "top center",
         "type": "scattergeo"
        },
        {
         "hovertemplate": "<b>Belgium</b><br>Total Trade: $530.60M<extra></extra>",
         "lat": [
          50.5039
         ],
         "lon": [
          4.4699
         ],
         "marker": {
          "color": "orange",
          "line": {
           "color": "black",
           "width": 2
          },
          "size": 5.449530888094269
         },
         "mode": "markers+text",
         "name": "Belgium",
         "showlegend": false,
         "text": [
          "Belgium"
         ],
         "textposition": "top center",
         "type": "scattergeo"
        },
        {
         "hovertemplate": "<b>Tanzania</b><br>Total Trade: $4255.12M<extra></extra>",
         "lat": [
          -6.3728
         ],
         "lon": [
          34.8924
         ],
         "marker": {
          "color": "orange",
          "line": {
           "color": "black",
           "width": 2
          },
          "size": 7.25782460785334
         },
         "mode": "markers+text",
         "name": "Tanzania",
         "showlegend": false,
         "text": [
          "Tanzania"
         ],
         "textposition": "top center",
         "type": "scattergeo"
        },
        {
         "hovertemplate": "<b>Thailand</b><br>Total Trade: $36.40M<extra></extra>",
         "lat": [
          15.87
         ],
         "lon": [
          100.9925
         ],
         "marker": {
          "color": "orange",
          "line": {
           "color": "black",
           "width": 2
          },
          "size": 3.122147637887788
         },
         "mode": "markers+text",
         "name": "Thailand",
         "showlegend": false,
         "text": [
          "Thailand"
         ],
         "textposition": "top center",
         "type": "scattergeo"
        },
        {
         "hovertemplate": "<b>United Arab Emirates</b><br>Total Trade: $7750.63M<extra></extra>",
         "lat": [
          23.4241
         ],
         "lon": [
          53.8478
         ],
         "marker": {
          "color": "orange",
          "line": {
           "color": "black",
           "width": 2
          },
          "size": 7.77867404361777
         },
         "mode": "markers+text",
         "name": "United Arab Emirates",
         "showlegend": false,
         "text": [
          "United Arab Emirates"
         ],
         "textposition": "top center",
         "type": "scattergeo"
        },
        {
         "hovertemplate": "<b>Pakistan</b><br>Total Trade: $159.55M<extra></extra>",
         "lat": [
          30.3753
         ],
         "lon": [
          69.3451
         ],
         "marker": {
          "color": "orange",
          "line": {
           "color": "black",
           "width": 2
          },
          "size": 4.405780376776988
         },
         "mode": "markers+text",
         "name": "Pakistan",
         "showlegend": false,
         "text": [
          "Pakistan"
         ],
         "textposition": "top center",
         "type": "scattergeo"
        },
        {
         "hovertemplate": "<b>India</b><br>Total Trade: $3025.14M<extra></extra>",
         "lat": [
          20.5937
         ],
         "lon": [
          78.9629
         ],
         "marker": {
          "color": "orange",
          "line": {
           "color": "black",
           "width": 2
          },
          "size": 6.961491984623434
         },
         "mode": "markers+text",
         "name": "India",
         "showlegend": false,
         "text": [
          "India"
         ],
         "textposition": "top center",
         "type": "scattergeo"
        }
       ],
       "layout": {
        "geo": {
         "countrycolor": "lightgray",
         "projection": {
          "type": "natural earth"
         },
         "showcoastlines": true,
         "showcountries": true,
         "showframe": false
        },
        "height": 800,
        "template": {
         "data": {
          "bar": [
           {
            "error_x": {
             "color": "#2a3f5f"
            },
            "error_y": {
             "color": "#2a3f5f"
            },
            "marker": {
             "line": {
              "color": "#E5ECF6",
              "width": 0.5
             },
             "pattern": {
              "fillmode": "overlay",
              "size": 10,
              "solidity": 0.2
             }
            },
            "type": "bar"
           }
          ],
          "barpolar": [
           {
            "marker": {
             "line": {
              "color": "#E5ECF6",
              "width": 0.5
             },
             "pattern": {
              "fillmode": "overlay",
              "size": 10,
              "solidity": 0.2
             }
            },
            "type": "barpolar"
           }
          ],
          "carpet": [
           {
            "aaxis": {
             "endlinecolor": "#2a3f5f",
             "gridcolor": "white",
             "linecolor": "white",
             "minorgridcolor": "white",
             "startlinecolor": "#2a3f5f"
            },
            "baxis": {
             "endlinecolor": "#2a3f5f",
             "gridcolor": "white",
             "linecolor": "white",
             "minorgridcolor": "white",
             "startlinecolor": "#2a3f5f"
            },
            "type": "carpet"
           }
          ],
          "choropleth": [
           {
            "colorbar": {
             "outlinewidth": 0,
             "ticks": ""
            },
            "type": "choropleth"
           }
          ],
          "contour": [
           {
            "colorbar": {
             "outlinewidth": 0,
             "ticks": ""
            },
            "colorscale": [
             [
              0,
              "#0d0887"
             ],
             [
              0.1111111111111111,
              "#46039f"
             ],
             [
              0.2222222222222222,
              "#7201a8"
             ],
             [
              0.3333333333333333,
              "#9c179e"
             ],
             [
              0.4444444444444444,
              "#bd3786"
             ],
             [
              0.5555555555555556,
              "#d8576b"
             ],
             [
              0.6666666666666666,
              "#ed7953"
             ],
             [
              0.7777777777777778,
              "#fb9f3a"
             ],
             [
              0.8888888888888888,
              "#fdca26"
             ],
             [
              1,
              "#f0f921"
             ]
            ],
            "type": "contour"
           }
          ],
          "contourcarpet": [
           {
            "colorbar": {
             "outlinewidth": 0,
             "ticks": ""
            },
            "type": "contourcarpet"
           }
          ],
          "heatmap": [
           {
            "colorbar": {
             "outlinewidth": 0,
             "ticks": ""
            },
            "colorscale": [
             [
              0,
              "#0d0887"
             ],
             [
              0.1111111111111111,
              "#46039f"
             ],
             [
              0.2222222222222222,
              "#7201a8"
             ],
             [
              0.3333333333333333,
              "#9c179e"
             ],
             [
              0.4444444444444444,
              "#bd3786"
             ],
             [
              0.5555555555555556,
              "#d8576b"
             ],
             [
              0.6666666666666666,
              "#ed7953"
             ],
             [
              0.7777777777777778,
              "#fb9f3a"
             ],
             [
              0.8888888888888888,
              "#fdca26"
             ],
             [
              1,
              "#f0f921"
             ]
            ],
            "type": "heatmap"
           }
          ],
          "heatmapgl": [
           {
            "colorbar": {
             "outlinewidth": 0,
             "ticks": ""
            },
            "colorscale": [
             [
              0,
              "#0d0887"
             ],
             [
              0.1111111111111111,
              "#46039f"
             ],
             [
              0.2222222222222222,
              "#7201a8"
             ],
             [
              0.3333333333333333,
              "#9c179e"
             ],
             [
              0.4444444444444444,
              "#bd3786"
             ],
             [
              0.5555555555555556,
              "#d8576b"
             ],
             [
              0.6666666666666666,
              "#ed7953"
             ],
             [
              0.7777777777777778,
              "#fb9f3a"
             ],
             [
              0.8888888888888888,
              "#fdca26"
             ],
             [
              1,
              "#f0f921"
             ]
            ],
            "type": "heatmapgl"
           }
          ],
          "histogram": [
           {
            "marker": {
             "pattern": {
              "fillmode": "overlay",
              "size": 10,
              "solidity": 0.2
             }
            },
            "type": "histogram"
           }
          ],
          "histogram2d": [
           {
            "colorbar": {
             "outlinewidth": 0,
             "ticks": ""
            },
            "colorscale": [
             [
              0,
              "#0d0887"
             ],
             [
              0.1111111111111111,
              "#46039f"
             ],
             [
              0.2222222222222222,
              "#7201a8"
             ],
             [
              0.3333333333333333,
              "#9c179e"
             ],
             [
              0.4444444444444444,
              "#bd3786"
             ],
             [
              0.5555555555555556,
              "#d8576b"
             ],
             [
              0.6666666666666666,
              "#ed7953"
             ],
             [
              0.7777777777777778,
              "#fb9f3a"
             ],
             [
              0.8888888888888888,
              "#fdca26"
             ],
             [
              1,
              "#f0f921"
             ]
            ],
            "type": "histogram2d"
           }
          ],
          "histogram2dcontour": [
           {
            "colorbar": {
             "outlinewidth": 0,
             "ticks": ""
            },
            "colorscale": [
             [
              0,
              "#0d0887"
             ],
             [
              0.1111111111111111,
              "#46039f"
             ],
             [
              0.2222222222222222,
              "#7201a8"
             ],
             [
              0.3333333333333333,
              "#9c179e"
             ],
             [
              0.4444444444444444,
              "#bd3786"
             ],
             [
              0.5555555555555556,
              "#d8576b"
             ],
             [
              0.6666666666666666,
              "#ed7953"
             ],
             [
              0.7777777777777778,
              "#fb9f3a"
             ],
             [
              0.8888888888888888,
              "#fdca26"
             ],
             [
              1,
              "#f0f921"
             ]
            ],
            "type": "histogram2dcontour"
           }
          ],
          "mesh3d": [
           {
            "colorbar": {
             "outlinewidth": 0,
             "ticks": ""
            },
            "type": "mesh3d"
           }
          ],
          "parcoords": [
           {
            "line": {
             "colorbar": {
              "outlinewidth": 0,
              "ticks": ""
             }
            },
            "type": "parcoords"
           }
          ],
          "pie": [
           {
            "automargin": true,
            "type": "pie"
           }
          ],
          "scatter": [
           {
            "fillpattern": {
             "fillmode": "overlay",
             "size": 10,
             "solidity": 0.2
            },
            "type": "scatter"
           }
          ],
          "scatter3d": [
           {
            "line": {
             "colorbar": {
              "outlinewidth": 0,
              "ticks": ""
             }
            },
            "marker": {
             "colorbar": {
              "outlinewidth": 0,
              "ticks": ""
             }
            },
            "type": "scatter3d"
           }
          ],
          "scattercarpet": [
           {
            "marker": {
             "colorbar": {
              "outlinewidth": 0,
              "ticks": ""
             }
            },
            "type": "scattercarpet"
           }
          ],
          "scattergeo": [
           {
            "marker": {
             "colorbar": {
              "outlinewidth": 0,
              "ticks": ""
             }
            },
            "type": "scattergeo"
           }
          ],
          "scattergl": [
           {
            "marker": {
             "colorbar": {
              "outlinewidth": 0,
              "ticks": ""
             }
            },
            "type": "scattergl"
           }
          ],
          "scattermapbox": [
           {
            "marker": {
             "colorbar": {
              "outlinewidth": 0,
              "ticks": ""
             }
            },
            "type": "scattermapbox"
           }
          ],
          "scatterpolar": [
           {
            "marker": {
             "colorbar": {
              "outlinewidth": 0,
              "ticks": ""
             }
            },
            "type": "scatterpolar"
           }
          ],
          "scatterpolargl": [
           {
            "marker": {
             "colorbar": {
              "outlinewidth": 0,
              "ticks": ""
             }
            },
            "type": "scatterpolargl"
           }
          ],
          "scatterternary": [
           {
            "marker": {
             "colorbar": {
              "outlinewidth": 0,
              "ticks": ""
             }
            },
            "type": "scatterternary"
           }
          ],
          "surface": [
           {
            "colorbar": {
             "outlinewidth": 0,
             "ticks": ""
            },
            "colorscale": [
             [
              0,
              "#0d0887"
             ],
             [
              0.1111111111111111,
              "#46039f"
             ],
             [
              0.2222222222222222,
              "#7201a8"
             ],
             [
              0.3333333333333333,
              "#9c179e"
             ],
             [
              0.4444444444444444,
              "#bd3786"
             ],
             [
              0.5555555555555556,
              "#d8576b"
             ],
             [
              0.6666666666666666,
              "#ed7953"
             ],
             [
              0.7777777777777778,
              "#fb9f3a"
             ],
             [
              0.8888888888888888,
              "#fdca26"
             ],
             [
              1,
              "#f0f921"
             ]
            ],
            "type": "surface"
           }
          ],
          "table": [
           {
            "cells": {
             "fill": {
              "color": "#EBF0F8"
             },
             "line": {
              "color": "white"
             }
            },
            "header": {
             "fill": {
              "color": "#C8D4E3"
             },
             "line": {
              "color": "white"
             }
            },
            "type": "table"
           }
          ]
         },
         "layout": {
          "annotationdefaults": {
           "arrowcolor": "#2a3f5f",
           "arrowhead": 0,
           "arrowwidth": 1
          },
          "autotypenumbers": "strict",
          "coloraxis": {
           "colorbar": {
            "outlinewidth": 0,
            "ticks": ""
           }
          },
          "colorscale": {
           "diverging": [
            [
             0,
             "#8e0152"
            ],
            [
             0.1,
             "#c51b7d"
            ],
            [
             0.2,
             "#de77ae"
            ],
            [
             0.3,
             "#f1b6da"
            ],
            [
             0.4,
             "#fde0ef"
            ],
            [
             0.5,
             "#f7f7f7"
            ],
            [
             0.6,
             "#e6f5d0"
            ],
            [
             0.7,
             "#b8e186"
            ],
            [
             0.8,
             "#7fbc41"
            ],
            [
             0.9,
             "#4d9221"
            ],
            [
             1,
             "#276419"
            ]
           ],
           "sequential": [
            [
             0,
             "#0d0887"
            ],
            [
             0.1111111111111111,
             "#46039f"
            ],
            [
             0.2222222222222222,
             "#7201a8"
            ],
            [
             0.3333333333333333,
             "#9c179e"
            ],
            [
             0.4444444444444444,
             "#bd3786"
            ],
            [
             0.5555555555555556,
             "#d8576b"
            ],
            [
             0.6666666666666666,
             "#ed7953"
            ],
            [
             0.7777777777777778,
             "#fb9f3a"
            ],
            [
             0.8888888888888888,
             "#fdca26"
            ],
            [
             1,
             "#f0f921"
            ]
           ],
           "sequentialminus": [
            [
             0,
             "#0d0887"
            ],
            [
             0.1111111111111111,
             "#46039f"
            ],
            [
             0.2222222222222222,
             "#7201a8"
            ],
            [
             0.3333333333333333,
             "#9c179e"
            ],
            [
             0.4444444444444444,
             "#bd3786"
            ],
            [
             0.5555555555555556,
             "#d8576b"
            ],
            [
             0.6666666666666666,
             "#ed7953"
            ],
            [
             0.7777777777777778,
             "#fb9f3a"
            ],
            [
             0.8888888888888888,
             "#fdca26"
            ],
            [
             1,
             "#f0f921"
            ]
           ]
          },
          "colorway": [
           "#636efa",
           "#EF553B",
           "#00cc96",
           "#ab63fa",
           "#FFA15A",
           "#19d3f3",
           "#FF6692",
           "#B6E880",
           "#FF97FF",
           "#FECB52"
          ],
          "font": {
           "color": "#2a3f5f"
          },
          "geo": {
           "bgcolor": "white",
           "lakecolor": "white",
           "landcolor": "#E5ECF6",
           "showlakes": true,
           "showland": true,
           "subunitcolor": "white"
          },
          "hoverlabel": {
           "align": "left"
          },
          "hovermode": "closest",
          "mapbox": {
           "style": "light"
          },
          "paper_bgcolor": "white",
          "plot_bgcolor": "#E5ECF6",
          "polar": {
           "angularaxis": {
            "gridcolor": "white",
            "linecolor": "white",
            "ticks": ""
           },
           "bgcolor": "#E5ECF6",
           "radialaxis": {
            "gridcolor": "white",
            "linecolor": "white",
            "ticks": ""
           }
          },
          "scene": {
           "xaxis": {
            "backgroundcolor": "#E5ECF6",
            "gridcolor": "white",
            "gridwidth": 2,
            "linecolor": "white",
            "showbackground": true,
            "ticks": "",
            "zerolinecolor": "white"
           },
           "yaxis": {
            "backgroundcolor": "#E5ECF6",
            "gridcolor": "white",
            "gridwidth": 2,
            "linecolor": "white",
            "showbackground": true,
            "ticks": "",
            "zerolinecolor": "white"
           },
           "zaxis": {
            "backgroundcolor": "#E5ECF6",
            "gridcolor": "white",
            "gridwidth": 2,
            "linecolor": "white",
            "showbackground": true,
            "ticks": "",
            "zerolinecolor": "white"
           }
          },
          "shapedefaults": {
           "line": {
            "color": "#2a3f5f"
           }
          },
          "ternary": {
           "aaxis": {
            "gridcolor": "white",
            "linecolor": "white",
            "ticks": ""
           },
           "baxis": {
            "gridcolor": "white",
            "linecolor": "white",
            "ticks": ""
           },
           "bgcolor": "#E5ECF6",
           "caxis": {
            "gridcolor": "white",
            "linecolor": "white",
            "ticks": ""
           }
          },
          "title": {
           "x": 0.05
          },
          "xaxis": {
           "automargin": true,
           "gridcolor": "white",
           "linecolor": "white",
           "ticks": "",
           "title": {
            "standoff": 15
           },
           "zerolinecolor": "white",
           "zerolinewidth": 2
          },
          "yaxis": {
           "automargin": true,
           "gridcolor": "white",
           "linecolor": "white",
           "ticks": "",
           "title": {
            "standoff": 15
           },
           "zerolinecolor": "white",
           "zerolinewidth": 2
          }
         }
        },
        "title": {
         "text": "Rwanda Trade Network Analysis"
        },
        "width": 1200
       }
      }
     },
     "metadata": {},
     "output_type": "display_data"
    },
    {
     "name": "stdout",
     "output_type": "stream",
     "text": [
      "\n",
      "💾 Trade network analysis saved as 'visualizations/rwanda_trade_network.html'\n"
     ]
    }
   ],
   "source": [
    "# Network analysis of trade relationships\n",
    "print(\"🌐 TRADE NETWORK ANALYSIS\")\n",
    "print(\"=\"*70)\n",
    "\n",
    "# Create trade network data\n",
    "network_data = []\n",
    "\n",
    "# Add export relationships (Rwanda -> Destination)\n",
    "for _, row in countries_df.iterrows():\n",
    "    if row['latitude'] != 0:  # Only include countries with coordinates\n",
    "        network_data.append({\n",
    "            'source': 'Rwanda',\n",
    "            'target': row['destination_country'],\n",
    "            'value': row['export_value'],\n",
    "            'type': 'export',\n",
    "            'region': row['region']\n",
    "        })\n",
    "\n",
    "# Add import relationships (Source -> Rwanda)\n",
    "for _, row in import_countries_df.iterrows():\n",
    "    if row['latitude'] != 0:  # Only include countries with coordinates\n",
    "        network_data.append({\n",
    "            'source': row['source_country'],\n",
    "            'target': 'Rwanda',\n",
    "            'value': row['import_value'],\n",
    "            'type': 'import',\n",
    "            'region': row['region']\n",
    "        })\n",
    "\n",
    "network_df = pd.DataFrame(network_data)\n",
    "print(f\"\\n📊 Network data created with {len(network_df)} relationships\")\n",
    "print(f\"📈 Unique countries in network: {len(network_df['source'].unique()) + len(network_df['target'].unique())}\")\n",
    "\n",
    "# Create network visualization\n",
    "fig_network = go.Figure()\n",
    "\n",
    "# Add edges (trade relationships)\n",
    "for _, edge in network_df.iterrows():\n",
    "    # Get coordinates for source and target\n",
    "    source_coord = country_coordinates.get(edge['source'], {'lat': 0, 'lon': 0})\n",
    "    target_coord = country_coordinates.get(edge['target'], {'lat': 0, 'lon': 0})\n",
    "    \n",
    "    if source_coord['lat'] != 0 and target_coord['lat'] != 0:\n",
    "        fig_network.add_trace(go.Scattergeo(\n",
    "            lat=[source_coord['lat'], target_coord['lat']],\n",
    "            lon=[source_coord['lon'], target_coord['lon']],\n",
    "            mode='lines',\n",
    "            line=dict(width=np.log10(edge['value']), color='blue' if edge['type'] == 'export' else 'red'),\n",
    "            opacity=0.3,\n",
    "            showlegend=False,\n",
    "            hovertemplate=f\"{edge['source']} → {edge['target']}<br>Value: ${edge['value']:.2f}M<br>Type: {edge['type']}<extra></extra>\"\n",
    "        ))\n",
    "\n",
    "# Add nodes (countries)\n",
    "all_countries = list(set(network_df['source']).union(set(network_df['target'])))\n",
    "\n",
    "for country in all_countries:\n",
    "    if country in country_coordinates and country_coordinates[country]['lat'] != 0:\n",
    "        coord = country_coordinates[country]\n",
    "        \n",
    "        # Calculate total trade value for this country\n",
    "        total_value = network_df[\n",
    "            (network_df['source'] == country) | (network_df['target'] == country)\n",
    "        ]['value'].sum()\n",
    "        \n",
    "        fig_network.add_trace(go.Scattergeo(\n",
    "            lat=[coord['lat']],\n",
    "            lon=[coord['lon']],\n",
    "            text=[country],\n",
    "            mode='markers+text',\n",
    "            marker=dict(\n",
    "                size=np.log10(total_value) * 2,\n",
    "                color='green' if country == 'Rwanda' else 'orange',\n",
    "                line=dict(width=2, color='black')\n",
    "            ),\n",
    "            textposition='top center',\n",
    "            name=country,\n",
    "            showlegend=False,\n",
    "            hovertemplate=f\"<b>{country}</b><br>Total Trade: ${total_value:.2f}M<extra></extra>\"\n",
    "        ))\n",
    "\n",
    "fig_network.update_layout(\n",
    "    title='Rwanda Trade Network Analysis',\n",
    "    geo=dict(\n",
    "        showframe=False,\n",
    "        showcoastlines=True,\n",
    "        projection_type='natural earth',\n",
    "        showcountries=True,\n",
    "        countrycolor='lightgray'\n",
    "    ),\n",
    "    width=1200,\n",
    "    height=800\n",
    ")\n",
    "\n",
    "fig_network.show()\n",
    "\n",
    "# Save network visualization\n",
    "fig_network.write_html('visualizations/rwanda_trade_network.html')\n",
    "print(\"\\n💾 Trade network analysis saved as 'visualizations/rwanda_trade_network.html'\")"
   ]
  },
  {
   "cell_type": "markdown",
   "metadata": {},
   "source": [
    "## 7. Advanced Statistical Visualizations"
   ]
  },
  {
   "cell_type": "code",
   "execution_count": 8,
   "metadata": {},
   "outputs": [
    {
     "name": "stdout",
     "output_type": "stream",
     "text": [
      "📊 ADVANCED STATISTICAL VISUALIZATIONS\n",
      "======================================================================\n"
     ]
    },
    {
     "data": {
      "application/vnd.plotly.v1+json": {
       "config": {
        "plotlyServerURL": "https://plot.ly"
       },
       "data": [
        {
         "domain": {
          "x": [
           0,
           0.2888888888888889
          ],
          "y": [
           0.7777777777777778,
           1
          ]
         },
         "labels": [
          "Africa",
          "Americas",
          "Asia",
          "Europe",
          "Unknown"
         ],
         "name": "Export Regions",
         "type": "pie",
         "values": [
          1369.8809805793376,
          123.0913150488274,
          6817.56605873609,
          570.3300070086116,
          58.86518109575076
         ]
        },
        {
         "domain": {
          "x": [
           0.35555555555555557,
           0.6444444444444445
          ],
          "y": [
           0.7777777777777778,
           1
          ]
         },
         "labels": [
          "Africa",
          "Americas",
          "Asia",
          "Europe",
          "Unknown"
         ],
         "name": "Import Regions",
         "type": "pie",
         "values": [
          8645.205664646235,
          458.0850471837747,
          4818.2104181764125,
          963.1381978321175,
          5377.942500623806
         ]
        },
        {
         "name": "Trade Balance",
         "nbinsx": 20,
         "type": "histogram",
         "x": [
          -552.1723300208702,
          -561.2893091341882,
          -430.75364737685686,
          -1114.8022316677511,
          -1136.3538277398372,
          -1351.3297940323835,
          -1177.6487657265789,
          -984.7148136783783,
          -1117.850820786153,
          -1143.5087572362727,
          -958.7350720736972,
          -411.3489984964744
         ],
         "xaxis": "x",
         "yaxis": "y"
        },
        {
         "name": "Export Growth Rate",
         "nbinsx": 15,
         "type": "histogram",
         "x": [
          0.20832855360954472,
          0.04822196989597205,
          -0.012747579878777726,
          1.3658137460789956,
          0.23231942474541523,
          -0.23207847625551214,
          0.012758756086741485,
          0.1325768000894485,
          0.2709023906834185,
          0.23207447071361242,
          0.011888243649776697,
          -0.6389163281631197
         ],
         "xaxis": "x2",
         "yaxis": "y2"
        },
        {
         "name": "Top Export Destinations",
         "orientation": "h",
         "type": "bar",
         "x": [
          5814.3334398658035,
          1049.1480313577633,
          394.68547636006474,
          201.09772139734017,
          182.1705149991934,
          165.56379190015443,
          159.54756792799404,
          143.23002355723168,
          123.1281476024794,
          123.0913150488274
         ],
         "xaxis": "x3",
         "y": [
          "United Arab Emirates",
          "Democratic Republic of the Congo",
          "China",
          "United Kingdom",
          "Hong Kong",
          "Luxembourg",
          "Pakistan",
          "India",
          "Uganda",
          "United States"
         ],
         "yaxis": "y3"
        },
        {
         "name": "Top Import Sources",
         "orientation": "h",
         "type": "bar",
         "x": [
          4255.12481713586,
          3055.4834005258613,
          2881.913558240844,
          1936.2968599355684,
          1240.7731547212636,
          1081.351730399914,
          747.201805626359,
          626.7575243788409,
          525.2993464349131,
          521.2812419487694
         ],
         "xaxis": "x4",
         "y": [
          "Tanzania",
          "Kenya",
          "India",
          "United Arab Emirates",
          "Cameroon",
          "Uganda",
          "South Africa",
          "Turkey",
          "Japan",
          "Malaysia"
         ],
         "yaxis": "y4"
        },
        {
         "marker": {
          "opacity": 0.6,
          "size": [
           1.7659790312534236,
           1.8012238474976248,
           2.100416642825636,
           1.9919173159940549,
           2.223072490855278,
           1.7039373099827007,
           1.8765072025234575,
           2.243256848562506,
           2.3835778271601407,
           2.6159176911794466,
           2.8487861392694342,
           2.6353524317431756
          ]
         },
         "mode": "markers",
         "name": "Export vs Import",
         "type": "scatter",
         "x": [
          301.52085155871305,
          316.06078098558515,
          312.03177093342254,
          738.2090528876635,
          909.7093553963832,
          698.5853943606064,
          707.4984750130135,
          801.2963588984035,
          1018.3694581698994,
          1254.7070111655871,
          1269.6232738234066,
          458.4402335617165
         ],
         "xaxis": "x5",
         "y": [
          853.6931815795832,
          877.3500901197733,
          742.7854183102794,
          1853.0112845554147,
          2046.0631831362205,
          2049.91518839299,
          1885.1472407395925,
          1786.0111725767817,
          2136.2202789560524,
          2398.21576840186,
          2228.358345897104,
          869.7892320581909
         ],
         "yaxis": "y5"
        },
        {
         "line": {
          "color": "green"
         },
         "mode": "lines+markers",
         "name": "Trade Balance Trend",
         "type": "scatter",
         "x": [
          "2022-04-01T00:00:00",
          "2022-07-01T00:00:00",
          "2022-10-01T00:00:00",
          "2023-01-01T00:00:00",
          "2023-04-01T00:00:00",
          "2023-07-01T00:00:00",
          "2023-10-01T00:00:00",
          "2024-01-01T00:00:00",
          "2024-04-01T00:00:00",
          "2024-07-01T00:00:00",
          "2024-10-01T00:00:00",
          "2025-01-01T00:00:00"
         ],
         "xaxis": "x6",
         "y": [
          -552.1723300208702,
          -561.2893091341882,
          -430.75364737685686,
          -1114.8022316677511,
          -1136.3538277398372,
          -1351.3297940323835,
          -1177.6487657265789,
          -984.7148136783783,
          -1117.850820786153,
          -1143.5087572362727,
          -958.7350720736972,
          -411.3489984964744
         ],
         "yaxis": "y6"
        },
        {
         "domain": {
          "x": [
           0.7111111111111111,
           1
          ],
          "y": [
           0,
           0.22222222222222224
          ]
         },
         "labels": [
          "Africa",
          "Americas",
          "Asia",
          "Europe",
          "Unknown"
         ],
         "name": "Regional Concentration",
         "parents": [
          "",
          "",
          "",
          "",
          ""
         ],
         "type": "treemap",
         "values": [
          1369.8809805793376,
          123.0913150488274,
          6817.56605873609,
          570.3300070086116,
          58.86518109575076
         ]
        }
       ],
       "layout": {
        "annotations": [
         {
          "font": {
           "size": 16
          },
          "showarrow": false,
          "text": "Export Distribution by Region",
          "x": 0.14444444444444446,
          "xanchor": "center",
          "xref": "paper",
          "y": 1,
          "yanchor": "bottom",
          "yref": "paper"
         },
         {
          "font": {
           "size": 16
          },
          "showarrow": false,
          "text": "Import Distribution by Region",
          "x": 0.5,
          "xanchor": "center",
          "xref": "paper",
          "y": 1,
          "yanchor": "bottom",
          "yref": "paper"
         },
         {
          "font": {
           "size": 16
          },
          "showarrow": false,
          "text": "Trade Balance Distribution",
          "x": 0.8555555555555556,
          "xanchor": "center",
          "xref": "paper",
          "y": 1,
          "yanchor": "bottom",
          "yref": "paper"
         },
         {
          "font": {
           "size": 16
          },
          "showarrow": false,
          "text": "Export Growth Rate Distribution",
          "x": 0.14444444444444446,
          "xanchor": "center",
          "xref": "paper",
          "y": 0.6111111111111112,
          "yanchor": "bottom",
          "yref": "paper"
         },
         {
          "font": {
           "size": 16
          },
          "showarrow": false,
          "text": "Top 10 Export Destinations",
          "x": 0.5,
          "xanchor": "center",
          "xref": "paper",
          "y": 0.6111111111111112,
          "yanchor": "bottom",
          "yref": "paper"
         },
         {
          "font": {
           "size": 16
          },
          "showarrow": false,
          "text": "Top 10 Import Sources",
          "x": 0.8555555555555556,
          "xanchor": "center",
          "xref": "paper",
          "y": 0.6111111111111112,
          "yanchor": "bottom",
          "yref": "paper"
         },
         {
          "font": {
           "size": 16
          },
          "showarrow": false,
          "text": "Export vs Import Correlation",
          "x": 0.14444444444444446,
          "xanchor": "center",
          "xref": "paper",
          "y": 0.22222222222222224,
          "yanchor": "bottom",
          "yref": "paper"
         },
         {
          "font": {
           "size": 16
          },
          "showarrow": false,
          "text": "Trade Balance Trend",
          "x": 0.5,
          "xanchor": "center",
          "xref": "paper",
          "y": 0.22222222222222224,
          "yanchor": "bottom",
          "yref": "paper"
         },
         {
          "font": {
           "size": 16
          },
          "showarrow": false,
          "text": "Regional Trade Concentration",
          "x": 0.8555555555555556,
          "xanchor": "center",
          "xref": "paper",
          "y": 0.22222222222222224,
          "yanchor": "bottom",
          "yref": "paper"
         }
        ],
        "height": 1200,
        "showlegend": false,
        "template": {
         "data": {
          "bar": [
           {
            "error_x": {
             "color": "#2a3f5f"
            },
            "error_y": {
             "color": "#2a3f5f"
            },
            "marker": {
             "line": {
              "color": "#E5ECF6",
              "width": 0.5
             },
             "pattern": {
              "fillmode": "overlay",
              "size": 10,
              "solidity": 0.2
             }
            },
            "type": "bar"
           }
          ],
          "barpolar": [
           {
            "marker": {
             "line": {
              "color": "#E5ECF6",
              "width": 0.5
             },
             "pattern": {
              "fillmode": "overlay",
              "size": 10,
              "solidity": 0.2
             }
            },
            "type": "barpolar"
           }
          ],
          "carpet": [
           {
            "aaxis": {
             "endlinecolor": "#2a3f5f",
             "gridcolor": "white",
             "linecolor": "white",
             "minorgridcolor": "white",
             "startlinecolor": "#2a3f5f"
            },
            "baxis": {
             "endlinecolor": "#2a3f5f",
             "gridcolor": "white",
             "linecolor": "white",
             "minorgridcolor": "white",
             "startlinecolor": "#2a3f5f"
            },
            "type": "carpet"
           }
          ],
          "choropleth": [
           {
            "colorbar": {
             "outlinewidth": 0,
             "ticks": ""
            },
            "type": "choropleth"
           }
          ],
          "contour": [
           {
            "colorbar": {
             "outlinewidth": 0,
             "ticks": ""
            },
            "colorscale": [
             [
              0,
              "#0d0887"
             ],
             [
              0.1111111111111111,
              "#46039f"
             ],
             [
              0.2222222222222222,
              "#7201a8"
             ],
             [
              0.3333333333333333,
              "#9c179e"
             ],
             [
              0.4444444444444444,
              "#bd3786"
             ],
             [
              0.5555555555555556,
              "#d8576b"
             ],
             [
              0.6666666666666666,
              "#ed7953"
             ],
             [
              0.7777777777777778,
              "#fb9f3a"
             ],
             [
              0.8888888888888888,
              "#fdca26"
             ],
             [
              1,
              "#f0f921"
             ]
            ],
            "type": "contour"
           }
          ],
          "contourcarpet": [
           {
            "colorbar": {
             "outlinewidth": 0,
             "ticks": ""
            },
            "type": "contourcarpet"
           }
          ],
          "heatmap": [
           {
            "colorbar": {
             "outlinewidth": 0,
             "ticks": ""
            },
            "colorscale": [
             [
              0,
              "#0d0887"
             ],
             [
              0.1111111111111111,
              "#46039f"
             ],
             [
              0.2222222222222222,
              "#7201a8"
             ],
             [
              0.3333333333333333,
              "#9c179e"
             ],
             [
              0.4444444444444444,
              "#bd3786"
             ],
             [
              0.5555555555555556,
              "#d8576b"
             ],
             [
              0.6666666666666666,
              "#ed7953"
             ],
             [
              0.7777777777777778,
              "#fb9f3a"
             ],
             [
              0.8888888888888888,
              "#fdca26"
             ],
             [
              1,
              "#f0f921"
             ]
            ],
            "type": "heatmap"
           }
          ],
          "heatmapgl": [
           {
            "colorbar": {
             "outlinewidth": 0,
             "ticks": ""
            },
            "colorscale": [
             [
              0,
              "#0d0887"
             ],
             [
              0.1111111111111111,
              "#46039f"
             ],
             [
              0.2222222222222222,
              "#7201a8"
             ],
             [
              0.3333333333333333,
              "#9c179e"
             ],
             [
              0.4444444444444444,
              "#bd3786"
             ],
             [
              0.5555555555555556,
              "#d8576b"
             ],
             [
              0.6666666666666666,
              "#ed7953"
             ],
             [
              0.7777777777777778,
              "#fb9f3a"
             ],
             [
              0.8888888888888888,
              "#fdca26"
             ],
             [
              1,
              "#f0f921"
             ]
            ],
            "type": "heatmapgl"
           }
          ],
          "histogram": [
           {
            "marker": {
             "pattern": {
              "fillmode": "overlay",
              "size": 10,
              "solidity": 0.2
             }
            },
            "type": "histogram"
           }
          ],
          "histogram2d": [
           {
            "colorbar": {
             "outlinewidth": 0,
             "ticks": ""
            },
            "colorscale": [
             [
              0,
              "#0d0887"
             ],
             [
              0.1111111111111111,
              "#46039f"
             ],
             [
              0.2222222222222222,
              "#7201a8"
             ],
             [
              0.3333333333333333,
              "#9c179e"
             ],
             [
              0.4444444444444444,
              "#bd3786"
             ],
             [
              0.5555555555555556,
              "#d8576b"
             ],
             [
              0.6666666666666666,
              "#ed7953"
             ],
             [
              0.7777777777777778,
              "#fb9f3a"
             ],
             [
              0.8888888888888888,
              "#fdca26"
             ],
             [
              1,
              "#f0f921"
             ]
            ],
            "type": "histogram2d"
           }
          ],
          "histogram2dcontour": [
           {
            "colorbar": {
             "outlinewidth": 0,
             "ticks": ""
            },
            "colorscale": [
             [
              0,
              "#0d0887"
             ],
             [
              0.1111111111111111,
              "#46039f"
             ],
             [
              0.2222222222222222,
              "#7201a8"
             ],
             [
              0.3333333333333333,
              "#9c179e"
             ],
             [
              0.4444444444444444,
              "#bd3786"
             ],
             [
              0.5555555555555556,
              "#d8576b"
             ],
             [
              0.6666666666666666,
              "#ed7953"
             ],
             [
              0.7777777777777778,
              "#fb9f3a"
             ],
             [
              0.8888888888888888,
              "#fdca26"
             ],
             [
              1,
              "#f0f921"
             ]
            ],
            "type": "histogram2dcontour"
           }
          ],
          "mesh3d": [
           {
            "colorbar": {
             "outlinewidth": 0,
             "ticks": ""
            },
            "type": "mesh3d"
           }
          ],
          "parcoords": [
           {
            "line": {
             "colorbar": {
              "outlinewidth": 0,
              "ticks": ""
             }
            },
            "type": "parcoords"
           }
          ],
          "pie": [
           {
            "automargin": true,
            "type": "pie"
           }
          ],
          "scatter": [
           {
            "fillpattern": {
             "fillmode": "overlay",
             "size": 10,
             "solidity": 0.2
            },
            "type": "scatter"
           }
          ],
          "scatter3d": [
           {
            "line": {
             "colorbar": {
              "outlinewidth": 0,
              "ticks": ""
             }
            },
            "marker": {
             "colorbar": {
              "outlinewidth": 0,
              "ticks": ""
             }
            },
            "type": "scatter3d"
           }
          ],
          "scattercarpet": [
           {
            "marker": {
             "colorbar": {
              "outlinewidth": 0,
              "ticks": ""
             }
            },
            "type": "scattercarpet"
           }
          ],
          "scattergeo": [
           {
            "marker": {
             "colorbar": {
              "outlinewidth": 0,
              "ticks": ""
             }
            },
            "type": "scattergeo"
           }
          ],
          "scattergl": [
           {
            "marker": {
             "colorbar": {
              "outlinewidth": 0,
              "ticks": ""
             }
            },
            "type": "scattergl"
           }
          ],
          "scattermapbox": [
           {
            "marker": {
             "colorbar": {
              "outlinewidth": 0,
              "ticks": ""
             }
            },
            "type": "scattermapbox"
           }
          ],
          "scatterpolar": [
           {
            "marker": {
             "colorbar": {
              "outlinewidth": 0,
              "ticks": ""
             }
            },
            "type": "scatterpolar"
           }
          ],
          "scatterpolargl": [
           {
            "marker": {
             "colorbar": {
              "outlinewidth": 0,
              "ticks": ""
             }
            },
            "type": "scatterpolargl"
           }
          ],
          "scatterternary": [
           {
            "marker": {
             "colorbar": {
              "outlinewidth": 0,
              "ticks": ""
             }
            },
            "type": "scatterternary"
           }
          ],
          "surface": [
           {
            "colorbar": {
             "outlinewidth": 0,
             "ticks": ""
            },
            "colorscale": [
             [
              0,
              "#0d0887"
             ],
             [
              0.1111111111111111,
              "#46039f"
             ],
             [
              0.2222222222222222,
              "#7201a8"
             ],
             [
              0.3333333333333333,
              "#9c179e"
             ],
             [
              0.4444444444444444,
              "#bd3786"
             ],
             [
              0.5555555555555556,
              "#d8576b"
             ],
             [
              0.6666666666666666,
              "#ed7953"
             ],
             [
              0.7777777777777778,
              "#fb9f3a"
             ],
             [
              0.8888888888888888,
              "#fdca26"
             ],
             [
              1,
              "#f0f921"
             ]
            ],
            "type": "surface"
           }
          ],
          "table": [
           {
            "cells": {
             "fill": {
              "color": "#EBF0F8"
             },
             "line": {
              "color": "white"
             }
            },
            "header": {
             "fill": {
              "color": "#C8D4E3"
             },
             "line": {
              "color": "white"
             }
            },
            "type": "table"
           }
          ]
         },
         "layout": {
          "annotationdefaults": {
           "arrowcolor": "#2a3f5f",
           "arrowhead": 0,
           "arrowwidth": 1
          },
          "autotypenumbers": "strict",
          "coloraxis": {
           "colorbar": {
            "outlinewidth": 0,
            "ticks": ""
           }
          },
          "colorscale": {
           "diverging": [
            [
             0,
             "#8e0152"
            ],
            [
             0.1,
             "#c51b7d"
            ],
            [
             0.2,
             "#de77ae"
            ],
            [
             0.3,
             "#f1b6da"
            ],
            [
             0.4,
             "#fde0ef"
            ],
            [
             0.5,
             "#f7f7f7"
            ],
            [
             0.6,
             "#e6f5d0"
            ],
            [
             0.7,
             "#b8e186"
            ],
            [
             0.8,
             "#7fbc41"
            ],
            [
             0.9,
             "#4d9221"
            ],
            [
             1,
             "#276419"
            ]
           ],
           "sequential": [
            [
             0,
             "#0d0887"
            ],
            [
             0.1111111111111111,
             "#46039f"
            ],
            [
             0.2222222222222222,
             "#7201a8"
            ],
            [
             0.3333333333333333,
             "#9c179e"
            ],
            [
             0.4444444444444444,
             "#bd3786"
            ],
            [
             0.5555555555555556,
             "#d8576b"
            ],
            [
             0.6666666666666666,
             "#ed7953"
            ],
            [
             0.7777777777777778,
             "#fb9f3a"
            ],
            [
             0.8888888888888888,
             "#fdca26"
            ],
            [
             1,
             "#f0f921"
            ]
           ],
           "sequentialminus": [
            [
             0,
             "#0d0887"
            ],
            [
             0.1111111111111111,
             "#46039f"
            ],
            [
             0.2222222222222222,
             "#7201a8"
            ],
            [
             0.3333333333333333,
             "#9c179e"
            ],
            [
             0.4444444444444444,
             "#bd3786"
            ],
            [
             0.5555555555555556,
             "#d8576b"
            ],
            [
             0.6666666666666666,
             "#ed7953"
            ],
            [
             0.7777777777777778,
             "#fb9f3a"
            ],
            [
             0.8888888888888888,
             "#fdca26"
            ],
            [
             1,
             "#f0f921"
            ]
           ]
          },
          "colorway": [
           "#636efa",
           "#EF553B",
           "#00cc96",
           "#ab63fa",
           "#FFA15A",
           "#19d3f3",
           "#FF6692",
           "#B6E880",
           "#FF97FF",
           "#FECB52"
          ],
          "font": {
           "color": "#2a3f5f"
          },
          "geo": {
           "bgcolor": "white",
           "lakecolor": "white",
           "landcolor": "#E5ECF6",
           "showlakes": true,
           "showland": true,
           "subunitcolor": "white"
          },
          "hoverlabel": {
           "align": "left"
          },
          "hovermode": "closest",
          "mapbox": {
           "style": "light"
          },
          "paper_bgcolor": "white",
          "plot_bgcolor": "#E5ECF6",
          "polar": {
           "angularaxis": {
            "gridcolor": "white",
            "linecolor": "white",
            "ticks": ""
           },
           "bgcolor": "#E5ECF6",
           "radialaxis": {
            "gridcolor": "white",
            "linecolor": "white",
            "ticks": ""
           }
          },
          "scene": {
           "xaxis": {
            "backgroundcolor": "#E5ECF6",
            "gridcolor": "white",
            "gridwidth": 2,
            "linecolor": "white",
            "showbackground": true,
            "ticks": "",
            "zerolinecolor": "white"
           },
           "yaxis": {
            "backgroundcolor": "#E5ECF6",
            "gridcolor": "white",
            "gridwidth": 2,
            "linecolor": "white",
            "showbackground": true,
            "ticks": "",
            "zerolinecolor": "white"
           },
           "zaxis": {
            "backgroundcolor": "#E5ECF6",
            "gridcolor": "white",
            "gridwidth": 2,
            "linecolor": "white",
            "showbackground": true,
            "ticks": "",
            "zerolinecolor": "white"
           }
          },
          "shapedefaults": {
           "line": {
            "color": "#2a3f5f"
           }
          },
          "ternary": {
           "aaxis": {
            "gridcolor": "white",
            "linecolor": "white",
            "ticks": ""
           },
           "baxis": {
            "gridcolor": "white",
            "linecolor": "white",
            "ticks": ""
           },
           "bgcolor": "#E5ECF6",
           "caxis": {
            "gridcolor": "white",
            "linecolor": "white",
            "ticks": ""
           }
          },
          "title": {
           "x": 0.05
          },
          "xaxis": {
           "automargin": true,
           "gridcolor": "white",
           "linecolor": "white",
           "ticks": "",
           "title": {
            "standoff": 15
           },
           "zerolinecolor": "white",
           "zerolinewidth": 2
          },
          "yaxis": {
           "automargin": true,
           "gridcolor": "white",
           "linecolor": "white",
           "ticks": "",
           "title": {
            "standoff": 15
           },
           "zerolinecolor": "white",
           "zerolinewidth": 2
          }
         }
        },
        "title": {
         "text": "Rwanda Trade Analytics Dashboard"
        },
        "xaxis": {
         "anchor": "y",
         "domain": [
          0.7111111111111111,
          1
         ]
        },
        "xaxis2": {
         "anchor": "y2",
         "domain": [
          0,
          0.2888888888888889
         ]
        },
        "xaxis3": {
         "anchor": "y3",
         "domain": [
          0.35555555555555557,
          0.6444444444444445
         ]
        },
        "xaxis4": {
         "anchor": "y4",
         "domain": [
          0.7111111111111111,
          1
         ]
        },
        "xaxis5": {
         "anchor": "y5",
         "domain": [
          0,
          0.2888888888888889
         ]
        },
        "xaxis6": {
         "anchor": "y6",
         "domain": [
          0.35555555555555557,
          0.6444444444444445
         ]
        },
        "yaxis": {
         "anchor": "x",
         "domain": [
          0.7777777777777778,
          1
         ]
        },
        "yaxis2": {
         "anchor": "x2",
         "domain": [
          0.3888888888888889,
          0.6111111111111112
         ]
        },
        "yaxis3": {
         "anchor": "x3",
         "domain": [
          0.3888888888888889,
          0.6111111111111112
         ]
        },
        "yaxis4": {
         "anchor": "x4",
         "domain": [
          0.3888888888888889,
          0.6111111111111112
         ]
        },
        "yaxis5": {
         "anchor": "x5",
         "domain": [
          0,
          0.22222222222222224
         ]
        },
        "yaxis6": {
         "anchor": "x6",
         "domain": [
          0,
          0.22222222222222224
         ]
        }
       }
      }
     },
     "metadata": {},
     "output_type": "display_data"
    },
    {
     "name": "stdout",
     "output_type": "stream",
     "text": [
      "\n",
      "💾 Comprehensive trade dashboard saved as 'visualizations/rwanda_trade_dashboard.html'\n"
     ]
    }
   ],
   "source": [
    "# Advanced statistical visualizations\n",
    "print(\"📊 ADVANCED STATISTICAL VISUALIZATIONS\")\n",
    "print(\"=\"*70)\n",
    "\n",
    "# Create comprehensive dashboard\n",
    "fig_dashboard = make_subplots(\n",
    "    rows=3, cols=3,\n",
    "    subplot_titles=(\n",
    "        'Export Distribution by Region', 'Import Distribution by Region',\n",
    "        'Trade Balance Distribution', 'Export Growth Rate Distribution',\n",
    "        'Top 10 Export Destinations', 'Top 10 Import Sources',\n",
    "        'Export vs Import Correlation', 'Trade Balance Trend',\n",
    "        'Regional Trade Concentration'\n",
    "    ),\n",
    "    specs=[[{\"type\": \"pie\"}, {\"type\": \"pie\"}, {\"type\": \"histogram\"}],\n",
    "           [{\"type\": \"histogram\"}, {\"type\": \"bar\"}, {\"type\": \"bar\"}],\n",
    "           [{\"type\": \"scatter\"}, {\"type\": \"scatter\"}, {\"type\": \"treemap\"}]]\n",
    ")\n",
    "\n",
    "# 1. Export distribution by region\n",
    "region_exports = countries_df.groupby('region')['export_value'].sum().reset_index()\n",
    "fig_dashboard.add_trace(go.Pie(\n",
    "    labels=region_exports['region'],\n",
    "    values=region_exports['export_value'],\n",
    "    name='Export Regions'\n",
    "), row=1, col=1)\n",
    "\n",
    "# 2. Import distribution by region\n",
    "region_imports = import_countries_df.groupby('region')['import_value'].sum().reset_index()\n",
    "fig_dashboard.add_trace(go.Pie(\n",
    "    labels=region_imports['region'],\n",
    "    values=region_imports['import_value'],\n",
    "    name='Import Regions'\n",
    "), row=1, col=2)\n",
    "\n",
    "# 3. Trade balance distribution\n",
    "fig_dashboard.add_trace(go.Histogram(\n",
    "    x=trade_df['trade_balance'],\n",
    "    nbinsx=20,\n",
    "    name='Trade Balance'\n",
    "), row=1, col=3)\n",
    "\n",
    "# 4. Export growth rate distribution\n",
    "fig_dashboard.add_trace(go.Histogram(\n",
    "    x=trade_df['export_growth_rate'],\n",
    "    nbinsx=15,\n",
    "    name='Export Growth Rate'\n",
    "), row=2, col=1)\n",
    "\n",
    "# 5. Top 10 export destinations\n",
    "top_exports = countries_df.nlargest(10, 'export_value')\n",
    "fig_dashboard.add_trace(go.Bar(\n",
    "    x=top_exports['export_value'],\n",
    "    y=top_exports['destination_country'],\n",
    "    orientation='h',\n",
    "    name='Top Export Destinations'\n",
    "), row=2, col=2)\n",
    "\n",
    "# 6. Top 10 import sources\n",
    "top_imports = import_countries_df.nlargest(10, 'import_value')\n",
    "fig_dashboard.add_trace(go.Bar(\n",
    "    x=top_imports['import_value'],\n",
    "    y=top_imports['source_country'],\n",
    "    orientation='h',\n",
    "    name='Top Import Sources'\n",
    "), row=2, col=3)\n",
    "\n",
    "# 7. Export vs Import correlation\n",
    "fig_dashboard.add_trace(go.Scatter(\n",
    "    x=trade_df['export_value'],\n",
    "    y=trade_df['import_value'],\n",
    "    mode='markers',\n",
    "    name='Export vs Import',\n",
    "    marker=dict(size=trade_df['export_to_import_ratio']*5, opacity=0.6)\n",
    "), row=3, col=1)\n",
    "\n",
    "# 8. Trade balance trend\n",
    "fig_dashboard.add_trace(go.Scatter(\n",
    "    x=trade_df.index,\n",
    "    y=trade_df['trade_balance'],\n",
    "    mode='lines+markers',\n",
    "    name='Trade Balance Trend',\n",
    "    line=dict(color='green')\n",
    "), row=3, col=2)\n",
    "\n",
    "# 9. Regional trade concentration\n",
    "fig_dashboard.add_trace(go.Treemap(\n",
    "    labels=region_exports['region'],\n",
    "    values=region_exports['export_value'],\n",
    "    parents=[\"\"] * len(region_exports),\n",
    "    name='Regional Concentration'\n",
    "), row=3, col=3)\n",
    "\n",
    "fig_dashboard.update_layout(\n",
    "    title='Rwanda Trade Analytics Dashboard',\n",
    "    height=1200,\n",
    "    showlegend=False\n",
    ")\n",
    "\n",
    "fig_dashboard.show()\n",
    "\n",
    "# Save comprehensive dashboard\n",
    "fig_dashboard.write_html('visualizations/rwanda_trade_dashboard.html')\n",
    "print(\"\\n💾 Comprehensive trade dashboard saved as 'visualizations/rwanda_trade_dashboard.html'\")"
   ]
  },
  {
   "cell_type": "markdown",
   "metadata": {},
   "source": [
    "## 8. Statistical Testing and Hypothesis Analysis"
   ]
  },
  {
   "cell_type": "code",
   "execution_count": 10,
   "metadata": {},
   "outputs": [
    {
     "name": "stdout",
     "output_type": "stream",
     "text": [
      "🧪 STATISTICAL HYPOTHESIS TESTING\n",
      "======================================================================\n",
      "\n",
      "📊 HYPOTHESIS TEST 1: Trade Balance vs Zero\n",
      "--------------------------------------------------\n",
      "H0: Average trade balance = 0 (no significant surplus or deficit)\n",
      "H1: Average trade balance ≠ 0 (significant surplus or deficit)\n",
      "T-statistic: -9.5893\n",
      "P-value: 0.0000\n",
      "Conclusion: Reject H0\n",
      "Average trade balance: $-911.71M\n",
      "\n",
      "📊 HYPOTHESIS TEST 2: Exports vs Imports\n",
      "--------------------------------------------------\n",
      "H0: Export values = Import values\n",
      "H1: Export values ≠ Import values\n",
      "T-statistic: -4.4596\n",
      "P-value: 0.0002\n",
      "Conclusion: Reject H0\n",
      "Mean exports: $732.17M\n",
      "Mean imports: $1643.88M\n",
      "\n",
      "📊 HYPOTHESIS TEST 3: Regional Trade Differences\n",
      "--------------------------------------------------\n",
      "H0: No significant difference between regional trade values\n",
      "H1: Significant differences exist between regional trade values\n",
      "F-statistic: 0.4126\n",
      "P-value: 0.7969\n",
      "Conclusion: Fail to reject H0\n",
      "\n",
      "📊 HYPOTHESIS TEST 4: Geographic Distance vs Trade Value\n",
      "--------------------------------------------------\n",
      "H0: No correlation between distance and trade value\n",
      "H1: Significant correlation exists\n",
      "Correlation coefficient: -0.1332\n",
      "P-value: 0.5757\n",
      "Conclusion: Fail to reject H0\n"
     ]
    },
    {
     "data": {
      "application/vnd.plotly.v1+json": {
       "config": {
        "plotlyServerURL": "https://plot.ly"
       },
       "data": [
        {
         "customdata": [
          [
           "United Arab Emirates"
          ],
          [
           "China"
          ],
          [
           "Hong Kong"
          ],
          [
           "Pakistan"
          ],
          [
           "India"
          ],
          [
           "Singapore"
          ],
          [
           "Thailand"
          ]
         ],
         "hovertemplate": "region=Asia<br>Distance from Rwanda (km)=%{x}<br>Export Value (Millions USD)=%{y}<br>destination_country=%{customdata[0]}<extra></extra>",
         "legendgroup": "Asia",
         "marker": {
          "color": "#636efa",
          "symbol": "circle"
         },
         "mode": "markers",
         "name": "Asia",
         "orientation": "v",
         "showlegend": true,
         "type": "scatter",
         "x": [
          3874.044183724673,
          9255.480969283351,
          9736.579042579771,
          5662.38584253394,
          5995.552850214649,
          8216.126743102675,
          8137.944429848859
         ],
         "xaxis": "x",
         "y": [
          5814.3334398658035,
          394.68547636006474,
          182.1705149991934,
          159.54756792799404,
          143.23002355723168,
          87.20134626336902,
          36.397689762433416
         ],
         "yaxis": "y"
        },
        {
         "customdata": [
          [
           "Democratic Republic of the Congo"
          ],
          [
           "Uganda"
          ],
          [
           "South Sudan"
          ],
          [
           "Congo"
          ],
          [
           "Ethiopia"
          ]
         ],
         "hovertemplate": "region=Africa<br>Distance from Rwanda (km)=%{x}<br>Export Value (Millions USD)=%{y}<br>destination_country=%{customdata[0]}<extra></extra>",
         "legendgroup": "Africa",
         "marker": {
          "color": "#EF553B",
          "symbol": "circle"
         },
         "mode": "markers",
         "name": "Africa",
         "orientation": "v",
         "showlegend": true,
         "type": "scatter",
         "x": [
          930.4030000853606,
          455.22091870686273,
          991.5634094312375,
          1570.67041810156,
          1703.6930226068691
         ],
         "xaxis": "x",
         "y": [
          1049.1480313577633,
          123.1281476024794,
          85.77778442915942,
          62.69322997264164,
          49.13378721729381
         ],
         "yaxis": "y"
        },
        {
         "customdata": [
          [
           "United Kingdom"
          ],
          [
           "Luxembourg"
          ],
          [
           "Netherlands"
          ],
          [
           "Belgium"
          ],
          [
           "Germany"
          ]
         ],
         "hovertemplate": "region=Europe<br>Distance from Rwanda (km)=%{x}<br>Export Value (Millions USD)=%{y}<br>destination_country=%{customdata[0]}<extra></extra>",
         "legendgroup": "Europe",
         "marker": {
          "color": "#00cc96",
          "symbol": "circle"
         },
         "mode": "markers",
         "name": "Europe",
         "orientation": "v",
         "showlegend": true,
         "type": "scatter",
         "x": [
          7358.679191305935,
          6320.603472180948,
          6593.2343735583645,
          6468.317096316046,
          6276.632247030326
         ],
         "xaxis": "x",
         "y": [
          201.09772139734017,
          165.56379190015443,
          96.70065434696224,
          67.73295503394876,
          39.234884330205986
         ],
         "yaxis": "y"
        },
        {
         "customdata": [
          [
           "United States"
          ]
         ],
         "hovertemplate": "region=Americas<br>Distance from Rwanda (km)=%{x}<br>Export Value (Millions USD)=%{y}<br>destination_country=%{customdata[0]}<extra></extra>",
         "legendgroup": "Americas",
         "marker": {
          "color": "#ab63fa",
          "symbol": "circle"
         },
         "mode": "markers",
         "name": "Americas",
         "orientation": "v",
         "showlegend": true,
         "type": "scatter",
         "x": [
          14597.839647111532
         ],
         "xaxis": "x",
         "y": [
          123.0913150488274
         ],
         "yaxis": "y"
        },
        {
         "customdata": [
          [
           "Egypt"
          ],
          [
           "Burundi"
          ]
         ],
         "hovertemplate": "region=Unknown<br>Distance from Rwanda (km)=%{x}<br>Export Value (Millions USD)=%{y}<br>destination_country=%{customdata[0]}<extra></extra>",
         "legendgroup": "Unknown",
         "marker": {
          "color": "#FFA15A",
          "symbol": "circle"
         },
         "mode": "markers",
         "name": "Unknown",
         "orientation": "v",
         "showlegend": true,
         "type": "scatter",
         "x": [
          3322.989751889298,
          3322.989751889298
         ],
         "xaxis": "x",
         "y": [
          29.67438518755538,
          29.190795908195383
         ],
         "yaxis": "y"
        }
       ],
       "layout": {
        "legend": {
         "title": {
          "text": "region"
         },
         "tracegroupgap": 0
        },
        "template": {
         "data": {
          "bar": [
           {
            "error_x": {
             "color": "#2a3f5f"
            },
            "error_y": {
             "color": "#2a3f5f"
            },
            "marker": {
             "line": {
              "color": "white",
              "width": 0.5
             },
             "pattern": {
              "fillmode": "overlay",
              "size": 10,
              "solidity": 0.2
             }
            },
            "type": "bar"
           }
          ],
          "barpolar": [
           {
            "marker": {
             "line": {
              "color": "white",
              "width": 0.5
             },
             "pattern": {
              "fillmode": "overlay",
              "size": 10,
              "solidity": 0.2
             }
            },
            "type": "barpolar"
           }
          ],
          "carpet": [
           {
            "aaxis": {
             "endlinecolor": "#2a3f5f",
             "gridcolor": "#C8D4E3",
             "linecolor": "#C8D4E3",
             "minorgridcolor": "#C8D4E3",
             "startlinecolor": "#2a3f5f"
            },
            "baxis": {
             "endlinecolor": "#2a3f5f",
             "gridcolor": "#C8D4E3",
             "linecolor": "#C8D4E3",
             "minorgridcolor": "#C8D4E3",
             "startlinecolor": "#2a3f5f"
            },
            "type": "carpet"
           }
          ],
          "choropleth": [
           {
            "colorbar": {
             "outlinewidth": 0,
             "ticks": ""
            },
            "type": "choropleth"
           }
          ],
          "contour": [
           {
            "colorbar": {
             "outlinewidth": 0,
             "ticks": ""
            },
            "colorscale": [
             [
              0,
              "#0d0887"
             ],
             [
              0.1111111111111111,
              "#46039f"
             ],
             [
              0.2222222222222222,
              "#7201a8"
             ],
             [
              0.3333333333333333,
              "#9c179e"
             ],
             [
              0.4444444444444444,
              "#bd3786"
             ],
             [
              0.5555555555555556,
              "#d8576b"
             ],
             [
              0.6666666666666666,
              "#ed7953"
             ],
             [
              0.7777777777777778,
              "#fb9f3a"
             ],
             [
              0.8888888888888888,
              "#fdca26"
             ],
             [
              1,
              "#f0f921"
             ]
            ],
            "type": "contour"
           }
          ],
          "contourcarpet": [
           {
            "colorbar": {
             "outlinewidth": 0,
             "ticks": ""
            },
            "type": "contourcarpet"
           }
          ],
          "heatmap": [
           {
            "colorbar": {
             "outlinewidth": 0,
             "ticks": ""
            },
            "colorscale": [
             [
              0,
              "#0d0887"
             ],
             [
              0.1111111111111111,
              "#46039f"
             ],
             [
              0.2222222222222222,
              "#7201a8"
             ],
             [
              0.3333333333333333,
              "#9c179e"
             ],
             [
              0.4444444444444444,
              "#bd3786"
             ],
             [
              0.5555555555555556,
              "#d8576b"
             ],
             [
              0.6666666666666666,
              "#ed7953"
             ],
             [
              0.7777777777777778,
              "#fb9f3a"
             ],
             [
              0.8888888888888888,
              "#fdca26"
             ],
             [
              1,
              "#f0f921"
             ]
            ],
            "type": "heatmap"
           }
          ],
          "heatmapgl": [
           {
            "colorbar": {
             "outlinewidth": 0,
             "ticks": ""
            },
            "colorscale": [
             [
              0,
              "#0d0887"
             ],
             [
              0.1111111111111111,
              "#46039f"
             ],
             [
              0.2222222222222222,
              "#7201a8"
             ],
             [
              0.3333333333333333,
              "#9c179e"
             ],
             [
              0.4444444444444444,
              "#bd3786"
             ],
             [
              0.5555555555555556,
              "#d8576b"
             ],
             [
              0.6666666666666666,
              "#ed7953"
             ],
             [
              0.7777777777777778,
              "#fb9f3a"
             ],
             [
              0.8888888888888888,
              "#fdca26"
             ],
             [
              1,
              "#f0f921"
             ]
            ],
            "type": "heatmapgl"
           }
          ],
          "histogram": [
           {
            "marker": {
             "pattern": {
              "fillmode": "overlay",
              "size": 10,
              "solidity": 0.2
             }
            },
            "type": "histogram"
           }
          ],
          "histogram2d": [
           {
            "colorbar": {
             "outlinewidth": 0,
             "ticks": ""
            },
            "colorscale": [
             [
              0,
              "#0d0887"
             ],
             [
              0.1111111111111111,
              "#46039f"
             ],
             [
              0.2222222222222222,
              "#7201a8"
             ],
             [
              0.3333333333333333,
              "#9c179e"
             ],
             [
              0.4444444444444444,
              "#bd3786"
             ],
             [
              0.5555555555555556,
              "#d8576b"
             ],
             [
              0.6666666666666666,
              "#ed7953"
             ],
             [
              0.7777777777777778,
              "#fb9f3a"
             ],
             [
              0.8888888888888888,
              "#fdca26"
             ],
             [
              1,
              "#f0f921"
             ]
            ],
            "type": "histogram2d"
           }
          ],
          "histogram2dcontour": [
           {
            "colorbar": {
             "outlinewidth": 0,
             "ticks": ""
            },
            "colorscale": [
             [
              0,
              "#0d0887"
             ],
             [
              0.1111111111111111,
              "#46039f"
             ],
             [
              0.2222222222222222,
              "#7201a8"
             ],
             [
              0.3333333333333333,
              "#9c179e"
             ],
             [
              0.4444444444444444,
              "#bd3786"
             ],
             [
              0.5555555555555556,
              "#d8576b"
             ],
             [
              0.6666666666666666,
              "#ed7953"
             ],
             [
              0.7777777777777778,
              "#fb9f3a"
             ],
             [
              0.8888888888888888,
              "#fdca26"
             ],
             [
              1,
              "#f0f921"
             ]
            ],
            "type": "histogram2dcontour"
           }
          ],
          "mesh3d": [
           {
            "colorbar": {
             "outlinewidth": 0,
             "ticks": ""
            },
            "type": "mesh3d"
           }
          ],
          "parcoords": [
           {
            "line": {
             "colorbar": {
              "outlinewidth": 0,
              "ticks": ""
             }
            },
            "type": "parcoords"
           }
          ],
          "pie": [
           {
            "automargin": true,
            "type": "pie"
           }
          ],
          "scatter": [
           {
            "fillpattern": {
             "fillmode": "overlay",
             "size": 10,
             "solidity": 0.2
            },
            "type": "scatter"
           }
          ],
          "scatter3d": [
           {
            "line": {
             "colorbar": {
              "outlinewidth": 0,
              "ticks": ""
             }
            },
            "marker": {
             "colorbar": {
              "outlinewidth": 0,
              "ticks": ""
             }
            },
            "type": "scatter3d"
           }
          ],
          "scattercarpet": [
           {
            "marker": {
             "colorbar": {
              "outlinewidth": 0,
              "ticks": ""
             }
            },
            "type": "scattercarpet"
           }
          ],
          "scattergeo": [
           {
            "marker": {
             "colorbar": {
              "outlinewidth": 0,
              "ticks": ""
             }
            },
            "type": "scattergeo"
           }
          ],
          "scattergl": [
           {
            "marker": {
             "colorbar": {
              "outlinewidth": 0,
              "ticks": ""
             }
            },
            "type": "scattergl"
           }
          ],
          "scattermapbox": [
           {
            "marker": {
             "colorbar": {
              "outlinewidth": 0,
              "ticks": ""
             }
            },
            "type": "scattermapbox"
           }
          ],
          "scatterpolar": [
           {
            "marker": {
             "colorbar": {
              "outlinewidth": 0,
              "ticks": ""
             }
            },
            "type": "scatterpolar"
           }
          ],
          "scatterpolargl": [
           {
            "marker": {
             "colorbar": {
              "outlinewidth": 0,
              "ticks": ""
             }
            },
            "type": "scatterpolargl"
           }
          ],
          "scatterternary": [
           {
            "marker": {
             "colorbar": {
              "outlinewidth": 0,
              "ticks": ""
             }
            },
            "type": "scatterternary"
           }
          ],
          "surface": [
           {
            "colorbar": {
             "outlinewidth": 0,
             "ticks": ""
            },
            "colorscale": [
             [
              0,
              "#0d0887"
             ],
             [
              0.1111111111111111,
              "#46039f"
             ],
             [
              0.2222222222222222,
              "#7201a8"
             ],
             [
              0.3333333333333333,
              "#9c179e"
             ],
             [
              0.4444444444444444,
              "#bd3786"
             ],
             [
              0.5555555555555556,
              "#d8576b"
             ],
             [
              0.6666666666666666,
              "#ed7953"
             ],
             [
              0.7777777777777778,
              "#fb9f3a"
             ],
             [
              0.8888888888888888,
              "#fdca26"
             ],
             [
              1,
              "#f0f921"
             ]
            ],
            "type": "surface"
           }
          ],
          "table": [
           {
            "cells": {
             "fill": {
              "color": "#EBF0F8"
             },
             "line": {
              "color": "white"
             }
            },
            "header": {
             "fill": {
              "color": "#C8D4E3"
             },
             "line": {
              "color": "white"
             }
            },
            "type": "table"
           }
          ]
         },
         "layout": {
          "annotationdefaults": {
           "arrowcolor": "#2a3f5f",
           "arrowhead": 0,
           "arrowwidth": 1
          },
          "autotypenumbers": "strict",
          "coloraxis": {
           "colorbar": {
            "outlinewidth": 0,
            "ticks": ""
           }
          },
          "colorscale": {
           "diverging": [
            [
             0,
             "#8e0152"
            ],
            [
             0.1,
             "#c51b7d"
            ],
            [
             0.2,
             "#de77ae"
            ],
            [
             0.3,
             "#f1b6da"
            ],
            [
             0.4,
             "#fde0ef"
            ],
            [
             0.5,
             "#f7f7f7"
            ],
            [
             0.6,
             "#e6f5d0"
            ],
            [
             0.7,
             "#b8e186"
            ],
            [
             0.8,
             "#7fbc41"
            ],
            [
             0.9,
             "#4d9221"
            ],
            [
             1,
             "#276419"
            ]
           ],
           "sequential": [
            [
             0,
             "#0d0887"
            ],
            [
             0.1111111111111111,
             "#46039f"
            ],
            [
             0.2222222222222222,
             "#7201a8"
            ],
            [
             0.3333333333333333,
             "#9c179e"
            ],
            [
             0.4444444444444444,
             "#bd3786"
            ],
            [
             0.5555555555555556,
             "#d8576b"
            ],
            [
             0.6666666666666666,
             "#ed7953"
            ],
            [
             0.7777777777777778,
             "#fb9f3a"
            ],
            [
             0.8888888888888888,
             "#fdca26"
            ],
            [
             1,
             "#f0f921"
            ]
           ],
           "sequentialminus": [
            [
             0,
             "#0d0887"
            ],
            [
             0.1111111111111111,
             "#46039f"
            ],
            [
             0.2222222222222222,
             "#7201a8"
            ],
            [
             0.3333333333333333,
             "#9c179e"
            ],
            [
             0.4444444444444444,
             "#bd3786"
            ],
            [
             0.5555555555555556,
             "#d8576b"
            ],
            [
             0.6666666666666666,
             "#ed7953"
            ],
            [
             0.7777777777777778,
             "#fb9f3a"
            ],
            [
             0.8888888888888888,
             "#fdca26"
            ],
            [
             1,
             "#f0f921"
            ]
           ]
          },
          "colorway": [
           "#636efa",
           "#EF553B",
           "#00cc96",
           "#ab63fa",
           "#FFA15A",
           "#19d3f3",
           "#FF6692",
           "#B6E880",
           "#FF97FF",
           "#FECB52"
          ],
          "font": {
           "color": "#2a3f5f"
          },
          "geo": {
           "bgcolor": "white",
           "lakecolor": "white",
           "landcolor": "white",
           "showlakes": true,
           "showland": true,
           "subunitcolor": "#C8D4E3"
          },
          "hoverlabel": {
           "align": "left"
          },
          "hovermode": "closest",
          "mapbox": {
           "style": "light"
          },
          "paper_bgcolor": "white",
          "plot_bgcolor": "white",
          "polar": {
           "angularaxis": {
            "gridcolor": "#EBF0F8",
            "linecolor": "#EBF0F8",
            "ticks": ""
           },
           "bgcolor": "white",
           "radialaxis": {
            "gridcolor": "#EBF0F8",
            "linecolor": "#EBF0F8",
            "ticks": ""
           }
          },
          "scene": {
           "xaxis": {
            "backgroundcolor": "white",
            "gridcolor": "#DFE8F3",
            "gridwidth": 2,
            "linecolor": "#EBF0F8",
            "showbackground": true,
            "ticks": "",
            "zerolinecolor": "#EBF0F8"
           },
           "yaxis": {
            "backgroundcolor": "white",
            "gridcolor": "#DFE8F3",
            "gridwidth": 2,
            "linecolor": "#EBF0F8",
            "showbackground": true,
            "ticks": "",
            "zerolinecolor": "#EBF0F8"
           },
           "zaxis": {
            "backgroundcolor": "white",
            "gridcolor": "#DFE8F3",
            "gridwidth": 2,
            "linecolor": "#EBF0F8",
            "showbackground": true,
            "ticks": "",
            "zerolinecolor": "#EBF0F8"
           }
          },
          "shapedefaults": {
           "line": {
            "color": "#2a3f5f"
           }
          },
          "ternary": {
           "aaxis": {
            "gridcolor": "#DFE8F3",
            "linecolor": "#A2B1C6",
            "ticks": ""
           },
           "baxis": {
            "gridcolor": "#DFE8F3",
            "linecolor": "#A2B1C6",
            "ticks": ""
           },
           "bgcolor": "white",
           "caxis": {
            "gridcolor": "#DFE8F3",
            "linecolor": "#A2B1C6",
            "ticks": ""
           }
          },
          "title": {
           "x": 0.05
          },
          "xaxis": {
           "automargin": true,
           "gridcolor": "#EBF0F8",
           "linecolor": "#EBF0F8",
           "ticks": "",
           "title": {
            "standoff": 15
           },
           "zerolinecolor": "#EBF0F8",
           "zerolinewidth": 2
          },
          "yaxis": {
           "automargin": true,
           "gridcolor": "#EBF0F8",
           "linecolor": "#EBF0F8",
           "ticks": "",
           "title": {
            "standoff": 15
           },
           "zerolinecolor": "#EBF0F8",
           "zerolinewidth": 2
          }
         }
        },
        "title": {
         "text": "Geographic Distance vs Export Value"
        },
        "xaxis": {
         "anchor": "y",
         "domain": [
          0,
          1
         ],
         "title": {
          "text": "Distance from Rwanda (km)"
         }
        },
        "yaxis": {
         "anchor": "x",
         "domain": [
          0,
          1
         ],
         "title": {
          "text": "Export Value (Millions USD)"
         }
        }
       }
      }
     },
     "metadata": {},
     "output_type": "display_data"
    },
    {
     "name": "stdout",
     "output_type": "stream",
     "text": [
      "\n",
      "💾 Distance analysis saved as 'visualizations/rwanda_distance_analysis.html'\n"
     ]
    }
   ],
   "source": [
    "# Statistical hypothesis testing\n",
    "from scipy.stats import ttest_1samp, ttest_ind, f_oneway, chi2_contingency\n",
    "\n",
    "print(\"🧪 STATISTICAL HYPOTHESIS TESTING\")\n",
    "print(\"=\"*70)\n",
    "\n",
    "# Test 1: Is the average trade balance significantly different from zero?\n",
    "print(\"\\n📊 HYPOTHESIS TEST 1: Trade Balance vs Zero\")\n",
    "print(\"-\"*50)\n",
    "print(\"H0: Average trade balance = 0 (no significant surplus or deficit)\")\n",
    "print(\"H1: Average trade balance ≠ 0 (significant surplus or deficit)\")\n",
    "\n",
    "t_stat, p_value = ttest_1samp(trade_df['trade_balance'], 0)\n",
    "print(f\"T-statistic: {t_stat:.4f}\")\n",
    "print(f\"P-value: {p_value:.4f}\")\n",
    "print(f\"Conclusion: {'Reject H0' if p_value < 0.05 else 'Fail to reject H0'}\")\n",
    "print(f\"Average trade balance: ${trade_df['trade_balance'].mean():.2f}M\")\n",
    "\n",
    "# Test 2: Are export and import values significantly different?\n",
    "print(\"\\n📊 HYPOTHESIS TEST 2: Exports vs Imports\")\n",
    "print(\"-\"*50)\n",
    "print(\"H0: Export values = Import values\")\n",
    "print(\"H1: Export values ≠ Import values\")\n",
    "\n",
    "t_stat, p_value = ttest_ind(trade_df['export_value'], trade_df['import_value'])\n",
    "print(f\"T-statistic: {t_stat:.4f}\")\n",
    "print(f\"P-value: {p_value:.4f}\")\n",
    "print(f\"Conclusion: {'Reject H0' if p_value < 0.05 else 'Fail to reject H0'}\")\n",
    "print(f\"Mean exports: ${trade_df['export_value'].mean():.2f}M\")\n",
    "print(f\"Mean imports: ${trade_df['import_value'].mean():.2f}M\")\n",
    "\n",
    "# Test 3: Regional differences in trade values\n",
    "print(\"\\n📊 HYPOTHESIS TEST 3: Regional Trade Differences\")\n",
    "print(\"-\"*50)\n",
    "print(\"H0: No significant difference between regional trade values\")\n",
    "print(\"H1: Significant differences exist between regional trade values\")\n",
    "\n",
    "# ANOVA test for regional differences\n",
    "regions = countries_df['region'].unique()\n",
    "regional_values = [countries_df[countries_df['region'] == region]['export_value'] for region in regions]\n",
    "\n",
    "f_stat, p_value = f_oneway(*regional_values)\n",
    "print(f\"F-statistic: {f_stat:.4f}\")\n",
    "print(f\"P-value: {p_value:.4f}\")\n",
    "print(f\"Conclusion: {'Reject H0' if p_value < 0.05 else 'Fail to reject H0'}\")\n",
    "\n",
    "# Post-hoc analysis for significant differences\n",
    "if p_value < 0.05:\n",
    "    print(\"\\n📈 Regional Comparison:\")\n",
    "    for region in regions:\n",
    "        region_data = countries_df[countries_df['region'] == region]['export_value']\n",
    "        print(f\"{region}: Mean = ${region_data.mean():.2f}M, Std = ${region_data.std():.2f}M\")\n",
    "\n",
    "# Test 4: Correlation between geographical distance and trade value\n",
    "print(\"\\n📊 HYPOTHESIS TEST 4: Geographic Distance vs Trade Value\")\n",
    "print(\"-\"*50)\n",
    "print(\"H0: No correlation between distance and trade value\")\n",
    "print(\"H1: Significant correlation exists\")\n",
    "\n",
    "# Calculate distance from Rwanda to each country (simplified)\n",
    "rwanda_coord = {'lat': -1.9403, 'lon': 29.8739}\n",
    "\n",
    "def calculate_distance(lat1, lon1, lat2, lon2):\n",
    "    return np.sqrt((lat2 - lat1)**2 + (lon2 - lon1)**2) * 111  # Rough km conversion\n",
    "\n",
    "countries_df['distance_from_rwanda'] = countries_df.apply(\n",
    "    lambda row: calculate_distance(rwanda_coord['lat'], rwanda_coord['lon'], row['latitude'], row['longitude']),\n",
    "    axis=1\n",
    ")\n",
    "\n",
    "corr_coef, p_value = pearsonr(countries_df['distance_from_rwanda'], countries_df['export_value'])\n",
    "print(f\"Correlation coefficient: {corr_coef:.4f}\")\n",
    "print(f\"P-value: {p_value:.4f}\")\n",
    "print(f\"Conclusion: {'Reject H0' if p_value < 0.05 else 'Fail to reject H0'}\")\n",
    "\n",
    "# Visualize distance vs trade value\n",
    "fig_distance = px.scatter(\n",
    "    countries_df,\n",
    "    x='distance_from_rwanda',\n",
    "    y='export_value',\n",
    "    color='region',\n",
    "    hover_data=['destination_country'],\n",
    "    title='Geographic Distance vs Export Value',\n",
    "    labels={\n",
    "        'distance_from_rwanda': 'Distance from Rwanda (km)',\n",
    "        'export_value': 'Export Value (Millions USD)'\n",
    "    },\n",
    "    template='plotly_white'\n",
    ")\n",
    "\n",
    "fig_distance.show()\n",
    "\n",
    "# Save distance analysis\n",
    "fig_distance.write_html('visualizations/rwanda_distance_analysis.html')\n",
    "print(\"\\n💾 Distance analysis saved as 'visualizations/rwanda_distance_analysis.html'\")"
   ]
  },
  {
   "cell_type": "markdown",
   "metadata": {},
   "source": [
    "## 9. Advanced Analytics Dashboard and Reporting"
   ]
  },
  {
   "cell_type": "code",
   "execution_count": 11,
   "metadata": {},
   "outputs": [
    {
     "name": "stdout",
     "output_type": "stream",
     "text": [
      "📋 COMPREHENSIVE ANALYTICS REPORT\n",
      "======================================================================\n",
      "\n",
      "📊 TRADE OVERVIEW\n",
      "--------------------------------------------------\n",
      "Total Export Value: $8,939.73M\n",
      "Total Import Value: $20,262.58M\n",
      "Trade Balance: $-11,322.85M\n",
      "Export Destinations: 20\n",
      "Import Sources: 20\n",
      "Top Export Destination: United Arab Emirates\n",
      "Top Import Source: Tanzania\n",
      "\n",
      "🌍 REGIONAL ANALYSIS\n",
      "--------------------------------------------------\n",
      "Asia Exports: $6,817.57M\n",
      "Africa Exports: $1,369.88M\n",
      "Europe Exports: $570.33M\n",
      "Americas Exports: $123.09M\n",
      "\n",
      "📈 STATISTICAL INSIGHTS\n",
      "--------------------------------------------------\n",
      "Export Volatility: $342.71M\n",
      "Import Volatility: $619.75M\n",
      "Export-Import Correlation: 0.9253\n",
      "Trade Imbalance Ratio: 0.45\n",
      "\n",
      "🗺️ GEOGRAPHIC INSIGHTS\n",
      "--------------------------------------------------\n",
      "Average Distance to Partners: 5540 km\n",
      "Farthest Partner: United States\n",
      "Closest Partner: Uganda\n",
      "\n",
      "💾 Comprehensive insights saved to data/processed/visualization_insights.json\n",
      "🎨 All visualizations completed successfully!\n"
     ]
    }
   ],
   "source": [
    "# Create comprehensive analytics report\n",
    "print(\"📋 COMPREHENSIVE ANALYTICS REPORT\")\n",
    "print(\"=\"*70)\n",
    "\n",
    "# Generate comprehensive insights\n",
    "insights = {\n",
    "    'trade_overview': {\n",
    "        'total_export_value': countries_df['export_value'].sum(),\n",
    "        'total_import_value': import_countries_df['import_value'].sum(),\n",
    "        'trade_balance': countries_df['export_value'].sum() - import_countries_df['import_value'].sum(),\n",
    "        'export_destinations_count': len(countries_df),\n",
    "        'import_sources_count': len(import_countries_df),\n",
    "        'top_export_destination': countries_df.loc[countries_df['export_value'].idxmax(), 'destination_country'],\n",
    "        'top_import_source': import_countries_df.loc[import_countries_df['import_value'].idxmax(), 'source_country']\n",
    "    },\n",
    "    'regional_analysis': {\n",
    "        'asia_exports': countries_df[countries_df['region'] == 'Asia']['export_value'].sum(),\n",
    "        'africa_exports': countries_df[countries_df['region'] == 'Africa']['export_value'].sum(),\n",
    "        'europe_exports': countries_df[countries_df['region'] == 'Europe']['export_value'].sum(),\n",
    "        'americas_exports': countries_df[countries_df['region'] == 'Americas']['export_value'].sum()\n",
    "    },\n",
    "    'statistical_insights': {\n",
    "        'export_volatility': trade_df['export_value'].std(),\n",
    "        'import_volatility': trade_df['import_value'].std(),\n",
    "        'correlation_strength': correlation_matrix.loc['export_value', 'import_value'],\n",
    "        'trade_imbalance_ratio': abs(trade_df['export_value'].mean() / trade_df['import_value'].mean())\n",
    "    },\n",
    "    'geographic_insights': {\n",
    "        'average_distance_to_partners': countries_df['distance_from_rwanda'].mean(),\n",
    "        'farthest_partner': countries_df.loc[countries_df['distance_from_rwanda'].idxmax(), 'destination_country'],\n",
    "        'closest_partner': countries_df.loc[countries_df['distance_from_rwanda'].idxmin(), 'destination_country']\n",
    "    }\n",
    "}\n",
    "\n",
    "print(\"\\n📊 TRADE OVERVIEW\")\n",
    "print(\"-\"*50)\n",
    "overview = insights['trade_overview']\n",
    "print(f\"Total Export Value: ${overview['total_export_value']:,.2f}M\")\n",
    "print(f\"Total Import Value: ${overview['total_import_value']:,.2f}M\")\n",
    "print(f\"Trade Balance: ${overview['trade_balance']:,.2f}M\")\n",
    "print(f\"Export Destinations: {overview['export_destinations_count']}\")\n",
    "print(f\"Import Sources: {overview['import_sources_count']}\")\n",
    "print(f\"Top Export Destination: {overview['top_export_destination']}\")\n",
    "print(f\"Top Import Source: {overview['top_import_source']}\")\n",
    "\n",
    "print(\"\\n🌍 REGIONAL ANALYSIS\")\n",
    "print(\"-\"*50)\n",
    "regional = insights['regional_analysis']\n",
    "for region, value in regional.items():\n",
    "    print(f\"{region.replace('_', ' ').title()}: ${value:,.2f}M\")\n",
    "\n",
    "print(\"\\n📈 STATISTICAL INSIGHTS\")\n",
    "print(\"-\"*50)\n",
    "stats = insights['statistical_insights']\n",
    "print(f\"Export Volatility: ${stats['export_volatility']:.2f}M\")\n",
    "print(f\"Import Volatility: ${stats['import_volatility']:.2f}M\")\n",
    "print(f\"Export-Import Correlation: {stats['correlation_strength']:.4f}\")\n",
    "print(f\"Trade Imbalance Ratio: {stats['trade_imbalance_ratio']:.2f}\")\n",
    "\n",
    "print(\"\\n🗺️ GEOGRAPHIC INSIGHTS\")\n",
    "print(\"-\"*50)\n",
    "geo = insights['geographic_insights']\n",
    "print(f\"Average Distance to Partners: {geo['average_distance_to_partners']:.0f} km\")\n",
    "print(f\"Farthest Partner: {geo['farthest_partner']}\")\n",
    "print(f\"Closest Partner: {geo['closest_partner']}\")\n",
    "\n",
    "# Save comprehensive insights\n",
    "with open('data/processed/visualization_insights.json', 'w') as f:\n",
    "    json.dump(insights, f, indent=2, default=str)\n",
    "\n",
    "print(f\"\\n💾 Comprehensive insights saved to data/processed/visualization_insights.json\")\n",
    "print(f\"🎨 All visualizations completed successfully!\")"
   ]
  }
 ],
 "metadata": {
  "kernelspec": {
   "display_name": "Python 3",
   "language": "python",
   "name": "python3"
  },
  "language_info": {
   "codemirror_mode": {
    "name": "ipython",
    "version": 3
   },
   "file_extension": ".py",
   "mimetype": "text/x-python",
   "name": "python",
   "nbconvert_exporter": "python",
   "pygments_lexer": "ipython3",
   "version": "3.12.5"
  }
 },
 "nbformat": 4,
 "nbformat_minor": 4
}
