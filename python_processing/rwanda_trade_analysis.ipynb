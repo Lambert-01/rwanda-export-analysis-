{
 "cells": [
  {
   "cell_type": "markdown",
   "metadata": {},
   "source": [
    "# Rwanda Trade Data Analysis\n",
    "## Comprehensive Analysis of Rwanda's External Trade Dataset\n",
    "\n",
    "This notebook provides a comprehensive analysis of Rwanda's formal external trade in goods, covering exports, imports, and re-exports data from 2023Q1 to 2025Q1.\n",
    "\n",
    "## Dataset Overview\n",
    "- **Source**: National Institute of Statistics of Rwanda (NISR)\n",
    "- **Period**: 2023Q1 - 2025Q1\n",
    "- **Currency**: US$ millions\n",
    "- **Sheets**: 13 different sheets covering various trade dimensions\n",
    "- **Key Metrics**: Trade values, percentages, growth rates, and regional breakdowns"
   ]
  },
  {
   "cell_type": "code",
   "execution_count": 1,
   "metadata": {},
   "outputs": [
    {
     "name": "stdout",
     "output_type": "stream",
     "text": [
      "Libraries imported successfully!\n"
     ]
    }
   ],
   "source": [
    "# Import required libraries\n",
    "import pandas as pd\n",
    "import numpy as np\n",
    "import matplotlib.pyplot as plt\n",
    "import seaborn as sns\n",
    "import plotly.express as px\n",
    "import plotly.graph_objects as go\n",
    "from plotly.subplots import make_subplots\n",
    "import json\n",
    "from pathlib import Path\n",
    "from datetime import datetime\n",
    "import warnings\n",
    "warnings.filterwarnings('ignore')\n",
    "\n",
    "# Set style for better visualizations\n",
    "plt.style.use('seaborn-v0_8')\n",
    "sns.set_palette(\"husl\")\n",
    "\n",
    "print(\"Libraries imported successfully!\")"
   ]
  },
  {
   "cell_type": "markdown",
   "metadata": {},
   "source": [
    "## 1. Dataset Structure Analysis\n",
    "\n",
    "Let's first examine the structure of our Excel dataset to understand what data we're working with."
   ]
  },
  {
   "cell_type": "code",
   "execution_count": 2,
   "metadata": {},
   "outputs": [
    {
     "name": "stdout",
     "output_type": "stream",
     "text": [
      "📊 Excel file loaded successfully!\n",
      "📋 Total sheets found: 13\n",
      "\n",
      "📑 Available sheets:\n",
      "   1. Graph Overall\n",
      "   2. Graph EAC\n",
      "   3. EAC\n",
      "   4. Total trade with the World\n",
      "   5. Regional blocks\n",
      "   6. Trade by continents\n",
      "   7. Sheet11\n",
      "   8. ExportCountry\n",
      "   9. ImportCountry\n",
      "   10. ReexportsCountry\n",
      "   11. ExportsCommodity\n",
      "   12. ImportsCommodity\n",
      "   13. ReexportsCommodity\n"
     ]
    }
   ],
   "source": [
    "# Load and examine the Excel file structure\n",
    "excel_file_path = \"../data/raw/2025Q1_Trade_report_annexTables.xlsx\"\n",
    "\n",
    "try:\n",
    "    excel_file = pd.ExcelFile(excel_file_path)\n",
    "    sheet_names = excel_file.sheet_names\n",
    "    \n",
    "    print(f\"📊 Excel file loaded successfully!\")\n",
    "    print(f\"📋 Total sheets found: {len(sheet_names)}\")\n",
    "    print(f\"\\n📑 Available sheets:\")\n",
    "    for i, sheet in enumerate(sheet_names, 1):\n",
    "        print(f\"   {i}. {sheet}\")\n",
    "        \n",
    "except Exception as e:\n",
    "    print(f\"❌ Error loading Excel file: {e}\")"
   ]
  },
  {
   "cell_type": "code",
   "execution_count": 3,
   "metadata": {},
   "outputs": [
    {
     "name": "stdout",
     "output_type": "stream",
     "text": [
      "✅ Graph Overall: 12 rows × 11 columns\n",
      "✅ Graph EAC: 13 rows × 11 columns\n",
      "✅ EAC: 31 rows × 21 columns\n",
      "✅ Total trade with the World: 17 rows × 12 columns\n",
      "✅ Regional blocks: 31 rows × 11 columns\n",
      "✅ Trade by continents: 23 rows × 20 columns\n",
      "✅ Sheet11: 8 rows × 6 columns\n",
      "✅ ExportCountry: 31 rows × 13 columns\n",
      "✅ ImportCountry: 27 rows × 13 columns\n",
      "✅ ReexportsCountry: 28 rows × 13 columns\n",
      "✅ ExportsCommodity: 16 rows × 14 columns\n",
      "✅ ImportsCommodity: 16 rows × 14 columns\n",
      "✅ ReexportsCommodity: 17 rows × 14 columns\n",
      "\n",
      "📈 Analysis complete for 13 sheets\n"
     ]
    }
   ],
   "source": [
    "# Analyze each sheet's structure\n",
    "sheet_analysis = {}\n",
    "\n",
    "for sheet_name in sheet_names:\n",
    "    try:\n",
    "        df = pd.read_excel(excel_file_path, sheet_name=sheet_name, header=None)\n",
    "        sheet_analysis[sheet_name] = {\n",
    "            'shape': df.shape,\n",
    "            'columns': df.shape[1],\n",
    "            'rows': df.shape[0],\n",
    "            'memory_usage': df.memory_usage(deep=True).sum(),\n",
    "            'sample_data': df.head(3).to_dict('records')\n",
    "        }\n",
    "        print(f\"✅ {sheet_name}: {df.shape[0]} rows × {df.shape[1]} columns\")\n",
    "    except Exception as e:\n",
    "        print(f\"❌ {sheet_name}: Error - {e}\")\n",
    "        sheet_analysis[sheet_name] = {'error': str(e)}\n",
    "\n",
    "print(f\"\\n📈 Analysis complete for {len(sheet_analysis)} sheets\")"
   ]
  },
  {
   "cell_type": "markdown",
   "metadata": {},
   "source": [
    "## 2. Overall Trade Analysis\n",
    "\n",
    "Let's start by analyzing the overall trade data from the 'Graph Overall' sheet."
   ]
  },
  {
   "cell_type": "code",
   "execution_count": 4,
   "metadata": {},
   "outputs": [
    {
     "name": "stdout",
     "output_type": "stream",
     "text": [
      "📅 Found 9 quarters: ['2023Q1', '2023Q2', '2023Q3', '2023Q4', '2024Q1', '2024Q2', '2024Q3', '2024Q4', '2025Q1']\n",
      "📊 Extracted 45 overall trade records\n"
     ]
    }
   ],
   "source": [
    "# Load overall trade data\n",
    "overall_df = pd.read_excel(excel_file_path, sheet_name='Graph Overall', header=None)\n",
    "\n",
    "# Extract the data (skipping metadata rows)\n",
    "overall_data = []\n",
    "quarters = []\n",
    "\n",
    "# Find the header row with quarters\n",
    "for i, row in overall_df.iterrows():\n",
    "    if pd.notna(row.iloc[1]) and 'Flow/Period' in str(row.iloc[1]):\n",
    "        quarters = [str(q) for q in row.iloc[2:] if pd.notna(q)]\n",
    "        break\n",
    "\n",
    "print(f\"📅 Found {len(quarters)} quarters: {quarters}\")\n",
    "\n",
    "# Extract trade flows\n",
    "trade_flows = ['Exports', 'Imports', 'Re-Exports', 'Total Trade', 'Trade Balance']\n",
    "\n",
    "for flow in trade_flows:\n",
    "    for i, row in overall_df.iterrows():\n",
    "        if pd.notna(row.iloc[1]) and flow == str(row.iloc[1]).strip():\n",
    "            values = []\n",
    "            for val in row.iloc[2:]:\n",
    "                try:\n",
    "                    values.append(float(val) if pd.notna(val) else 0)\n",
    "                except (ValueError, TypeError):\n",
    "                    continue\n",
    "            \n",
    "            for quarter, value in zip(quarters[:len(values)], values):\n",
    "                overall_data.append({\n",
    "                    'quarter': quarter,\n",
    "                    'flow': flow,\n",
    "                    'value': value\n",
    "                })\n",
    "            break\n",
    "\n",
    "overall_trade_df = pd.DataFrame(overall_data)\n",
    "print(f\"📊 Extracted {len(overall_trade_df)} overall trade records\")"
   ]
  },
  {
   "cell_type": "code",
   "execution_count": 5,
   "metadata": {},
   "outputs": [
    {
     "data": {
      "application/vnd.plotly.v1+json": {
       "config": {
        "plotlyServerURL": "https://plot.ly"
       },
       "data": [
        {
         "line": {
          "width": 3
         },
         "mode": "lines+markers",
         "name": "Exports",
         "type": "scatter",
         "x": [
          "2023Q1",
          "2023Q2",
          "2023Q3",
          "2023Q4",
          "2024Q1",
          "2024Q2",
          "2024Q3",
          "2024Q4",
          "2025Q1"
         ],
         "xaxis": "x",
         "y": [
          402.14468784688006,
          484.73934625285204,
          388.1129711318348,
          399.1084006995603,
          431.6120219963785,
          537.6377961348556,
          667.0045749074241,
          677.4462049907256,
          480.8222662354178
         ],
         "yaxis": "y"
        },
        {
         "line": {
          "width": 3
         },
         "mode": "lines+markers",
         "name": "Imports",
         "type": "scatter",
         "x": [
          "2023Q1",
          "2023Q2",
          "2023Q3",
          "2023Q4",
          "2024Q1",
          "2024Q2",
          "2024Q3",
          "2024Q4",
          "2025Q1"
         ],
         "xaxis": "x",
         "y": [
          1476.5099483773447,
          1571.0946258966371,
          1581.8144762227898,
          1486.9343027633097,
          1410.520446799369,
          1568.9725638823377,
          1751.5689343393103,
          1629.3897840889606,
          1379.0488043778544
         ],
         "yaxis": "y"
        },
        {
         "line": {
          "width": 3
         },
         "mode": "lines+markers",
         "name": "Re-Exports",
         "type": "scatter",
         "x": [
          "2023Q1",
          "2023Q2",
          "2023Q3",
          "2023Q4",
          "2024Q1",
          "2024Q2",
          "2024Q3",
          "2024Q4",
          "2025Q1"
         ],
         "xaxis": "x",
         "y": [
          156.25277435433534,
          154.52127101941767,
          172.99703145780026,
          159.55370666284614,
          173.1654878845185,
          164.00308225717004,
          184.55894346212972,
          177.28709361426786,
          135.3866131659466
         ],
         "yaxis": "y"
        },
        {
         "marker": {
          "color": "red"
         },
         "name": "Trade Balance",
         "type": "bar",
         "x": [
          "2023Q1",
          "2023Q2",
          "2023Q3",
          "2023Q4",
          "2024Q1",
          "2024Q2",
          "2024Q3",
          "2024Q4",
          "2025Q1"
         ],
         "xaxis": "x2",
         "y": [
          -918.1124861761293,
          -931.8340086243675,
          -1020.7044736331547,
          -928.2721954009032,
          -805.742936918472,
          -867.331685490312,
          -900.0054159697565,
          -774.6564854839671,
          -762.8399249764899
         ],
         "yaxis": "y2"
        }
       ],
       "layout": {
        "annotations": [
         {
          "font": {
           "size": 16
          },
          "showarrow": false,
          "text": "Trade Volume Trends (US$ millions)",
          "x": 0.5,
          "xanchor": "center",
          "xref": "paper",
          "y": 1,
          "yanchor": "bottom",
          "yref": "paper"
         },
         {
          "font": {
           "size": 16
          },
          "showarrow": false,
          "text": "Trade Balance Trend",
          "x": 0.5,
          "xanchor": "center",
          "xref": "paper",
          "y": 0.375,
          "yanchor": "bottom",
          "yref": "paper"
         }
        ],
        "height": 800,
        "showlegend": true,
        "template": {
         "data": {
          "bar": [
           {
            "error_x": {
             "color": "#2a3f5f"
            },
            "error_y": {
             "color": "#2a3f5f"
            },
            "marker": {
             "line": {
              "color": "#E5ECF6",
              "width": 0.5
             },
             "pattern": {
              "fillmode": "overlay",
              "size": 10,
              "solidity": 0.2
             }
            },
            "type": "bar"
           }
          ],
          "barpolar": [
           {
            "marker": {
             "line": {
              "color": "#E5ECF6",
              "width": 0.5
             },
             "pattern": {
              "fillmode": "overlay",
              "size": 10,
              "solidity": 0.2
             }
            },
            "type": "barpolar"
           }
          ],
          "carpet": [
           {
            "aaxis": {
             "endlinecolor": "#2a3f5f",
             "gridcolor": "white",
             "linecolor": "white",
             "minorgridcolor": "white",
             "startlinecolor": "#2a3f5f"
            },
            "baxis": {
             "endlinecolor": "#2a3f5f",
             "gridcolor": "white",
             "linecolor": "white",
             "minorgridcolor": "white",
             "startlinecolor": "#2a3f5f"
            },
            "type": "carpet"
           }
          ],
          "choropleth": [
           {
            "colorbar": {
             "outlinewidth": 0,
             "ticks": ""
            },
            "type": "choropleth"
           }
          ],
          "contour": [
           {
            "colorbar": {
             "outlinewidth": 0,
             "ticks": ""
            },
            "colorscale": [
             [
              0,
              "#0d0887"
             ],
             [
              0.1111111111111111,
              "#46039f"
             ],
             [
              0.2222222222222222,
              "#7201a8"
             ],
             [
              0.3333333333333333,
              "#9c179e"
             ],
             [
              0.4444444444444444,
              "#bd3786"
             ],
             [
              0.5555555555555556,
              "#d8576b"
             ],
             [
              0.6666666666666666,
              "#ed7953"
             ],
             [
              0.7777777777777778,
              "#fb9f3a"
             ],
             [
              0.8888888888888888,
              "#fdca26"
             ],
             [
              1,
              "#f0f921"
             ]
            ],
            "type": "contour"
           }
          ],
          "contourcarpet": [
           {
            "colorbar": {
             "outlinewidth": 0,
             "ticks": ""
            },
            "type": "contourcarpet"
           }
          ],
          "heatmap": [
           {
            "colorbar": {
             "outlinewidth": 0,
             "ticks": ""
            },
            "colorscale": [
             [
              0,
              "#0d0887"
             ],
             [
              0.1111111111111111,
              "#46039f"
             ],
             [
              0.2222222222222222,
              "#7201a8"
             ],
             [
              0.3333333333333333,
              "#9c179e"
             ],
             [
              0.4444444444444444,
              "#bd3786"
             ],
             [
              0.5555555555555556,
              "#d8576b"
             ],
             [
              0.6666666666666666,
              "#ed7953"
             ],
             [
              0.7777777777777778,
              "#fb9f3a"
             ],
             [
              0.8888888888888888,
              "#fdca26"
             ],
             [
              1,
              "#f0f921"
             ]
            ],
            "type": "heatmap"
           }
          ],
          "heatmapgl": [
           {
            "colorbar": {
             "outlinewidth": 0,
             "ticks": ""
            },
            "colorscale": [
             [
              0,
              "#0d0887"
             ],
             [
              0.1111111111111111,
              "#46039f"
             ],
             [
              0.2222222222222222,
              "#7201a8"
             ],
             [
              0.3333333333333333,
              "#9c179e"
             ],
             [
              0.4444444444444444,
              "#bd3786"
             ],
             [
              0.5555555555555556,
              "#d8576b"
             ],
             [
              0.6666666666666666,
              "#ed7953"
             ],
             [
              0.7777777777777778,
              "#fb9f3a"
             ],
             [
              0.8888888888888888,
              "#fdca26"
             ],
             [
              1,
              "#f0f921"
             ]
            ],
            "type": "heatmapgl"
           }
          ],
          "histogram": [
           {
            "marker": {
             "pattern": {
              "fillmode": "overlay",
              "size": 10,
              "solidity": 0.2
             }
            },
            "type": "histogram"
           }
          ],
          "histogram2d": [
           {
            "colorbar": {
             "outlinewidth": 0,
             "ticks": ""
            },
            "colorscale": [
             [
              0,
              "#0d0887"
             ],
             [
              0.1111111111111111,
              "#46039f"
             ],
             [
              0.2222222222222222,
              "#7201a8"
             ],
             [
              0.3333333333333333,
              "#9c179e"
             ],
             [
              0.4444444444444444,
              "#bd3786"
             ],
             [
              0.5555555555555556,
              "#d8576b"
             ],
             [
              0.6666666666666666,
              "#ed7953"
             ],
             [
              0.7777777777777778,
              "#fb9f3a"
             ],
             [
              0.8888888888888888,
              "#fdca26"
             ],
             [
              1,
              "#f0f921"
             ]
            ],
            "type": "histogram2d"
           }
          ],
          "histogram2dcontour": [
           {
            "colorbar": {
             "outlinewidth": 0,
             "ticks": ""
            },
            "colorscale": [
             [
              0,
              "#0d0887"
             ],
             [
              0.1111111111111111,
              "#46039f"
             ],
             [
              0.2222222222222222,
              "#7201a8"
             ],
             [
              0.3333333333333333,
              "#9c179e"
             ],
             [
              0.4444444444444444,
              "#bd3786"
             ],
             [
              0.5555555555555556,
              "#d8576b"
             ],
             [
              0.6666666666666666,
              "#ed7953"
             ],
             [
              0.7777777777777778,
              "#fb9f3a"
             ],
             [
              0.8888888888888888,
              "#fdca26"
             ],
             [
              1,
              "#f0f921"
             ]
            ],
            "type": "histogram2dcontour"
           }
          ],
          "mesh3d": [
           {
            "colorbar": {
             "outlinewidth": 0,
             "ticks": ""
            },
            "type": "mesh3d"
           }
          ],
          "parcoords": [
           {
            "line": {
             "colorbar": {
              "outlinewidth": 0,
              "ticks": ""
             }
            },
            "type": "parcoords"
           }
          ],
          "pie": [
           {
            "automargin": true,
            "type": "pie"
           }
          ],
          "scatter": [
           {
            "fillpattern": {
             "fillmode": "overlay",
             "size": 10,
             "solidity": 0.2
            },
            "type": "scatter"
           }
          ],
          "scatter3d": [
           {
            "line": {
             "colorbar": {
              "outlinewidth": 0,
              "ticks": ""
             }
            },
            "marker": {
             "colorbar": {
              "outlinewidth": 0,
              "ticks": ""
             }
            },
            "type": "scatter3d"
           }
          ],
          "scattercarpet": [
           {
            "marker": {
             "colorbar": {
              "outlinewidth": 0,
              "ticks": ""
             }
            },
            "type": "scattercarpet"
           }
          ],
          "scattergeo": [
           {
            "marker": {
             "colorbar": {
              "outlinewidth": 0,
              "ticks": ""
             }
            },
            "type": "scattergeo"
           }
          ],
          "scattergl": [
           {
            "marker": {
             "colorbar": {
              "outlinewidth": 0,
              "ticks": ""
             }
            },
            "type": "scattergl"
           }
          ],
          "scattermapbox": [
           {
            "marker": {
             "colorbar": {
              "outlinewidth": 0,
              "ticks": ""
             }
            },
            "type": "scattermapbox"
           }
          ],
          "scatterpolar": [
           {
            "marker": {
             "colorbar": {
              "outlinewidth": 0,
              "ticks": ""
             }
            },
            "type": "scatterpolar"
           }
          ],
          "scatterpolargl": [
           {
            "marker": {
             "colorbar": {
              "outlinewidth": 0,
              "ticks": ""
             }
            },
            "type": "scatterpolargl"
           }
          ],
          "scatterternary": [
           {
            "marker": {
             "colorbar": {
              "outlinewidth": 0,
              "ticks": ""
             }
            },
            "type": "scatterternary"
           }
          ],
          "surface": [
           {
            "colorbar": {
             "outlinewidth": 0,
             "ticks": ""
            },
            "colorscale": [
             [
              0,
              "#0d0887"
             ],
             [
              0.1111111111111111,
              "#46039f"
             ],
             [
              0.2222222222222222,
              "#7201a8"
             ],
             [
              0.3333333333333333,
              "#9c179e"
             ],
             [
              0.4444444444444444,
              "#bd3786"
             ],
             [
              0.5555555555555556,
              "#d8576b"
             ],
             [
              0.6666666666666666,
              "#ed7953"
             ],
             [
              0.7777777777777778,
              "#fb9f3a"
             ],
             [
              0.8888888888888888,
              "#fdca26"
             ],
             [
              1,
              "#f0f921"
             ]
            ],
            "type": "surface"
           }
          ],
          "table": [
           {
            "cells": {
             "fill": {
              "color": "#EBF0F8"
             },
             "line": {
              "color": "white"
             }
            },
            "header": {
             "fill": {
              "color": "#C8D4E3"
             },
             "line": {
              "color": "white"
             }
            },
            "type": "table"
           }
          ]
         },
         "layout": {
          "annotationdefaults": {
           "arrowcolor": "#2a3f5f",
           "arrowhead": 0,
           "arrowwidth": 1
          },
          "autotypenumbers": "strict",
          "coloraxis": {
           "colorbar": {
            "outlinewidth": 0,
            "ticks": ""
           }
          },
          "colorscale": {
           "diverging": [
            [
             0,
             "#8e0152"
            ],
            [
             0.1,
             "#c51b7d"
            ],
            [
             0.2,
             "#de77ae"
            ],
            [
             0.3,
             "#f1b6da"
            ],
            [
             0.4,
             "#fde0ef"
            ],
            [
             0.5,
             "#f7f7f7"
            ],
            [
             0.6,
             "#e6f5d0"
            ],
            [
             0.7,
             "#b8e186"
            ],
            [
             0.8,
             "#7fbc41"
            ],
            [
             0.9,
             "#4d9221"
            ],
            [
             1,
             "#276419"
            ]
           ],
           "sequential": [
            [
             0,
             "#0d0887"
            ],
            [
             0.1111111111111111,
             "#46039f"
            ],
            [
             0.2222222222222222,
             "#7201a8"
            ],
            [
             0.3333333333333333,
             "#9c179e"
            ],
            [
             0.4444444444444444,
             "#bd3786"
            ],
            [
             0.5555555555555556,
             "#d8576b"
            ],
            [
             0.6666666666666666,
             "#ed7953"
            ],
            [
             0.7777777777777778,
             "#fb9f3a"
            ],
            [
             0.8888888888888888,
             "#fdca26"
            ],
            [
             1,
             "#f0f921"
            ]
           ],
           "sequentialminus": [
            [
             0,
             "#0d0887"
            ],
            [
             0.1111111111111111,
             "#46039f"
            ],
            [
             0.2222222222222222,
             "#7201a8"
            ],
            [
             0.3333333333333333,
             "#9c179e"
            ],
            [
             0.4444444444444444,
             "#bd3786"
            ],
            [
             0.5555555555555556,
             "#d8576b"
            ],
            [
             0.6666666666666666,
             "#ed7953"
            ],
            [
             0.7777777777777778,
             "#fb9f3a"
            ],
            [
             0.8888888888888888,
             "#fdca26"
            ],
            [
             1,
             "#f0f921"
            ]
           ]
          },
          "colorway": [
           "#636efa",
           "#EF553B",
           "#00cc96",
           "#ab63fa",
           "#FFA15A",
           "#19d3f3",
           "#FF6692",
           "#B6E880",
           "#FF97FF",
           "#FECB52"
          ],
          "font": {
           "color": "#2a3f5f"
          },
          "geo": {
           "bgcolor": "white",
           "lakecolor": "white",
           "landcolor": "#E5ECF6",
           "showlakes": true,
           "showland": true,
           "subunitcolor": "white"
          },
          "hoverlabel": {
           "align": "left"
          },
          "hovermode": "closest",
          "mapbox": {
           "style": "light"
          },
          "paper_bgcolor": "white",
          "plot_bgcolor": "#E5ECF6",
          "polar": {
           "angularaxis": {
            "gridcolor": "white",
            "linecolor": "white",
            "ticks": ""
           },
           "bgcolor": "#E5ECF6",
           "radialaxis": {
            "gridcolor": "white",
            "linecolor": "white",
            "ticks": ""
           }
          },
          "scene": {
           "xaxis": {
            "backgroundcolor": "#E5ECF6",
            "gridcolor": "white",
            "gridwidth": 2,
            "linecolor": "white",
            "showbackground": true,
            "ticks": "",
            "zerolinecolor": "white"
           },
           "yaxis": {
            "backgroundcolor": "#E5ECF6",
            "gridcolor": "white",
            "gridwidth": 2,
            "linecolor": "white",
            "showbackground": true,
            "ticks": "",
            "zerolinecolor": "white"
           },
           "zaxis": {
            "backgroundcolor": "#E5ECF6",
            "gridcolor": "white",
            "gridwidth": 2,
            "linecolor": "white",
            "showbackground": true,
            "ticks": "",
            "zerolinecolor": "white"
           }
          },
          "shapedefaults": {
           "line": {
            "color": "#2a3f5f"
           }
          },
          "ternary": {
           "aaxis": {
            "gridcolor": "white",
            "linecolor": "white",
            "ticks": ""
           },
           "baxis": {
            "gridcolor": "white",
            "linecolor": "white",
            "ticks": ""
           },
           "bgcolor": "#E5ECF6",
           "caxis": {
            "gridcolor": "white",
            "linecolor": "white",
            "ticks": ""
           }
          },
          "title": {
           "x": 0.05
          },
          "xaxis": {
           "automargin": true,
           "gridcolor": "white",
           "linecolor": "white",
           "ticks": "",
           "title": {
            "standoff": 15
           },
           "zerolinecolor": "white",
           "zerolinewidth": 2
          },
          "yaxis": {
           "automargin": true,
           "gridcolor": "white",
           "linecolor": "white",
           "ticks": "",
           "title": {
            "standoff": 15
           },
           "zerolinecolor": "white",
           "zerolinewidth": 2
          }
         }
        },
        "title": {
         "text": "Rwanda's Overall Trade Performance (2023Q1 - 2025Q1)"
        },
        "xaxis": {
         "anchor": "y",
         "domain": [
          0,
          1
         ]
        },
        "xaxis2": {
         "anchor": "y2",
         "domain": [
          0,
          1
         ]
        },
        "yaxis": {
         "anchor": "x",
         "domain": [
          0.625,
          1
         ]
        },
        "yaxis2": {
         "anchor": "x2",
         "domain": [
          0,
          0.375
         ]
        }
       }
      }
     },
     "metadata": {},
     "output_type": "display_data"
    }
   ],
   "source": [
    "# Visualize overall trade trends\n",
    "fig = make_subplots(\n",
    "    rows=2, cols=1,\n",
    "    subplot_titles=('Trade Volume Trends (US$ millions)', 'Trade Balance Trend'),\n",
    "    specs=[[{\"secondary_y\": False}], [{\"secondary_y\": False}]]\n",
    ")\n",
    "\n",
    "# Trade volumes\n",
    "for flow in ['Exports', 'Imports', 'Re-Exports']:\n",
    "    flow_data = overall_trade_df[overall_trade_df['flow'] == flow]\n",
    "    fig.add_trace(\n",
    "        go.Scatter(\n",
    "            x=flow_data['quarter'],\n",
    "            y=flow_data['value'],\n",
    "            mode='lines+markers',\n",
    "            name=flow,\n",
    "            line=dict(width=3)\n",
    "        ),\n",
    "        row=1, col=1\n",
    "    )\n",
    "\n",
    "# Trade balance\n",
    "balance_data = overall_trade_df[overall_trade_df['flow'] == 'Trade Balance']\n",
    "fig.add_trace(\n",
    "    go.Bar(\n",
    "        x=balance_data['quarter'],\n",
    "        y=balance_data['value'],\n",
    "        name='Trade Balance',\n",
    "        marker_color='red'\n",
    "    ),\n",
    "    row=2, col=1\n",
    ")\n",
    "\n",
    "fig.update_layout(\n",
    "    height=800,\n",
    "    title_text=\"Rwanda's Overall Trade Performance (2023Q1 - 2025Q1)\",\n",
    "    showlegend=True\n",
    ")\n",
    "\n",
    "fig.show()"
   ]
  },
  {
   "cell_type": "markdown",
   "metadata": {},
   "source": [
    "## 3. Export Destinations Analysis\n",
    "\n",
    "Let's analyze the top export destinations from the 'ExportCountry' sheet."
   ]
  },
  {
   "cell_type": "code",
   "execution_count": 6,
   "metadata": {},
   "outputs": [
    {
     "name": "stdout",
     "output_type": "stream",
     "text": [
      "📅 Export quarters found: 10\n",
      "🌍 Extracted 199 export country records\n"
     ]
    }
   ],
   "source": [
    "# Load export country data\n",
    "export_country_df = pd.read_excel(excel_file_path, sheet_name='ExportCountry', header=None)\n",
    "\n",
    "# Extract country data\n",
    "export_countries = []\n",
    "quarters = []\n",
    "\n",
    "# Find header row\n",
    "for i, row in export_country_df.iterrows():\n",
    "    if pd.notna(row.iloc[1]) and '2023Q1' in str(row.iloc[1]):\n",
    "        quarters = [str(q) for q in row.iloc[1:-2] if pd.notna(q) and 'Q' in str(q)]\n",
    "        break\n",
    "\n",
    "print(f\"📅 Export quarters found: {len(quarters)}\")\n",
    "\n",
    "# Extract country export data\n",
    "start_row = None\n",
    "for i, row in export_country_df.iterrows():\n",
    "    if pd.notna(row.iloc[0]) and 'Total Estimates' in str(row.iloc[0]):\n",
    "        start_row = i + 1\n",
    "        break\n",
    "\n",
    "if start_row:\n",
    "    for i in range(start_row, len(export_country_df)):\n",
    "        row = export_country_df.iloc[i]\n",
    "        country = str(row.iloc[0]).strip() if pd.notna(row.iloc[0]) else None\n",
    "        \n",
    "        if not country or country in ['Source: NISR', '*Major']:\n",
    "            continue\n",
    "            \n",
    "        # Extract values for each quarter\n",
    "        for j, quarter in enumerate(quarters):\n",
    "            col_index = j + 1\n",
    "            if col_index < len(row):\n",
    "                value = row.iloc[col_index]\n",
    "                if pd.notna(value) and float(value) > 0:\n",
    "                    export_countries.append({\n",
    "                        'country': country,\n",
    "                        'quarter': quarter,\n",
    "                        'export_value': float(value)\n",
    "                    })\n",
    "\n",
    "export_countries_df = pd.DataFrame(export_countries)\n",
    "print(f\"🌍 Extracted {len(export_countries_df)} export country records\")"
   ]
  },
  {
   "cell_type": "code",
   "execution_count": 7,
   "metadata": {},
   "outputs": [
    {
     "data": {
      "application/vnd.plotly.v1+json": {
       "config": {
        "plotlyServerURL": "https://plot.ly"
       },
       "data": [
        {
         "alignmentgroup": "True",
         "hovertemplate": "Export Value (US$ millions)=%{x}<br>Destination Country=%{y}<extra></extra>",
         "legendgroup": "",
         "marker": {
          "color": "#636efa",
          "pattern": {
           "shape": ""
          }
         },
         "name": "",
         "offsetgroup": "",
         "orientation": "h",
         "showlegend": false,
         "textposition": "auto",
         "type": "bar",
         "x": [
          44.59479664261026,
          56.82585192883686,
          58.51735582953825,
          65.6939696389948,
          75.22292580653496,
          83.97269333258016,
          86.02044310009143,
          196.09052661714557,
          479.87718836467957,
          2819.3720035832253
         ],
         "xaxis": "x",
         "y": [
          "Netherlands",
          "Uganda",
          "United States",
          "Pakistan",
          "Hong Kong",
          "United Kingdom",
          "Luxembourg",
          "China",
          "Congo, The Democratic Republic Of",
          "United Arab Emirates"
         ],
         "yaxis": "y"
        }
       ],
       "layout": {
        "barmode": "relative",
        "height": 600,
        "legend": {
         "tracegroupgap": 0
        },
        "margin": {
         "l": 150
        },
        "showlegend": false,
        "template": {
         "data": {
          "bar": [
           {
            "error_x": {
             "color": "#2a3f5f"
            },
            "error_y": {
             "color": "#2a3f5f"
            },
            "marker": {
             "line": {
              "color": "#E5ECF6",
              "width": 0.5
             },
             "pattern": {
              "fillmode": "overlay",
              "size": 10,
              "solidity": 0.2
             }
            },
            "type": "bar"
           }
          ],
          "barpolar": [
           {
            "marker": {
             "line": {
              "color": "#E5ECF6",
              "width": 0.5
             },
             "pattern": {
              "fillmode": "overlay",
              "size": 10,
              "solidity": 0.2
             }
            },
            "type": "barpolar"
           }
          ],
          "carpet": [
           {
            "aaxis": {
             "endlinecolor": "#2a3f5f",
             "gridcolor": "white",
             "linecolor": "white",
             "minorgridcolor": "white",
             "startlinecolor": "#2a3f5f"
            },
            "baxis": {
             "endlinecolor": "#2a3f5f",
             "gridcolor": "white",
             "linecolor": "white",
             "minorgridcolor": "white",
             "startlinecolor": "#2a3f5f"
            },
            "type": "carpet"
           }
          ],
          "choropleth": [
           {
            "colorbar": {
             "outlinewidth": 0,
             "ticks": ""
            },
            "type": "choropleth"
           }
          ],
          "contour": [
           {
            "colorbar": {
             "outlinewidth": 0,
             "ticks": ""
            },
            "colorscale": [
             [
              0,
              "#0d0887"
             ],
             [
              0.1111111111111111,
              "#46039f"
             ],
             [
              0.2222222222222222,
              "#7201a8"
             ],
             [
              0.3333333333333333,
              "#9c179e"
             ],
             [
              0.4444444444444444,
              "#bd3786"
             ],
             [
              0.5555555555555556,
              "#d8576b"
             ],
             [
              0.6666666666666666,
              "#ed7953"
             ],
             [
              0.7777777777777778,
              "#fb9f3a"
             ],
             [
              0.8888888888888888,
              "#fdca26"
             ],
             [
              1,
              "#f0f921"
             ]
            ],
            "type": "contour"
           }
          ],
          "contourcarpet": [
           {
            "colorbar": {
             "outlinewidth": 0,
             "ticks": ""
            },
            "type": "contourcarpet"
           }
          ],
          "heatmap": [
           {
            "colorbar": {
             "outlinewidth": 0,
             "ticks": ""
            },
            "colorscale": [
             [
              0,
              "#0d0887"
             ],
             [
              0.1111111111111111,
              "#46039f"
             ],
             [
              0.2222222222222222,
              "#7201a8"
             ],
             [
              0.3333333333333333,
              "#9c179e"
             ],
             [
              0.4444444444444444,
              "#bd3786"
             ],
             [
              0.5555555555555556,
              "#d8576b"
             ],
             [
              0.6666666666666666,
              "#ed7953"
             ],
             [
              0.7777777777777778,
              "#fb9f3a"
             ],
             [
              0.8888888888888888,
              "#fdca26"
             ],
             [
              1,
              "#f0f921"
             ]
            ],
            "type": "heatmap"
           }
          ],
          "heatmapgl": [
           {
            "colorbar": {
             "outlinewidth": 0,
             "ticks": ""
            },
            "colorscale": [
             [
              0,
              "#0d0887"
             ],
             [
              0.1111111111111111,
              "#46039f"
             ],
             [
              0.2222222222222222,
              "#7201a8"
             ],
             [
              0.3333333333333333,
              "#9c179e"
             ],
             [
              0.4444444444444444,
              "#bd3786"
             ],
             [
              0.5555555555555556,
              "#d8576b"
             ],
             [
              0.6666666666666666,
              "#ed7953"
             ],
             [
              0.7777777777777778,
              "#fb9f3a"
             ],
             [
              0.8888888888888888,
              "#fdca26"
             ],
             [
              1,
              "#f0f921"
             ]
            ],
            "type": "heatmapgl"
           }
          ],
          "histogram": [
           {
            "marker": {
             "pattern": {
              "fillmode": "overlay",
              "size": 10,
              "solidity": 0.2
             }
            },
            "type": "histogram"
           }
          ],
          "histogram2d": [
           {
            "colorbar": {
             "outlinewidth": 0,
             "ticks": ""
            },
            "colorscale": [
             [
              0,
              "#0d0887"
             ],
             [
              0.1111111111111111,
              "#46039f"
             ],
             [
              0.2222222222222222,
              "#7201a8"
             ],
             [
              0.3333333333333333,
              "#9c179e"
             ],
             [
              0.4444444444444444,
              "#bd3786"
             ],
             [
              0.5555555555555556,
              "#d8576b"
             ],
             [
              0.6666666666666666,
              "#ed7953"
             ],
             [
              0.7777777777777778,
              "#fb9f3a"
             ],
             [
              0.8888888888888888,
              "#fdca26"
             ],
             [
              1,
              "#f0f921"
             ]
            ],
            "type": "histogram2d"
           }
          ],
          "histogram2dcontour": [
           {
            "colorbar": {
             "outlinewidth": 0,
             "ticks": ""
            },
            "colorscale": [
             [
              0,
              "#0d0887"
             ],
             [
              0.1111111111111111,
              "#46039f"
             ],
             [
              0.2222222222222222,
              "#7201a8"
             ],
             [
              0.3333333333333333,
              "#9c179e"
             ],
             [
              0.4444444444444444,
              "#bd3786"
             ],
             [
              0.5555555555555556,
              "#d8576b"
             ],
             [
              0.6666666666666666,
              "#ed7953"
             ],
             [
              0.7777777777777778,
              "#fb9f3a"
             ],
             [
              0.8888888888888888,
              "#fdca26"
             ],
             [
              1,
              "#f0f921"
             ]
            ],
            "type": "histogram2dcontour"
           }
          ],
          "mesh3d": [
           {
            "colorbar": {
             "outlinewidth": 0,
             "ticks": ""
            },
            "type": "mesh3d"
           }
          ],
          "parcoords": [
           {
            "line": {
             "colorbar": {
              "outlinewidth": 0,
              "ticks": ""
             }
            },
            "type": "parcoords"
           }
          ],
          "pie": [
           {
            "automargin": true,
            "type": "pie"
           }
          ],
          "scatter": [
           {
            "fillpattern": {
             "fillmode": "overlay",
             "size": 10,
             "solidity": 0.2
            },
            "type": "scatter"
           }
          ],
          "scatter3d": [
           {
            "line": {
             "colorbar": {
              "outlinewidth": 0,
              "ticks": ""
             }
            },
            "marker": {
             "colorbar": {
              "outlinewidth": 0,
              "ticks": ""
             }
            },
            "type": "scatter3d"
           }
          ],
          "scattercarpet": [
           {
            "marker": {
             "colorbar": {
              "outlinewidth": 0,
              "ticks": ""
             }
            },
            "type": "scattercarpet"
           }
          ],
          "scattergeo": [
           {
            "marker": {
             "colorbar": {
              "outlinewidth": 0,
              "ticks": ""
             }
            },
            "type": "scattergeo"
           }
          ],
          "scattergl": [
           {
            "marker": {
             "colorbar": {
              "outlinewidth": 0,
              "ticks": ""
             }
            },
            "type": "scattergl"
           }
          ],
          "scattermapbox": [
           {
            "marker": {
             "colorbar": {
              "outlinewidth": 0,
              "ticks": ""
             }
            },
            "type": "scattermapbox"
           }
          ],
          "scatterpolar": [
           {
            "marker": {
             "colorbar": {
              "outlinewidth": 0,
              "ticks": ""
             }
            },
            "type": "scatterpolar"
           }
          ],
          "scatterpolargl": [
           {
            "marker": {
             "colorbar": {
              "outlinewidth": 0,
              "ticks": ""
             }
            },
            "type": "scatterpolargl"
           }
          ],
          "scatterternary": [
           {
            "marker": {
             "colorbar": {
              "outlinewidth": 0,
              "ticks": ""
             }
            },
            "type": "scatterternary"
           }
          ],
          "surface": [
           {
            "colorbar": {
             "outlinewidth": 0,
             "ticks": ""
            },
            "colorscale": [
             [
              0,
              "#0d0887"
             ],
             [
              0.1111111111111111,
              "#46039f"
             ],
             [
              0.2222222222222222,
              "#7201a8"
             ],
             [
              0.3333333333333333,
              "#9c179e"
             ],
             [
              0.4444444444444444,
              "#bd3786"
             ],
             [
              0.5555555555555556,
              "#d8576b"
             ],
             [
              0.6666666666666666,
              "#ed7953"
             ],
             [
              0.7777777777777778,
              "#fb9f3a"
             ],
             [
              0.8888888888888888,
              "#fdca26"
             ],
             [
              1,
              "#f0f921"
             ]
            ],
            "type": "surface"
           }
          ],
          "table": [
           {
            "cells": {
             "fill": {
              "color": "#EBF0F8"
             },
             "line": {
              "color": "white"
             }
            },
            "header": {
             "fill": {
              "color": "#C8D4E3"
             },
             "line": {
              "color": "white"
             }
            },
            "type": "table"
           }
          ]
         },
         "layout": {
          "annotationdefaults": {
           "arrowcolor": "#2a3f5f",
           "arrowhead": 0,
           "arrowwidth": 1
          },
          "autotypenumbers": "strict",
          "coloraxis": {
           "colorbar": {
            "outlinewidth": 0,
            "ticks": ""
           }
          },
          "colorscale": {
           "diverging": [
            [
             0,
             "#8e0152"
            ],
            [
             0.1,
             "#c51b7d"
            ],
            [
             0.2,
             "#de77ae"
            ],
            [
             0.3,
             "#f1b6da"
            ],
            [
             0.4,
             "#fde0ef"
            ],
            [
             0.5,
             "#f7f7f7"
            ],
            [
             0.6,
             "#e6f5d0"
            ],
            [
             0.7,
             "#b8e186"
            ],
            [
             0.8,
             "#7fbc41"
            ],
            [
             0.9,
             "#4d9221"
            ],
            [
             1,
             "#276419"
            ]
           ],
           "sequential": [
            [
             0,
             "#0d0887"
            ],
            [
             0.1111111111111111,
             "#46039f"
            ],
            [
             0.2222222222222222,
             "#7201a8"
            ],
            [
             0.3333333333333333,
             "#9c179e"
            ],
            [
             0.4444444444444444,
             "#bd3786"
            ],
            [
             0.5555555555555556,
             "#d8576b"
            ],
            [
             0.6666666666666666,
             "#ed7953"
            ],
            [
             0.7777777777777778,
             "#fb9f3a"
            ],
            [
             0.8888888888888888,
             "#fdca26"
            ],
            [
             1,
             "#f0f921"
            ]
           ],
           "sequentialminus": [
            [
             0,
             "#0d0887"
            ],
            [
             0.1111111111111111,
             "#46039f"
            ],
            [
             0.2222222222222222,
             "#7201a8"
            ],
            [
             0.3333333333333333,
             "#9c179e"
            ],
            [
             0.4444444444444444,
             "#bd3786"
            ],
            [
             0.5555555555555556,
             "#d8576b"
            ],
            [
             0.6666666666666666,
             "#ed7953"
            ],
            [
             0.7777777777777778,
             "#fb9f3a"
            ],
            [
             0.8888888888888888,
             "#fdca26"
            ],
            [
             1,
             "#f0f921"
            ]
           ]
          },
          "colorway": [
           "#636efa",
           "#EF553B",
           "#00cc96",
           "#ab63fa",
           "#FFA15A",
           "#19d3f3",
           "#FF6692",
           "#B6E880",
           "#FF97FF",
           "#FECB52"
          ],
          "font": {
           "color": "#2a3f5f"
          },
          "geo": {
           "bgcolor": "white",
           "lakecolor": "white",
           "landcolor": "#E5ECF6",
           "showlakes": true,
           "showland": true,
           "subunitcolor": "white"
          },
          "hoverlabel": {
           "align": "left"
          },
          "hovermode": "closest",
          "mapbox": {
           "style": "light"
          },
          "paper_bgcolor": "white",
          "plot_bgcolor": "#E5ECF6",
          "polar": {
           "angularaxis": {
            "gridcolor": "white",
            "linecolor": "white",
            "ticks": ""
           },
           "bgcolor": "#E5ECF6",
           "radialaxis": {
            "gridcolor": "white",
            "linecolor": "white",
            "ticks": ""
           }
          },
          "scene": {
           "xaxis": {
            "backgroundcolor": "#E5ECF6",
            "gridcolor": "white",
            "gridwidth": 2,
            "linecolor": "white",
            "showbackground": true,
            "ticks": "",
            "zerolinecolor": "white"
           },
           "yaxis": {
            "backgroundcolor": "#E5ECF6",
            "gridcolor": "white",
            "gridwidth": 2,
            "linecolor": "white",
            "showbackground": true,
            "ticks": "",
            "zerolinecolor": "white"
           },
           "zaxis": {
            "backgroundcolor": "#E5ECF6",
            "gridcolor": "white",
            "gridwidth": 2,
            "linecolor": "white",
            "showbackground": true,
            "ticks": "",
            "zerolinecolor": "white"
           }
          },
          "shapedefaults": {
           "line": {
            "color": "#2a3f5f"
           }
          },
          "ternary": {
           "aaxis": {
            "gridcolor": "white",
            "linecolor": "white",
            "ticks": ""
           },
           "baxis": {
            "gridcolor": "white",
            "linecolor": "white",
            "ticks": ""
           },
           "bgcolor": "#E5ECF6",
           "caxis": {
            "gridcolor": "white",
            "linecolor": "white",
            "ticks": ""
           }
          },
          "title": {
           "x": 0.05
          },
          "xaxis": {
           "automargin": true,
           "gridcolor": "white",
           "linecolor": "white",
           "ticks": "",
           "title": {
            "standoff": 15
           },
           "zerolinecolor": "white",
           "zerolinewidth": 2
          },
          "yaxis": {
           "automargin": true,
           "gridcolor": "white",
           "linecolor": "white",
           "ticks": "",
           "title": {
            "standoff": 15
           },
           "zerolinecolor": "white",
           "zerolinewidth": 2
          }
         }
        },
        "title": {
         "text": "Top 10 Export Destinations (Total 2023Q1-2025Q1)"
        },
        "xaxis": {
         "anchor": "y",
         "domain": [
          0,
          1
         ],
         "title": {
          "text": "Export Value (US$ millions)"
         }
        },
        "yaxis": {
         "anchor": "x",
         "domain": [
          0,
          1
         ],
         "title": {
          "text": "Destination Country"
         }
        }
       }
      }
     },
     "metadata": {},
     "output_type": "display_data"
    },
    {
     "name": "stdout",
     "output_type": "stream",
     "text": [
      "💰 Top Export Destinations:\n",
      "   Netherlands: $44.59 million\n",
      "   Uganda: $56.83 million\n",
      "   United States: $58.52 million\n",
      "   Pakistan: $65.69 million\n",
      "   Hong Kong: $75.22 million\n",
      "   United Kingdom: $83.97 million\n",
      "   Luxembourg: $86.02 million\n",
      "   China: $196.09 million\n",
      "   Congo, The Democratic Republic Of: $479.88 million\n",
      "   United Arab Emirates: $2,819.37 million\n"
     ]
    }
   ],
   "source": [
    "# Top export destinations analysis\n",
    "if not export_countries_df.empty:\n",
    "    # Calculate total exports by country\n",
    "    top_destinations = export_countries_df.groupby('country')['export_value'].sum().reset_index()\n",
    "    top_destinations = top_destinations.nlargest(10, 'export_value').sort_values('export_value', ascending=True)\n",
    "    \n",
    "    # Create horizontal bar chart\n",
    "    fig = px.bar(\n",
    "        top_destinations,\n",
    "        x='export_value',\n",
    "        y='country',\n",
    "        orientation='h',\n",
    "        title='Top 10 Export Destinations (Total 2023Q1-2025Q1)',\n",
    "        labels={'export_value': 'Export Value (US$ millions)', 'country': 'Destination Country'}\n",
    "    )\n",
    "    \n",
    "    fig.update_layout(\n",
    "        height=600,\n",
    "        showlegend=False,\n",
    "        margin=dict(l=150)\n",
    "    )\n",
    "    \n",
    "    fig.show()\n",
    "    \n",
    "    print(\"💰 Top Export Destinations:\")\n",
    "    for _, row in top_destinations.iterrows():\n",
    "        print(f\"   {row['country']}: ${row['export_value']:,.2f} million\")"
   ]
  },
  {
   "cell_type": "markdown",
   "metadata": {},
   "source": [
    "## 4. Import Sources Analysis\n",
    "\n",
    "Now let's analyze the import sources from the 'ImportCountry' sheet."
   ]
  },
  {
   "cell_type": "code",
   "execution_count": 8,
   "metadata": {},
   "outputs": [
    {
     "name": "stdout",
     "output_type": "stream",
     "text": [
      "📅 Import quarters found: 10\n",
      "🌍 Extracted 200 import country records\n"
     ]
    }
   ],
   "source": [
    "# Load import country data\n",
    "import_country_df = pd.read_excel(excel_file_path, sheet_name='ImportCountry', header=None)\n",
    "\n",
    "# Extract country data (similar structure to exports)\n",
    "import_countries = []\n",
    "\n",
    "# Find header row\n",
    "for i, row in import_country_df.iterrows():\n",
    "    if pd.notna(row.iloc[1]) and '2023Q1' in str(row.iloc[1]):\n",
    "        quarters = [str(q) for q in row.iloc[1:-2] if pd.notna(q) and 'Q' in str(q)]\n",
    "        break\n",
    "\n",
    "print(f\"📅 Import quarters found: {len(quarters)}\")\n",
    "\n",
    "# Extract country import data\n",
    "start_row = None\n",
    "for i, row in import_country_df.iterrows():\n",
    "    if pd.notna(row.iloc[0]) and 'Total Estimates' in str(row.iloc[0]):\n",
    "        start_row = i + 1\n",
    "        break\n",
    "\n",
    "if start_row:\n",
    "    for i in range(start_row, len(import_country_df)):\n",
    "        row = import_country_df.iloc[i]\n",
    "        country = str(row.iloc[0]).strip() if pd.notna(row.iloc[0]) else None\n",
    "        \n",
    "        if not country or country in ['Source: NISR']:\n",
    "            continue\n",
    "            \n",
    "        # Extract values for each quarter\n",
    "        for j, quarter in enumerate(quarters):\n",
    "            col_index = j + 1\n",
    "            if col_index < len(row):\n",
    "                value = row.iloc[col_index]\n",
    "                if pd.notna(value) and float(value) > 0:\n",
    "                    import_countries.append({\n",
    "                        'country': country,\n",
    "                        'quarter': quarter,\n",
    "                        'import_value': float(value)\n",
    "                    })\n",
    "\n",
    "import_countries_df = pd.DataFrame(import_countries)\n",
    "print(f\"🌍 Extracted {len(import_countries_df)} import country records\")"
   ]
  },
  {
   "cell_type": "code",
   "execution_count": 9,
   "metadata": {},
   "outputs": [
    {
     "data": {
      "application/vnd.plotly.v1+json": {
       "config": {
        "plotlyServerURL": "https://plot.ly"
       },
       "data": [
        {
         "alignmentgroup": "True",
         "hovertemplate": "Import Value (US$ millions)=%{x}<br>Source Country=%{y}<extra></extra>",
         "legendgroup": "",
         "marker": {
          "color": "#636efa",
          "pattern": {
           "shape": ""
          }
         },
         "name": "",
         "offsetgroup": "",
         "orientation": "h",
         "showlegend": false,
         "textposition": "auto",
         "type": "bar",
         "x": [
          256.9140679789907,
          276.3183360282443,
          314.8130324884026,
          545.990915319763,
          650.5665623833398,
          802.3124151573068,
          1276.844122121146,
          1346.912094131784,
          1901.45331209159,
          2703.2346100407626
         ],
         "xaxis": "x",
         "y": [
          "Malaysia",
          "Turkey",
          "South Africa",
          "Uganda",
          "Cameroon",
          "United Arab Emirates",
          "India",
          "Kenya",
          "Tanzania, United Republic Of",
          "China"
         ],
         "yaxis": "y"
        }
       ],
       "layout": {
        "barmode": "relative",
        "height": 600,
        "legend": {
         "tracegroupgap": 0
        },
        "margin": {
         "l": 150
        },
        "showlegend": false,
        "template": {
         "data": {
          "bar": [
           {
            "error_x": {
             "color": "#2a3f5f"
            },
            "error_y": {
             "color": "#2a3f5f"
            },
            "marker": {
             "line": {
              "color": "#E5ECF6",
              "width": 0.5
             },
             "pattern": {
              "fillmode": "overlay",
              "size": 10,
              "solidity": 0.2
             }
            },
            "type": "bar"
           }
          ],
          "barpolar": [
           {
            "marker": {
             "line": {
              "color": "#E5ECF6",
              "width": 0.5
             },
             "pattern": {
              "fillmode": "overlay",
              "size": 10,
              "solidity": 0.2
             }
            },
            "type": "barpolar"
           }
          ],
          "carpet": [
           {
            "aaxis": {
             "endlinecolor": "#2a3f5f",
             "gridcolor": "white",
             "linecolor": "white",
             "minorgridcolor": "white",
             "startlinecolor": "#2a3f5f"
            },
            "baxis": {
             "endlinecolor": "#2a3f5f",
             "gridcolor": "white",
             "linecolor": "white",
             "minorgridcolor": "white",
             "startlinecolor": "#2a3f5f"
            },
            "type": "carpet"
           }
          ],
          "choropleth": [
           {
            "colorbar": {
             "outlinewidth": 0,
             "ticks": ""
            },
            "type": "choropleth"
           }
          ],
          "contour": [
           {
            "colorbar": {
             "outlinewidth": 0,
             "ticks": ""
            },
            "colorscale": [
             [
              0,
              "#0d0887"
             ],
             [
              0.1111111111111111,
              "#46039f"
             ],
             [
              0.2222222222222222,
              "#7201a8"
             ],
             [
              0.3333333333333333,
              "#9c179e"
             ],
             [
              0.4444444444444444,
              "#bd3786"
             ],
             [
              0.5555555555555556,
              "#d8576b"
             ],
             [
              0.6666666666666666,
              "#ed7953"
             ],
             [
              0.7777777777777778,
              "#fb9f3a"
             ],
             [
              0.8888888888888888,
              "#fdca26"
             ],
             [
              1,
              "#f0f921"
             ]
            ],
            "type": "contour"
           }
          ],
          "contourcarpet": [
           {
            "colorbar": {
             "outlinewidth": 0,
             "ticks": ""
            },
            "type": "contourcarpet"
           }
          ],
          "heatmap": [
           {
            "colorbar": {
             "outlinewidth": 0,
             "ticks": ""
            },
            "colorscale": [
             [
              0,
              "#0d0887"
             ],
             [
              0.1111111111111111,
              "#46039f"
             ],
             [
              0.2222222222222222,
              "#7201a8"
             ],
             [
              0.3333333333333333,
              "#9c179e"
             ],
             [
              0.4444444444444444,
              "#bd3786"
             ],
             [
              0.5555555555555556,
              "#d8576b"
             ],
             [
              0.6666666666666666,
              "#ed7953"
             ],
             [
              0.7777777777777778,
              "#fb9f3a"
             ],
             [
              0.8888888888888888,
              "#fdca26"
             ],
             [
              1,
              "#f0f921"
             ]
            ],
            "type": "heatmap"
           }
          ],
          "heatmapgl": [
           {
            "colorbar": {
             "outlinewidth": 0,
             "ticks": ""
            },
            "colorscale": [
             [
              0,
              "#0d0887"
             ],
             [
              0.1111111111111111,
              "#46039f"
             ],
             [
              0.2222222222222222,
              "#7201a8"
             ],
             [
              0.3333333333333333,
              "#9c179e"
             ],
             [
              0.4444444444444444,
              "#bd3786"
             ],
             [
              0.5555555555555556,
              "#d8576b"
             ],
             [
              0.6666666666666666,
              "#ed7953"
             ],
             [
              0.7777777777777778,
              "#fb9f3a"
             ],
             [
              0.8888888888888888,
              "#fdca26"
             ],
             [
              1,
              "#f0f921"
             ]
            ],
            "type": "heatmapgl"
           }
          ],
          "histogram": [
           {
            "marker": {
             "pattern": {
              "fillmode": "overlay",
              "size": 10,
              "solidity": 0.2
             }
            },
            "type": "histogram"
           }
          ],
          "histogram2d": [
           {
            "colorbar": {
             "outlinewidth": 0,
             "ticks": ""
            },
            "colorscale": [
             [
              0,
              "#0d0887"
             ],
             [
              0.1111111111111111,
              "#46039f"
             ],
             [
              0.2222222222222222,
              "#7201a8"
             ],
             [
              0.3333333333333333,
              "#9c179e"
             ],
             [
              0.4444444444444444,
              "#bd3786"
             ],
             [
              0.5555555555555556,
              "#d8576b"
             ],
             [
              0.6666666666666666,
              "#ed7953"
             ],
             [
              0.7777777777777778,
              "#fb9f3a"
             ],
             [
              0.8888888888888888,
              "#fdca26"
             ],
             [
              1,
              "#f0f921"
             ]
            ],
            "type": "histogram2d"
           }
          ],
          "histogram2dcontour": [
           {
            "colorbar": {
             "outlinewidth": 0,
             "ticks": ""
            },
            "colorscale": [
             [
              0,
              "#0d0887"
             ],
             [
              0.1111111111111111,
              "#46039f"
             ],
             [
              0.2222222222222222,
              "#7201a8"
             ],
             [
              0.3333333333333333,
              "#9c179e"
             ],
             [
              0.4444444444444444,
              "#bd3786"
             ],
             [
              0.5555555555555556,
              "#d8576b"
             ],
             [
              0.6666666666666666,
              "#ed7953"
             ],
             [
              0.7777777777777778,
              "#fb9f3a"
             ],
             [
              0.8888888888888888,
              "#fdca26"
             ],
             [
              1,
              "#f0f921"
             ]
            ],
            "type": "histogram2dcontour"
           }
          ],
          "mesh3d": [
           {
            "colorbar": {
             "outlinewidth": 0,
             "ticks": ""
            },
            "type": "mesh3d"
           }
          ],
          "parcoords": [
           {
            "line": {
             "colorbar": {
              "outlinewidth": 0,
              "ticks": ""
             }
            },
            "type": "parcoords"
           }
          ],
          "pie": [
           {
            "automargin": true,
            "type": "pie"
           }
          ],
          "scatter": [
           {
            "fillpattern": {
             "fillmode": "overlay",
             "size": 10,
             "solidity": 0.2
            },
            "type": "scatter"
           }
          ],
          "scatter3d": [
           {
            "line": {
             "colorbar": {
              "outlinewidth": 0,
              "ticks": ""
             }
            },
            "marker": {
             "colorbar": {
              "outlinewidth": 0,
              "ticks": ""
             }
            },
            "type": "scatter3d"
           }
          ],
          "scattercarpet": [
           {
            "marker": {
             "colorbar": {
              "outlinewidth": 0,
              "ticks": ""
             }
            },
            "type": "scattercarpet"
           }
          ],
          "scattergeo": [
           {
            "marker": {
             "colorbar": {
              "outlinewidth": 0,
              "ticks": ""
             }
            },
            "type": "scattergeo"
           }
          ],
          "scattergl": [
           {
            "marker": {
             "colorbar": {
              "outlinewidth": 0,
              "ticks": ""
             }
            },
            "type": "scattergl"
           }
          ],
          "scattermapbox": [
           {
            "marker": {
             "colorbar": {
              "outlinewidth": 0,
              "ticks": ""
             }
            },
            "type": "scattermapbox"
           }
          ],
          "scatterpolar": [
           {
            "marker": {
             "colorbar": {
              "outlinewidth": 0,
              "ticks": ""
             }
            },
            "type": "scatterpolar"
           }
          ],
          "scatterpolargl": [
           {
            "marker": {
             "colorbar": {
              "outlinewidth": 0,
              "ticks": ""
             }
            },
            "type": "scatterpolargl"
           }
          ],
          "scatterternary": [
           {
            "marker": {
             "colorbar": {
              "outlinewidth": 0,
              "ticks": ""
             }
            },
            "type": "scatterternary"
           }
          ],
          "surface": [
           {
            "colorbar": {
             "outlinewidth": 0,
             "ticks": ""
            },
            "colorscale": [
             [
              0,
              "#0d0887"
             ],
             [
              0.1111111111111111,
              "#46039f"
             ],
             [
              0.2222222222222222,
              "#7201a8"
             ],
             [
              0.3333333333333333,
              "#9c179e"
             ],
             [
              0.4444444444444444,
              "#bd3786"
             ],
             [
              0.5555555555555556,
              "#d8576b"
             ],
             [
              0.6666666666666666,
              "#ed7953"
             ],
             [
              0.7777777777777778,
              "#fb9f3a"
             ],
             [
              0.8888888888888888,
              "#fdca26"
             ],
             [
              1,
              "#f0f921"
             ]
            ],
            "type": "surface"
           }
          ],
          "table": [
           {
            "cells": {
             "fill": {
              "color": "#EBF0F8"
             },
             "line": {
              "color": "white"
             }
            },
            "header": {
             "fill": {
              "color": "#C8D4E3"
             },
             "line": {
              "color": "white"
             }
            },
            "type": "table"
           }
          ]
         },
         "layout": {
          "annotationdefaults": {
           "arrowcolor": "#2a3f5f",
           "arrowhead": 0,
           "arrowwidth": 1
          },
          "autotypenumbers": "strict",
          "coloraxis": {
           "colorbar": {
            "outlinewidth": 0,
            "ticks": ""
           }
          },
          "colorscale": {
           "diverging": [
            [
             0,
             "#8e0152"
            ],
            [
             0.1,
             "#c51b7d"
            ],
            [
             0.2,
             "#de77ae"
            ],
            [
             0.3,
             "#f1b6da"
            ],
            [
             0.4,
             "#fde0ef"
            ],
            [
             0.5,
             "#f7f7f7"
            ],
            [
             0.6,
             "#e6f5d0"
            ],
            [
             0.7,
             "#b8e186"
            ],
            [
             0.8,
             "#7fbc41"
            ],
            [
             0.9,
             "#4d9221"
            ],
            [
             1,
             "#276419"
            ]
           ],
           "sequential": [
            [
             0,
             "#0d0887"
            ],
            [
             0.1111111111111111,
             "#46039f"
            ],
            [
             0.2222222222222222,
             "#7201a8"
            ],
            [
             0.3333333333333333,
             "#9c179e"
            ],
            [
             0.4444444444444444,
             "#bd3786"
            ],
            [
             0.5555555555555556,
             "#d8576b"
            ],
            [
             0.6666666666666666,
             "#ed7953"
            ],
            [
             0.7777777777777778,
             "#fb9f3a"
            ],
            [
             0.8888888888888888,
             "#fdca26"
            ],
            [
             1,
             "#f0f921"
            ]
           ],
           "sequentialminus": [
            [
             0,
             "#0d0887"
            ],
            [
             0.1111111111111111,
             "#46039f"
            ],
            [
             0.2222222222222222,
             "#7201a8"
            ],
            [
             0.3333333333333333,
             "#9c179e"
            ],
            [
             0.4444444444444444,
             "#bd3786"
            ],
            [
             0.5555555555555556,
             "#d8576b"
            ],
            [
             0.6666666666666666,
             "#ed7953"
            ],
            [
             0.7777777777777778,
             "#fb9f3a"
            ],
            [
             0.8888888888888888,
             "#fdca26"
            ],
            [
             1,
             "#f0f921"
            ]
           ]
          },
          "colorway": [
           "#636efa",
           "#EF553B",
           "#00cc96",
           "#ab63fa",
           "#FFA15A",
           "#19d3f3",
           "#FF6692",
           "#B6E880",
           "#FF97FF",
           "#FECB52"
          ],
          "font": {
           "color": "#2a3f5f"
          },
          "geo": {
           "bgcolor": "white",
           "lakecolor": "white",
           "landcolor": "#E5ECF6",
           "showlakes": true,
           "showland": true,
           "subunitcolor": "white"
          },
          "hoverlabel": {
           "align": "left"
          },
          "hovermode": "closest",
          "mapbox": {
           "style": "light"
          },
          "paper_bgcolor": "white",
          "plot_bgcolor": "#E5ECF6",
          "polar": {
           "angularaxis": {
            "gridcolor": "white",
            "linecolor": "white",
            "ticks": ""
           },
           "bgcolor": "#E5ECF6",
           "radialaxis": {
            "gridcolor": "white",
            "linecolor": "white",
            "ticks": ""
           }
          },
          "scene": {
           "xaxis": {
            "backgroundcolor": "#E5ECF6",
            "gridcolor": "white",
            "gridwidth": 2,
            "linecolor": "white",
            "showbackground": true,
            "ticks": "",
            "zerolinecolor": "white"
           },
           "yaxis": {
            "backgroundcolor": "#E5ECF6",
            "gridcolor": "white",
            "gridwidth": 2,
            "linecolor": "white",
            "showbackground": true,
            "ticks": "",
            "zerolinecolor": "white"
           },
           "zaxis": {
            "backgroundcolor": "#E5ECF6",
            "gridcolor": "white",
            "gridwidth": 2,
            "linecolor": "white",
            "showbackground": true,
            "ticks": "",
            "zerolinecolor": "white"
           }
          },
          "shapedefaults": {
           "line": {
            "color": "#2a3f5f"
           }
          },
          "ternary": {
           "aaxis": {
            "gridcolor": "white",
            "linecolor": "white",
            "ticks": ""
           },
           "baxis": {
            "gridcolor": "white",
            "linecolor": "white",
            "ticks": ""
           },
           "bgcolor": "#E5ECF6",
           "caxis": {
            "gridcolor": "white",
            "linecolor": "white",
            "ticks": ""
           }
          },
          "title": {
           "x": 0.05
          },
          "xaxis": {
           "automargin": true,
           "gridcolor": "white",
           "linecolor": "white",
           "ticks": "",
           "title": {
            "standoff": 15
           },
           "zerolinecolor": "white",
           "zerolinewidth": 2
          },
          "yaxis": {
           "automargin": true,
           "gridcolor": "white",
           "linecolor": "white",
           "ticks": "",
           "title": {
            "standoff": 15
           },
           "zerolinecolor": "white",
           "zerolinewidth": 2
          }
         }
        },
        "title": {
         "text": "Top 10 Import Sources (Total 2023Q1-2025Q1)"
        },
        "xaxis": {
         "anchor": "y",
         "domain": [
          0,
          1
         ],
         "title": {
          "text": "Import Value (US$ millions)"
         }
        },
        "yaxis": {
         "anchor": "x",
         "domain": [
          0,
          1
         ],
         "title": {
          "text": "Source Country"
         }
        }
       }
      }
     },
     "metadata": {},
     "output_type": "display_data"
    },
    {
     "name": "stdout",
     "output_type": "stream",
     "text": [
      "📦 Top Import Sources:\n",
      "   Malaysia: $256.91 million\n",
      "   Turkey: $276.32 million\n",
      "   South Africa: $314.81 million\n",
      "   Uganda: $545.99 million\n",
      "   Cameroon: $650.57 million\n",
      "   United Arab Emirates: $802.31 million\n",
      "   India: $1,276.84 million\n",
      "   Kenya: $1,346.91 million\n",
      "   Tanzania, United Republic Of: $1,901.45 million\n",
      "   China: $2,703.23 million\n"
     ]
    }
   ],
   "source": [
    "# Top import sources analysis\n",
    "if not import_countries_df.empty:\n",
    "    # Calculate total imports by country\n",
    "    top_sources = import_countries_df.groupby('country')['import_value'].sum().reset_index()\n",
    "    top_sources = top_sources.nlargest(10, 'import_value').sort_values('import_value', ascending=True)\n",
    "    \n",
    "    # Create horizontal bar chart\n",
    "    fig = px.bar(\n",
    "        top_sources,\n",
    "        x='import_value',\n",
    "        y='country',\n",
    "        orientation='h',\n",
    "        title='Top 10 Import Sources (Total 2023Q1-2025Q1)',\n",
    "        labels={'import_value': 'Import Value (US$ millions)', 'country': 'Source Country'}\n",
    "    )\n",
    "    \n",
    "    fig.update_layout(\n",
    "        height=600,\n",
    "        showlegend=False,\n",
    "        margin=dict(l=150)\n",
    "    )\n",
    "    \n",
    "    fig.show()\n",
    "    \n",
    "    print(\"📦 Top Import Sources:\")\n",
    "    for _, row in top_sources.iterrows():\n",
    "        print(f\"   {row['country']}: ${row['import_value']:,.2f} million\")"
   ]
  },
  {
   "cell_type": "markdown",
   "metadata": {},
   "source": [
    "## 5. Commodity Analysis\n",
    "\n",
    "Let's analyze the trade data by commodity type using the commodity sheets."
   ]
  },
  {
   "cell_type": "code",
   "execution_count": 10,
   "metadata": {},
   "outputs": [
    {
     "name": "stdout",
     "output_type": "stream",
     "text": [
      "📅 Commodity quarters found: 10\n",
      "📦 Extracted 10 export commodity records\n",
      "📦 Extracted 10 import commodity records\n"
     ]
    }
   ],
   "source": [
    "# Load commodity data\n",
    "export_commodity_df = pd.read_excel(excel_file_path, sheet_name='ExportsCommodity', header=None)\n",
    "import_commodity_df = pd.read_excel(excel_file_path, sheet_name='ImportsCommodity', header=None)\n",
    "\n",
    "# Extract commodity data\n",
    "commodity_exports = []\n",
    "commodity_imports = []\n",
    "\n",
    "# Find quarters for commodities\n",
    "for i, row in export_commodity_df.iterrows():\n",
    "    if pd.notna(row.iloc[2]) and '2023Q1' in str(row.iloc[2]):\n",
    "        quarters = [str(q) for q in row.iloc[2:-2] if pd.notna(q) and 'Q' in str(q)]\n",
    "        break\n",
    "\n",
    "print(f\"📅 Commodity quarters found: {len(quarters)}\")\n",
    "\n",
    "# Extract export commodities\n",
    "for i in range(4, len(export_commodity_df)):\n",
    "    row = export_commodity_df.iloc[i]\n",
    "    sitc_code = str(row.iloc[0]).strip() if pd.notna(row.iloc[0]) else None\n",
    "    commodity = str(row.iloc[1]).strip() if pd.notna(row.iloc[1]) else None\n",
    "    \n",
    "    if not commodity or commodity in ['Source: NISR'] or sitc_code in ['0', '1', '2', '3', '4', '5', '6', '7', '8', '9']:\n",
    "        continue\n",
    "        \n",
    "    for j, quarter in enumerate(quarters):\n",
    "        col_index = j + 2\n",
    "        if col_index < len(row):\n",
    "            value = row.iloc[col_index]\n",
    "            if pd.notna(value) and float(value) > 0:\n",
    "                commodity_exports.append({\n",
    "                    'sitc_section': sitc_code,\n",
    "                    'commodity': commodity,\n",
    "                    'quarter': quarter,\n",
    "                    'export_value': float(value)\n",
    "                })\n",
    "\n",
    "# Extract import commodities (similar logic)\n",
    "for i in range(4, len(import_commodity_df)):\n",
    "    row = import_commodity_df.iloc[i]\n",
    "    sitc_code = str(row.iloc[0]).strip() if pd.notna(row.iloc[0]) else None\n",
    "    commodity = str(row.iloc[1]).strip() if pd.notna(row.iloc[1]) else None\n",
    "    \n",
    "    if not commodity or commodity in ['Source: NISR'] or sitc_code in ['0', '1', '2', '3', '4', '5', '6', '7', '8', '9']:\n",
    "        continue\n",
    "        \n",
    "    for j, quarter in enumerate(quarters):\n",
    "        col_index = j + 2\n",
    "        if col_index < len(row):\n",
    "            value = row.iloc[col_index]\n",
    "            if pd.notna(value) and float(value) > 0:\n",
    "                commodity_imports.append({\n",
    "                    'sitc_section': sitc_code,\n",
    "                    'commodity': commodity,\n",
    "                    'quarter': quarter,\n",
    "                    'import_value': float(value)\n",
    "                })\n",
    "\n",
    "commodity_exports_df = pd.DataFrame(commodity_exports)\n",
    "commodity_imports_df = pd.DataFrame(commodity_imports)\n",
    "\n",
    "print(f\"📦 Extracted {len(commodity_exports_df)} export commodity records\")\n",
    "print(f\"📦 Extracted {len(commodity_imports_df)} import commodity records\")"
   ]
  },
  {
   "cell_type": "code",
   "execution_count": 11,
   "metadata": {},
   "outputs": [
    {
     "data": {
      "application/vnd.plotly.v1+json": {
       "config": {
        "plotlyServerURL": "https://plot.ly"
       },
       "data": [
        {
         "domain": {
          "x": [
           0,
           1
          ],
          "y": [
           0,
           1
          ]
         },
         "hovertemplate": "sitc_section=%{label}<br>export_value=%{value}<extra></extra>",
         "labels": [
          "SITC SECTION"
         ],
         "legendgroup": "",
         "name": "",
         "showlegend": true,
         "textinfo": "percent+label",
         "textposition": "inside",
         "type": "pie",
         "values": [
          4568.628270195929
         ]
        }
       ],
       "layout": {
        "height": 600,
        "legend": {
         "tracegroupgap": 0
        },
        "template": {
         "data": {
          "bar": [
           {
            "error_x": {
             "color": "#2a3f5f"
            },
            "error_y": {
             "color": "#2a3f5f"
            },
            "marker": {
             "line": {
              "color": "#E5ECF6",
              "width": 0.5
             },
             "pattern": {
              "fillmode": "overlay",
              "size": 10,
              "solidity": 0.2
             }
            },
            "type": "bar"
           }
          ],
          "barpolar": [
           {
            "marker": {
             "line": {
              "color": "#E5ECF6",
              "width": 0.5
             },
             "pattern": {
              "fillmode": "overlay",
              "size": 10,
              "solidity": 0.2
             }
            },
            "type": "barpolar"
           }
          ],
          "carpet": [
           {
            "aaxis": {
             "endlinecolor": "#2a3f5f",
             "gridcolor": "white",
             "linecolor": "white",
             "minorgridcolor": "white",
             "startlinecolor": "#2a3f5f"
            },
            "baxis": {
             "endlinecolor": "#2a3f5f",
             "gridcolor": "white",
             "linecolor": "white",
             "minorgridcolor": "white",
             "startlinecolor": "#2a3f5f"
            },
            "type": "carpet"
           }
          ],
          "choropleth": [
           {
            "colorbar": {
             "outlinewidth": 0,
             "ticks": ""
            },
            "type": "choropleth"
           }
          ],
          "contour": [
           {
            "colorbar": {
             "outlinewidth": 0,
             "ticks": ""
            },
            "colorscale": [
             [
              0,
              "#0d0887"
             ],
             [
              0.1111111111111111,
              "#46039f"
             ],
             [
              0.2222222222222222,
              "#7201a8"
             ],
             [
              0.3333333333333333,
              "#9c179e"
             ],
             [
              0.4444444444444444,
              "#bd3786"
             ],
             [
              0.5555555555555556,
              "#d8576b"
             ],
             [
              0.6666666666666666,
              "#ed7953"
             ],
             [
              0.7777777777777778,
              "#fb9f3a"
             ],
             [
              0.8888888888888888,
              "#fdca26"
             ],
             [
              1,
              "#f0f921"
             ]
            ],
            "type": "contour"
           }
          ],
          "contourcarpet": [
           {
            "colorbar": {
             "outlinewidth": 0,
             "ticks": ""
            },
            "type": "contourcarpet"
           }
          ],
          "heatmap": [
           {
            "colorbar": {
             "outlinewidth": 0,
             "ticks": ""
            },
            "colorscale": [
             [
              0,
              "#0d0887"
             ],
             [
              0.1111111111111111,
              "#46039f"
             ],
             [
              0.2222222222222222,
              "#7201a8"
             ],
             [
              0.3333333333333333,
              "#9c179e"
             ],
             [
              0.4444444444444444,
              "#bd3786"
             ],
             [
              0.5555555555555556,
              "#d8576b"
             ],
             [
              0.6666666666666666,
              "#ed7953"
             ],
             [
              0.7777777777777778,
              "#fb9f3a"
             ],
             [
              0.8888888888888888,
              "#fdca26"
             ],
             [
              1,
              "#f0f921"
             ]
            ],
            "type": "heatmap"
           }
          ],
          "heatmapgl": [
           {
            "colorbar": {
             "outlinewidth": 0,
             "ticks": ""
            },
            "colorscale": [
             [
              0,
              "#0d0887"
             ],
             [
              0.1111111111111111,
              "#46039f"
             ],
             [
              0.2222222222222222,
              "#7201a8"
             ],
             [
              0.3333333333333333,
              "#9c179e"
             ],
             [
              0.4444444444444444,
              "#bd3786"
             ],
             [
              0.5555555555555556,
              "#d8576b"
             ],
             [
              0.6666666666666666,
              "#ed7953"
             ],
             [
              0.7777777777777778,
              "#fb9f3a"
             ],
             [
              0.8888888888888888,
              "#fdca26"
             ],
             [
              1,
              "#f0f921"
             ]
            ],
            "type": "heatmapgl"
           }
          ],
          "histogram": [
           {
            "marker": {
             "pattern": {
              "fillmode": "overlay",
              "size": 10,
              "solidity": 0.2
             }
            },
            "type": "histogram"
           }
          ],
          "histogram2d": [
           {
            "colorbar": {
             "outlinewidth": 0,
             "ticks": ""
            },
            "colorscale": [
             [
              0,
              "#0d0887"
             ],
             [
              0.1111111111111111,
              "#46039f"
             ],
             [
              0.2222222222222222,
              "#7201a8"
             ],
             [
              0.3333333333333333,
              "#9c179e"
             ],
             [
              0.4444444444444444,
              "#bd3786"
             ],
             [
              0.5555555555555556,
              "#d8576b"
             ],
             [
              0.6666666666666666,
              "#ed7953"
             ],
             [
              0.7777777777777778,
              "#fb9f3a"
             ],
             [
              0.8888888888888888,
              "#fdca26"
             ],
             [
              1,
              "#f0f921"
             ]
            ],
            "type": "histogram2d"
           }
          ],
          "histogram2dcontour": [
           {
            "colorbar": {
             "outlinewidth": 0,
             "ticks": ""
            },
            "colorscale": [
             [
              0,
              "#0d0887"
             ],
             [
              0.1111111111111111,
              "#46039f"
             ],
             [
              0.2222222222222222,
              "#7201a8"
             ],
             [
              0.3333333333333333,
              "#9c179e"
             ],
             [
              0.4444444444444444,
              "#bd3786"
             ],
             [
              0.5555555555555556,
              "#d8576b"
             ],
             [
              0.6666666666666666,
              "#ed7953"
             ],
             [
              0.7777777777777778,
              "#fb9f3a"
             ],
             [
              0.8888888888888888,
              "#fdca26"
             ],
             [
              1,
              "#f0f921"
             ]
            ],
            "type": "histogram2dcontour"
           }
          ],
          "mesh3d": [
           {
            "colorbar": {
             "outlinewidth": 0,
             "ticks": ""
            },
            "type": "mesh3d"
           }
          ],
          "parcoords": [
           {
            "line": {
             "colorbar": {
              "outlinewidth": 0,
              "ticks": ""
             }
            },
            "type": "parcoords"
           }
          ],
          "pie": [
           {
            "automargin": true,
            "type": "pie"
           }
          ],
          "scatter": [
           {
            "fillpattern": {
             "fillmode": "overlay",
             "size": 10,
             "solidity": 0.2
            },
            "type": "scatter"
           }
          ],
          "scatter3d": [
           {
            "line": {
             "colorbar": {
              "outlinewidth": 0,
              "ticks": ""
             }
            },
            "marker": {
             "colorbar": {
              "outlinewidth": 0,
              "ticks": ""
             }
            },
            "type": "scatter3d"
           }
          ],
          "scattercarpet": [
           {
            "marker": {
             "colorbar": {
              "outlinewidth": 0,
              "ticks": ""
             }
            },
            "type": "scattercarpet"
           }
          ],
          "scattergeo": [
           {
            "marker": {
             "colorbar": {
              "outlinewidth": 0,
              "ticks": ""
             }
            },
            "type": "scattergeo"
           }
          ],
          "scattergl": [
           {
            "marker": {
             "colorbar": {
              "outlinewidth": 0,
              "ticks": ""
             }
            },
            "type": "scattergl"
           }
          ],
          "scattermapbox": [
           {
            "marker": {
             "colorbar": {
              "outlinewidth": 0,
              "ticks": ""
             }
            },
            "type": "scattermapbox"
           }
          ],
          "scatterpolar": [
           {
            "marker": {
             "colorbar": {
              "outlinewidth": 0,
              "ticks": ""
             }
            },
            "type": "scatterpolar"
           }
          ],
          "scatterpolargl": [
           {
            "marker": {
             "colorbar": {
              "outlinewidth": 0,
              "ticks": ""
             }
            },
            "type": "scatterpolargl"
           }
          ],
          "scatterternary": [
           {
            "marker": {
             "colorbar": {
              "outlinewidth": 0,
              "ticks": ""
             }
            },
            "type": "scatterternary"
           }
          ],
          "surface": [
           {
            "colorbar": {
             "outlinewidth": 0,
             "ticks": ""
            },
            "colorscale": [
             [
              0,
              "#0d0887"
             ],
             [
              0.1111111111111111,
              "#46039f"
             ],
             [
              0.2222222222222222,
              "#7201a8"
             ],
             [
              0.3333333333333333,
              "#9c179e"
             ],
             [
              0.4444444444444444,
              "#bd3786"
             ],
             [
              0.5555555555555556,
              "#d8576b"
             ],
             [
              0.6666666666666666,
              "#ed7953"
             ],
             [
              0.7777777777777778,
              "#fb9f3a"
             ],
             [
              0.8888888888888888,
              "#fdca26"
             ],
             [
              1,
              "#f0f921"
             ]
            ],
            "type": "surface"
           }
          ],
          "table": [
           {
            "cells": {
             "fill": {
              "color": "#EBF0F8"
             },
             "line": {
              "color": "white"
             }
            },
            "header": {
             "fill": {
              "color": "#C8D4E3"
             },
             "line": {
              "color": "white"
             }
            },
            "type": "table"
           }
          ]
         },
         "layout": {
          "annotationdefaults": {
           "arrowcolor": "#2a3f5f",
           "arrowhead": 0,
           "arrowwidth": 1
          },
          "autotypenumbers": "strict",
          "coloraxis": {
           "colorbar": {
            "outlinewidth": 0,
            "ticks": ""
           }
          },
          "colorscale": {
           "diverging": [
            [
             0,
             "#8e0152"
            ],
            [
             0.1,
             "#c51b7d"
            ],
            [
             0.2,
             "#de77ae"
            ],
            [
             0.3,
             "#f1b6da"
            ],
            [
             0.4,
             "#fde0ef"
            ],
            [
             0.5,
             "#f7f7f7"
            ],
            [
             0.6,
             "#e6f5d0"
            ],
            [
             0.7,
             "#b8e186"
            ],
            [
             0.8,
             "#7fbc41"
            ],
            [
             0.9,
             "#4d9221"
            ],
            [
             1,
             "#276419"
            ]
           ],
           "sequential": [
            [
             0,
             "#0d0887"
            ],
            [
             0.1111111111111111,
             "#46039f"
            ],
            [
             0.2222222222222222,
             "#7201a8"
            ],
            [
             0.3333333333333333,
             "#9c179e"
            ],
            [
             0.4444444444444444,
             "#bd3786"
            ],
            [
             0.5555555555555556,
             "#d8576b"
            ],
            [
             0.6666666666666666,
             "#ed7953"
            ],
            [
             0.7777777777777778,
             "#fb9f3a"
            ],
            [
             0.8888888888888888,
             "#fdca26"
            ],
            [
             1,
             "#f0f921"
            ]
           ],
           "sequentialminus": [
            [
             0,
             "#0d0887"
            ],
            [
             0.1111111111111111,
             "#46039f"
            ],
            [
             0.2222222222222222,
             "#7201a8"
            ],
            [
             0.3333333333333333,
             "#9c179e"
            ],
            [
             0.4444444444444444,
             "#bd3786"
            ],
            [
             0.5555555555555556,
             "#d8576b"
            ],
            [
             0.6666666666666666,
             "#ed7953"
            ],
            [
             0.7777777777777778,
             "#fb9f3a"
            ],
            [
             0.8888888888888888,
             "#fdca26"
            ],
            [
             1,
             "#f0f921"
            ]
           ]
          },
          "colorway": [
           "#636efa",
           "#EF553B",
           "#00cc96",
           "#ab63fa",
           "#FFA15A",
           "#19d3f3",
           "#FF6692",
           "#B6E880",
           "#FF97FF",
           "#FECB52"
          ],
          "font": {
           "color": "#2a3f5f"
          },
          "geo": {
           "bgcolor": "white",
           "lakecolor": "white",
           "landcolor": "#E5ECF6",
           "showlakes": true,
           "showland": true,
           "subunitcolor": "white"
          },
          "hoverlabel": {
           "align": "left"
          },
          "hovermode": "closest",
          "mapbox": {
           "style": "light"
          },
          "paper_bgcolor": "white",
          "plot_bgcolor": "#E5ECF6",
          "polar": {
           "angularaxis": {
            "gridcolor": "white",
            "linecolor": "white",
            "ticks": ""
           },
           "bgcolor": "#E5ECF6",
           "radialaxis": {
            "gridcolor": "white",
            "linecolor": "white",
            "ticks": ""
           }
          },
          "scene": {
           "xaxis": {
            "backgroundcolor": "#E5ECF6",
            "gridcolor": "white",
            "gridwidth": 2,
            "linecolor": "white",
            "showbackground": true,
            "ticks": "",
            "zerolinecolor": "white"
           },
           "yaxis": {
            "backgroundcolor": "#E5ECF6",
            "gridcolor": "white",
            "gridwidth": 2,
            "linecolor": "white",
            "showbackground": true,
            "ticks": "",
            "zerolinecolor": "white"
           },
           "zaxis": {
            "backgroundcolor": "#E5ECF6",
            "gridcolor": "white",
            "gridwidth": 2,
            "linecolor": "white",
            "showbackground": true,
            "ticks": "",
            "zerolinecolor": "white"
           }
          },
          "shapedefaults": {
           "line": {
            "color": "#2a3f5f"
           }
          },
          "ternary": {
           "aaxis": {
            "gridcolor": "white",
            "linecolor": "white",
            "ticks": ""
           },
           "baxis": {
            "gridcolor": "white",
            "linecolor": "white",
            "ticks": ""
           },
           "bgcolor": "#E5ECF6",
           "caxis": {
            "gridcolor": "white",
            "linecolor": "white",
            "ticks": ""
           }
          },
          "title": {
           "x": 0.05
          },
          "xaxis": {
           "automargin": true,
           "gridcolor": "white",
           "linecolor": "white",
           "ticks": "",
           "title": {
            "standoff": 15
           },
           "zerolinecolor": "white",
           "zerolinewidth": 2
          },
          "yaxis": {
           "automargin": true,
           "gridcolor": "white",
           "linecolor": "white",
           "ticks": "",
           "title": {
            "standoff": 15
           },
           "zerolinecolor": "white",
           "zerolinewidth": 2
          }
         }
        },
        "title": {
         "text": "Export Distribution by SITC Section (2023Q1-2025Q1)"
        }
       }
      }
     },
     "metadata": {},
     "output_type": "display_data"
    },
    {
     "name": "stdout",
     "output_type": "stream",
     "text": [
      "📊 Export Distribution by SITC Section:\n",
      "   Section SITC SECTION: $4,568.63 million\n"
     ]
    }
   ],
   "source": [
    "# Commodity analysis visualization\n",
    "if not commodity_exports_df.empty:\n",
    "    # Group by SITC section\n",
    "    sitc_exports = commodity_exports_df.groupby('sitc_section')['export_value'].sum().reset_index()\n",
    "    sitc_exports = sitc_exports.sort_values('export_value', ascending=False)\n",
    "    \n",
    "    # Create pie chart for export commodities by SITC section\n",
    "    fig = px.pie(\n",
    "        sitc_exports,\n",
    "        values='export_value',\n",
    "        names='sitc_section',\n",
    "        title='Export Distribution by SITC Section (2023Q1-2025Q1)'\n",
    "    )\n",
    "    \n",
    "    fig.update_traces(textposition='inside', textinfo='percent+label')\n",
    "    fig.update_layout(height=600)\n",
    "    \n",
    "    fig.show()\n",
    "    \n",
    "    print(\"📊 Export Distribution by SITC Section:\")\n",
    "    for _, row in sitc_exports.iterrows():\n",
    "        print(f\"   Section {row['sitc_section']}: ${row['export_value']:,.2f} million\")"
   ]
  },
  {
   "cell_type": "markdown",
   "metadata": {},
   "source": [
    "## 6. Trade Balance Analysis\n",
    "\n",
    "Let's analyze the trade balance trends and identify key patterns."
   ]
  },
  {
   "cell_type": "code",
   "execution_count": 12,
   "metadata": {},
   "outputs": [
    {
     "name": "stdout",
     "output_type": "stream",
     "text": [
      "⚖️ Trade Balance Analysis:\n",
      "   2023Q1: $-1,074.37 (Deficit)\n",
      "   2023Q2: $-1,086.36 (Deficit)\n",
      "   2023Q3: $-1,193.70 (Deficit)\n",
      "   2023Q4: $-1,087.83 (Deficit)\n",
      "   2024Q1: $-978.91 (Deficit)\n",
      "   2024Q2: $-1,031.33 (Deficit)\n",
      "   2024Q3: $-1,084.56 (Deficit)\n",
      "   2024Q4: $-951.94 (Deficit)\n",
      "   2025Q1: $-898.23 (Deficit)\n",
      "   Shares in % Q1: $0.00 (Deficit)\n"
     ]
    }
   ],
   "source": [
    "# Calculate trade balance by quarter\n",
    "quarterly_balance = []\n",
    "\n",
    "for quarter in quarters:\n",
    "    # Get export and import totals for this quarter\n",
    "    export_total = overall_trade_df[\n",
    "        (overall_trade_df['quarter'] == quarter) & \n",
    "        (overall_trade_df['flow'] == 'Exports')\n",
    "    ]['value'].sum()\n",
    "    \n",
    "    import_total = overall_trade_df[\n",
    "        (overall_trade_df['quarter'] == quarter) & \n",
    "        (overall_trade_df['flow'] == 'Imports')\n",
    "    ]['value'].sum()\n",
    "    \n",
    "    balance = export_total - import_total\n",
    "    \n",
    "    quarterly_balance.append({\n",
    "        'quarter': quarter,\n",
    "        'exports': export_total,\n",
    "        'imports': import_total,\n",
    "        'balance': balance,\n",
    "        'balance_type': 'Surplus' if balance > 0 else 'Deficit'\n",
    "    })\n",
    "\n",
    "balance_df = pd.DataFrame(quarterly_balance)\n",
    "\n",
    "print(\"⚖️ Trade Balance Analysis:\")\n",
    "for _, row in balance_df.iterrows():\n",
    "    print(f\"   {row['quarter']}: ${row['balance']:,.2f} ({row['balance_type']})\")"
   ]
  },
  {
   "cell_type": "code",
   "execution_count": 13,
   "metadata": {},
   "outputs": [
    {
     "data": {
      "application/vnd.plotly.v1+json": {
       "config": {
        "plotlyServerURL": "https://plot.ly"
       },
       "data": [
        {
         "line": {
          "color": "green",
          "width": 3
         },
         "mode": "lines+markers",
         "name": "Exports",
         "type": "scatter",
         "x": [
          "2023Q1",
          "2023Q2",
          "2023Q3",
          "2023Q4",
          "2024Q1",
          "2024Q2",
          "2024Q3",
          "2024Q4",
          "2025Q1",
          "Shares in % Q1"
         ],
         "y": [
          402.14468784688006,
          484.73934625285204,
          388.1129711318348,
          399.1084006995603,
          431.6120219963785,
          537.6377961348556,
          667.0045749074241,
          677.4462049907256,
          480.8222662354178,
          0
         ]
        },
        {
         "line": {
          "color": "red",
          "width": 3
         },
         "mode": "lines+markers",
         "name": "Imports",
         "type": "scatter",
         "x": [
          "2023Q1",
          "2023Q2",
          "2023Q3",
          "2023Q4",
          "2024Q1",
          "2024Q2",
          "2024Q3",
          "2024Q4",
          "2025Q1",
          "Shares in % Q1"
         ],
         "y": [
          1476.5099483773447,
          1571.0946258966371,
          1581.8144762227898,
          1486.9343027633097,
          1410.520446799369,
          1568.9725638823377,
          1751.5689343393103,
          1629.3897840889606,
          1379.0488043778544,
          0
         ]
        },
        {
         "marker": {
          "color": [
           "red",
           "red",
           "red",
           "red",
           "red",
           "red",
           "red",
           "red",
           "red",
           "red"
          ]
         },
         "name": "Trade Balance",
         "opacity": 0.6,
         "type": "bar",
         "x": [
          "2023Q1",
          "2023Q2",
          "2023Q3",
          "2023Q4",
          "2024Q1",
          "2024Q2",
          "2024Q3",
          "2024Q4",
          "2025Q1",
          "Shares in % Q1"
         ],
         "y": [
          -1074.3652605304646,
          -1086.355279643785,
          -1193.701505090955,
          -1087.8259020637493,
          -978.9084248029906,
          -1031.3347677474821,
          -1084.5643594318863,
          -951.943579098235,
          -898.2265381424365,
          0
         ]
        }
       ],
       "layout": {
        "height": 600,
        "showlegend": true,
        "template": {
         "data": {
          "bar": [
           {
            "error_x": {
             "color": "#2a3f5f"
            },
            "error_y": {
             "color": "#2a3f5f"
            },
            "marker": {
             "line": {
              "color": "#E5ECF6",
              "width": 0.5
             },
             "pattern": {
              "fillmode": "overlay",
              "size": 10,
              "solidity": 0.2
             }
            },
            "type": "bar"
           }
          ],
          "barpolar": [
           {
            "marker": {
             "line": {
              "color": "#E5ECF6",
              "width": 0.5
             },
             "pattern": {
              "fillmode": "overlay",
              "size": 10,
              "solidity": 0.2
             }
            },
            "type": "barpolar"
           }
          ],
          "carpet": [
           {
            "aaxis": {
             "endlinecolor": "#2a3f5f",
             "gridcolor": "white",
             "linecolor": "white",
             "minorgridcolor": "white",
             "startlinecolor": "#2a3f5f"
            },
            "baxis": {
             "endlinecolor": "#2a3f5f",
             "gridcolor": "white",
             "linecolor": "white",
             "minorgridcolor": "white",
             "startlinecolor": "#2a3f5f"
            },
            "type": "carpet"
           }
          ],
          "choropleth": [
           {
            "colorbar": {
             "outlinewidth": 0,
             "ticks": ""
            },
            "type": "choropleth"
           }
          ],
          "contour": [
           {
            "colorbar": {
             "outlinewidth": 0,
             "ticks": ""
            },
            "colorscale": [
             [
              0,
              "#0d0887"
             ],
             [
              0.1111111111111111,
              "#46039f"
             ],
             [
              0.2222222222222222,
              "#7201a8"
             ],
             [
              0.3333333333333333,
              "#9c179e"
             ],
             [
              0.4444444444444444,
              "#bd3786"
             ],
             [
              0.5555555555555556,
              "#d8576b"
             ],
             [
              0.6666666666666666,
              "#ed7953"
             ],
             [
              0.7777777777777778,
              "#fb9f3a"
             ],
             [
              0.8888888888888888,
              "#fdca26"
             ],
             [
              1,
              "#f0f921"
             ]
            ],
            "type": "contour"
           }
          ],
          "contourcarpet": [
           {
            "colorbar": {
             "outlinewidth": 0,
             "ticks": ""
            },
            "type": "contourcarpet"
           }
          ],
          "heatmap": [
           {
            "colorbar": {
             "outlinewidth": 0,
             "ticks": ""
            },
            "colorscale": [
             [
              0,
              "#0d0887"
             ],
             [
              0.1111111111111111,
              "#46039f"
             ],
             [
              0.2222222222222222,
              "#7201a8"
             ],
             [
              0.3333333333333333,
              "#9c179e"
             ],
             [
              0.4444444444444444,
              "#bd3786"
             ],
             [
              0.5555555555555556,
              "#d8576b"
             ],
             [
              0.6666666666666666,
              "#ed7953"
             ],
             [
              0.7777777777777778,
              "#fb9f3a"
             ],
             [
              0.8888888888888888,
              "#fdca26"
             ],
             [
              1,
              "#f0f921"
             ]
            ],
            "type": "heatmap"
           }
          ],
          "heatmapgl": [
           {
            "colorbar": {
             "outlinewidth": 0,
             "ticks": ""
            },
            "colorscale": [
             [
              0,
              "#0d0887"
             ],
             [
              0.1111111111111111,
              "#46039f"
             ],
             [
              0.2222222222222222,
              "#7201a8"
             ],
             [
              0.3333333333333333,
              "#9c179e"
             ],
             [
              0.4444444444444444,
              "#bd3786"
             ],
             [
              0.5555555555555556,
              "#d8576b"
             ],
             [
              0.6666666666666666,
              "#ed7953"
             ],
             [
              0.7777777777777778,
              "#fb9f3a"
             ],
             [
              0.8888888888888888,
              "#fdca26"
             ],
             [
              1,
              "#f0f921"
             ]
            ],
            "type": "heatmapgl"
           }
          ],
          "histogram": [
           {
            "marker": {
             "pattern": {
              "fillmode": "overlay",
              "size": 10,
              "solidity": 0.2
             }
            },
            "type": "histogram"
           }
          ],
          "histogram2d": [
           {
            "colorbar": {
             "outlinewidth": 0,
             "ticks": ""
            },
            "colorscale": [
             [
              0,
              "#0d0887"
             ],
             [
              0.1111111111111111,
              "#46039f"
             ],
             [
              0.2222222222222222,
              "#7201a8"
             ],
             [
              0.3333333333333333,
              "#9c179e"
             ],
             [
              0.4444444444444444,
              "#bd3786"
             ],
             [
              0.5555555555555556,
              "#d8576b"
             ],
             [
              0.6666666666666666,
              "#ed7953"
             ],
             [
              0.7777777777777778,
              "#fb9f3a"
             ],
             [
              0.8888888888888888,
              "#fdca26"
             ],
             [
              1,
              "#f0f921"
             ]
            ],
            "type": "histogram2d"
           }
          ],
          "histogram2dcontour": [
           {
            "colorbar": {
             "outlinewidth": 0,
             "ticks": ""
            },
            "colorscale": [
             [
              0,
              "#0d0887"
             ],
             [
              0.1111111111111111,
              "#46039f"
             ],
             [
              0.2222222222222222,
              "#7201a8"
             ],
             [
              0.3333333333333333,
              "#9c179e"
             ],
             [
              0.4444444444444444,
              "#bd3786"
             ],
             [
              0.5555555555555556,
              "#d8576b"
             ],
             [
              0.6666666666666666,
              "#ed7953"
             ],
             [
              0.7777777777777778,
              "#fb9f3a"
             ],
             [
              0.8888888888888888,
              "#fdca26"
             ],
             [
              1,
              "#f0f921"
             ]
            ],
            "type": "histogram2dcontour"
           }
          ],
          "mesh3d": [
           {
            "colorbar": {
             "outlinewidth": 0,
             "ticks": ""
            },
            "type": "mesh3d"
           }
          ],
          "parcoords": [
           {
            "line": {
             "colorbar": {
              "outlinewidth": 0,
              "ticks": ""
             }
            },
            "type": "parcoords"
           }
          ],
          "pie": [
           {
            "automargin": true,
            "type": "pie"
           }
          ],
          "scatter": [
           {
            "fillpattern": {
             "fillmode": "overlay",
             "size": 10,
             "solidity": 0.2
            },
            "type": "scatter"
           }
          ],
          "scatter3d": [
           {
            "line": {
             "colorbar": {
              "outlinewidth": 0,
              "ticks": ""
             }
            },
            "marker": {
             "colorbar": {
              "outlinewidth": 0,
              "ticks": ""
             }
            },
            "type": "scatter3d"
           }
          ],
          "scattercarpet": [
           {
            "marker": {
             "colorbar": {
              "outlinewidth": 0,
              "ticks": ""
             }
            },
            "type": "scattercarpet"
           }
          ],
          "scattergeo": [
           {
            "marker": {
             "colorbar": {
              "outlinewidth": 0,
              "ticks": ""
             }
            },
            "type": "scattergeo"
           }
          ],
          "scattergl": [
           {
            "marker": {
             "colorbar": {
              "outlinewidth": 0,
              "ticks": ""
             }
            },
            "type": "scattergl"
           }
          ],
          "scattermapbox": [
           {
            "marker": {
             "colorbar": {
              "outlinewidth": 0,
              "ticks": ""
             }
            },
            "type": "scattermapbox"
           }
          ],
          "scatterpolar": [
           {
            "marker": {
             "colorbar": {
              "outlinewidth": 0,
              "ticks": ""
             }
            },
            "type": "scatterpolar"
           }
          ],
          "scatterpolargl": [
           {
            "marker": {
             "colorbar": {
              "outlinewidth": 0,
              "ticks": ""
             }
            },
            "type": "scatterpolargl"
           }
          ],
          "scatterternary": [
           {
            "marker": {
             "colorbar": {
              "outlinewidth": 0,
              "ticks": ""
             }
            },
            "type": "scatterternary"
           }
          ],
          "surface": [
           {
            "colorbar": {
             "outlinewidth": 0,
             "ticks": ""
            },
            "colorscale": [
             [
              0,
              "#0d0887"
             ],
             [
              0.1111111111111111,
              "#46039f"
             ],
             [
              0.2222222222222222,
              "#7201a8"
             ],
             [
              0.3333333333333333,
              "#9c179e"
             ],
             [
              0.4444444444444444,
              "#bd3786"
             ],
             [
              0.5555555555555556,
              "#d8576b"
             ],
             [
              0.6666666666666666,
              "#ed7953"
             ],
             [
              0.7777777777777778,
              "#fb9f3a"
             ],
             [
              0.8888888888888888,
              "#fdca26"
             ],
             [
              1,
              "#f0f921"
             ]
            ],
            "type": "surface"
           }
          ],
          "table": [
           {
            "cells": {
             "fill": {
              "color": "#EBF0F8"
             },
             "line": {
              "color": "white"
             }
            },
            "header": {
             "fill": {
              "color": "#C8D4E3"
             },
             "line": {
              "color": "white"
             }
            },
            "type": "table"
           }
          ]
         },
         "layout": {
          "annotationdefaults": {
           "arrowcolor": "#2a3f5f",
           "arrowhead": 0,
           "arrowwidth": 1
          },
          "autotypenumbers": "strict",
          "coloraxis": {
           "colorbar": {
            "outlinewidth": 0,
            "ticks": ""
           }
          },
          "colorscale": {
           "diverging": [
            [
             0,
             "#8e0152"
            ],
            [
             0.1,
             "#c51b7d"
            ],
            [
             0.2,
             "#de77ae"
            ],
            [
             0.3,
             "#f1b6da"
            ],
            [
             0.4,
             "#fde0ef"
            ],
            [
             0.5,
             "#f7f7f7"
            ],
            [
             0.6,
             "#e6f5d0"
            ],
            [
             0.7,
             "#b8e186"
            ],
            [
             0.8,
             "#7fbc41"
            ],
            [
             0.9,
             "#4d9221"
            ],
            [
             1,
             "#276419"
            ]
           ],
           "sequential": [
            [
             0,
             "#0d0887"
            ],
            [
             0.1111111111111111,
             "#46039f"
            ],
            [
             0.2222222222222222,
             "#7201a8"
            ],
            [
             0.3333333333333333,
             "#9c179e"
            ],
            [
             0.4444444444444444,
             "#bd3786"
            ],
            [
             0.5555555555555556,
             "#d8576b"
            ],
            [
             0.6666666666666666,
             "#ed7953"
            ],
            [
             0.7777777777777778,
             "#fb9f3a"
            ],
            [
             0.8888888888888888,
             "#fdca26"
            ],
            [
             1,
             "#f0f921"
            ]
           ],
           "sequentialminus": [
            [
             0,
             "#0d0887"
            ],
            [
             0.1111111111111111,
             "#46039f"
            ],
            [
             0.2222222222222222,
             "#7201a8"
            ],
            [
             0.3333333333333333,
             "#9c179e"
            ],
            [
             0.4444444444444444,
             "#bd3786"
            ],
            [
             0.5555555555555556,
             "#d8576b"
            ],
            [
             0.6666666666666666,
             "#ed7953"
            ],
            [
             0.7777777777777778,
             "#fb9f3a"
            ],
            [
             0.8888888888888888,
             "#fdca26"
            ],
            [
             1,
             "#f0f921"
            ]
           ]
          },
          "colorway": [
           "#636efa",
           "#EF553B",
           "#00cc96",
           "#ab63fa",
           "#FFA15A",
           "#19d3f3",
           "#FF6692",
           "#B6E880",
           "#FF97FF",
           "#FECB52"
          ],
          "font": {
           "color": "#2a3f5f"
          },
          "geo": {
           "bgcolor": "white",
           "lakecolor": "white",
           "landcolor": "#E5ECF6",
           "showlakes": true,
           "showland": true,
           "subunitcolor": "white"
          },
          "hoverlabel": {
           "align": "left"
          },
          "hovermode": "closest",
          "mapbox": {
           "style": "light"
          },
          "paper_bgcolor": "white",
          "plot_bgcolor": "#E5ECF6",
          "polar": {
           "angularaxis": {
            "gridcolor": "white",
            "linecolor": "white",
            "ticks": ""
           },
           "bgcolor": "#E5ECF6",
           "radialaxis": {
            "gridcolor": "white",
            "linecolor": "white",
            "ticks": ""
           }
          },
          "scene": {
           "xaxis": {
            "backgroundcolor": "#E5ECF6",
            "gridcolor": "white",
            "gridwidth": 2,
            "linecolor": "white",
            "showbackground": true,
            "ticks": "",
            "zerolinecolor": "white"
           },
           "yaxis": {
            "backgroundcolor": "#E5ECF6",
            "gridcolor": "white",
            "gridwidth": 2,
            "linecolor": "white",
            "showbackground": true,
            "ticks": "",
            "zerolinecolor": "white"
           },
           "zaxis": {
            "backgroundcolor": "#E5ECF6",
            "gridcolor": "white",
            "gridwidth": 2,
            "linecolor": "white",
            "showbackground": true,
            "ticks": "",
            "zerolinecolor": "white"
           }
          },
          "shapedefaults": {
           "line": {
            "color": "#2a3f5f"
           }
          },
          "ternary": {
           "aaxis": {
            "gridcolor": "white",
            "linecolor": "white",
            "ticks": ""
           },
           "baxis": {
            "gridcolor": "white",
            "linecolor": "white",
            "ticks": ""
           },
           "bgcolor": "#E5ECF6",
           "caxis": {
            "gridcolor": "white",
            "linecolor": "white",
            "ticks": ""
           }
          },
          "title": {
           "x": 0.05
          },
          "xaxis": {
           "automargin": true,
           "gridcolor": "white",
           "linecolor": "white",
           "ticks": "",
           "title": {
            "standoff": 15
           },
           "zerolinecolor": "white",
           "zerolinewidth": 2
          },
          "yaxis": {
           "automargin": true,
           "gridcolor": "white",
           "linecolor": "white",
           "ticks": "",
           "title": {
            "standoff": 15
           },
           "zerolinecolor": "white",
           "zerolinewidth": 2
          }
         }
        },
        "title": {
         "text": "Rwanda Trade Balance Analysis (2023Q1-2025Q1)"
        },
        "xaxis": {
         "title": {
          "text": "Quarter"
         }
        },
        "yaxis": {
         "title": {
          "text": "Value (US$ millions)"
         }
        }
       }
      }
     },
     "metadata": {},
     "output_type": "display_data"
    }
   ],
   "source": [
    "# Trade balance visualization\n",
    "fig = go.Figure()\n",
    "\n",
    "# Add export and import lines\n",
    "fig.add_trace(go.Scatter(\n",
    "    x=balance_df['quarter'],\n",
    "    y=balance_df['exports'],\n",
    "    mode='lines+markers',\n",
    "    name='Exports',\n",
    "    line=dict(color='green', width=3)\n",
    "))\n",
    "\n",
    "fig.add_trace(go.Scatter(\n",
    "    x=balance_df['quarter'],\n",
    "    y=balance_df['imports'],\n",
    "    mode='lines+markers',\n",
    "    name='Imports',\n",
    "    line=dict(color='red', width=3)\n",
    "))\n",
    "\n",
    "# Add balance as bars\n",
    "colors = ['green' if x > 0 else 'red' for x in balance_df['balance']]\n",
    "fig.add_trace(go.Bar(\n",
    "    x=balance_df['quarter'],\n",
    "    y=balance_df['balance'],\n",
    "    name='Trade Balance',\n",
    "    marker_color=colors,\n",
    "    opacity=0.6\n",
    "))\n",
    "\n",
    "fig.update_layout(\n",
    "    title='Rwanda Trade Balance Analysis (2023Q1-2025Q1)',\n",
    "    xaxis_title='Quarter',\n",
    "    yaxis_title='Value (US$ millions)',\n",
    "    height=600,\n",
    "    showlegend=True\n",
    ")\n",
    "\n",
    "fig.show()"
   ]
  },
  {
   "cell_type": "markdown",
   "metadata": {},
   "source": [
    "## 7. Regional Trade Analysis\n",
    "\n",
    "Let's analyze trade with different regional blocs and continents."
   ]
  },
  {
   "cell_type": "code",
   "execution_count": 14,
   "metadata": {},
   "outputs": [
    {
     "name": "stdout",
     "output_type": "stream",
     "text": [
      "📅 Regional quarters found: 9\n",
      "🌍 Extracted 54 regional trade records\n"
     ]
    }
   ],
   "source": [
    "# Load regional trade data\n",
    "regional_df = pd.read_excel(excel_file_path, sheet_name='Regional blocks', header=None)\n",
    "\n",
    "# Extract regional data\n",
    "regional_trade = []\n",
    "\n",
    "# Find quarters for regional data\n",
    "for i, row in regional_df.iterrows():\n",
    "    if pd.notna(row.iloc[2]) and '2023Q1' in str(row.iloc[2]):\n",
    "        quarters = [str(q) for q in row.iloc[2:] if pd.notna(q) and 'Q' in str(q)]\n",
    "        break\n",
    "\n",
    "print(f\"📅 Regional quarters found: {len(quarters)}\")\n",
    "\n",
    "# Extract regional bloc data\n",
    "for i in range(3, len(regional_df)):\n",
    "    row = regional_df.iloc[i]\n",
    "    bloc = str(row.iloc[0]).strip() if pd.notna(row.iloc[0]) else None\n",
    "    flow = str(row.iloc[1]).strip() if pd.notna(row.iloc[1]) else None\n",
    "    \n",
    "    if not bloc or not flow or bloc in ['Source: NISR', 'Partner']:\n",
    "        continue\n",
    "        \n",
    "    for j, quarter in enumerate(quarters):\n",
    "        col_index = j + 2\n",
    "        if col_index < len(row):\n",
    "            value = row.iloc[col_index]\n",
    "            if pd.notna(value) and float(value) > 0:\n",
    "                regional_trade.append({\n",
    "                    'regional_bloc': bloc,\n",
    "                    'flow': flow,\n",
    "                    'quarter': quarter,\n",
    "                    'value': float(value)\n",
    "                })\n",
    "\n",
    "regional_trade_df = pd.DataFrame(regional_trade)\n",
    "print(f\"🌍 Extracted {len(regional_trade_df)} regional trade records\")"
   ]
  },
  {
   "cell_type": "code",
   "execution_count": 15,
   "metadata": {},
   "outputs": [
    {
     "data": {
      "application/vnd.plotly.v1+json": {
       "config": {
        "plotlyServerURL": "https://plot.ly"
       },
       "data": [
        {
         "alignmentgroup": "True",
         "hovertemplate": "flow=Export<br>Regional Bloc=%{x}<br>Trade Value (US$ millions)=%{y}<extra></extra>",
         "legendgroup": "Export",
         "marker": {
          "color": "#636efa",
          "pattern": {
           "shape": ""
          }
         },
         "name": "Export",
         "offsetgroup": "Export",
         "orientation": "v",
         "showlegend": true,
         "textposition": "auto",
         "type": "bar",
         "x": [
          "CEPGL",
          "COMESA",
          "COMMON WEALTH",
          "ECOWAS",
          "EU",
          "SADC"
         ],
         "xaxis": "x",
         "y": [
          497.6384403973342,
          627.1979896189346,
          317.48675650049415,
          2.912632859905076,
          260.76284283506874,
          490.68319463361405
         ],
         "yaxis": "y"
        }
       ],
       "layout": {
        "barmode": "group",
        "height": 600,
        "legend": {
         "title": {
          "text": "flow"
         },
         "tracegroupgap": 0
        },
        "template": {
         "data": {
          "bar": [
           {
            "error_x": {
             "color": "#2a3f5f"
            },
            "error_y": {
             "color": "#2a3f5f"
            },
            "marker": {
             "line": {
              "color": "#E5ECF6",
              "width": 0.5
             },
             "pattern": {
              "fillmode": "overlay",
              "size": 10,
              "solidity": 0.2
             }
            },
            "type": "bar"
           }
          ],
          "barpolar": [
           {
            "marker": {
             "line": {
              "color": "#E5ECF6",
              "width": 0.5
             },
             "pattern": {
              "fillmode": "overlay",
              "size": 10,
              "solidity": 0.2
             }
            },
            "type": "barpolar"
           }
          ],
          "carpet": [
           {
            "aaxis": {
             "endlinecolor": "#2a3f5f",
             "gridcolor": "white",
             "linecolor": "white",
             "minorgridcolor": "white",
             "startlinecolor": "#2a3f5f"
            },
            "baxis": {
             "endlinecolor": "#2a3f5f",
             "gridcolor": "white",
             "linecolor": "white",
             "minorgridcolor": "white",
             "startlinecolor": "#2a3f5f"
            },
            "type": "carpet"
           }
          ],
          "choropleth": [
           {
            "colorbar": {
             "outlinewidth": 0,
             "ticks": ""
            },
            "type": "choropleth"
           }
          ],
          "contour": [
           {
            "colorbar": {
             "outlinewidth": 0,
             "ticks": ""
            },
            "colorscale": [
             [
              0,
              "#0d0887"
             ],
             [
              0.1111111111111111,
              "#46039f"
             ],
             [
              0.2222222222222222,
              "#7201a8"
             ],
             [
              0.3333333333333333,
              "#9c179e"
             ],
             [
              0.4444444444444444,
              "#bd3786"
             ],
             [
              0.5555555555555556,
              "#d8576b"
             ],
             [
              0.6666666666666666,
              "#ed7953"
             ],
             [
              0.7777777777777778,
              "#fb9f3a"
             ],
             [
              0.8888888888888888,
              "#fdca26"
             ],
             [
              1,
              "#f0f921"
             ]
            ],
            "type": "contour"
           }
          ],
          "contourcarpet": [
           {
            "colorbar": {
             "outlinewidth": 0,
             "ticks": ""
            },
            "type": "contourcarpet"
           }
          ],
          "heatmap": [
           {
            "colorbar": {
             "outlinewidth": 0,
             "ticks": ""
            },
            "colorscale": [
             [
              0,
              "#0d0887"
             ],
             [
              0.1111111111111111,
              "#46039f"
             ],
             [
              0.2222222222222222,
              "#7201a8"
             ],
             [
              0.3333333333333333,
              "#9c179e"
             ],
             [
              0.4444444444444444,
              "#bd3786"
             ],
             [
              0.5555555555555556,
              "#d8576b"
             ],
             [
              0.6666666666666666,
              "#ed7953"
             ],
             [
              0.7777777777777778,
              "#fb9f3a"
             ],
             [
              0.8888888888888888,
              "#fdca26"
             ],
             [
              1,
              "#f0f921"
             ]
            ],
            "type": "heatmap"
           }
          ],
          "heatmapgl": [
           {
            "colorbar": {
             "outlinewidth": 0,
             "ticks": ""
            },
            "colorscale": [
             [
              0,
              "#0d0887"
             ],
             [
              0.1111111111111111,
              "#46039f"
             ],
             [
              0.2222222222222222,
              "#7201a8"
             ],
             [
              0.3333333333333333,
              "#9c179e"
             ],
             [
              0.4444444444444444,
              "#bd3786"
             ],
             [
              0.5555555555555556,
              "#d8576b"
             ],
             [
              0.6666666666666666,
              "#ed7953"
             ],
             [
              0.7777777777777778,
              "#fb9f3a"
             ],
             [
              0.8888888888888888,
              "#fdca26"
             ],
             [
              1,
              "#f0f921"
             ]
            ],
            "type": "heatmapgl"
           }
          ],
          "histogram": [
           {
            "marker": {
             "pattern": {
              "fillmode": "overlay",
              "size": 10,
              "solidity": 0.2
             }
            },
            "type": "histogram"
           }
          ],
          "histogram2d": [
           {
            "colorbar": {
             "outlinewidth": 0,
             "ticks": ""
            },
            "colorscale": [
             [
              0,
              "#0d0887"
             ],
             [
              0.1111111111111111,
              "#46039f"
             ],
             [
              0.2222222222222222,
              "#7201a8"
             ],
             [
              0.3333333333333333,
              "#9c179e"
             ],
             [
              0.4444444444444444,
              "#bd3786"
             ],
             [
              0.5555555555555556,
              "#d8576b"
             ],
             [
              0.6666666666666666,
              "#ed7953"
             ],
             [
              0.7777777777777778,
              "#fb9f3a"
             ],
             [
              0.8888888888888888,
              "#fdca26"
             ],
             [
              1,
              "#f0f921"
             ]
            ],
            "type": "histogram2d"
           }
          ],
          "histogram2dcontour": [
           {
            "colorbar": {
             "outlinewidth": 0,
             "ticks": ""
            },
            "colorscale": [
             [
              0,
              "#0d0887"
             ],
             [
              0.1111111111111111,
              "#46039f"
             ],
             [
              0.2222222222222222,
              "#7201a8"
             ],
             [
              0.3333333333333333,
              "#9c179e"
             ],
             [
              0.4444444444444444,
              "#bd3786"
             ],
             [
              0.5555555555555556,
              "#d8576b"
             ],
             [
              0.6666666666666666,
              "#ed7953"
             ],
             [
              0.7777777777777778,
              "#fb9f3a"
             ],
             [
              0.8888888888888888,
              "#fdca26"
             ],
             [
              1,
              "#f0f921"
             ]
            ],
            "type": "histogram2dcontour"
           }
          ],
          "mesh3d": [
           {
            "colorbar": {
             "outlinewidth": 0,
             "ticks": ""
            },
            "type": "mesh3d"
           }
          ],
          "parcoords": [
           {
            "line": {
             "colorbar": {
              "outlinewidth": 0,
              "ticks": ""
             }
            },
            "type": "parcoords"
           }
          ],
          "pie": [
           {
            "automargin": true,
            "type": "pie"
           }
          ],
          "scatter": [
           {
            "fillpattern": {
             "fillmode": "overlay",
             "size": 10,
             "solidity": 0.2
            },
            "type": "scatter"
           }
          ],
          "scatter3d": [
           {
            "line": {
             "colorbar": {
              "outlinewidth": 0,
              "ticks": ""
             }
            },
            "marker": {
             "colorbar": {
              "outlinewidth": 0,
              "ticks": ""
             }
            },
            "type": "scatter3d"
           }
          ],
          "scattercarpet": [
           {
            "marker": {
             "colorbar": {
              "outlinewidth": 0,
              "ticks": ""
             }
            },
            "type": "scattercarpet"
           }
          ],
          "scattergeo": [
           {
            "marker": {
             "colorbar": {
              "outlinewidth": 0,
              "ticks": ""
             }
            },
            "type": "scattergeo"
           }
          ],
          "scattergl": [
           {
            "marker": {
             "colorbar": {
              "outlinewidth": 0,
              "ticks": ""
             }
            },
            "type": "scattergl"
           }
          ],
          "scattermapbox": [
           {
            "marker": {
             "colorbar": {
              "outlinewidth": 0,
              "ticks": ""
             }
            },
            "type": "scattermapbox"
           }
          ],
          "scatterpolar": [
           {
            "marker": {
             "colorbar": {
              "outlinewidth": 0,
              "ticks": ""
             }
            },
            "type": "scatterpolar"
           }
          ],
          "scatterpolargl": [
           {
            "marker": {
             "colorbar": {
              "outlinewidth": 0,
              "ticks": ""
             }
            },
            "type": "scatterpolargl"
           }
          ],
          "scatterternary": [
           {
            "marker": {
             "colorbar": {
              "outlinewidth": 0,
              "ticks": ""
             }
            },
            "type": "scatterternary"
           }
          ],
          "surface": [
           {
            "colorbar": {
             "outlinewidth": 0,
             "ticks": ""
            },
            "colorscale": [
             [
              0,
              "#0d0887"
             ],
             [
              0.1111111111111111,
              "#46039f"
             ],
             [
              0.2222222222222222,
              "#7201a8"
             ],
             [
              0.3333333333333333,
              "#9c179e"
             ],
             [
              0.4444444444444444,
              "#bd3786"
             ],
             [
              0.5555555555555556,
              "#d8576b"
             ],
             [
              0.6666666666666666,
              "#ed7953"
             ],
             [
              0.7777777777777778,
              "#fb9f3a"
             ],
             [
              0.8888888888888888,
              "#fdca26"
             ],
             [
              1,
              "#f0f921"
             ]
            ],
            "type": "surface"
           }
          ],
          "table": [
           {
            "cells": {
             "fill": {
              "color": "#EBF0F8"
             },
             "line": {
              "color": "white"
             }
            },
            "header": {
             "fill": {
              "color": "#C8D4E3"
             },
             "line": {
              "color": "white"
             }
            },
            "type": "table"
           }
          ]
         },
         "layout": {
          "annotationdefaults": {
           "arrowcolor": "#2a3f5f",
           "arrowhead": 0,
           "arrowwidth": 1
          },
          "autotypenumbers": "strict",
          "coloraxis": {
           "colorbar": {
            "outlinewidth": 0,
            "ticks": ""
           }
          },
          "colorscale": {
           "diverging": [
            [
             0,
             "#8e0152"
            ],
            [
             0.1,
             "#c51b7d"
            ],
            [
             0.2,
             "#de77ae"
            ],
            [
             0.3,
             "#f1b6da"
            ],
            [
             0.4,
             "#fde0ef"
            ],
            [
             0.5,
             "#f7f7f7"
            ],
            [
             0.6,
             "#e6f5d0"
            ],
            [
             0.7,
             "#b8e186"
            ],
            [
             0.8,
             "#7fbc41"
            ],
            [
             0.9,
             "#4d9221"
            ],
            [
             1,
             "#276419"
            ]
           ],
           "sequential": [
            [
             0,
             "#0d0887"
            ],
            [
             0.1111111111111111,
             "#46039f"
            ],
            [
             0.2222222222222222,
             "#7201a8"
            ],
            [
             0.3333333333333333,
             "#9c179e"
            ],
            [
             0.4444444444444444,
             "#bd3786"
            ],
            [
             0.5555555555555556,
             "#d8576b"
            ],
            [
             0.6666666666666666,
             "#ed7953"
            ],
            [
             0.7777777777777778,
             "#fb9f3a"
            ],
            [
             0.8888888888888888,
             "#fdca26"
            ],
            [
             1,
             "#f0f921"
            ]
           ],
           "sequentialminus": [
            [
             0,
             "#0d0887"
            ],
            [
             0.1111111111111111,
             "#46039f"
            ],
            [
             0.2222222222222222,
             "#7201a8"
            ],
            [
             0.3333333333333333,
             "#9c179e"
            ],
            [
             0.4444444444444444,
             "#bd3786"
            ],
            [
             0.5555555555555556,
             "#d8576b"
            ],
            [
             0.6666666666666666,
             "#ed7953"
            ],
            [
             0.7777777777777778,
             "#fb9f3a"
            ],
            [
             0.8888888888888888,
             "#fdca26"
            ],
            [
             1,
             "#f0f921"
            ]
           ]
          },
          "colorway": [
           "#636efa",
           "#EF553B",
           "#00cc96",
           "#ab63fa",
           "#FFA15A",
           "#19d3f3",
           "#FF6692",
           "#B6E880",
           "#FF97FF",
           "#FECB52"
          ],
          "font": {
           "color": "#2a3f5f"
          },
          "geo": {
           "bgcolor": "white",
           "lakecolor": "white",
           "landcolor": "#E5ECF6",
           "showlakes": true,
           "showland": true,
           "subunitcolor": "white"
          },
          "hoverlabel": {
           "align": "left"
          },
          "hovermode": "closest",
          "mapbox": {
           "style": "light"
          },
          "paper_bgcolor": "white",
          "plot_bgcolor": "#E5ECF6",
          "polar": {
           "angularaxis": {
            "gridcolor": "white",
            "linecolor": "white",
            "ticks": ""
           },
           "bgcolor": "#E5ECF6",
           "radialaxis": {
            "gridcolor": "white",
            "linecolor": "white",
            "ticks": ""
           }
          },
          "scene": {
           "xaxis": {
            "backgroundcolor": "#E5ECF6",
            "gridcolor": "white",
            "gridwidth": 2,
            "linecolor": "white",
            "showbackground": true,
            "ticks": "",
            "zerolinecolor": "white"
           },
           "yaxis": {
            "backgroundcolor": "#E5ECF6",
            "gridcolor": "white",
            "gridwidth": 2,
            "linecolor": "white",
            "showbackground": true,
            "ticks": "",
            "zerolinecolor": "white"
           },
           "zaxis": {
            "backgroundcolor": "#E5ECF6",
            "gridcolor": "white",
            "gridwidth": 2,
            "linecolor": "white",
            "showbackground": true,
            "ticks": "",
            "zerolinecolor": "white"
           }
          },
          "shapedefaults": {
           "line": {
            "color": "#2a3f5f"
           }
          },
          "ternary": {
           "aaxis": {
            "gridcolor": "white",
            "linecolor": "white",
            "ticks": ""
           },
           "baxis": {
            "gridcolor": "white",
            "linecolor": "white",
            "ticks": ""
           },
           "bgcolor": "#E5ECF6",
           "caxis": {
            "gridcolor": "white",
            "linecolor": "white",
            "ticks": ""
           }
          },
          "title": {
           "x": 0.05
          },
          "xaxis": {
           "automargin": true,
           "gridcolor": "white",
           "linecolor": "white",
           "ticks": "",
           "title": {
            "standoff": 15
           },
           "zerolinecolor": "white",
           "zerolinewidth": 2
          },
          "yaxis": {
           "automargin": true,
           "gridcolor": "white",
           "linecolor": "white",
           "ticks": "",
           "title": {
            "standoff": 15
           },
           "zerolinecolor": "white",
           "zerolinewidth": 2
          }
         }
        },
        "title": {
         "text": "Trade by Regional Blocs (Total 2023Q1-2025Q1)"
        },
        "xaxis": {
         "anchor": "y",
         "domain": [
          0,
          1
         ],
         "tickangle": -45,
         "title": {
          "text": "Regional Bloc"
         }
        },
        "yaxis": {
         "anchor": "x",
         "domain": [
          0,
          1
         ],
         "title": {
          "text": "Trade Value (US$ millions)"
         }
        }
       }
      }
     },
     "metadata": {},
     "output_type": "display_data"
    },
    {
     "name": "stdout",
     "output_type": "stream",
     "text": [
      "🌍 Regional Trade Summary:\n",
      "   CEPGL - Export: $497.64 million\n",
      "   COMESA - Export: $627.20 million\n",
      "   COMMON WEALTH - Export: $317.49 million\n",
      "   ECOWAS - Export: $2.91 million\n",
      "   EU - Export: $260.76 million\n",
      "   SADC - Export: $490.68 million\n"
     ]
    }
   ],
   "source": [
    "# Regional trade analysis\n",
    "if not regional_trade_df.empty:\n",
    "    # Group by regional bloc and flow\n",
    "    regional_summary = regional_trade_df.groupby(['regional_bloc', 'flow'])['value'].sum().reset_index()\n",
    "    \n",
    "    # Create grouped bar chart\n",
    "    fig = px.bar(\n",
    "        regional_summary,\n",
    "        x='regional_bloc',\n",
    "        y='value',\n",
    "        color='flow',\n",
    "        barmode='group',\n",
    "        title='Trade by Regional Blocs (Total 2023Q1-2025Q1)',\n",
    "        labels={'value': 'Trade Value (US$ millions)', 'regional_bloc': 'Regional Bloc'}\n",
    "    )\n",
    "    \n",
    "    fig.update_layout(\n",
    "        height=600,\n",
    "        xaxis_tickangle=-45\n",
    "    )\n",
    "    \n",
    "    fig.show()\n",
    "    \n",
    "    print(\"🌍 Regional Trade Summary:\")\n",
    "    for _, row in regional_summary.iterrows():\n",
    "        print(f\"   {row['regional_bloc']} - {row['flow']}: ${row['value']:,.2f} million\")"
   ]
  },
  {
   "cell_type": "markdown",
   "metadata": {},
   "source": [
    "## 8. EAC Trade Analysis\n",
    "\n",
    "Let's analyze trade specifically with East African Community countries."
   ]
  },
  {
   "cell_type": "code",
   "execution_count": 16,
   "metadata": {},
   "outputs": [
    {
     "name": "stdout",
     "output_type": "stream",
     "text": [
      "📅 Using quarters from overall trade analysis: 9\n",
      "🌍 Extracted 0 EAC trade records\n"
     ]
    }
   ],
   "source": [
    "# Load EAC trade data\n",
    "excel_file_path = \"../data/raw/2025Q1_Trade_report_annexTables.xlsx\"\n",
    "eac_df = pd.read_excel(excel_file_path, sheet_name='EAC', header=None)\n",
    "\n",
    "# Extract EAC data\n",
    "eac_trade = []\n",
    "\n",
    "print(f\"📅 Using quarters from overall trade analysis: {len(quarters)}\")\n",
    "\n",
    "# Extract EAC country data\n",
    "for i in range(4, len(eac_df)):\n",
    "    row = eac_df.iloc[i]\n",
    "    flow = str(row.iloc[0]).strip() if pd.notna(row.iloc[0]) else None\n",
    "    country = str(row.iloc[1]).strip() if pd.notna(row.iloc[1]) else None\n",
    "    \n",
    "    if not flow or not country or country in ['Source: NISR', 'EAC'] or flow in ['Re-Exports']:\n",
    "        continue\n",
    "        \n",
    "    for j, quarter in enumerate(quarters):\n",
    "        col_index = j + 2\n",
    "        if col_index < len(row):\n",
    "            value = row.iloc[col_index]\n",
    "            if pd.notna(value) and float(value) > 0:\n",
    "                eac_trade.append({\n",
    "                    'country': country,\n",
    "                    'quarter': quarter,\n",
    "                    'value': float(value)\n",
    "                })\n",
    "\n",
    "eac_trade_df = pd.DataFrame(eac_trade)\n",
    "print(f\"🌍 Extracted {len(eac_trade_df)} EAC trade records\")"
   ]
  },
  {
   "cell_type": "code",
   "execution_count": 17,
   "metadata": {},
   "outputs": [],
   "source": [
    "# EAC trade analysis\n",
    "if not eac_trade_df.empty:\n",
    "    # Group by country and flow\n",
    "    eac_summary = eac_trade_df.groupby(['country', 'flow'])['value'].sum().reset_index()\n",
    "    \n",
    "    # Create heatmap-style visualization\n",
    "    eac_pivot = eac_summary.pivot(index='country', columns='flow', values='value').fillna(0)\n",
    "    \n",
    "    fig = go.Figure(data=go.Heatmap(\n",
    "        z=eac_pivot.values,\n",
    "        x=eac_pivot.columns,\n",
    "        y=eac_pivot.index,\n",
    "        colorscale='Blues',\n",
    "        text=np.round(eac_pivot.values, 2),\n",
    "        texttemplate='%{text}',\n",
    "        textfont={\"size\":10},\n",
    "        colorbar=dict(title=\"Trade Value (US$ millions)\")\n",
    "    ))\n",
    "    \n",
    "    fig.update_layout(\n",
    "        title='EAC Trade Matrix (Total 2023Q1-2025Q1)',\n",
    "        xaxis_title='Trade Flow',\n",
    "        yaxis_title='EAC Country',\n",
    "        height=600\n",
    "    )\n",
    "    \n",
    "    fig.show()\n",
    "    \n",
    "    print(\"🌍 EAC Trade Summary:\")\n",
    "    for _, row in eac_summary.iterrows():\n",
    "        print(f\"   {row['country']} - {row['flow']}: ${row['value']:,.2f} million\")"
   ]
  },
  {
   "cell_type": "markdown",
   "metadata": {},
   "source": [
    "## 9. Continental Trade Analysis\n",
    "\n",
    "Let's analyze trade by continents."
   ]
  },
  {
   "cell_type": "code",
   "execution_count": 18,
   "metadata": {},
   "outputs": [
    {
     "name": "stdout",
     "output_type": "stream",
     "text": [
      "📅 Continental quarters found: 9\n",
      "❌ Error loading continental trade data: could not convert string to float: '2023Q1'\n",
      "📅 Continental quarters found: 9\n"
     ]
    },
    {
     "ename": "ValueError",
     "evalue": "could not convert string to float: '2023Q1'",
     "output_type": "error",
     "traceback": [
      "\u001b[1;31m---------------------------------------------------------------------------\u001b[0m",
      "\u001b[1;31mValueError\u001b[0m                                Traceback (most recent call last)",
      "Cell \u001b[1;32mIn[18], line 70\u001b[0m\n\u001b[0;32m     68\u001b[0m         \u001b[38;5;28;01mif\u001b[39;00m col_index \u001b[38;5;241m<\u001b[39m \u001b[38;5;28mlen\u001b[39m(row):\n\u001b[0;32m     69\u001b[0m             value \u001b[38;5;241m=\u001b[39m row\u001b[38;5;241m.\u001b[39miloc[col_index]\n\u001b[1;32m---> 70\u001b[0m             \u001b[38;5;28;01mif\u001b[39;00m pd\u001b[38;5;241m.\u001b[39mnotna(value) \u001b[38;5;129;01mand\u001b[39;00m \u001b[38;5;28;43mfloat\u001b[39;49m\u001b[43m(\u001b[49m\u001b[43mvalue\u001b[49m\u001b[43m)\u001b[49m \u001b[38;5;241m>\u001b[39m \u001b[38;5;241m0\u001b[39m:\n\u001b[0;32m     71\u001b[0m                 continental_trade\u001b[38;5;241m.\u001b[39mappend({\n\u001b[0;32m     72\u001b[0m                     \u001b[38;5;124m'\u001b[39m\u001b[38;5;124mflow\u001b[39m\u001b[38;5;124m'\u001b[39m: flow,\n\u001b[0;32m     73\u001b[0m                     \u001b[38;5;124m'\u001b[39m\u001b[38;5;124mcontinent\u001b[39m\u001b[38;5;124m'\u001b[39m: continent,\n\u001b[0;32m     74\u001b[0m                     \u001b[38;5;124m'\u001b[39m\u001b[38;5;124mquarter\u001b[39m\u001b[38;5;124m'\u001b[39m: quarter,\n\u001b[0;32m     75\u001b[0m                     \u001b[38;5;124m'\u001b[39m\u001b[38;5;124mvalue\u001b[39m\u001b[38;5;124m'\u001b[39m: \u001b[38;5;28mfloat\u001b[39m(value)\n\u001b[0;32m     76\u001b[0m                 })\n\u001b[0;32m     78\u001b[0m continental_trade_df \u001b[38;5;241m=\u001b[39m pd\u001b[38;5;241m.\u001b[39mDataFrame(continental_trade)\n",
      "\u001b[1;31mValueError\u001b[0m: could not convert string to float: '2023Q1'"
     ]
    }
   ],
   "source": [
    "# Load continental trade data\n",
    "try:\n",
    "    continental_df = pd.read_excel(\"../data/raw/2025Q1_Trade_report_annexTables.xlsx\", \n",
    "                                 sheet_name='Trade by continents', \n",
    "                                 header=None)\n",
    "    \n",
    "    # Extract continental data\n",
    "    continental_trade = []\n",
    "\n",
    "    # Find quarters for continental data\n",
    "    for i, row in continental_df.iterrows():\n",
    "        if pd.notna(row.iloc[2]) and '2023Q1' in str(row.iloc[2]):\n",
    "            cont_quarters = [str(q) for q in row.iloc[2:11] if pd.notna(q) and 'Q' in str(q)]\n",
    "            break\n",
    "\n",
    "    print(f\"📅 Continental quarters found: {len(cont_quarters)}\")\n",
    "\n",
    "    # Extract continental data\n",
    "    for i in range(3, len(continental_df)):\n",
    "        row = continental_df.iloc[i]\n",
    "        flow = str(row.iloc[0]).strip() if pd.notna(row.iloc[0]) else None\n",
    "        continent = str(row.iloc[1]).strip() if pd.notna(row.iloc[1]) else None\n",
    "        \n",
    "        if not flow or not continent or continent in ['WORLD', 'Source: NISR']:\n",
    "            continue\n",
    "            \n",
    "        for j, quarter in enumerate(cont_quarters):\n",
    "            col_index = j + 2\n",
    "            if col_index < len(row):\n",
    "                value = row.iloc[col_index]\n",
    "                if pd.notna(value) and float(value) > 0:\n",
    "                    continental_trade.append({\n",
    "                        'flow': flow,\n",
    "                        'continent': continent,\n",
    "                        'quarter': quarter,\n",
    "                        'value': float(value)\n",
    "                    })\n",
    "\n",
    "    continental_trade_df = pd.DataFrame(continental_trade)\n",
    "    print(f\"🌍 Extracted {len(continental_trade_df)} continental trade records\")\n",
    "    \n",
    "except Exception as e:\n",
    "    print(f\"❌ Error loading continental trade data: {e}\")\n",
    "    continental_trade_df = pd.DataFrame()  # Create empty DataFrame if loading fails\n",
    "\n",
    "# Extract continental data\n",
    "continental_trade = []\n",
    "\n",
    "# Find quarters for continental data\n",
    "for i, row in continental_df.iterrows():\n",
    "    if pd.notna(row.iloc[2]) and '2023Q1' in str(row.iloc[2]):\n",
    "        cont_quarters = [str(q) for q in row.iloc[2:11] if pd.notna(q) and 'Q' in str(q)]\n",
    "        break\n",
    "\n",
    "print(f\"📅 Continental quarters found: {len(cont_quarters)}\")\n",
    "\n",
    "# Extract continental data\n",
    "for i in range(3, len(continental_df)):\n",
    "    row = continental_df.iloc[i]\n",
    "    flow = str(row.iloc[0]).strip() if pd.notna(row.iloc[0]) else None\n",
    "    continent = str(row.iloc[1]).strip() if pd.notna(row.iloc[1]) else None\n",
    "    \n",
    "    if not flow or not continent or continent in ['WORLD', 'Source: NISR']:\n",
    "        continue\n",
    "        \n",
    "    for j, quarter in enumerate(cont_quarters):\n",
    "        col_index = j + 2\n",
    "        if col_index < len(row):\n",
    "            value = row.iloc[col_index]\n",
    "            if pd.notna(value) and float(value) > 0:\n",
    "                continental_trade.append({\n",
    "                    'flow': flow,\n",
    "                    'continent': continent,\n",
    "                    'quarter': quarter,\n",
    "                    'value': float(value)\n",
    "                })\n",
    "\n",
    "continental_trade_df = pd.DataFrame(continental_trade)\n",
    "print(f\"🌍 Extracted {len(continental_trade_df)} continental trade records\")"
   ]
  },
  {
   "cell_type": "code",
   "execution_count": null,
   "metadata": {},
   "outputs": [],
   "source": [
    "# Continental trade analysis\n",
    "if not continental_trade_df.empty:\n",
    "    # Group by continent and flow\n",
    "    continental_summary = continental_trade_df.groupby(['continent', 'flow'])['value'].sum().reset_index()\n",
    "    \n",
    "    # Create grouped bar chart\n",
    "    fig = px.bar(\n",
    "        continental_summary,\n",
    "        x='continent',\n",
    "        y='value',\n",
    "        color='flow',\n",
    "        barmode='group',\n",
    "        title='Trade by Continent (Total 2023Q1-2025Q1)',\n",
    "        labels={'value': 'Trade Value (US$ millions)', 'continent': 'Continent'}\n",
    "    )\n",
    "    \n",
    "    fig.update_layout(\n",
    "        height=600,\n",
    "        xaxis_tickangle=-45\n",
    "    )\n",
    "    \n",
    "    fig.show()\n",
    "    \n",
    "    print(\"🌍 Continental Trade Summary:\")\n",
    "    for _, row in continental_summary.iterrows():\n",
    "        print(f\"   {row['continent']} - {row['flow']}: ${row['value']:,.2f} million\")"
   ]
  },
  {
   "cell_type": "markdown",
   "metadata": {},
   "source": [
    "## 10. Growth Analysis\n",
    "\n",
    "Let's analyze growth trends and patterns in Rwanda's trade."
   ]
  },
  {
   "cell_type": "code",
   "execution_count": null,
   "metadata": {},
   "outputs": [],
   "source": [
    "# Calculate growth rates\n",
    "growth_analysis = []\n",
    "\n",
    "for flow in ['Exports', 'Imports']:\n",
    "    flow_data = overall_trade_df[overall_trade_df['flow'] == flow].copy()\n",
    "    flow_data = flow_data.sort_values('quarter')\n",
    "    \n",
    "    for i in range(1, len(flow_data)):\n",
    "        current = flow_data.iloc[i]\n",
    "        previous = flow_data.iloc[i-1]\n",
    "        \n",
    "        growth_rate = ((current['value'] - previous['value']) / previous['value']) * 100\n",
    "        \n",
    "        growth_analysis.append({\n",
    "            'flow': flow,\n",
    "            'quarter': current['quarter'],\n",
    "            'value': current['value'],\n",
    "            'growth_rate': growth_rate,\n",
    "            'growth_type': 'Growth' if growth_rate > 0 else 'Decline'\n",
    "        })\n",
    "\n",
    "growth_df = pd.DataFrame(growth_analysis)\n",
    "\n",
    "print(\"📈 Growth Analysis Summary:\")\n",
    "for _, row in growth_df.iterrows():\n",
    "    print(f\"   {row['flow']} {row['quarter']}: {row['growth_rate']:+.2f}% ({row['growth_type']})\")"
   ]
  },
  {
   "cell_type": "code",
   "execution_count": null,
   "metadata": {},
   "outputs": [],
   "source": [
    "# Growth visualization\n",
    "fig = go.Figure()\n",
    "\n",
    "for flow in ['Exports', 'Imports']:\n",
    "    flow_growth = growth_df[growth_df['flow'] == flow]\n",
    "    \n",
    "    fig.add_trace(go.Bar(\n",
    "        x=flow_growth['quarter'],\n",
    "        y=flow_growth['growth_rate'],\n",
    "        name=flow,\n",
    "        marker_color='green' if flow == 'Exports' else 'red'\n",
    "    ))\n",
    "\n",
    "fig.update_layout(\n",
    "    title='Quarter-over-Quarter Growth Rates',\n",
    "    xaxis_title='Quarter',\n",
    "    yaxis_title='Growth Rate (%)',\n",
    "    height=500,\n",
    "    showlegend=True\n",
    ")\n",
    "\n",
    "fig.show()"
   ]
  },
  {
   "cell_type": "markdown",
   "metadata": {},
   "source": [
    "## 11. Key Insights and Summary\n",
    "\n",
    "Let's compile the key insights from our comprehensive analysis."
   ]
  },
  {
   "cell_type": "code",
   "execution_count": null,
   "metadata": {},
   "outputs": [
    {
     "ename": "NameError",
     "evalue": "name 'growth_df' is not defined",
     "output_type": "error",
     "traceback": [
      "\u001b[1;31m---------------------------------------------------------------------------\u001b[0m",
      "\u001b[1;31mNameError\u001b[0m                                 Traceback (most recent call last)",
      "Cell \u001b[1;32mIn[25], line 21\u001b[0m\n\u001b[0;32m      1\u001b[0m \u001b[38;5;66;03m# Generate comprehensive summary\u001b[39;00m\n\u001b[0;32m      2\u001b[0m summary \u001b[38;5;241m=\u001b[39m {\n\u001b[0;32m      3\u001b[0m     \u001b[38;5;124m'\u001b[39m\u001b[38;5;124mdataset_overview\u001b[39m\u001b[38;5;124m'\u001b[39m: {\n\u001b[0;32m      4\u001b[0m         \u001b[38;5;124m'\u001b[39m\u001b[38;5;124mperiod_covered\u001b[39m\u001b[38;5;124m'\u001b[39m: \u001b[38;5;124mf\u001b[39m\u001b[38;5;124m\"\u001b[39m\u001b[38;5;132;01m{\u001b[39;00mquarters[\u001b[38;5;241m0\u001b[39m]\u001b[38;5;132;01m}\u001b[39;00m\u001b[38;5;124m to \u001b[39m\u001b[38;5;132;01m{\u001b[39;00mquarters[\u001b[38;5;241m-\u001b[39m\u001b[38;5;241m1\u001b[39m]\u001b[38;5;132;01m}\u001b[39;00m\u001b[38;5;124m\"\u001b[39m,\n\u001b[0;32m      5\u001b[0m         \u001b[38;5;124m'\u001b[39m\u001b[38;5;124mtotal_quarters\u001b[39m\u001b[38;5;124m'\u001b[39m: \u001b[38;5;28mlen\u001b[39m(quarters),\n\u001b[0;32m      6\u001b[0m         \u001b[38;5;124m'\u001b[39m\u001b[38;5;124msheets_analyzed\u001b[39m\u001b[38;5;124m'\u001b[39m: \u001b[38;5;28mlen\u001b[39m(sheet_names)\n\u001b[0;32m      7\u001b[0m     },\n\u001b[0;32m      8\u001b[0m     \u001b[38;5;124m'\u001b[39m\u001b[38;5;124mtrade_summary\u001b[39m\u001b[38;5;124m'\u001b[39m: {\n\u001b[0;32m      9\u001b[0m         \u001b[38;5;124m'\u001b[39m\u001b[38;5;124mtotal_exports\u001b[39m\u001b[38;5;124m'\u001b[39m: balance_df[\u001b[38;5;124m'\u001b[39m\u001b[38;5;124mexports\u001b[39m\u001b[38;5;124m'\u001b[39m]\u001b[38;5;241m.\u001b[39msum(),\n\u001b[0;32m     10\u001b[0m         \u001b[38;5;124m'\u001b[39m\u001b[38;5;124mtotal_imports\u001b[39m\u001b[38;5;124m'\u001b[39m: balance_df[\u001b[38;5;124m'\u001b[39m\u001b[38;5;124mimports\u001b[39m\u001b[38;5;124m'\u001b[39m]\u001b[38;5;241m.\u001b[39msum(),\n\u001b[0;32m     11\u001b[0m         \u001b[38;5;124m'\u001b[39m\u001b[38;5;124moverall_balance\u001b[39m\u001b[38;5;124m'\u001b[39m: balance_df[\u001b[38;5;124m'\u001b[39m\u001b[38;5;124mbalance\u001b[39m\u001b[38;5;124m'\u001b[39m]\u001b[38;5;241m.\u001b[39msum(),\n\u001b[0;32m     12\u001b[0m         \u001b[38;5;124m'\u001b[39m\u001b[38;5;124mbalance_status\u001b[39m\u001b[38;5;124m'\u001b[39m: \u001b[38;5;124m'\u001b[39m\u001b[38;5;124mDeficit\u001b[39m\u001b[38;5;124m'\u001b[39m \u001b[38;5;28;01mif\u001b[39;00m balance_df[\u001b[38;5;124m'\u001b[39m\u001b[38;5;124mbalance\u001b[39m\u001b[38;5;124m'\u001b[39m]\u001b[38;5;241m.\u001b[39msum() \u001b[38;5;241m<\u001b[39m \u001b[38;5;241m0\u001b[39m \u001b[38;5;28;01melse\u001b[39;00m \u001b[38;5;124m'\u001b[39m\u001b[38;5;124mSurplus\u001b[39m\u001b[38;5;124m'\u001b[39m\n\u001b[0;32m     13\u001b[0m     },\n\u001b[0;32m     14\u001b[0m     \u001b[38;5;124m'\u001b[39m\u001b[38;5;124mtop_performers\u001b[39m\u001b[38;5;124m'\u001b[39m: {\n\u001b[0;32m     15\u001b[0m         \u001b[38;5;124m'\u001b[39m\u001b[38;5;124mtop_export_destination\u001b[39m\u001b[38;5;124m'\u001b[39m: top_destinations\u001b[38;5;241m.\u001b[39miloc[\u001b[38;5;241m-\u001b[39m\u001b[38;5;241m1\u001b[39m][\u001b[38;5;124m'\u001b[39m\u001b[38;5;124mcountry\u001b[39m\u001b[38;5;124m'\u001b[39m] \u001b[38;5;28;01mif\u001b[39;00m \u001b[38;5;124m'\u001b[39m\u001b[38;5;124mtop_destinations\u001b[39m\u001b[38;5;124m'\u001b[39m \u001b[38;5;129;01min\u001b[39;00m \u001b[38;5;28mlocals\u001b[39m() \u001b[38;5;28;01melse\u001b[39;00m \u001b[38;5;124m'\u001b[39m\u001b[38;5;124mN/A\u001b[39m\u001b[38;5;124m'\u001b[39m,\n\u001b[0;32m     16\u001b[0m         \u001b[38;5;124m'\u001b[39m\u001b[38;5;124mtop_import_source\u001b[39m\u001b[38;5;124m'\u001b[39m: top_sources\u001b[38;5;241m.\u001b[39miloc[\u001b[38;5;241m-\u001b[39m\u001b[38;5;241m1\u001b[39m][\u001b[38;5;124m'\u001b[39m\u001b[38;5;124mcountry\u001b[39m\u001b[38;5;124m'\u001b[39m] \u001b[38;5;28;01mif\u001b[39;00m \u001b[38;5;124m'\u001b[39m\u001b[38;5;124mtop_sources\u001b[39m\u001b[38;5;124m'\u001b[39m \u001b[38;5;129;01min\u001b[39;00m \u001b[38;5;28mlocals\u001b[39m() \u001b[38;5;28;01melse\u001b[39;00m \u001b[38;5;124m'\u001b[39m\u001b[38;5;124mN/A\u001b[39m\u001b[38;5;124m'\u001b[39m,\n\u001b[0;32m     17\u001b[0m         \u001b[38;5;124m'\u001b[39m\u001b[38;5;124mdominant_continent_export\u001b[39m\u001b[38;5;124m'\u001b[39m: continental_summary[continental_summary[\u001b[38;5;124m'\u001b[39m\u001b[38;5;124mflow\u001b[39m\u001b[38;5;124m'\u001b[39m]\u001b[38;5;241m==\u001b[39m\u001b[38;5;124m'\u001b[39m\u001b[38;5;124mExports\u001b[39m\u001b[38;5;124m'\u001b[39m]\u001b[38;5;241m.\u001b[39mnlargest(\u001b[38;5;241m1\u001b[39m, \u001b[38;5;124m'\u001b[39m\u001b[38;5;124mvalue\u001b[39m\u001b[38;5;124m'\u001b[39m)[\u001b[38;5;124m'\u001b[39m\u001b[38;5;124mcontinent\u001b[39m\u001b[38;5;124m'\u001b[39m]\u001b[38;5;241m.\u001b[39miloc[\u001b[38;5;241m0\u001b[39m] \u001b[38;5;28;01mif\u001b[39;00m \u001b[38;5;124m'\u001b[39m\u001b[38;5;124mcontinental_summary\u001b[39m\u001b[38;5;124m'\u001b[39m \u001b[38;5;129;01min\u001b[39;00m \u001b[38;5;28mlocals\u001b[39m() \u001b[38;5;28;01melse\u001b[39;00m \u001b[38;5;124m'\u001b[39m\u001b[38;5;124mN/A\u001b[39m\u001b[38;5;124m'\u001b[39m,\n\u001b[0;32m     18\u001b[0m         \u001b[38;5;124m'\u001b[39m\u001b[38;5;124mdominant_continent_import\u001b[39m\u001b[38;5;124m'\u001b[39m: continental_summary[continental_summary[\u001b[38;5;124m'\u001b[39m\u001b[38;5;124mflow\u001b[39m\u001b[38;5;124m'\u001b[39m]\u001b[38;5;241m==\u001b[39m\u001b[38;5;124m'\u001b[39m\u001b[38;5;124mImports\u001b[39m\u001b[38;5;124m'\u001b[39m]\u001b[38;5;241m.\u001b[39mnlargest(\u001b[38;5;241m1\u001b[39m, \u001b[38;5;124m'\u001b[39m\u001b[38;5;124mvalue\u001b[39m\u001b[38;5;124m'\u001b[39m)[\u001b[38;5;124m'\u001b[39m\u001b[38;5;124mcontinent\u001b[39m\u001b[38;5;124m'\u001b[39m]\u001b[38;5;241m.\u001b[39miloc[\u001b[38;5;241m0\u001b[39m] \u001b[38;5;28;01mif\u001b[39;00m \u001b[38;5;124m'\u001b[39m\u001b[38;5;124mcontinental_summary\u001b[39m\u001b[38;5;124m'\u001b[39m \u001b[38;5;129;01min\u001b[39;00m \u001b[38;5;28mlocals\u001b[39m() \u001b[38;5;28;01melse\u001b[39;00m \u001b[38;5;124m'\u001b[39m\u001b[38;5;124mN/A\u001b[39m\u001b[38;5;124m'\u001b[39m\n\u001b[0;32m     19\u001b[0m     },\n\u001b[0;32m     20\u001b[0m     \u001b[38;5;124m'\u001b[39m\u001b[38;5;124mgrowth_trends\u001b[39m\u001b[38;5;124m'\u001b[39m: {\n\u001b[1;32m---> 21\u001b[0m         \u001b[38;5;124m'\u001b[39m\u001b[38;5;124mavg_export_growth\u001b[39m\u001b[38;5;124m'\u001b[39m: \u001b[43mgrowth_df\u001b[49m[growth_df[\u001b[38;5;124m'\u001b[39m\u001b[38;5;124mflow\u001b[39m\u001b[38;5;124m'\u001b[39m]\u001b[38;5;241m==\u001b[39m\u001b[38;5;124m'\u001b[39m\u001b[38;5;124mExports\u001b[39m\u001b[38;5;124m'\u001b[39m][\u001b[38;5;124m'\u001b[39m\u001b[38;5;124mgrowth_rate\u001b[39m\u001b[38;5;124m'\u001b[39m]\u001b[38;5;241m.\u001b[39mmean(),\n\u001b[0;32m     22\u001b[0m         \u001b[38;5;124m'\u001b[39m\u001b[38;5;124mavg_import_growth\u001b[39m\u001b[38;5;124m'\u001b[39m: growth_df[growth_df[\u001b[38;5;124m'\u001b[39m\u001b[38;5;124mflow\u001b[39m\u001b[38;5;124m'\u001b[39m]\u001b[38;5;241m==\u001b[39m\u001b[38;5;124m'\u001b[39m\u001b[38;5;124mImports\u001b[39m\u001b[38;5;124m'\u001b[39m][\u001b[38;5;124m'\u001b[39m\u001b[38;5;124mgrowth_rate\u001b[39m\u001b[38;5;124m'\u001b[39m]\u001b[38;5;241m.\u001b[39mmean(),\n\u001b[0;32m     23\u001b[0m         \u001b[38;5;124m'\u001b[39m\u001b[38;5;124mexport_volatility\u001b[39m\u001b[38;5;124m'\u001b[39m: growth_df[growth_df[\u001b[38;5;124m'\u001b[39m\u001b[38;5;124mflow\u001b[39m\u001b[38;5;124m'\u001b[39m]\u001b[38;5;241m==\u001b[39m\u001b[38;5;124m'\u001b[39m\u001b[38;5;124mExports\u001b[39m\u001b[38;5;124m'\u001b[39m][\u001b[38;5;124m'\u001b[39m\u001b[38;5;124mgrowth_rate\u001b[39m\u001b[38;5;124m'\u001b[39m]\u001b[38;5;241m.\u001b[39mstd(),\n\u001b[0;32m     24\u001b[0m         \u001b[38;5;124m'\u001b[39m\u001b[38;5;124mimport_volatility\u001b[39m\u001b[38;5;124m'\u001b[39m: growth_df[growth_df[\u001b[38;5;124m'\u001b[39m\u001b[38;5;124mflow\u001b[39m\u001b[38;5;124m'\u001b[39m]\u001b[38;5;241m==\u001b[39m\u001b[38;5;124m'\u001b[39m\u001b[38;5;124mImports\u001b[39m\u001b[38;5;124m'\u001b[39m][\u001b[38;5;124m'\u001b[39m\u001b[38;5;124mgrowth_rate\u001b[39m\u001b[38;5;124m'\u001b[39m]\u001b[38;5;241m.\u001b[39mstd()\n\u001b[0;32m     25\u001b[0m     }\n\u001b[0;32m     26\u001b[0m }\n\u001b[0;32m     28\u001b[0m \u001b[38;5;28mprint\u001b[39m(\u001b[38;5;124m\"\u001b[39m\u001b[38;5;124m📊 COMPREHENSIVE TRADE ANALYSIS SUMMARY\u001b[39m\u001b[38;5;124m\"\u001b[39m)\n\u001b[0;32m     29\u001b[0m \u001b[38;5;28mprint\u001b[39m(\u001b[38;5;124m\"\u001b[39m\u001b[38;5;124m=\u001b[39m\u001b[38;5;124m\"\u001b[39m\u001b[38;5;241m*\u001b[39m\u001b[38;5;241m60\u001b[39m)\n",
      "\u001b[1;31mNameError\u001b[0m: name 'growth_df' is not defined"
     ]
    }
   ],
   "source": [
    "# Generate comprehensive summary\n",
    "summary = {\n",
    "    'dataset_overview': {\n",
    "        'period_covered': f\"{quarters[0]} to {quarters[-1]}\",\n",
    "        'total_quarters': len(quarters),\n",
    "        'sheets_analyzed': len(sheet_names)\n",
    "    },\n",
    "    'trade_summary': {\n",
    "        'total_exports': balance_df['exports'].sum(),\n",
    "        'total_imports': balance_df['imports'].sum(),\n",
    "        'overall_balance': balance_df['balance'].sum(),\n",
    "        'balance_status': 'Deficit' if balance_df['balance'].sum() < 0 else 'Surplus'\n",
    "    },\n",
    "    'top_performers': {\n",
    "        'top_export_destination': top_destinations.iloc[-1]['country'] if 'top_destinations' in locals() else 'N/A',\n",
    "        'top_import_source': top_sources.iloc[-1]['country'] if 'top_sources' in locals() else 'N/A',\n",
    "        'dominant_continent_export': continental_summary[continental_summary['flow']=='Exports'].nlargest(1, 'value')['continent'].iloc[0] if 'continental_summary' in locals() else 'N/A',\n",
    "        'dominant_continent_import': continental_summary[continental_summary['flow']=='Imports'].nlargest(1, 'value')['continent'].iloc[0] if 'continental_summary' in locals() else 'N/A'\n",
    "    },\n",
    "    'growth_trends': {\n",
    "        'avg_export_growth': growth_df[growth_df['flow']=='Exports']['growth_rate'].mean(),\n",
    "        'avg_import_growth': growth_df[growth_df['flow']=='Imports']['growth_rate'].mean(),\n",
    "        'export_volatility': growth_df[growth_df['flow']=='Exports']['growth_rate'].std(),\n",
    "        'import_volatility': growth_df[growth_df['flow']=='Imports']['growth_rate'].std()\n",
    "    }\n",
    "}\n",
    "\n",
    "print(\"📊 COMPREHENSIVE TRADE ANALYSIS SUMMARY\")\n",
    "print(\"=\"*60)\n",
    "print(f\"📅 Period Covered: {summary['dataset_overview']['period_covered']}\")\n",
    "print(f\"📋 Quarters Analyzed: {summary['dataset_overview']['total_quarters']}\")\n",
    "print(f\"📊 Sheets Processed: {summary['dataset_overview']['sheets_analyzed']}\")\n",
    "print()\n",
    "print(\"💰 Trade Summary:\")\n",
    "print(f\"   Total Exports: ${summary['trade_summary']['total_exports']:,.2f} million\")\n",
    "print(f\"   Total Imports: ${summary['trade_summary']['total_imports']:,.2f} million\")\n",
    "print(f\"   Overall Balance: ${summary['trade_summary']['overall_balance']:,.2f} million ({summary['trade_summary']['balance_status']})\")\n",
    "print()\n",
    "print(\"🏆 Top Performers:\")\n",
    "print(f\"   Top Export Destination: {summary['top_performers']['top_export_destination']}\")\n",
    "print(f\"   Top Import Source: {summary['top_performers']['top_import_source']}\")\n",
    "print(f\"   Main Export Continent: {summary['top_performers']['dominant_continent_export']}\")\n",
    "print(f\"   Main Import Continent: {summary['top_performers']['dominant_continent_import']}\")\n",
    "print()\n",
    "print(\"📈 Growth Trends:\")\n",
    "print(f\"   Average Export Growth: {summary['growth_trends']['avg_export_growth']:+.2f}%\")\n",
    "print(f\"   Average Import Growth: {summary['growth_trends']['avg_import_growth']:+.2f}%\")\n",
    "print(f\"   Export Volatility: {summary['growth_trends']['export_volatility']:.2f}%\")\n",
    "print(f\"   Import Volatility: {summary['growth_trends']['import_volatility']:.2f}%\")\n",
    "print(\"=\"*60)"
   ]
  },
  {
   "cell_type": "markdown",
   "metadata": {},
   "source": [
    "## 12. Export Analysis Results to JSON\n",
    "\n",
    "Let's save our comprehensive analysis results to JSON files for use in the backend."
   ]
  },
  {
   "cell_type": "code",
   "execution_count": null,
   "metadata": {},
   "outputs": [],
   "source": [
    "# Create comprehensive analysis results\n",
    "analysis_results = {\n",
    "    'metadata': {\n",
    "        'analysis_date': pd.Timestamp.now().isoformat(),\n",
    "        'data_source': '2025Q1_Trade_report_annexTables.xlsx',\n",
    "        'period_covered': quarters,\n",
    "        'analysis_type': 'comprehensive_trade_analysis'\n",
    "    },\n",
    "    'overall_trade': overall_trade_df.to_dict('records'),\n",
    "    'export_countries': export_countries_df.to_dict('records') if 'export_countries_df' in locals() else [],\n",
    "    'import_countries': import_countries_df.to_dict('records') if 'import_countries_df' in locals() else [],\n",
    "    'commodity_exports': commodity_exports_df.to_dict('records') if 'commodity_exports_df' in locals() else [],\n",
    "    'commodity_imports': commodity_imports_df.to_dict('records') if 'commodity_imports_df' in locals() else [],\n",
    "    'regional_trade': regional_trade_df.to_dict('records') if 'regional_trade_df' in locals() else [],\n",
    "    'eac_trade': eac_trade_df.to_dict('records') if 'eac_trade_df' in locals() else [],\n",
    "    'continental_trade': continental_trade_df.to_dict('records') if 'continental_trade_df' in locals() else [],\n",
    "    'trade_balance': balance_df.to_dict('records'),\n",
    "    'growth_analysis': growth_df.to_dict('records'),\n",
    "    'summary': summary\n",
    "}\n",
    "\n",
    "# Save to JSON files\n",
    "output_dir = Path(\"../data/processed\")\n",
    "output_dir.mkdir(parents=True, exist_ok=True)\n",
    "\n",
    "# Save main analysis results\n",
    "with open(output_dir / 'jupyter_analysis_results.json', 'w', encoding='utf-8') as f:\n",
    "    json.dump(analysis_results, f, indent=2, ensure_ascii=False, default=str)\n",
    "\n",
    "print(f\"✅ Analysis results saved to: {output_dir / 'jupyter_analysis_results.json'}\")\n",
    "\n",
    "# Save summary for quick access\n",
    "with open(output_dir / 'analysis_summary.json', 'w', encoding='utf-8') as f:\n",
    "    json.dump(summary, f, indent=2, ensure_ascii=False, default=str)\n",
    "\n",
    "print(f\"✅ Summary saved to: {output_dir / 'analysis_summary.json'}\")\n",
    "\n",
    "print(\"\\n🎉 Comprehensive analysis complete! All results saved to JSON files.\")"
   ]
  }
 ],
 "metadata": {
  "kernelspec": {
   "display_name": "Python 3",
   "language": "python",
   "name": "python3"
  },
  "language_info": {
   "codemirror_mode": {
    "name": "ipython",
    "version": 3
   },
   "file_extension": ".py",
   "mimetype": "text/x-python",
   "name": "python",
   "nbconvert_exporter": "python",
   "pygments_lexer": "ipython3",
   "version": "3.12.5"
  }
 },
 "nbformat": 4,
 "nbformat_minor": 4
}
